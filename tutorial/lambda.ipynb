{
 "cells": [
  {
   "cell_type": "markdown",
   "metadata": {},
   "source": [
    "$\\newcommand{\\To}{\\Rightarrow}$"
   ]
  },
  {
   "cell_type": "code",
   "execution_count": 1,
   "metadata": {},
   "outputs": [],
   "source": [
    "import os, sys\n",
    "sys.path.append(os.path.split(os.getcwd())[0])"
   ]
  },
  {
   "cell_type": "code",
   "execution_count": 2,
   "metadata": {},
   "outputs": [],
   "source": [
    "from kernel.type import TFun, boolT\n",
    "from kernel.term import Term, Var, Const, Abs, Bound\n",
    "from data import nat\n",
    "from data.nat import natT, zero, plus, times\n",
    "from logic import logic"
   ]
  },
  {
   "cell_type": "markdown",
   "metadata": {},
   "source": [
    "## Lambda calculus"
   ]
  },
  {
   "cell_type": "markdown",
   "metadata": {},
   "source": [
    "In the previous section, we discussed how to construct terms consisting of variables, constants, and function application. The relevant constructors are `Var`, `Const`, and `Comb`. In this section, we discuss two more constructors: `Abs` and `Bound`, that complete the picture for representation of terms in *lambda calculus*.\n",
    "\n",
    "The motivation is as follows: we have already noted that terms can have function type. For example, in the previous section, we can declare a variable $f$ of type $nat \\To nat$ by `Var(\"f\", TFun(natT, natT))`. We have also encountered constants that have function type, for example the addition operator. However, we have not said anything about how to construct new examples of such functions.\n",
    "\n",
    "In principle, any well-defined rule for computing the output from the input should be representable as a function. For example, there should be a function that takes as input a natural number $n$, and outputs $n+2$. In higher-order logic (also known as *simply-typed lambda calculus*), we can represent such functions as *lambda terms*. The above function can be written (in mathematical notation) as:\n",
    "\n",
    "$$ \\lambda n. n + 2 $$\n",
    "\n",
    "Here $n$ (the variable right after $\\lambda$) is known as a *bound variable*, in the sense that it is associated to the $\\lambda$ sign directly in front of it, and is valid only in the scope of that $\\lambda$ sign. It is important to note that *the name of the bound variable does not matter*. The expression $\\lambda n. n + 2$ means the same thing as the expression $\\lambda m. m + 2$. Both represent functions that add 2 to its input. We say that two terms are *$\\alpha$-equivalent* if one can be changed to the other by changing the names of some bound variables."
   ]
  },
  {
   "cell_type": "markdown",
   "metadata": {},
   "source": [
    "When representing terms in higher-order logic, we would like to be able to quickly tell whether two terms are $\\alpha$-equivalent. This motivates the use of *de Bruijn index* (named after Dutch mathematician Nicolaas Govert de Bruijn). Following this method, the bound variables are (in principle) unnamed, and whenever one needs to refer to a bound variable, one uses a sign $B_i$ where $i$ counts the depth of the location of reference with respect to the lambda sign of that variable. We follow the convention that the counting begins at 0. For example, the above function is represented using de Bruijn index as:\n",
    "\n",
    "$$ \\lambda\\_. B_0 + 2 $$\n",
    "\n",
    "Here we use an underscore to denote a bound variable that is unnamed. Another example: the expression $\\lambda x. \\lambda y. x + y$ is represented as $\\lambda\\_. \\lambda\\_. B_1 + B_0$ using de Bruijn indices. This is because the location where $x$ occurs is separated from the $\\lambda$ sign that bounds it (the first $\\lambda$ sign) by one $\\lambda$ sign in the middle, while the location where $y$ occurs is directly after the $\\lambda$ sign that bounds it (the second $\\lambda$ sign).\n",
    "\n",
    "In Python, we can construct a lambda expression as follows:"
   ]
  },
  {
   "cell_type": "code",
   "execution_count": 3,
   "metadata": {},
   "outputs": [
    {
     "name": "stdout",
     "output_type": "stream",
     "text": [
      "%x. plus x (bit0 (Suc zero))\n"
     ]
    }
   ],
   "source": [
    "two = nat.to_binary(2)\n",
    "f = Abs(\"x\", natT, plus(Bound(0), two))\n",
    "print(f)"
   ]
  },
  {
   "cell_type": "markdown",
   "metadata": {},
   "source": [
    "Here, `Abs` is the constructor for a lambda term. The first argument is the *suggested* name of the bound variable. It is used for printing only (and perhaps as a starting point when names of new variables need to be invented during proof). As we shall see, it does not matter when comparing terms. The second argument is the type of the bound variable, which *is* significant (different types of bound variables give different terms). The third argument is the body of the lambda term. In the body, bound variables are refered to by `Bound(n)`, where $n$ is a natural number.\n",
    "\n",
    "The default printing function rather faithfully represents the structure of the term. Note `Bound(0)` is printed as $x$. However, the result is still difficult to read. In particular, the plus operator is not printed in infix form, and the number 2 is printed in a rather strange way (the representation of natural numbers, as well as the `to_binary` function used above, will be discussed in a later section). Therefore, from now on we switch to the more sophisticated printing function."
   ]
  },
  {
   "cell_type": "code",
   "execution_count": 4,
   "metadata": {},
   "outputs": [],
   "source": [
    "from syntax import printer\n",
    "from logic import basic\n",
    "thy = basic.load_theory('nat')"
   ]
  },
  {
   "cell_type": "code",
   "execution_count": 5,
   "metadata": {},
   "outputs": [
    {
     "name": "stdout",
     "output_type": "stream",
     "text": [
      "λx. x + 2\n"
     ]
    }
   ],
   "source": [
    "print(printer.print_term(thy, f, unicode=True))"
   ]
  },
  {
   "cell_type": "markdown",
   "metadata": {},
   "source": [
    "The following expression stands for a function that takes two natural numbers $x$ and $y$ as input, and returns $x+2y$."
   ]
  },
  {
   "cell_type": "code",
   "execution_count": 6,
   "metadata": {},
   "outputs": [
    {
     "name": "stdout",
     "output_type": "stream",
     "text": [
      "λx. λy. x + 2 * y\n"
     ]
    }
   ],
   "source": [
    "f2 = Abs(\"x\", natT, Abs(\"y\", natT, plus(Bound(1), times(two, Bound(0)))))\n",
    "print(printer.print_term(thy, f2, unicode=True))"
   ]
  },
  {
   "cell_type": "markdown",
   "metadata": {},
   "source": [
    "The constructor `Abs` actually can take any odd number of arguments. The above code can be simplified as follows:"
   ]
  },
  {
   "cell_type": "code",
   "execution_count": 7,
   "metadata": {},
   "outputs": [
    {
     "name": "stdout",
     "output_type": "stream",
     "text": [
      "λx. λy. x + 2 * y\n"
     ]
    }
   ],
   "source": [
    "f2 = Abs(\"x\", natT, \"y\", natT, plus(Bound(1), times(two, Bound(0))))\n",
    "print(printer.print_term(thy, f2, unicode=True))"
   ]
  },
  {
   "cell_type": "markdown",
   "metadata": {},
   "source": [
    "The types of $f$ and $f_2$ are as expected (recall `checked_get_type` will perform type-checking on the term, in addition to returning the type of the term)."
   ]
  },
  {
   "cell_type": "code",
   "execution_count": 8,
   "metadata": {},
   "outputs": [
    {
     "name": "stdout",
     "output_type": "stream",
     "text": [
      "nat => nat\n",
      "nat => nat => nat\n"
     ]
    }
   ],
   "source": [
    "print(f.checked_get_type())\n",
    "print(f2.checked_get_type())"
   ]
  },
  {
   "cell_type": "markdown",
   "metadata": {},
   "source": [
    "`Abs` can also be used to construct predicates or binary relations."
   ]
  },
  {
   "cell_type": "code",
   "execution_count": 9,
   "metadata": {},
   "outputs": [
    {
     "name": "stdout",
     "output_type": "stream",
     "text": [
      "λx. x = 0 ∨ x = 2\n",
      "nat => bool\n",
      "λx. λy. x = y + 2\n",
      "nat => nat => bool\n"
     ]
    }
   ],
   "source": [
    "eq_nat = Const(\"equals\", TFun(natT, natT, boolT))\n",
    "P = Abs(\"x\", natT, logic.disj(eq_nat(Bound(0), zero), eq_nat(Bound(0), two)))\n",
    "print(printer.print_term(thy, P, unicode=True))\n",
    "print(P.checked_get_type())\n",
    "\n",
    "R = Abs(\"x\", natT, \"y\", natT, eq_nat(Bound(1), plus(Bound(0), two)))\n",
    "print(printer.print_term(thy, R, unicode=True))\n",
    "print(R.checked_get_type())"
   ]
  },
  {
   "cell_type": "markdown",
   "metadata": {},
   "source": [
    "Here we encounter a minor problem: the method `Term.mk_equals` cannot be used to construct the equality in this case, because it needs to compute the types of both of its arguments (to instantiate the type of the equality constant). However, it is impossible to compute the type of `Bound(0)` independent of its context. Hence, we construct the equality constant separately. In general, it is not very convenient to construct lambda terms using `Abs`. Later we will see another way that is often more convenient."
   ]
  },
  {
   "cell_type": "markdown",
   "metadata": {},
   "source": [
    "## $\\beta$-conversion"
   ]
  },
  {
   "cell_type": "markdown",
   "metadata": {},
   "source": [
    "In the previous section, we constructed lambda terms using the `Abs` constructor. These are supposed to represent functions. What happens when we apply such functions an argument? Well, initially nothing happens:"
   ]
  },
  {
   "cell_type": "code",
   "execution_count": 10,
   "metadata": {},
   "outputs": [
    {
     "name": "stdout",
     "output_type": "stream",
     "text": [
      "λx. x + 2\n",
      "(λx. x + 2) 2\n"
     ]
    }
   ],
   "source": [
    "print(printer.print_term(thy, f, unicode=True))\n",
    "t = f(two)\n",
    "print(printer.print_term(thy, t, unicode=True))"
   ]
  },
  {
   "cell_type": "markdown",
   "metadata": {},
   "source": [
    "The `Comb` constructor (invoked through the `__call__` method of $f$) simply combines its two arguments, performing no function evaluation. To actually evaluate a function application, we need to use the `beta_conv` method, so named because function evaluation in lambda calculus is called *$\\beta$-conversion*."
   ]
  },
  {
   "cell_type": "code",
   "execution_count": 11,
   "metadata": {},
   "outputs": [
    {
     "name": "stdout",
     "output_type": "stream",
     "text": [
      "2 + 2\n"
     ]
    }
   ],
   "source": [
    "t2 = t.beta_conv()\n",
    "print(printer.print_term(thy, t2))"
   ]
  },
  {
   "cell_type": "markdown",
   "metadata": {},
   "source": [
    "Now, the argument 2 is substituted into the function. The addition $2+2$ is still not evaluated: the general rule is that no evaluation is performed unless explicitly called for. We will discuss evaluation of arithmetic on natural numbers in a later section.\n",
    "\n",
    "Let's see a more complicated example:"
   ]
  },
  {
   "cell_type": "code",
   "execution_count": 12,
   "metadata": {
    "tags": [
     "raises-exception"
    ]
   },
   "outputs": [
    {
     "name": "stdout",
     "output_type": "stream",
     "text": [
      "(λx. λy. x + 2 * y) 2 3\n"
     ]
    },
    {
     "ename": "TermSubstitutionException",
     "evalue": "",
     "output_type": "error",
     "traceback": [
      "\u001b[0;31m---------------------------------------------------------------------------\u001b[0m",
      "\u001b[0;31mTermSubstitutionException\u001b[0m                 Traceback (most recent call last)",
      "\u001b[0;32m<ipython-input-12-c2012533a4b4>\u001b[0m in \u001b[0;36m<module>\u001b[0;34m()\u001b[0m\n\u001b[1;32m      3\u001b[0m \u001b[0mprint\u001b[0m\u001b[0;34m(\u001b[0m\u001b[0mprinter\u001b[0m\u001b[0;34m.\u001b[0m\u001b[0mprint_term\u001b[0m\u001b[0;34m(\u001b[0m\u001b[0mthy\u001b[0m\u001b[0;34m,\u001b[0m \u001b[0mt3\u001b[0m\u001b[0;34m,\u001b[0m \u001b[0municode\u001b[0m\u001b[0;34m=\u001b[0m\u001b[0;32mTrue\u001b[0m\u001b[0;34m)\u001b[0m\u001b[0;34m)\u001b[0m\u001b[0;34m\u001b[0m\u001b[0m\n\u001b[1;32m      4\u001b[0m \u001b[0;34m\u001b[0m\u001b[0m\n\u001b[0;32m----> 5\u001b[0;31m \u001b[0mt4\u001b[0m \u001b[0;34m=\u001b[0m \u001b[0mt3\u001b[0m\u001b[0;34m.\u001b[0m\u001b[0mbeta_conv\u001b[0m\u001b[0;34m(\u001b[0m\u001b[0;34m)\u001b[0m   \u001b[0;31m# raises TermSubstitutionException\u001b[0m\u001b[0;34m\u001b[0m\u001b[0m\n\u001b[0m",
      "\u001b[0;32m~/Private/holpy/kernel/term.py\u001b[0m in \u001b[0;36mbeta_conv\u001b[0;34m(self)\u001b[0m\n\u001b[1;32m    428\u001b[0m         \"\"\"\n\u001b[1;32m    429\u001b[0m         \u001b[0;32mif\u001b[0m \u001b[0mself\u001b[0m\u001b[0;34m.\u001b[0m\u001b[0mis_comb\u001b[0m\u001b[0;34m(\u001b[0m\u001b[0;34m)\u001b[0m\u001b[0;34m:\u001b[0m\u001b[0;34m\u001b[0m\u001b[0m\n\u001b[0;32m--> 430\u001b[0;31m             \u001b[0;32mreturn\u001b[0m \u001b[0mself\u001b[0m\u001b[0;34m.\u001b[0m\u001b[0mfun\u001b[0m\u001b[0;34m.\u001b[0m\u001b[0msubst_bound\u001b[0m\u001b[0;34m(\u001b[0m\u001b[0mself\u001b[0m\u001b[0;34m.\u001b[0m\u001b[0marg\u001b[0m\u001b[0;34m)\u001b[0m\u001b[0;34m\u001b[0m\u001b[0m\n\u001b[0m\u001b[1;32m    431\u001b[0m         \u001b[0;32melse\u001b[0m\u001b[0;34m:\u001b[0m\u001b[0;34m\u001b[0m\u001b[0m\n\u001b[1;32m    432\u001b[0m             \u001b[0;32mraise\u001b[0m \u001b[0mTermSubstitutionException\u001b[0m\u001b[0;34m(\u001b[0m\u001b[0;34m)\u001b[0m\u001b[0;34m\u001b[0m\u001b[0m\n",
      "\u001b[0;32m~/Private/holpy/kernel/term.py\u001b[0m in \u001b[0;36msubst_bound\u001b[0;34m(self, t)\u001b[0m\n\u001b[1;32m    420\u001b[0m             \u001b[0;32mreturn\u001b[0m \u001b[0mself\u001b[0m\u001b[0;34m.\u001b[0m\u001b[0mbody\u001b[0m\u001b[0;34m.\u001b[0m\u001b[0m_subst_bound\u001b[0m\u001b[0;34m(\u001b[0m\u001b[0mt\u001b[0m\u001b[0;34m,\u001b[0m \u001b[0;36m0\u001b[0m\u001b[0;34m)\u001b[0m\u001b[0;34m\u001b[0m\u001b[0m\n\u001b[1;32m    421\u001b[0m         \u001b[0;32melse\u001b[0m\u001b[0;34m:\u001b[0m\u001b[0;34m\u001b[0m\u001b[0m\n\u001b[0;32m--> 422\u001b[0;31m             \u001b[0;32mraise\u001b[0m \u001b[0mTermSubstitutionException\u001b[0m\u001b[0;34m(\u001b[0m\u001b[0;34m)\u001b[0m\u001b[0;34m\u001b[0m\u001b[0m\n\u001b[0m\u001b[1;32m    423\u001b[0m \u001b[0;34m\u001b[0m\u001b[0m\n\u001b[1;32m    424\u001b[0m     \u001b[0;32mdef\u001b[0m \u001b[0mbeta_conv\u001b[0m\u001b[0;34m(\u001b[0m\u001b[0mself\u001b[0m\u001b[0;34m)\u001b[0m\u001b[0;34m:\u001b[0m\u001b[0;34m\u001b[0m\u001b[0m\n",
      "\u001b[0;31mTermSubstitutionException\u001b[0m: "
     ]
    }
   ],
   "source": [
    "three = nat.to_binary(3)\n",
    "t3 = f2(two, three)\n",
    "print(printer.print_term(thy, t3, unicode=True))\n",
    "\n",
    "t4 = t3.beta_conv()   # raises TermSubstitutionException"
   ]
  },
  {
   "cell_type": "markdown",
   "metadata": {},
   "source": [
    "Oops... Here `beta_conv` failed because the function part of $t_3$ is not a lambda term: it is a lambda term applied to 2. To fully evaluate $f_2$ on two arguments 2 and 3, we need to apply them one at a time, performing $\\beta$-conversion:"
   ]
  },
  {
   "cell_type": "code",
   "execution_count": 13,
   "metadata": {},
   "outputs": [
    {
     "name": "stdout",
     "output_type": "stream",
     "text": [
      "λy. 2 + 2 * y\n",
      "2 + 2 * 3\n"
     ]
    }
   ],
   "source": [
    "t3 = f2(two).beta_conv()\n",
    "print(printer.print_term(thy, t3, unicode=True))\n",
    "\n",
    "t4 = t3(three).beta_conv()\n",
    "print(printer.print_term(thy, t4, unicode=True))"
   ]
  },
  {
   "cell_type": "markdown",
   "metadata": {},
   "source": [
    "A more convenient method is `beta_norm`, which performs all $\\beta$-conversions on subterms:"
   ]
  },
  {
   "cell_type": "code",
   "execution_count": 14,
   "metadata": {},
   "outputs": [
    {
     "name": "stdout",
     "output_type": "stream",
     "text": [
      "2 + 2 * 3\n"
     ]
    }
   ],
   "source": [
    "t5 = f2(two, three).beta_norm()\n",
    "print(printer.print_term(thy, t5, unicode=True))"
   ]
  },
  {
   "cell_type": "markdown",
   "metadata": {},
   "source": [
    "## Abstraction"
   ]
  },
  {
   "cell_type": "markdown",
   "metadata": {},
   "source": [
    "The dual of $\\beta$-conversion is *abstraction*. It takes a term containing a variable $x$, and creates a lambda term where $x$ is replaced by a bound variable. For example:"
   ]
  },
  {
   "cell_type": "code",
   "execution_count": 15,
   "metadata": {},
   "outputs": [
    {
     "name": "stdout",
     "output_type": "stream",
     "text": [
      "λx. x + 2\n"
     ]
    }
   ],
   "source": [
    "x = Var(\"x\", natT)\n",
    "t = plus(x, two)\n",
    "t2 = Term.mk_abs(x, t)\n",
    "print(printer.print_term(thy, t2, unicode=True))"
   ]
  },
  {
   "cell_type": "markdown",
   "metadata": {},
   "source": [
    "The `mk_abs` function is often more convenient for constructing abstractions. At the expense of defining extra variables, it removes the need to think about index of bound variables. In addition, types can be computed for all terms in the body, making it possible to use functions such as `mk_equals`. We give two examples from above."
   ]
  },
  {
   "cell_type": "code",
   "execution_count": 16,
   "metadata": {},
   "outputs": [
    {
     "name": "stdout",
     "output_type": "stream",
     "text": [
      "λx. λy. x = 0 ∨ x = 2\n",
      "λx. λy. x = y + 2\n"
     ]
    }
   ],
   "source": [
    "x = Var(\"x\", natT)\n",
    "y = Var(\"y\", natT)\n",
    "\n",
    "P = Term.mk_abs(x, Term.mk_abs(y, logic.disj(Term.mk_equals(x, zero), eq_nat(x, two))))\n",
    "print(printer.print_term(thy, P, unicode=True))\n",
    "\n",
    "R = Term.mk_abs(x, Term.mk_abs(y, Term.mk_equals(x, plus(y, two))))\n",
    "print(printer.print_term(thy, R, unicode=True))"
   ]
  },
  {
   "cell_type": "markdown",
   "metadata": {},
   "source": [
    "## Quantifiers in predicate logic"
   ]
  },
  {
   "cell_type": "markdown",
   "metadata": {},
   "source": [
    "Predicate logic extends propositional logic by adding two quantifiers: forall ($\\forall$) and exists ($\\exists$). In higher-order logic, both operators are represented as constants of type $('a \\To bool) \\To bool$. This can be explained as follows, taking the forall quantifier as an example. A forall expression in mathematics has the form\n",
    "\n",
    "$$ \\forall x. P(x) $$\n",
    "\n",
    "Here $x$ is a bound variable. In (untyped) first-order logic, there are only two types of terms: objects and propositions, and $x$ can only range over objects. The main distinction between higher-order and first-order logic is that in higher-order logic, the bound variable of quantifiers can be of any type, including function types. Hence, we designate the type of the bound variable by the type variable $'a$. Then, the predicate $P$ has type $'a \\To bool$. Any forall expression is a function taking a predicate $P$ of type $'a \\To bool$ as input, and outputs a boolean value (whether $P$ is true on all of $'a$). Hence, its type must be $('a \\To bool) \\To bool$.\n",
    "\n",
    "Forall and exists expressions are constructed as follows."
   ]
  },
  {
   "cell_type": "code",
   "execution_count": 17,
   "metadata": {},
   "outputs": [
    {
     "name": "stdout",
     "output_type": "stream",
     "text": [
      "Comb(Const(all,(nat => bool) => bool),Abs(x,nat,Comb(Var(P,nat => bool),Bound 0)))\n",
      "all (%x. P x)\n"
     ]
    }
   ],
   "source": [
    "P = Var(\"P\", TFun(natT, boolT))\n",
    "x = Var(\"x\", natT)\n",
    "t1 = Term.mk_all(x, P(x))\n",
    "print(repr(t1))\n",
    "print(t1)"
   ]
  },
  {
   "cell_type": "markdown",
   "metadata": {},
   "source": [
    "As indicated by the output of the default printer, $\\forall x. P(x)$ is represented as the constant `all` applied to the abstraction $\\lambda x. P(x)$. Check the `repr` of $t_1$ carefully to make sure you understand everything. The more sophisticated printer outputs $t_1$ as follows:"
   ]
  },
  {
   "cell_type": "code",
   "execution_count": 18,
   "metadata": {},
   "outputs": [
    {
     "name": "stdout",
     "output_type": "stream",
     "text": [
      "∀x. P x\n"
     ]
    }
   ],
   "source": [
    "print(printer.print_term(thy, t1, unicode=True))"
   ]
  },
  {
   "cell_type": "markdown",
   "metadata": {},
   "source": [
    "An exists quantifier is constructed in an analogous way, this time using a function in the `logic` module."
   ]
  },
  {
   "cell_type": "code",
   "execution_count": 19,
   "metadata": {},
   "outputs": [
    {
     "name": "stdout",
     "output_type": "stream",
     "text": [
      "Comb(Const(exists,(nat => bool) => bool),Abs(x,nat,Comb(Var(P,nat => bool),Bound 0)))\n",
      "exists (%x. P x)\n",
      "∃x. P x\n"
     ]
    }
   ],
   "source": [
    "t2 = logic.mk_exists(x, P(x))\n",
    "print(repr(t2))\n",
    "print(t2)\n",
    "print(printer.print_term(thy, t2, unicode=True))"
   ]
  },
  {
   "cell_type": "markdown",
   "metadata": {},
   "source": [
    "The type of $t_1$ and $t_2$ are booleans, as expected."
   ]
  },
  {
   "cell_type": "code",
   "execution_count": 20,
   "metadata": {},
   "outputs": [
    {
     "name": "stdout",
     "output_type": "stream",
     "text": [
      "bool\n",
      "bool\n"
     ]
    }
   ],
   "source": [
    "print(t1.checked_get_type())\n",
    "print(t2.checked_get_type())"
   ]
  }
 ],
 "metadata": {
  "kernelspec": {
   "display_name": "Python 3",
   "language": "python",
   "name": "python3"
  },
  "language_info": {
   "codemirror_mode": {
    "name": "ipython",
    "version": 3
   },
   "file_extension": ".py",
   "mimetype": "text/x-python",
   "name": "python",
   "nbconvert_exporter": "python",
   "pygments_lexer": "ipython3",
   "version": "3.5.2"
  }
 },
 "nbformat": 4,
 "nbformat_minor": 2
}
