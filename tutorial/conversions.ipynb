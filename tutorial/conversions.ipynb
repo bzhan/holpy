{
 "cells": [
  {
   "cell_type": "markdown",
   "metadata": {},
   "source": [
    "$\\newcommand{\\To}{\\Rightarrow}$\n",
    "$\\newcommand{\\false}{\\mathrm{false}}$"
   ]
  },
  {
   "cell_type": "code",
   "execution_count": 1,
   "metadata": {},
   "outputs": [],
   "source": [
    "import os\n",
    "os.chdir('..')"
   ]
  },
  {
   "cell_type": "code",
   "execution_count": 2,
   "metadata": {},
   "outputs": [],
   "source": [
    "from kernel.type import TFun, NatType\n",
    "from kernel.term import Term, Var, Eq, Nat, Lambda\n",
    "from kernel.thm import InvalidDerivationException\n",
    "from kernel import theory\n",
    "from logic import basic\n",
    "from logic import matcher\n",
    "from logic.proofterm import ProofTerm\n",
    "from logic.conv import Conv, ConvException\n",
    "from data import nat\n",
    "from syntax.settings import settings\n",
    "\n",
    "basic.load_theory('nat')\n",
    "settings.unicode = True"
   ]
  },
  {
   "cell_type": "markdown",
   "metadata": {},
   "source": [
    "## Conversions"
   ]
  },
  {
   "cell_type": "markdown",
   "metadata": {},
   "source": [
    "With the macro system in place, we begin in earnest the study of proof automation. We start with rewriting: using equalities to transform a term to an equivalent term. The central concept in automation of rewriting is *conversions*. A conversion is a function taking a term $t$ as input, and returns a theorem of the form $t = t'$. In some sense, conversions can be viewed as macros, where the argument is a single term and there are no input sequents. However, we single out the concept of conversions because it has nice composition properties.\n",
    "\n",
    "In Python, a conversion is created by inheriting from the class `Conv`. A conversion class needs to implement a `get_proof_term` function, which takes as inputs the current theory and a term, and (if the inputs are valid) returns a proof term rewriting the input term.\n",
    "\n",
    "We consider the most basic example: rewriting using a theorem. We implement this as a class `rewr_conv_test`. Again, this is named to avoid conflicts with the actual `rewr_conv` class. The constructor for `rewr_conv_test` takes the name of the theorem, and an optional argument `sym` specifying whether the rewriting is performed left-to-right (`sym = False`) or right-to-left (`sym = True`)."
   ]
  },
  {
   "cell_type": "code",
   "execution_count": 3,
   "metadata": {},
   "outputs": [],
   "source": [
    "class rewr_conv_test(Conv):\n",
    "    def __init__(self, th_name, sym=False):\n",
    "        self.th_name = th_name\n",
    "        self.sym = sym\n",
    "        \n",
    "    def get_proof_term(self, t):\n",
    "        pt = ProofTerm.theorem(self.th_name)\n",
    "        if self.sym:\n",
    "            pt = pt.symmetric()\n",
    "        try:\n",
    "            inst = matcher.first_order_match(pt.prop.lhs, t)\n",
    "        except matcher.MatchException:\n",
    "            raise ConvException\n",
    "        return pt.substitution(inst)"
   ]
  },
  {
   "cell_type": "markdown",
   "metadata": {},
   "source": [
    "If the matching fails, the conversion raises `ConvException`. This is a standard exception that signals that the conversion is unable to act on the input. We test this conversion on a simple example. First, we create a conversion using theorem `nat_assoc`:"
   ]
  },
  {
   "cell_type": "code",
   "execution_count": 4,
   "metadata": {},
   "outputs": [
    {
     "name": "stdout",
     "output_type": "stream",
     "text": [
      "⊢ ?x + ?y + ?z = ?x + (?y + ?z)\n"
     ]
    }
   ],
   "source": [
    "print(theory.get_theorem('add_assoc'))\n",
    "assoc_cv = rewr_conv_test('add_assoc')"
   ]
  },
  {
   "cell_type": "markdown",
   "metadata": {},
   "source": [
    "We apply this conversion to a new term:"
   ]
  },
  {
   "cell_type": "code",
   "execution_count": 5,
   "metadata": {},
   "outputs": [
    {
     "name": "stdout",
     "output_type": "stream",
     "text": [
      "t:  a + 2 + 3\n",
      "pt: ProofTerm(⊢ a + 2 + 3 = a + (2 + 3))\n"
     ]
    }
   ],
   "source": [
    "a = Var(\"a\", NatType)\n",
    "t = a + 2 + 3\n",
    "print(\"t: \", t)\n",
    "pt = assoc_cv.get_proof_term(t)\n",
    "print(\"pt:\", pt)"
   ]
  },
  {
   "cell_type": "markdown",
   "metadata": {},
   "source": [
    "The resulting proof term can be verified as before."
   ]
  },
  {
   "cell_type": "code",
   "execution_count": 6,
   "metadata": {},
   "outputs": [
    {
     "name": "stdout",
     "output_type": "stream",
     "text": [
      "0: ⊢ ?x + ?y + ?z = ?x + (?y + ?z) by theorem add_assoc\n",
      "1: ⊢ a + 2 + 3 = a + (2 + 3) by substitution {x: a, y: (2::nat), z: (3::nat)} from 0\n"
     ]
    }
   ],
   "source": [
    "prf = pt.export()\n",
    "theory.check_proof(prf)\n",
    "print(prf)"
   ]
  },
  {
   "cell_type": "markdown",
   "metadata": {},
   "source": [
    "## Composition of conversions"
   ]
  },
  {
   "cell_type": "markdown",
   "metadata": {},
   "source": [
    "An important feature of conversions is that they can be composed and modified by functions (in fact constructors of classes) that take one or more conversions as input, and return a new conversion. As a first example, we define functions for creating conversions that act on parts of a term:"
   ]
  },
  {
   "cell_type": "code",
   "execution_count": 7,
   "metadata": {},
   "outputs": [],
   "source": [
    "class arg_conv_test(Conv):\n",
    "    def __init__(self, cv):\n",
    "        self.cv = cv\n",
    "        \n",
    "    def get_proof_term(self, t):\n",
    "        pt = self.cv.get_proof_term(t.arg)\n",
    "        refl_f = ProofTerm.reflexive(t.fun)\n",
    "        return refl_f.combination(pt)"
   ]
  },
  {
   "cell_type": "markdown",
   "metadata": {},
   "source": [
    "Calling `arg_conv_test(cv)` creates a new conversion that applies `cv` to the argument of a term. Let's test this on a simple example (recall that the argument of a binary operation is the argument on the right)."
   ]
  },
  {
   "cell_type": "code",
   "execution_count": 8,
   "metadata": {},
   "outputs": [
    {
     "name": "stdout",
     "output_type": "stream",
     "text": [
      "t:  a + (b + 2)\n",
      "pt: ProofTerm(⊢ a + (b + 2) = a + (2 + b))\n"
     ]
    }
   ],
   "source": [
    "cv = arg_conv_test(rewr_conv_test('add_comm'))\n",
    "\n",
    "b = Var(\"b\", NatType)\n",
    "t = a + (b + 2)\n",
    "print(\"t: \", t)\n",
    "pt = cv.get_proof_term(t)\n",
    "print(\"pt:\", pt)"
   ]
  },
  {
   "cell_type": "markdown",
   "metadata": {},
   "source": [
    "Likewise, we can define a conversion combinator that applies the input conversion to the function part of a term:"
   ]
  },
  {
   "cell_type": "code",
   "execution_count": 9,
   "metadata": {},
   "outputs": [],
   "source": [
    "class fun_conv_test(Conv):\n",
    "    def __init__(self, cv):\n",
    "        self.cv = cv\n",
    "        \n",
    "    def get_proof_term(self, t):\n",
    "        pt = self.cv.get_proof_term(t.fun)\n",
    "        return pt.combination(ProofTerm.reflexive(t.arg))"
   ]
  },
  {
   "cell_type": "markdown",
   "metadata": {},
   "source": [
    "With these, we can directly define the conversion combinator for applying a conversion to the left side of a binary operator:"
   ]
  },
  {
   "cell_type": "code",
   "execution_count": 10,
   "metadata": {},
   "outputs": [],
   "source": [
    "def arg1_conv_test(cv):\n",
    "    return fun_conv_test(arg_conv_test(cv))"
   ]
  },
  {
   "cell_type": "markdown",
   "metadata": {},
   "source": [
    "Note carefully the order of application, which can be tricky on a first sight. We can test this function as follows:"
   ]
  },
  {
   "cell_type": "code",
   "execution_count": 11,
   "metadata": {},
   "outputs": [
    {
     "name": "stdout",
     "output_type": "stream",
     "text": [
      "t:  a + b + 2\n",
      "pt: ProofTerm(⊢ a + b + 2 = b + a + 2)\n"
     ]
    }
   ],
   "source": [
    "cv = arg1_conv_test(rewr_conv_test('add_comm'))\n",
    "\n",
    "t = (a + b) + 2\n",
    "print(\"t: \", t)\n",
    "pt = cv.get_proof_term(t)\n",
    "print(\"pt:\", pt)"
   ]
  },
  {
   "cell_type": "markdown",
   "metadata": {},
   "source": [
    "Another way to combine conversions is to apply them in sequence. This is defined by the following function, which takes a list of conversions, and return a conversion that applies elements in the list in sequence. In the code below, the method `is_reflexive` checks whether a theorem is of the form $t = t$. This is used to simplify the resulting proof term as much as possible."
   ]
  },
  {
   "cell_type": "code",
   "execution_count": 12,
   "metadata": {},
   "outputs": [],
   "source": [
    "class every_conv_test(Conv):\n",
    "    def __init__(self, *cvs):\n",
    "        self.cvs = cvs\n",
    "        \n",
    "    def get_proof_term(self, t):\n",
    "        pt = ProofTerm.reflexive(t)\n",
    "        for cv in self.cvs:\n",
    "            pt2 = cv.get_proof_term(pt.prop.rhs)\n",
    "            pt = ProofTerm.transitive(pt, pt2)\n",
    "        return pt"
   ]
  },
  {
   "cell_type": "markdown",
   "metadata": {},
   "source": [
    "We now test this on the following example: given a term of the form $(a + b) + c$, rewrite it to $(a + c) + b$. This operation, called swap, is useful in many normalization procedures. This can be done by a chain of equalities:\n",
    "\n",
    "$$(a + b) + c = a + (b + c) = a + (c + b) = (a + c) + b.$$\n",
    "\n",
    "In words, we first rewrite using `add_assoc`, then rewrite on the argument using `add_comm`, and finally rewrite using `add_assoc` in the right-to-left direction. This can be implemented as follows:"
   ]
  },
  {
   "cell_type": "code",
   "execution_count": 13,
   "metadata": {},
   "outputs": [
    {
     "name": "stdout",
     "output_type": "stream",
     "text": [
      "t:  a + b + 2\n",
      "pt: ProofTerm(⊢ a + b + 2 = a + 2 + b)\n"
     ]
    }
   ],
   "source": [
    "swap_cv = every_conv_test(\n",
    "    rewr_conv_test('add_assoc'),\n",
    "    arg_conv_test(rewr_conv_test('add_comm')),\n",
    "    rewr_conv_test('add_assoc', sym=True))\n",
    "\n",
    "t = (a + b) + 2\n",
    "print(\"t: \", t)\n",
    "pt = swap_cv.get_proof_term(t)\n",
    "print(\"pt:\", pt)"
   ]
  },
  {
   "cell_type": "markdown",
   "metadata": {},
   "source": [
    "Let's check and print the proof:"
   ]
  },
  {
   "cell_type": "code",
   "execution_count": 14,
   "metadata": {},
   "outputs": [
    {
     "name": "stdout",
     "output_type": "stream",
     "text": [
      "0: ⊢ ?x + ?y + ?z = ?x + (?y + ?z) by theorem add_assoc\n",
      "1: ⊢ a + b + 2 = a + (b + 2) by substitution {x: a, y: b, z: (2::nat)} from 0\n",
      "2: ⊢ plus a = plus a by reflexive plus a\n",
      "3: ⊢ ?x + ?y = ?y + ?x by theorem add_comm\n",
      "4: ⊢ b + 2 = 2 + b by substitution {x: b, y: (2::nat)} from 3\n",
      "5: ⊢ a + (b + 2) = a + (2 + b) by combination from 2, 4\n",
      "6: ⊢ a + b + 2 = a + (2 + b) by transitive from 1, 5\n",
      "7: ⊢ ?x + (?y + ?z) = ?x + ?y + ?z by symmetric from 0\n",
      "8: ⊢ a + (2 + b) = a + 2 + b by substitution {x: a, y: (2::nat), z: b} from 7\n",
      "9: ⊢ a + b + 2 = a + 2 + b by transitive from 6, 8\n"
     ]
    }
   ],
   "source": [
    "prf = pt.export()\n",
    "theory.check_proof(prf)\n",
    "print(prf)"
   ]
  },
  {
   "cell_type": "markdown",
   "metadata": {},
   "source": [
    "## Rewriting on subterms"
   ]
  },
  {
   "cell_type": "markdown",
   "metadata": {},
   "source": [
    "One task that we frequently encounter is using some equality to rewrite all subterms of a term. For example, suppose we obtained $f(a)=b$ in a proof, we wish to use it to rewrite $g(f(a))+f(a)$ to $g(b)+b$. This requires a recursive search on the structure of the term, performing the rewrite whenever possible.\n",
    "\n",
    "First, we define a new conversion that simply replaces the left side of an equality by the right side, without performing matching. If the input term does not agree with the left side, it raises `ConvException`."
   ]
  },
  {
   "cell_type": "code",
   "execution_count": 15,
   "metadata": {},
   "outputs": [],
   "source": [
    "class replace_conv(Conv):\n",
    "    def __init__(self, pt):\n",
    "        self.pt = pt\n",
    "\n",
    "    def get_proof_term(self, t):\n",
    "        if t == self.pt.prop.lhs:\n",
    "            return self.pt\n",
    "        else:\n",
    "            raise ConvException"
   ]
  },
  {
   "cell_type": "markdown",
   "metadata": {},
   "source": [
    "The conversion combinator `try_conv_test` attempts to apply a conversion. On failure, it returns the trivial equality:"
   ]
  },
  {
   "cell_type": "code",
   "execution_count": 16,
   "metadata": {},
   "outputs": [],
   "source": [
    "class try_conv_test(Conv):\n",
    "    def __init__(self, cv):\n",
    "        self.cv = cv\n",
    "        \n",
    "    def get_proof_term(self, t):\n",
    "        try:\n",
    "            return self.cv.get_proof_term(t)\n",
    "        except ConvException:\n",
    "            return ProofTerm.reflexive(t)"
   ]
  },
  {
   "cell_type": "markdown",
   "metadata": {},
   "source": [
    "We test this conversion on a simple example:"
   ]
  },
  {
   "cell_type": "code",
   "execution_count": 17,
   "metadata": {},
   "outputs": [
    {
     "name": "stdout",
     "output_type": "stream",
     "text": [
      "pt1: ProofTerm(f a = b ⊢ f a = b)\n",
      "pt2: ProofTerm(⊢ f b = f b)\n"
     ]
    }
   ],
   "source": [
    "f = Var(\"f\", TFun(NatType, NatType))\n",
    "eq_pt = ProofTerm.assume(Eq(f(a), b))\n",
    "cv = replace_conv(eq_pt)\n",
    "\n",
    "pt1 = cv.get_proof_term(f(a))\n",
    "print('pt1:', pt1)\n",
    "pt2 = try_conv_test(cv).get_proof_term(f(b))\n",
    "print('pt2:', pt2)"
   ]
  },
  {
   "cell_type": "markdown",
   "metadata": {},
   "source": [
    "The conversion combinator `sub_conv_test` applies a conversion on all subterms of the term. For simplicity, we only consider the combination (not lambda abstraction) case."
   ]
  },
  {
   "cell_type": "code",
   "execution_count": 18,
   "metadata": {},
   "outputs": [],
   "source": [
    "class sub_conv_test(Conv):\n",
    "    def __init__(self, cv):\n",
    "        self.cv = cv\n",
    "        \n",
    "    def get_proof_term(self, t):\n",
    "        if t.is_comb():\n",
    "            return every_conv_test(\n",
    "                fun_conv_test(self.cv),\n",
    "                arg_conv_test(self.cv)).get_proof_term(t)\n",
    "        else:\n",
    "            return ProofTerm.reflexive(t)"
   ]
  },
  {
   "cell_type": "markdown",
   "metadata": {},
   "source": [
    "Now, we implement the conversion combinator `top_conv_test` that tries to apply a conversion on all subterms of a term. This corresponds to the `top_conv` combinator in the actual library. The name `top_conv` will be explained later."
   ]
  },
  {
   "cell_type": "code",
   "execution_count": 19,
   "metadata": {},
   "outputs": [],
   "source": [
    "class top_conv_test(Conv):\n",
    "    def __init__(self, cv):\n",
    "        self.cv = cv\n",
    "        \n",
    "    def get_proof_term(self, t):\n",
    "        return every_conv_test(\n",
    "            try_conv_test(self.cv),\n",
    "            sub_conv_test(self)).get_proof_term(t)"
   ]
  },
  {
   "cell_type": "markdown",
   "metadata": {},
   "source": [
    "The code can be explained as follows: to apply `cv` to all subterms of a term, we first try to apply it to the term itself. If the term is a combination, then we recursively apply the conversion to all subterms of the function and argument of the combination.\n",
    "\n",
    "We now test this function:"
   ]
  },
  {
   "cell_type": "code",
   "execution_count": 20,
   "metadata": {},
   "outputs": [
    {
     "name": "stdout",
     "output_type": "stream",
     "text": [
      "t:  g (f a) + f a\n",
      "pt: ProofTerm(f a = b ⊢ g (f a) + f a = g b + b)\n"
     ]
    }
   ],
   "source": [
    "cv = top_conv_test(replace_conv(eq_pt))\n",
    "\n",
    "g = Var(\"g\", TFun(NatType, NatType))\n",
    "t = g(f(a)) + f(a)\n",
    "print(\"t: \", t)\n",
    "pt = cv.get_proof_term(t)\n",
    "print(\"pt:\", pt)"
   ]
  },
  {
   "cell_type": "markdown",
   "metadata": {},
   "source": [
    "There is one subtlety in the implementation of `top_conv_test`: applying the conversion on subterms of $t$ comes *after* applying the conversion on $t$ itself. This means if applying the conversion on $t$ results in a new term where the conversion can still act on some of its subterms, these actions will be performed. We will take advantage of this feature frequently in later sections. For now, we give a simple example illustrating this in action.\n",
    "\n",
    "Consider rewriting using the distributivity theorem:"
   ]
  },
  {
   "cell_type": "code",
   "execution_count": 21,
   "metadata": {},
   "outputs": [
    {
     "name": "stdout",
     "output_type": "stream",
     "text": [
      "⊢ ?x * (?y + ?z) = ?x * ?y + ?x * ?z\n"
     ]
    }
   ],
   "source": [
    "distrib_th = theory.get_theorem('distrib_l')\n",
    "print(distrib_th)\n",
    "distrib_cv = rewr_conv_test(\"distrib_l\")"
   ]
  },
  {
   "cell_type": "markdown",
   "metadata": {},
   "source": [
    "Suppose we want to use this identity to rewrite $a\\cdot ((b + c) + d)$ (we inserted parentheses that is usually omitted for clarity). After applying `distrib_cv` to the whole term, we get $a\\cdot (b + c) + a\\cdot d$. Note the first argument of this term can still be rewritten using the identity, resulting in $(a\\cdot b + a\\cdot c) + a\\cdot d$. This means `top_conv_test` can apply this rewrite in one step:"
   ]
  },
  {
   "cell_type": "code",
   "execution_count": 22,
   "metadata": {},
   "outputs": [
    {
     "name": "stdout",
     "output_type": "stream",
     "text": [
      "t:  a * (b + c + d)\n",
      "pt: ProofTerm(⊢ a * (b + c + d) = a * b + a * c + a * d)\n"
     ]
    }
   ],
   "source": [
    "c = Var(\"c\", NatType)\n",
    "d = Var(\"d\", NatType)\n",
    "t = a * ((b + c) + d)\n",
    "print(\"t: \", t)\n",
    "pt = top_conv_test(distrib_cv).get_proof_term(t)\n",
    "print(\"pt:\", pt)"
   ]
  },
  {
   "cell_type": "markdown",
   "metadata": {},
   "source": [
    "However, there are also times when it is better to rewrite on subterms first, then on the whole term. We give an example using `beta_conv`:"
   ]
  },
  {
   "cell_type": "code",
   "execution_count": 23,
   "metadata": {},
   "outputs": [],
   "source": [
    "class beta_conv_test(Conv):\n",
    "    def get_proof_term(self, t):\n",
    "        try:\n",
    "            return ProofTerm.beta_conv(t)\n",
    "        except InvalidDerivationException:\n",
    "            raise ConvException"
   ]
  },
  {
   "cell_type": "code",
   "execution_count": 24,
   "metadata": {},
   "outputs": [
    {
     "name": "stdout",
     "output_type": "stream",
     "text": [
      "t:  (λn::nat. n + 2) 3\n",
      "pt: ProofTerm(⊢ (λn::nat. n + 2) 3 = 3 + 2)\n"
     ]
    }
   ],
   "source": [
    "n = Var('n', NatType)\n",
    "t = Lambda(n, n + 2)(Nat(3))\n",
    "print('t: ', t)\n",
    "print('pt:', beta_conv_test().get_proof_term(t))"
   ]
  },
  {
   "cell_type": "markdown",
   "metadata": {},
   "source": [
    "Now, suppose we wish to evaluate an expression like $(\\lambda x.\\,\\lambda y.\\,x + y)\\ a\\ b$, we need to first evaluate the subterms, then the term itself. This is opposite to the order performed by `top_conv_test`. We can implement this order as follows:"
   ]
  },
  {
   "cell_type": "code",
   "execution_count": 25,
   "metadata": {},
   "outputs": [],
   "source": [
    "class bottom_conv_test(Conv):\n",
    "    def __init__(self, cv):\n",
    "        self.cv = cv\n",
    "        \n",
    "    def get_proof_term(self, t):\n",
    "        return every_conv_test(\n",
    "            sub_conv_test(self),\n",
    "            try_conv_test(self.cv)).get_proof_term(t)"
   ]
  },
  {
   "cell_type": "code",
   "execution_count": 26,
   "metadata": {},
   "outputs": [
    {
     "name": "stdout",
     "output_type": "stream",
     "text": [
      "ProofTerm(⊢ (λx::nat. λy. x + y) 2 3 = 2 + 3)\n"
     ]
    }
   ],
   "source": [
    "x = Var('x', NatType)\n",
    "y = Var('y', NatType)\n",
    "t = Lambda(x, y, x + y)(Nat(2), Nat(3))\n",
    "print(bottom_conv_test(beta_conv_test()).get_proof_term(t))"
   ]
  },
  {
   "cell_type": "markdown",
   "metadata": {},
   "source": [
    "The conversions `top_conv_test` and `bottom_conv_test` perform similar functionality but in different ways. Both are useful in different situations. Their names are explained by the fact that `top_conv_test` performs rewriting \"top-down\", while `bottom_conv_test` performs rewriting \"bottom-up\".\n",
    "\n",
    "We have now studied implementations of basic conversions. In practice, all of these conversions are already in the library. In the next section, we show how to use the existing API for programming with conversions."
   ]
  }
 ],
 "metadata": {
  "kernelspec": {
   "display_name": "Python 3",
   "language": "python",
   "name": "python3"
  },
  "language_info": {
   "codemirror_mode": {
    "name": "ipython",
    "version": 3
   },
   "file_extension": ".py",
   "mimetype": "text/x-python",
   "name": "python",
   "nbconvert_exporter": "python",
   "pygments_lexer": "ipython3",
   "version": "3.6.6"
  }
 },
 "nbformat": 4,
 "nbformat_minor": 2
}
