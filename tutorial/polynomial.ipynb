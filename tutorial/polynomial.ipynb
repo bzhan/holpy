{
 "cells": [
  {
   "cell_type": "code",
   "execution_count": 1,
   "metadata": {},
   "outputs": [],
   "source": [
    "import os\n",
    "os.chdir('..')"
   ]
  },
  {
   "cell_type": "code",
   "execution_count": 2,
   "metadata": {},
   "outputs": [],
   "source": [
    "from kernel.type import TFun, NatType\n",
    "from kernel.term import Var, Nat, Eq\n",
    "from kernel import term_ord\n",
    "from kernel.proofterm import refl\n",
    "from kernel.macro import Macro\n",
    "from kernel.theory import check_proof, register_macro\n",
    "from kernel.proofterm import ProofTerm\n",
    "from kernel.report import ProofReport\n",
    "from logic import basic\n",
    "from logic.conv import Conv, rewr_conv, arg_conv, arg1_conv, binop_conv, top_conv\n",
    "from data import nat\n",
    "from syntax.settings import settings\n",
    "\n",
    "basic.load_theory('nat')\n",
    "settings.unicode = True"
   ]
  },
  {
   "cell_type": "markdown",
   "metadata": {},
   "source": [
    "## Normalization of polynomials"
   ]
  },
  {
   "cell_type": "markdown",
   "metadata": {},
   "source": [
    "In this section, we give an extended example of conversions. Our goal is to normalize an expression on natural numbers consisting of addition, multiplication, and constant powers. This is done by \"expanding\" the expression into a polynomial and cancelling terms. For example, the expression\n",
    "\n",
    "$$ (a + b) (a + 2b) $$\n",
    "\n",
    "is normalized to\n",
    "\n",
    "$$ a^2 + 2b^2 + 3ab. $$\n",
    "\n",
    "The basic structure of the procedure is as follows: to normalize an expression with addition or multiplication at the root, we first normalize the two sides. Then, we only need to consider the problem of how to add or multiply two normalized expressions. This reduces the number of cases that we need to consider significantly."
   ]
  },
  {
   "cell_type": "markdown",
   "metadata": {},
   "source": [
    "We first define the concept of a \"normal form\". The requirements for this concept is: any expression can be rewritten into a normal form. Moreover, if two expressions can be made equal by applying the standard rules of addition and multiplication (commutativity, associativity, and distributivity), then the two expressions should have the same normal form.\n",
    "\n",
    "The normal form is defined as follows: an atomic term is a term that is not a constant, nor an addition, multiplication, or constant power. Examples of atomic terms include $x$, $f(x)$, $x^y$, etc. We fix an ordering on the atomic terms. The specific ordering is not important as long as it is consistent. We use the function `term_ord.fast_compare` to compare two terms. The `fast_compare` function first compares the size of the two terms (according to the abstract syntax tree), then according to some lexicographic order. It returns one of $-1$, $0$, or $1$. For example:"
   ]
  },
  {
   "cell_type": "code",
   "execution_count": 3,
   "metadata": {},
   "outputs": [
    {
     "name": "stdout",
     "output_type": "stream",
     "text": [
      "-1\n",
      "-1\n"
     ]
    }
   ],
   "source": [
    "x = Var('x', NatType)\n",
    "y = Var('y', NatType)\n",
    "f = Var('f', TFun(NatType, NatType))\n",
    "print(term_ord.fast_compare(x, y))\n",
    "print(term_ord.fast_compare(y, f(x)))"
   ]
  },
  {
   "cell_type": "markdown",
   "metadata": {},
   "source": [
    "A monomial is an expression of the form $ca_1^{e_1}a_2^{e_2}\\cdots a_k^{e_k}$, where $c$ is a natural number greater than $0$, each $a_i$ is an atomic term, the $a_i$'s are in sorted order (in particular they are distinct), and each $e_i$ is a constant natural number greater than $0$. We call $c$ the coefficient of the monomial, and $a_1^{e_1}a_2^{e_2}\\cdots a_k^{e_k}$ to be the body of the monomial (considered to be $1$ when $k=0$).\n",
    "\n",
    "A polynomial is a sum of monomials $m_1+m_2+\\cdots+m_l$, where $m_i$ are in sorted order according to their body (in particular they are distinct). The case $l=0$ corresponds to the zero expression.\n",
    "\n",
    "The overall goal of this section is then to design a conversion rewritting any expression to a polynomial as defined above."
   ]
  },
  {
   "cell_type": "markdown",
   "metadata": {},
   "source": [
    "We begin with the task of multiplying two monomials (in normal form). In particular, how to make sure the atoms are in sorted order. First, we consider the case without coefficients and exponents. Hence, our goal is to normalize an expression like $(a\\cdot b)\\cdot (a\\cdot c)$ into $a\\cdot a\\cdot b\\cdot c$. For this, we first implement multiplying a monomial by an atom."
   ]
  },
  {
   "cell_type": "code",
   "execution_count": 4,
   "metadata": {},
   "outputs": [],
   "source": [
    "class swap_mult_r(Conv):\n",
    "    \"\"\"Rewrite (a * b) * c to (a * c) * b.\"\"\"\n",
    "    def get_proof_term(self, t):\n",
    "        return refl(t).on_rhs(\n",
    "            rewr_conv('mult_assoc'),  # a * (b * c)\n",
    "            arg_conv(rewr_conv('mult_comm')),  # a * (c * b)\n",
    "            rewr_conv('mult_assoc', sym=True))  # (a * c) * b"
   ]
  },
  {
   "cell_type": "code",
   "execution_count": 5,
   "metadata": {},
   "outputs": [],
   "source": [
    "class norm_mult_atom(Conv):\n",
    "    def get_proof_term(self, t):\n",
    "        pt = refl(t)\n",
    "        if t.arg1.is_times():  # t is the form (a * b) * c\n",
    "            cp = term_ord.fast_compare(t.arg1.arg, t.arg)  # compare b with c\n",
    "            if cp > 0:  # if b > c, need to swap b with c\n",
    "                return pt.on_rhs(\n",
    "                    swap_mult_r(),   # (a * c) * b\n",
    "                    arg1_conv(self))   # possibly move c further inside a\n",
    "            else:  # if b <= c, atoms already ordered since we assume b is ordered.\n",
    "                return pt\n",
    "        else:  # t is of the form a * b\n",
    "            cp = term_ord.fast_compare(t.arg1, t.arg)\n",
    "            if cp > 0:  # if a > b, need to swap a and b\n",
    "                return pt.on_rhs(rewr_conv('mult_comm'))\n",
    "            else:\n",
    "                return pt"
   ]
  },
  {
   "cell_type": "markdown",
   "metadata": {},
   "source": [
    "We test this function on some examples:"
   ]
  },
  {
   "cell_type": "code",
   "execution_count": 6,
   "metadata": {},
   "outputs": [
    {
     "name": "stdout",
     "output_type": "stream",
     "text": [
      "x * y * f x * x = x * x * y * f x\n",
      "x * y * f x * y = x * y * y * f x\n",
      "y * x = x * y\n"
     ]
    }
   ],
   "source": [
    "def test_conv(cv, ts):\n",
    "    for t in ts:\n",
    "        print(refl(t).on_rhs(cv).prop)\n",
    "\n",
    "test_conv(norm_mult_atom(), [\n",
    "    (x * y * f(x)) * x,\n",
    "    (x * y * f(x)) * y,\n",
    "    y * x\n",
    "])"
   ]
  },
  {
   "cell_type": "markdown",
   "metadata": {},
   "source": [
    "The general case is then quite simple:"
   ]
  },
  {
   "cell_type": "code",
   "execution_count": 7,
   "metadata": {},
   "outputs": [],
   "source": [
    "class norm_mult_monomial(Conv):\n",
    "    def get_proof_term(self, t):\n",
    "        pt = refl(t)\n",
    "        if t.arg.is_times():  # t is of form a * (b * c)\n",
    "            return pt.on_rhs(\n",
    "                rewr_conv('mult_assoc', sym=True),  # (a * b) * c\n",
    "                arg1_conv(self),  # merge terms in b into a\n",
    "                norm_mult_atom())  # merge c into a * b\n",
    "        else:\n",
    "            return pt.on_rhs(norm_mult_atom())"
   ]
  },
  {
   "cell_type": "markdown",
   "metadata": {},
   "source": [
    "This can be tested as follows:"
   ]
  },
  {
   "cell_type": "code",
   "execution_count": 8,
   "metadata": {},
   "outputs": [
    {
     "name": "stdout",
     "output_type": "stream",
     "text": [
      "x * y * f x * (x * y * f x) = x * x * y * y * f x * f x\n",
      "2 * x * (3 * y) = 2 * x * y * 3\n"
     ]
    }
   ],
   "source": [
    "test_conv(norm_mult_monomial(), [\n",
    "    (x * y * f(x)) * (x * y * f(x)),\n",
    "    (2 * x) * (3 * y)\n",
    "])"
   ]
  },
  {
   "cell_type": "markdown",
   "metadata": {},
   "source": [
    "There are two aspects in which the algorithm still need to be improved. First, we need to collect (and multiply together) coefficients at the front. Second, we need to combine equal atoms into powers (e.g. $x\\cdot x$ to $x^2$). We first implement a function to compare two terms of form $a_i^{e_i}$ and $a_j^{e_j}$ by their base:"
   ]
  },
  {
   "cell_type": "code",
   "execution_count": 9,
   "metadata": {},
   "outputs": [],
   "source": [
    "def compare_atom(t1, t2):\n",
    "    \"\"\"Assume t1 and t2 are in the form a_i^{e_i} and a_j^{e_j},\n",
    "    compare a_i with a_j.\"\"\"\n",
    "    return term_ord.fast_compare(t1.arg1, t2.arg1)"
   ]
  },
  {
   "cell_type": "markdown",
   "metadata": {},
   "source": [
    "Next, we re-implement `norm_mult_atom` to take a product of $a_i^{e_i}$ instead if $a_i$'s, followed by a conversion `norm_mult_monomial_wo_coeff`, which assumes input in the form $(a_1^{e_1}\\cdots a_k^{e_k})\\cdot (b_1^{f_1}\\cdots b_l^{f_l})$, where $k>0$ and $l>0$."
   ]
  },
  {
   "cell_type": "code",
   "execution_count": 10,
   "metadata": {},
   "outputs": [],
   "source": [
    "class norm_mult_atom(Conv):\n",
    "    def get_proof_term(self, t):\n",
    "        pt = refl(t)\n",
    "        if t.arg1.is_times():  # t is of form (a * b) * c\n",
    "            cp = compare_atom(t.arg1.arg, t.arg)  # compare b with c by their base\n",
    "            if cp > 0:  # if b > c, need to swap b with c\n",
    "                return pt.on_rhs(\n",
    "                    swap_mult_r(),  # (a * c) * b\n",
    "                    arg1_conv(self))   # possibly move c further inside a\n",
    "            elif cp == 0:  # if b and c have the same base, combine the exponents\n",
    "                return pt.on_rhs(\n",
    "                    rewr_conv('mult_assoc'),  # a * (b^e1 * b^e2)\n",
    "                    arg_conv(rewr_conv('nat_power_add', sym=True)),  # a * (b^(e1 + e2))\n",
    "                    arg_conv(arg_conv(nat.nat_conv())))  # evaluate e1 + e2\n",
    "            else:  # if b < c, atoms already ordered since we assume b is ordered.\n",
    "                return pt\n",
    "        else:  # t is of the form a * b\n",
    "            cp = compare_atom(t.arg1, t.arg)  # compare a with b by their base\n",
    "            if cp > 0:  # if a > b, need to swap a and b\n",
    "                return pt.on_rhs(rewr_conv('mult_comm'))\n",
    "            elif cp == 0:  # if a and b have the same base, combine the exponents\n",
    "                return pt.on_rhs(\n",
    "                    rewr_conv('nat_power_add', sym=True),\n",
    "                    arg_conv(nat.nat_conv()))\n",
    "            else:\n",
    "                return pt\n",
    "\n",
    "class norm_mult_monomial_wo_coeff(Conv):\n",
    "    def get_proof_term(self, t):\n",
    "        pt = refl(t)\n",
    "        if t.arg.is_times():  # t is of form a * (b * c)\n",
    "            return pt.on_rhs(\n",
    "                rewr_conv('mult_assoc', sym=True),  # (a * b) * c\n",
    "                arg1_conv(self),  # merge terms in b into a\n",
    "                norm_mult_atom())  # merge c into a * b\n",
    "        else:\n",
    "            return pt.on_rhs(norm_mult_atom())"
   ]
  },
  {
   "cell_type": "markdown",
   "metadata": {},
   "source": [
    "We now test this conversion on some examples:"
   ]
  },
  {
   "cell_type": "code",
   "execution_count": 11,
   "metadata": {},
   "outputs": [
    {
     "name": "stdout",
     "output_type": "stream",
     "text": [
      "x ^ (1::nat) * y ^ (2::nat) * (x ^ (2::nat) * y ^ (1::nat)) = x ^ (3::nat) * y ^ (3::nat)\n",
      "y ^ (2::nat) * (x ^ (3::nat) * z ^ (1::nat)) = x ^ (3::nat) * y ^ (2::nat) * z ^ (1::nat)\n"
     ]
    }
   ],
   "source": [
    "x = Var('x', NatType)\n",
    "y = Var('y', NatType)\n",
    "z = Var('z', NatType)\n",
    "\n",
    "test_conv(norm_mult_monomial_wo_coeff(), [\n",
    "    (x ** 1 * y ** 2) * (x ** 2 * y ** 1),\n",
    "    (y ** 2) * (x ** 3 * z ** 1)\n",
    "])"
   ]
  },
  {
   "cell_type": "markdown",
   "metadata": {},
   "source": [
    "Next, we implement the version of norm_mult_monomial with coefficients. This conversion assumes the input is in the form $(c\\cdot a_1^{e_1}\\cdots a_k^{e_k})\\cdot (d\\cdot b_1^{f_1}\\cdots b_l^{f_l})$. Here we consider the case where $k=0$ or $l=0$."
   ]
  },
  {
   "cell_type": "code",
   "execution_count": 12,
   "metadata": {},
   "outputs": [],
   "source": [
    "class norm_mult_monomial(Conv):\n",
    "    def get_proof_term(self, t):\n",
    "        pt = refl(t)\n",
    "        if t.arg1.is_number() and t.arg.is_number():  # c * d\n",
    "            return pt.on_rhs(nat.nat_conv())\n",
    "        elif t.arg1.is_number() and not t.arg.is_number():  # c * (d * body)\n",
    "            return pt.on_rhs(\n",
    "                rewr_conv('mult_assoc', sym=True),  # (c * d) * body\n",
    "                arg1_conv(nat.nat_conv()))  # evaluate c * d\n",
    "        elif not t.arg1.is_number() and t.arg.is_number():  # (c * body) * d\n",
    "            return pt.on_rhs(rewr_conv('mult_comm'), self)  # d * (c * body)\n",
    "        else:  # (c * body1) * (d * body2)\n",
    "            return pt.on_rhs(\n",
    "                rewr_conv('mult_assoc', sym=True),  # ((c * body1) * d) * body2\n",
    "                arg1_conv(swap_mult_r()),  # ((c * d) * body1) * body2\n",
    "                arg1_conv(arg1_conv(nat.nat_conv())),  # evaluate c * d\n",
    "                rewr_conv('mult_assoc'),  # cd * (body1 * body2)\n",
    "                arg_conv(norm_mult_monomial_wo_coeff()))"
   ]
  },
  {
   "cell_type": "markdown",
   "metadata": {},
   "source": [
    "We test this conversion on some examples:"
   ]
  },
  {
   "cell_type": "code",
   "execution_count": 13,
   "metadata": {},
   "outputs": [
    {
     "name": "stdout",
     "output_type": "stream",
     "text": [
      "3 * (x ^ (1::nat) * y ^ (2::nat)) * (2 * (x ^ (2::nat) * y ^ (1::nat))) = 6 * (x ^ (3::nat) * y ^ (3::nat))\n",
      "1 * y ^ (2::nat) * (1 * (x ^ (3::nat) * z ^ (1::nat))) = 1 * (x ^ (3::nat) * y ^ (2::nat) * z ^ (1::nat))\n",
      "(3::nat) * 5 = 15\n",
      "3 * x ^ (2::nat) * 5 = 15 * x ^ (2::nat)\n",
      "3 * (5 * x ^ (2::nat)) = 15 * x ^ (2::nat)\n"
     ]
    }
   ],
   "source": [
    "test_conv(norm_mult_monomial(), [\n",
    "    (3 * (x ** 1 * y ** 2)) * (2 * (x ** 2 * y ** 1)),\n",
    "    (1 * y ** 2) * (1 * (x ** 3 * z ** 1)),\n",
    "    3 * Nat(5),\n",
    "    (3 * (x ** 2)) * 5,\n",
    "    3 * (5 * (x ** 2))\n",
    "])"
   ]
  },
  {
   "cell_type": "markdown",
   "metadata": {},
   "source": [
    "Next, we consider the problem of adding two polynomials. The idea is the same as before: we sort the monomials by their body, and combine monomials with the same body. We first define the function comparing two monomials by their body."
   ]
  },
  {
   "cell_type": "code",
   "execution_count": 14,
   "metadata": {},
   "outputs": [],
   "source": [
    "def compare_monomial(t1, t2):\n",
    "    \"\"\"Assume t1 and t2 are in the form c1 * body1 and c2 * body2,\n",
    "    compare body1 with body2.\"\"\"\n",
    "    if t1.is_number() and t2.is_number():\n",
    "        return 0\n",
    "    if t1.is_number() and not t2.is_number():\n",
    "        return -1\n",
    "    if not t1.is_number() and t2.is_number():\n",
    "        return 1\n",
    "    else:\n",
    "        return term_ord.fast_compare(t1.arg, t2.arg)"
   ]
  },
  {
   "cell_type": "markdown",
   "metadata": {},
   "source": [
    "Like `swap_mult_r`, we define swapping an addition:"
   ]
  },
  {
   "cell_type": "code",
   "execution_count": 15,
   "metadata": {},
   "outputs": [],
   "source": [
    "class swap_add_r(Conv):\n",
    "    \"\"\"Rewrite (a + b) + c to (a + c) + b.\"\"\"\n",
    "    def get_proof_term(self, t):\n",
    "        return refl(t).on_rhs(\n",
    "            rewr_conv('add_assoc'),  # a + (b + c)\n",
    "            arg_conv(rewr_conv('add_comm')),  # a + (c + b)\n",
    "            rewr_conv('add_assoc', sym=True))  # (a + c) + b"
   ]
  },
  {
   "cell_type": "markdown",
   "metadata": {},
   "source": [
    "Next, we define adding a sum of monomials with a monomial. Each monomial is assumed to be in the form $c\\cdot \\mathit{body}$. Note however that the body may be empty."
   ]
  },
  {
   "cell_type": "code",
   "execution_count": 16,
   "metadata": {},
   "outputs": [],
   "source": [
    "class norm_add_monomial(Conv):\n",
    "    def get_proof_term(self, t):\n",
    "        pt = refl(t)\n",
    "        if t.arg1.is_plus():  # (a + b) + c\n",
    "            cp = compare_monomial(t.arg1.arg, t.arg)  # compare b with c\n",
    "            if cp > 0:  # if b > c, need to swap b with c\n",
    "                return pt.on_rhs(\n",
    "                    swap_add_r(),  # (a + c) + b\n",
    "                    arg1_conv(self))  # possibly move c further into a\n",
    "            elif cp == 0:  # if b and c have the same body, combine coefficients\n",
    "                return pt.on_rhs(\n",
    "                    rewr_conv('add_assoc'),  # a + (c1 * b + c2 * b)\n",
    "                    arg_conv(rewr_conv('distrib_r', sym=True)), # a + (c1 + c2) * b\n",
    "                    arg_conv(arg1_conv(nat.nat_conv())))  # evaluate c1 + c2\n",
    "            else:  # if b < c, monomials are already sorted\n",
    "                return pt\n",
    "        else:  # a + b\n",
    "            cp = compare_monomial(t.arg1, t.arg)  # compare a with b\n",
    "            if cp > 0:  # if a > b, need to swap a with b\n",
    "                return pt.on_rhs(rewr_conv('add_comm'))\n",
    "            elif cp == 0:  # if b and c have the same body, combine coefficients\n",
    "                if t.arg.is_number():\n",
    "                    return pt.on_rhs(nat.nat_conv())\n",
    "                else:\n",
    "                    return pt.on_rhs(\n",
    "                        rewr_conv('distrib_r', sym=True),\n",
    "                        arg1_conv(nat.nat_conv()))\n",
    "            else:\n",
    "                return pt"
   ]
  },
  {
   "cell_type": "markdown",
   "metadata": {},
   "source": [
    "Let's briefly test this conversion:"
   ]
  },
  {
   "cell_type": "code",
   "execution_count": 17,
   "metadata": {},
   "outputs": [
    {
     "name": "stdout",
     "output_type": "stream",
     "text": [
      "1 * y ^ (1::nat) + 1 * x ^ (1::nat) = 1 * x ^ (1::nat) + 1 * y ^ (1::nat)\n",
      "1 * x ^ (1::nat) + 1 * x ^ (1::nat) = 2 * x ^ (1::nat)\n",
      "1 * x ^ (1::nat) + 2 * y ^ (1::nat) + 2 * x ^ (1::nat) = 3 * x ^ (1::nat) + 2 * y ^ (1::nat)\n",
      "1 * x ^ (1::nat) + 2 * y ^ (1::nat) + 2 * y ^ (1::nat) = 1 * x ^ (1::nat) + 4 * y ^ (1::nat)\n",
      "1 * x ^ (1::nat) + 2 * y ^ (1::nat) + 3 * z ^ (1::nat) = 1 * x ^ (1::nat) + 2 * y ^ (1::nat) + 3 * z ^ (1::nat)\n",
      "(1::nat) + 2 = 3\n",
      "1 + 1 * x ^ (1::nat) + 2 = 3 + 1 * x ^ (1::nat)\n"
     ]
    }
   ],
   "source": [
    "test_conv(norm_add_monomial(), [\n",
    "    1 * y ** 1 + 1 * x ** 1,\n",
    "    1 * x ** 1 + 1 * x ** 1,\n",
    "    (1 * x ** 1 + 2 * y ** 1) + 2 * x ** 1,\n",
    "    (1 * x ** 1 + 2 * y ** 1) + 2 * y ** 1,\n",
    "    (1 * x ** 1 + 2 * y ** 1) + 3 * z ** 1,\n",
    "    Nat(1) + 2,\n",
    "    (1 + 1 * x ** 1) + 2,\n",
    "])"
   ]
  },
  {
   "cell_type": "markdown",
   "metadata": {},
   "source": [
    "So far so good. Now we implement the conversion adding two polynomials. Note we need now need to consider the case where either polynomial may be zero."
   ]
  },
  {
   "cell_type": "code",
   "execution_count": 18,
   "metadata": {},
   "outputs": [],
   "source": [
    "class norm_add_polynomial(Conv):        \n",
    "    def get_proof_term(self, t):\n",
    "        pt = refl(t)\n",
    "        if t.arg1.is_zero():\n",
    "            return pt.on_rhs(rewr_conv('nat_plus_def_1'))\n",
    "        elif t.arg.is_zero():\n",
    "            return pt.on_rhs(rewr_conv('add_0_right'))\n",
    "        elif t.arg.is_plus():  # t is of form a + (b + c)\n",
    "            return pt.on_rhs(\n",
    "                rewr_conv('add_assoc', sym=True),  # (a + b) + c\n",
    "                arg1_conv(self),  # merge terms in b into a\n",
    "                norm_add_monomial())  # merge c into a * b\n",
    "        else:\n",
    "            return pt.on_rhs(norm_add_monomial())"
   ]
  },
  {
   "cell_type": "code",
   "execution_count": 19,
   "metadata": {},
   "outputs": [
    {
     "name": "stdout",
     "output_type": "stream",
     "text": [
      "1 * x ^ (1::nat) + 1 * y ^ (1::nat) + (2 * x ^ (1::nat) + 3 * y ^ (1::nat)) = 3 * x ^ (1::nat) + 4 * y ^ (1::nat)\n",
      "1 * x ^ (1::nat) + 1 * y ^ (1::nat) + (2 * x ^ (1::nat) + 3 * z ^ (1::nat)) = 3 * x ^ (1::nat) + 1 * y ^ (1::nat) + 3 * z ^ (1::nat)\n",
      "0 + 2 * x = 2 * x\n",
      "2 * y + 0 = 2 * y\n",
      "1 + 1 * x ^ (1::nat) + (2 + 1 * y ^ (1::nat)) = 3 + 1 * x ^ (1::nat) + 1 * y ^ (1::nat)\n"
     ]
    }
   ],
   "source": [
    "test_conv(norm_add_polynomial(), [\n",
    "    (1 * x ** 1 + 1 * y ** 1) + (2 * x ** 1 + 3 * y ** 1),\n",
    "    (1 * x ** 1 + 1 * y ** 1) + (2 * x ** 1 + 3 * z ** 1),\n",
    "    0 + 2 * x,\n",
    "    2 * y + 0,\n",
    "    (1 + 1 * x ** 1) + (2 + 1 * y ** 1),\n",
    "])"
   ]
  },
  {
   "cell_type": "markdown",
   "metadata": {},
   "source": [
    "To multiply two polynomials, we use distribution rule on left and right, reducing to the problem of multiplying monomials and adding polynomials. Note the special case where the given polynomial is zero."
   ]
  },
  {
   "cell_type": "code",
   "execution_count": 20,
   "metadata": {},
   "outputs": [],
   "source": [
    "class norm_mult_poly_monomial(Conv):\n",
    "    \"\"\"Multiply a polynomial a_1 + ... + a_n with a monomial c.\"\"\"\n",
    "    def get_proof_term(self, t):\n",
    "        pt = refl(t)\n",
    "        if t.arg1.is_plus():  # (a + b) * c\n",
    "            return pt.on_rhs(\n",
    "                rewr_conv('distrib_r'),  # a * c + b * c\n",
    "                arg1_conv(self),  # process a * c\n",
    "                arg_conv(norm_mult_monomial()), # process b * c\n",
    "                norm_add_polynomial())  # add the results\n",
    "        else:\n",
    "            return pt.on_rhs(norm_mult_monomial())\n",
    "        \n",
    "class norm_mult_polynomials(Conv):\n",
    "    \"\"\"Multiply two polynomials.\"\"\"\n",
    "    def get_proof_term(self, t):\n",
    "        pt = refl(t)\n",
    "        if t.arg1.is_zero():\n",
    "            return pt.on_rhs(rewr_conv('nat_times_def_1'))\n",
    "        elif t.arg.is_zero():\n",
    "            return pt.on_rhs(rewr_conv('mult_0_right'))\n",
    "        elif t.arg.is_plus():  # a * (b + c)\n",
    "            return pt.on_rhs(\n",
    "                rewr_conv('distrib_l'), # a * b + a * c\n",
    "                arg1_conv(self),  # process a * b\n",
    "                arg_conv(norm_mult_poly_monomial()),  # process a * c\n",
    "                norm_add_polynomial())\n",
    "        else:\n",
    "            return pt.on_rhs(norm_mult_poly_monomial())"
   ]
  },
  {
   "cell_type": "markdown",
   "metadata": {},
   "source": [
    "This can be tested as follows:"
   ]
  },
  {
   "cell_type": "code",
   "execution_count": 21,
   "metadata": {},
   "outputs": [
    {
     "name": "stdout",
     "output_type": "stream",
     "text": [
      "(1 * x ^ (1::nat) + 1 * y ^ (1::nat)) * (1 * x ^ (1::nat) + 1 * y ^ (1::nat)) = 1 * x ^ (2::nat) + 1 * y ^ (2::nat) + 2 * (x ^ (1::nat) * y ^ (1::nat))\n",
      "1 * x ^ (1::nat) * (2 * x ^ (2::nat) + 2 * y ^ (2::nat)) = 2 * x ^ (3::nat) + 2 * (x ^ (1::nat) * y ^ (2::nat))\n",
      "(1 * x ^ (2::nat) + 2 * y ^ (1::nat)) * (3 * x ^ (2::nat)) = 3 * x ^ (4::nat) + 6 * (x ^ (2::nat) * y ^ (1::nat))\n",
      "0 * (1 * x ^ (1::nat)) = 0\n",
      "1 * x ^ (1::nat) * 0 = 0\n"
     ]
    }
   ],
   "source": [
    "test_conv(norm_mult_polynomials(), [\n",
    "    (1 * x ** 1 + 1 * y ** 1) * (1 * x ** 1 + 1 * y ** 1),\n",
    "    (1 * x ** 1) * (2 * x ** 2 + 2 * y ** 2),\n",
    "    (1 * x ** 2 + 2 * y ** 1) * (3 * x ** 2),\n",
    "    0 * (1 * x ** 1),\n",
    "    (1 * x ** 1) * 0,\n",
    "])"
   ]
  },
  {
   "cell_type": "markdown",
   "metadata": {},
   "source": [
    "We now define the full simplification function. The conversion always writes its input into normal form as defined above. In particular, it will write an atom $x$ into $1\\cdot x^1$, which is more complicated for humans but more useful for the procedures above. We will show how to fix this problem later."
   ]
  },
  {
   "cell_type": "code",
   "execution_count": 22,
   "metadata": {},
   "outputs": [],
   "source": [
    "class norm_full(Conv):\n",
    "    def get_proof_term(self, t):\n",
    "        pt = refl(t)\n",
    "        if t.is_plus():\n",
    "            return pt.on_rhs(binop_conv(self), norm_add_polynomial())\n",
    "        elif t.is_times():\n",
    "            return pt.on_rhs(binop_conv(self), norm_mult_polynomials())\n",
    "        elif t.is_number():\n",
    "            return pt\n",
    "        elif t.is_nat_power() and t.arg.is_number():  # rewrite x ^ n to 1 * x ^ n\n",
    "            return pt.on_rhs(rewr_conv('mult_1_left', sym=True))\n",
    "        else:  # rewrite x to 1 * x ^ 1\n",
    "            return pt.on_rhs(\n",
    "                rewr_conv('nat_power_1', sym=True),\n",
    "                rewr_conv('mult_1_left', sym=True))"
   ]
  },
  {
   "cell_type": "code",
   "execution_count": 23,
   "metadata": {},
   "outputs": [
    {
     "name": "stdout",
     "output_type": "stream",
     "text": [
      "(x + y) * (x + y) = 1 * x ^ (2::nat) + 1 * y ^ (2::nat) + 2 * (x ^ (1::nat) * y ^ (1::nat))\n",
      "0 * (x + y) = 0\n",
      "(x + y) * 0 = 0\n",
      "3 * x * (2 * y) * (x + y) = 6 * (x ^ (1::nat) * y ^ (2::nat)) + 6 * (x ^ (2::nat) * y ^ (1::nat))\n",
      "0 + x + y = 1 * x ^ (1::nat) + 1 * y ^ (1::nat)\n",
      "1 + x + 2 + y = 3 + 1 * x ^ (1::nat) + 1 * y ^ (1::nat)\n"
     ]
    }
   ],
   "source": [
    "test_conv(norm_full(), [\n",
    "    (x + y) * (x + y),\n",
    "    0 * (x + y),\n",
    "    (x + y) * 0,\n",
    "    (3 * x) * (2 * y) * (x + y),\n",
    "    0 + x + y,\n",
    "    1 + x + 2 + y,\n",
    "])"
   ]
  },
  {
   "cell_type": "markdown",
   "metadata": {},
   "source": [
    "## Deciding equality"
   ]
  },
  {
   "cell_type": "markdown",
   "metadata": {},
   "source": [
    "One of the major uses of normalization is to prove that two terms are equal. This can be implemented as a macro as follows. It is registered as `my_nat_norm` to avoid conflict with the existing `nat_norm` macro."
   ]
  },
  {
   "cell_type": "code",
   "execution_count": 24,
   "metadata": {},
   "outputs": [],
   "source": [
    "@register_macro('my_nat_norm')\n",
    "class my_nat_norm_macro(Macro):\n",
    "    def __init__(self):\n",
    "        self.level = 1\n",
    "        self.limit = 'nat_power_add'\n",
    "        \n",
    "    def get_proof_term(self, goal, prevs):\n",
    "        assert goal.is_equals(), 'nat_norm: goal is not an equality'\n",
    "        \n",
    "        # Obtain the normalization of the two sides\n",
    "        pt1 = refl(goal.lhs).on_rhs(norm_full())\n",
    "        pt2 = refl(goal.rhs).on_rhs(norm_full())\n",
    "        \n",
    "        assert pt1.rhs == pt2.rhs, 'nat_norm: normalizations are not equal.'\n",
    "        return pt1.transitive(pt2.symmetric())"
   ]
  },
  {
   "cell_type": "markdown",
   "metadata": {},
   "source": [
    "We can construct a proof term using the macro as follows:"
   ]
  },
  {
   "cell_type": "code",
   "execution_count": 25,
   "metadata": {},
   "outputs": [
    {
     "name": "stdout",
     "output_type": "stream",
     "text": [
      "ProofTerm(⊢ (x + y) * (x + y) = x ^ (2::nat) + 2 * x * y + y ^ (2::nat))\n"
     ]
    }
   ],
   "source": [
    "pt = ProofTerm('my_nat_norm', Eq((x + y) * (x + y), x ** 2 + 2 * x * y + y ** 2))\n",
    "print(pt)"
   ]
  },
  {
   "cell_type": "markdown",
   "metadata": {},
   "source": [
    "If we just export the proof term, we see it has only one line:"
   ]
  },
  {
   "cell_type": "code",
   "execution_count": 26,
   "metadata": {},
   "outputs": [
    {
     "name": "stdout",
     "output_type": "stream",
     "text": [
      "0: ⊢ (x + y) * (x + y) = x ^ (2::nat) + 2 * x * y + y ^ (2::nat) by my_nat_norm (x + y) * (x + y) = x ^ (2::nat) + 2 * x * y + y ^ (2::nat)\n"
     ]
    }
   ],
   "source": [
    "print(pt.export())"
   ]
  },
  {
   "cell_type": "markdown",
   "metadata": {},
   "source": [
    "However, checking the proof with report on shows it consists of many more steps."
   ]
  },
  {
   "cell_type": "code",
   "execution_count": 27,
   "metadata": {},
   "outputs": [
    {
     "name": "stdout",
     "output_type": "stream",
     "text": [
      "Steps: 209\n",
      "  Theorems:  13\n",
      "  Primitive: 196\n",
      "  Macro:     0\n",
      "Theorems applied: nat_of_nat_def, add_assoc, nat_power_1, nat_power_add, add_1_left, mult_1_right, mult_1_left, add_comm, mult_comm, distrib_r, one_Suc, distrib_l, mult_assoc\n",
      "Macros evaluated: \n",
      "Macros expanded: my_nat_norm\n",
      "Gaps: []\n"
     ]
    }
   ],
   "source": [
    "rpt = ProofReport()\n",
    "check_proof(pt.export(), rpt=rpt)\n",
    "print(rpt)"
   ]
  },
  {
   "cell_type": "markdown",
   "metadata": {},
   "source": [
    "## Simplification"
   ]
  },
  {
   "cell_type": "markdown",
   "metadata": {},
   "source": [
    "One aspect that is still unsatisfactory is that the result of normalization is sometimes more complex than needed. For example, patterns like $1\\cdot x^1$ appears in the expression, which should be simplified to $x$. This can be done quite simply, by applying `top_conv` on the two simplifications on the result:"
   ]
  },
  {
   "cell_type": "code",
   "execution_count": 28,
   "metadata": {},
   "outputs": [],
   "source": [
    "class simp_full(Conv):\n",
    "    def get_proof_term(self, t):\n",
    "        return refl(t).on_rhs(\n",
    "            norm_full(),\n",
    "            top_conv(rewr_conv('mult_1_left')),\n",
    "            top_conv(rewr_conv('nat_power_1')))"
   ]
  },
  {
   "cell_type": "markdown",
   "metadata": {},
   "source": [
    "This conversion does something quite close to \"simplification\" by expanding the polynomial:"
   ]
  },
  {
   "cell_type": "code",
   "execution_count": 29,
   "metadata": {},
   "outputs": [
    {
     "name": "stdout",
     "output_type": "stream",
     "text": [
      "(x + y) * (x + y) = x ^ (2::nat) + y ^ (2::nat) + 2 * (x * y)\n",
      "(x + 2 * y) * (2 * x + y) = 2 * x ^ (2::nat) + 2 * y ^ (2::nat) + 5 * (x * y)\n",
      "(1 + 2 * x + 2) * (2 + y + 1) = 9 + 6 * x + 3 * y + 2 * (x * y)\n"
     ]
    }
   ],
   "source": [
    "test_conv(simp_full(), [\n",
    "    (x + y) * (x + y),\n",
    "    (x + 2 * y) * (2 * x + y),\n",
    "    (1 + 2 * x + 2) * (2 + y + 1),\n",
    "])"
   ]
  }
 ],
 "metadata": {
  "kernelspec": {
   "display_name": "Python 3",
   "language": "python",
   "name": "python3"
  },
  "language_info": {
   "codemirror_mode": {
    "name": "ipython",
    "version": 3
   },
   "file_extension": ".py",
   "mimetype": "text/x-python",
   "name": "python",
   "nbconvert_exporter": "python",
   "pygments_lexer": "ipython3",
   "version": "3.6.6"
  }
 },
 "nbformat": 4,
 "nbformat_minor": 2
}
