{
 "cells": [
  {
   "cell_type": "markdown",
   "metadata": {},
   "source": [
    "$\\newcommand{\\Suc}{\\operatorname{Suc}}$"
   ]
  },
  {
   "cell_type": "code",
   "execution_count": 1,
   "metadata": {},
   "outputs": [],
   "source": [
    "import os\n",
    "os.chdir('..')"
   ]
  },
  {
   "cell_type": "code",
   "execution_count": 2,
   "metadata": {},
   "outputs": [],
   "source": [
    "from kernel.type import TFun, NatType, BoolType\n",
    "from kernel.term import Var, Forall, Exists, And, Implies, Inst, Eq\n",
    "from kernel.thm import Thm\n",
    "from kernel import theory\n",
    "from kernel.proofterm import ProofTerm, refl, TacticException\n",
    "from data.nat import Suc\n",
    "from logic import basic\n",
    "from logic.tactic import Tactic, intros_tac, rule_tac, elim_tac, intro_forall_tac, intro_imp_tac, \\\n",
    "    assumption, conj_elim_tac\n",
    "from logic.conv import top_sweep_conv, rewr_conv, beta_norm_conv, top_conv, bottom_conv, arg_conv\n",
    "from syntax.settings import settings\n",
    "\n",
    "basic.load_theory('nat')\n",
    "settings.unicode = True"
   ]
  },
  {
   "cell_type": "markdown",
   "metadata": {},
   "source": [
    "## Tactics for predicate logic"
   ]
  },
  {
   "cell_type": "markdown",
   "metadata": {},
   "source": [
    "In this section, we introduce more tactics: those for predicate logic, for rewriting, and for induction.\n",
    "\n",
    "To reason in predicate logic, we need tactics for introducing and eliminating forall and exists quantification. Introduction of forall quantification is already implemented as `intro_forall_tac` in the previous section. The other three tactics can be easily implemented using what we already have.\n",
    "\n",
    "We begin with elimination of forall quantification. This corresponds to instantiating a forall assumption on some term. It uses the following theorem:"
   ]
  },
  {
   "cell_type": "code",
   "execution_count": 3,
   "metadata": {},
   "outputs": [
    {
     "name": "stdout",
     "output_type": "stream",
     "text": [
      "allE: ⊢ (∀x1. P x1) ⟶ (P x ⟶ R) ⟶ R\n"
     ]
    }
   ],
   "source": [
    "theory.print_theorem('allE')"
   ]
  },
  {
   "cell_type": "markdown",
   "metadata": {},
   "source": [
    "Here the free variable $x$ in the second assumption is the term used to substitute for the bound variable in the forall quantification. We package this up as a tactic that accepts $x$ as an argument:"
   ]
  },
  {
   "cell_type": "code",
   "execution_count": 4,
   "metadata": {},
   "outputs": [],
   "source": [
    "class forall_elim_tac(Tactic):\n",
    "    def __init__(self, t):\n",
    "        self.t = t\n",
    "\n",
    "    def get_proof_term(self, goal):\n",
    "        return ProofTerm.sorry(goal).tacs(\n",
    "            elim_tac('allE', inst=Inst(x=self.t)),\n",
    "            intro_imp_tac())"
   ]
  },
  {
   "cell_type": "markdown",
   "metadata": {},
   "source": [
    "We test the use of this tactic on the theorem $(\\forall x.\\,P(x)\\wedge Q(x)) \\to (\\forall x.\\,P(x)) \\wedge (\\forall x.\\,Q(x))$. We first show the point at which elimination of forall is needed:"
   ]
  },
  {
   "cell_type": "code",
   "execution_count": 5,
   "metadata": {},
   "outputs": [
    {
     "name": "stdout",
     "output_type": "stream",
     "text": [
      "ProofTerm(⊢ (∀x. P x ∧ Q x) ⟶ (∀x. P x) ∧ (∀x. Q x))\n",
      "Gaps: ∀x. P x ∧ Q x ⊢ P x\n",
      "      ∀x. P x ∧ Q x ⊢ ∀x. Q x\n"
     ]
    }
   ],
   "source": [
    "x = Var('x', NatType)\n",
    "P = Var('P', TFun(NatType, BoolType))\n",
    "Q = Var('Q', TFun(NatType, BoolType))\n",
    "\n",
    "goal = Implies(Forall(x, And(P(x), Q(x))), And(Forall(x, P(x)), Forall(x, Q(x))))\n",
    "pt = ProofTerm.sorry(Thm([], goal))\n",
    "\n",
    "print(pt.tacs(intros_tac, rule_tac('conjI'), intro_forall_tac('x')))"
   ]
  },
  {
   "cell_type": "markdown",
   "metadata": {},
   "source": [
    "We instantiate $\\forall x.\\,P(x)\\wedge Q(x)$ with the term $x$, the result is:"
   ]
  },
  {
   "cell_type": "code",
   "execution_count": 6,
   "metadata": {},
   "outputs": [
    {
     "name": "stdout",
     "output_type": "stream",
     "text": [
      "ProofTerm(⊢ (∀x. P x ∧ Q x) ⟶ (∀x. P x) ∧ (∀x. Q x))\n",
      "Gaps: P x ∧ Q x, ∀x. P x ∧ Q x ⊢ P x\n",
      "      ∀x. P x ∧ Q x ⊢ ∀x. Q x\n"
     ]
    }
   ],
   "source": [
    "print(pt.tacs(intros_tac, rule_tac('conjI'), intro_forall_tac('x'), forall_elim_tac(x)))"
   ]
  },
  {
   "cell_type": "markdown",
   "metadata": {},
   "source": [
    "The proof can be finished as follows:"
   ]
  },
  {
   "cell_type": "code",
   "execution_count": 7,
   "metadata": {},
   "outputs": [
    {
     "name": "stdout",
     "output_type": "stream",
     "text": [
      "ProofTerm(⊢ (∀x. P x ∧ Q x) ⟶ (∀x. P x) ∧ (∀x. Q x))\n"
     ]
    }
   ],
   "source": [
    "print(pt.tacs(intros_tac, rule_tac('conjI'),\n",
    "              intro_forall_tac('x'), forall_elim_tac(x), conj_elim_tac(), assumption(),\n",
    "              intro_forall_tac('x'), forall_elim_tac(x), conj_elim_tac(), assumption()))"
   ]
  },
  {
   "cell_type": "markdown",
   "metadata": {},
   "source": [
    "Eliminating of an existence assumption corresponds to using $\\exists x.\\,P(x)$ to create a fresh variable $x$ satisfying $P(x)$. It uses the theorem `exE`. We package this up as a tactic which accepts the suggested name of the new variable:"
   ]
  },
  {
   "cell_type": "code",
   "execution_count": 8,
   "metadata": {},
   "outputs": [],
   "source": [
    "class ex_elim_tac(Tactic):\n",
    "    def __init__(self, var_name=None):\n",
    "        self.var_name = var_name\n",
    "        \n",
    "    def get_proof_term(self, goal):\n",
    "        return ProofTerm.sorry(goal).tacs(\n",
    "            elim_tac('exE'), intro_forall_tac(self.var_name), intro_imp_tac())"
   ]
  },
  {
   "cell_type": "markdown",
   "metadata": {},
   "source": [
    "Introducing an existence assumption corresponds to reducing the goal $\\exists a.\\,P(a)$ to showing $P(a)$ for some term $a$. It involves applying `rule_tac` on the following theorem:"
   ]
  },
  {
   "cell_type": "code",
   "execution_count": 9,
   "metadata": {},
   "outputs": [
    {
     "name": "stdout",
     "output_type": "stream",
     "text": [
      "exI: ⊢ P a ⟶ (∃a1. P a1)\n"
     ]
    }
   ],
   "source": [
    "theory.print_theorem('exI')"
   ]
  },
  {
   "cell_type": "markdown",
   "metadata": {},
   "source": [
    "We package this up in the following tactic. It accepts a parameter $s$ which is the candidate term for showing existence:"
   ]
  },
  {
   "cell_type": "code",
   "execution_count": 10,
   "metadata": {},
   "outputs": [],
   "source": [
    "class ex_intro_tac(Tactic):\n",
    "    def __init__(self, s):\n",
    "        self.s = s\n",
    "        \n",
    "    def get_proof_term(self, goal):\n",
    "        return ProofTerm.sorry(goal).tac(rule_tac('exI', inst=Inst(a=self.s)))"
   ]
  },
  {
   "cell_type": "markdown",
   "metadata": {},
   "source": [
    "We test the above two tactics on the theorem $(\\exists x.\\,P(x)\\wedge Q(x)) \\to (\\exists x.\\,P(x)) \\wedge (\\forall x.\\,Q(x))$. (Hint: if viewing interactively, remove a suffix of the sequence of tactics to see an intermediate state.)"
   ]
  },
  {
   "cell_type": "code",
   "execution_count": 11,
   "metadata": {},
   "outputs": [
    {
     "name": "stdout",
     "output_type": "stream",
     "text": [
      "ProofTerm(⊢ (∃x. P x ∧ Q x) ⟶ (∃x. P x) ∧ (∃x. Q x))\n"
     ]
    }
   ],
   "source": [
    "goal = Implies(Exists(x, And(P(x), Q(x))), And(Exists(x, P(x)), Exists(x, Q(x))))\n",
    "\n",
    "pt = ProofTerm.sorry(Thm([], goal))\n",
    "print(pt.tacs(intros_tac, rule_tac('conjI'),\n",
    "              ex_elim_tac('x'), ex_intro_tac(x), conj_elim_tac(), assumption(),\n",
    "              ex_elim_tac('x'), ex_intro_tac(x), conj_elim_tac(), assumption()))"
   ]
  },
  {
   "cell_type": "markdown",
   "metadata": {},
   "source": [
    "Finally, we show the proof of the theorem $(\\exists x.\\,\\forall y.\\,R(x,y)) \\to (\\forall y.\\,\\exists x.\\,R(x,y))$. The whole proof can be done in five tactic applications, which is much simpler than the approach of composing proof rules from before:"
   ]
  },
  {
   "cell_type": "code",
   "execution_count": 12,
   "metadata": {},
   "outputs": [
    {
     "name": "stdout",
     "output_type": "stream",
     "text": [
      "ProofTerm(⊢ (∃x. ∀y. R x y) ⟶ (∀y. ∃x. R x y))\n"
     ]
    }
   ],
   "source": [
    "x = Var('x', NatType)\n",
    "y = Var('y', NatType)\n",
    "R = Var('R', TFun(NatType, NatType, BoolType))\n",
    "\n",
    "goal = Implies(Exists(x, Forall(y, R(x, y))), Forall(y, Exists(x, R(x, y))))\n",
    "\n",
    "pt = ProofTerm.sorry(Thm([], goal))\n",
    "print(pt.tacs(intros_tac, ex_elim_tac('x'), forall_elim_tac(y), ex_intro_tac(x), assumption()))"
   ]
  },
  {
   "cell_type": "markdown",
   "metadata": {},
   "source": [
    "## Rewriting and induction"
   ]
  },
  {
   "cell_type": "markdown",
   "metadata": {},
   "source": [
    "In this section, we show how to prove the basic theorems in Peano arithmetic using tactics. In particular, we show how to implement tactics for performing induction and for rewriting. Our goal is to prove the theorem $n+0=n$:"
   ]
  },
  {
   "cell_type": "code",
   "execution_count": 13,
   "metadata": {},
   "outputs": [
    {
     "name": "stdout",
     "output_type": "stream",
     "text": [
      "n + 0 = n\n"
     ]
    }
   ],
   "source": [
    "n = Var('n', NatType)\n",
    "goal = Eq(n + 0, n)\n",
    "print(goal)\n",
    "\n",
    "pt = ProofTerm.sorry(Thm([], goal))"
   ]
  },
  {
   "cell_type": "markdown",
   "metadata": {},
   "source": [
    "The first step is to perform induction on $n$. Recall the theorem for induction on natural numbers:"
   ]
  },
  {
   "cell_type": "code",
   "execution_count": 14,
   "metadata": {},
   "outputs": [
    {
     "name": "stdout",
     "output_type": "stream",
     "text": [
      "nat_induct: ⊢ P 0 ⟶ (∀n. P n ⟶ P (Suc n)) ⟶ P x\n"
     ]
    }
   ],
   "source": [
    "theory.print_theorem('nat_induct')"
   ]
  },
  {
   "cell_type": "markdown",
   "metadata": {},
   "source": [
    "To apply this theorem, we need to find instantiations for the predicate $P$ and variable $x$. We assume $x$ corresponds to a variable in the goal, then as long as $x$ is fixed, $P$ can be found by abstracting the goal over $x$. The following tactic implements this functionality. It accepts two parameters: name of the induction theorem and optionally a variable. If no variable is provided, then the tactic tries to find a variable of the same type in the goal statement, and succeeds only if there is exactly one such variable. The tactic is named `var_induct_tac` as we are performing structural induction on a variable, and there are several other kinds of inductions."
   ]
  },
  {
   "cell_type": "code",
   "execution_count": 15,
   "metadata": {},
   "outputs": [],
   "source": [
    "class var_induct_tac(Tactic):\n",
    "    def __init__(self, th_name, var=None):\n",
    "        self.th_name = th_name\n",
    "        self.var = var\n",
    "        \n",
    "    def get_proof_term(self, goal):\n",
    "        th = theory.get_theorem(self.th_name)\n",
    "        P, args = th.concl.strip_comb()\n",
    "        if len(args) != 1 or not args[0].is_svar():\n",
    "            raise TacticException('var_induct: wrong form of induction rule')\n",
    "        arg = args[0]\n",
    "\n",
    "        if self.var is None:\n",
    "            goal_vars = [v for v in goal.prop.get_vars() if v.T == arg.T]\n",
    "            if len(goal_vars) != 1:\n",
    "                raise TacticException('var_induct: cannot find unique induction variable')\n",
    "            var = goal_vars[0]\n",
    "        else:\n",
    "            var = self.var\n",
    "            \n",
    "        return ProofTerm.sorry(goal).tac(rule_tac(self.th_name, inst=Inst({arg.name: var})))"
   ]
  },
  {
   "cell_type": "markdown",
   "metadata": {},
   "source": [
    "We test this tactic by starting the induction proof as follows:"
   ]
  },
  {
   "cell_type": "code",
   "execution_count": 16,
   "metadata": {},
   "outputs": [
    {
     "name": "stdout",
     "output_type": "stream",
     "text": [
      "ProofTerm(⊢ n + 0 = n)\n",
      "Gaps: ⊢ (0::nat) + 0 = 0\n",
      "      ⊢ ∀n. n + 0 = n ⟶ Suc n + 0 = Suc n\n"
     ]
    }
   ],
   "source": [
    "print(pt.tac(var_induct_tac('nat_induct')))"
   ]
  },
  {
   "cell_type": "markdown",
   "metadata": {},
   "source": [
    "Next, we need to apply the rewriting rules `nat_plus_def_1` and `nat_plus_def_2`:"
   ]
  },
  {
   "cell_type": "code",
   "execution_count": 17,
   "metadata": {},
   "outputs": [
    {
     "name": "stdout",
     "output_type": "stream",
     "text": [
      "nat_plus_def_1: ⊢ 0 + n = n\n",
      "nat_plus_def_2: ⊢ Suc m + n = Suc (m + n)\n"
     ]
    }
   ],
   "source": [
    "theory.print_theorem('nat_plus_def_1', 'nat_plus_def_2')"
   ]
  },
  {
   "cell_type": "markdown",
   "metadata": {},
   "source": [
    "This requires a tactic to rewrite (subterms) of the goal using a theorem. It can be implemented as follows. The tactic takes the name of the theorem, and an optional strategy parameter, that determines whether the rewriting is top-down (`top`), bottom-up (`bottom`), or top-down stopping at any subterms that is rewritten (`top_sweep`). The third option `top_sweep` is appropriate when the right side of the equality theorem contains a subterm that matches the left side (avoids infinite loops)."
   ]
  },
  {
   "cell_type": "code",
   "execution_count": 18,
   "metadata": {},
   "outputs": [],
   "source": [
    "class rewr_tac(Tactic):\n",
    "    def __init__(self, th_name, *, strategy='top'):\n",
    "        self.th_name = th_name\n",
    "        if strategy == 'top':\n",
    "            self.cv = top_conv\n",
    "        elif strategy == 'bottom':\n",
    "            self.cv = bottom_conv\n",
    "        elif strategy == 'top_sweep':\n",
    "            self.cv = top_sweep_conv\n",
    "        else:\n",
    "            raise AssertionError('unknown method')\n",
    "        \n",
    "    def get_proof_term(self, goal):\n",
    "        eq_pt = refl(goal.prop).on_rhs(self.cv(rewr_conv(self.th_name)), beta_norm_conv())\n",
    "        new_goal = ProofTerm.sorry(Thm(goal.hyps, eq_pt.rhs))\n",
    "        return eq_pt.symmetric().equal_elim(new_goal)"
   ]
  },
  {
   "cell_type": "markdown",
   "metadata": {},
   "source": [
    "Two other tactics will be useful in the rest of the proof, and we introduce them at the same time. The first tactic is `reflexive_tac`, which simply resolves a goal that is a reflexive equality:"
   ]
  },
  {
   "cell_type": "code",
   "execution_count": 19,
   "metadata": {},
   "outputs": [],
   "source": [
    "class reflexive_tac(Tactic):\n",
    "    def get_proof_term(self, goal):\n",
    "        if not goal.is_reflexive():\n",
    "            raise TacticException('reflexive')\n",
    "            \n",
    "        return ProofTerm.reflexive(goal.lhs)"
   ]
  },
  {
   "cell_type": "markdown",
   "metadata": {},
   "source": [
    "The other tactic rewrites the goal using the equalities in the assumptions:"
   ]
  },
  {
   "cell_type": "code",
   "execution_count": 20,
   "metadata": {},
   "outputs": [],
   "source": [
    "class rewr_prev_tac(Tactic):\n",
    "    def get_proof_term(self, goal):\n",
    "        eq_pt = refl(goal.prop)\n",
    "        for hyp in goal.hyps:\n",
    "            if hyp.is_equals():\n",
    "                eq_pt = eq_pt.on_rhs(top_sweep_conv(rewr_conv(ProofTerm.assume(hyp))), beta_norm_conv())\n",
    "        new_goal = ProofTerm.sorry(Thm(goal.hyps, eq_pt.rhs))\n",
    "        return eq_pt.symmetric().equal_elim(new_goal)"
   ]
  },
  {
   "cell_type": "markdown",
   "metadata": {},
   "source": [
    "With these tactics, the proof of $n + 0 = n$ can be completed as follows:"
   ]
  },
  {
   "cell_type": "code",
   "execution_count": 21,
   "metadata": {},
   "outputs": [
    {
     "data": {
      "text/plain": [
       "ProofTerm(⊢ n + 0 = n)"
      ]
     },
     "execution_count": 21,
     "metadata": {},
     "output_type": "execute_result"
    }
   ],
   "source": [
    "n = Var('n', NatType)\n",
    "goal = Eq(n + 0, n)\n",
    "pt = ProofTerm.sorry(Thm([], goal))\n",
    "\n",
    "pt.tacs(var_induct_tac('nat_induct'),\n",
    "        rewr_tac('nat_plus_def_1'), reflexive_tac(),\n",
    "        intros_tac, rewr_tac('nat_plus_def_2'), rewr_prev_tac(), reflexive_tac())"
   ]
  },
  {
   "cell_type": "markdown",
   "metadata": {},
   "source": [
    "We now show proofs of some other theorems in Peano arithmetic. First, $n * 0 = 0$:"
   ]
  },
  {
   "cell_type": "code",
   "execution_count": 22,
   "metadata": {},
   "outputs": [
    {
     "data": {
      "text/plain": [
       "ProofTerm(⊢ n * 0 = 0)"
      ]
     },
     "execution_count": 22,
     "metadata": {},
     "output_type": "execute_result"
    }
   ],
   "source": [
    "goal = Eq(n * 0, 0)\n",
    "\n",
    "pt = ProofTerm.sorry(Thm([], goal))\n",
    "pt.tacs(var_induct_tac('nat_induct'),\n",
    "        rewr_tac('nat_times_def_1'), reflexive_tac(),\n",
    "        intros_tac, rewr_tac('nat_times_def_2'), rewr_tac('nat_plus_def_1'), assumption())"
   ]
  },
  {
   "cell_type": "markdown",
   "metadata": {},
   "source": [
    "Associativity of addition $(x + y) + z = x + (y + z)$:"
   ]
  },
  {
   "cell_type": "code",
   "execution_count": 23,
   "metadata": {},
   "outputs": [
    {
     "data": {
      "text/plain": [
       "ProofTerm(⊢ x + y + z = x + (y + z))"
      ]
     },
     "execution_count": 23,
     "metadata": {},
     "output_type": "execute_result"
    }
   ],
   "source": [
    "x = Var('x', NatType)\n",
    "y = Var('y', NatType)\n",
    "z = Var('z', NatType)\n",
    "\n",
    "goal = Eq((x + y) + z, x + (y + z))\n",
    "pt = ProofTerm.sorry(Thm([], goal))\n",
    "\n",
    "pt.tacs(var_induct_tac('nat_induct', x),\n",
    "        rewr_tac('nat_plus_def_1'), reflexive_tac(),\n",
    "        intro_forall_tac('x'), intro_imp_tac(), rewr_tac('nat_plus_def_2', strategy='bottom'),\n",
    "        rewr_prev_tac(), reflexive_tac())"
   ]
  },
  {
   "cell_type": "markdown",
   "metadata": {},
   "source": [
    "Commutativity of addition $x + y = y + x$. This requires proving the lemma $x + \\Suc y = \\Suc (x + y)$ (recorded in the library as `add_Suc_right`, as well as the theorem `add_0_right` proved above."
   ]
  },
  {
   "cell_type": "code",
   "execution_count": 24,
   "metadata": {},
   "outputs": [
    {
     "data": {
      "text/plain": [
       "ProofTerm(⊢ x + Suc y = Suc (x + y))"
      ]
     },
     "execution_count": 24,
     "metadata": {},
     "output_type": "execute_result"
    }
   ],
   "source": [
    "goal = Eq(x + Suc(y), Suc(x + y))\n",
    "\n",
    "pt = ProofTerm.sorry(Thm([], goal))\n",
    "pt.tacs(var_induct_tac('nat_induct', x),\n",
    "        rewr_tac('nat_plus_def_1'), reflexive_tac(),\n",
    "        intro_forall_tac('x'), intro_imp_tac(), rewr_tac('nat_plus_def_2'),\n",
    "        rewr_prev_tac(), reflexive_tac())"
   ]
  },
  {
   "cell_type": "code",
   "execution_count": 25,
   "metadata": {},
   "outputs": [
    {
     "data": {
      "text/plain": [
       "ProofTerm(⊢ x + y = y + x)"
      ]
     },
     "execution_count": 25,
     "metadata": {},
     "output_type": "execute_result"
    }
   ],
   "source": [
    "goal = Eq(x + y, y + x)\n",
    "\n",
    "pt = ProofTerm.sorry(Thm([], goal))\n",
    "pt.tacs(var_induct_tac('nat_induct', x),\n",
    "        rewr_tac('nat_plus_def_1'), rewr_tac('add_0_right'), reflexive_tac(),\n",
    "        intro_forall_tac('x'), intro_imp_tac(), rewr_tac('nat_plus_def_2'),\n",
    "        rewr_tac('add_Suc_right'), rewr_prev_tac(), reflexive_tac())"
   ]
  },
  {
   "cell_type": "markdown",
   "metadata": {},
   "source": [
    "Distributivity of multiplication over addition is still not so easy prove, we start the proof here:"
   ]
  },
  {
   "cell_type": "code",
   "execution_count": 26,
   "metadata": {},
   "outputs": [
    {
     "name": "stdout",
     "output_type": "stream",
     "text": [
      "ProofTerm(⊢ x * (y + z) = x * y + x * z)\n",
      "Gaps: x * (y + z) = x * y + x * z ⊢ y + z + (x * y + x * z) = y + x * y + (z + x * z)\n"
     ]
    }
   ],
   "source": [
    "goal = Eq(x * (y + z), x * y + x * z)\n",
    "pt = ProofTerm.sorry(Thm([], goal))\n",
    "\n",
    "pt2 = pt.tacs(var_induct_tac('nat_induct', x),\n",
    "              rewr_tac('nat_times_def_1'), rewr_tac('nat_plus_def_1'), reflexive_tac(),\n",
    "              intro_forall_tac('x'), intro_imp_tac(), rewr_tac('nat_times_def_2'),\n",
    "              rewr_prev_tac())\n",
    "print(pt2)"
   ]
  },
  {
   "cell_type": "markdown",
   "metadata": {},
   "source": [
    "The problem that remains is that we need to apply commutativity and associativity in a particular manner, that is not easy to specify using the tactics that we already have. For this, it is best to first implement automation handling such rewrites (as in the Section on normalization of polynomials), then return to solve this problem automatically."
   ]
  }
 ],
 "metadata": {
  "kernelspec": {
   "display_name": "Python 3",
   "language": "python",
   "name": "python3"
  },
  "language_info": {
   "codemirror_mode": {
    "name": "ipython",
    "version": 3
   },
   "file_extension": ".py",
   "mimetype": "text/x-python",
   "name": "python",
   "nbconvert_exporter": "python",
   "pygments_lexer": "ipython3",
   "version": "3.6.6"
  }
 },
 "nbformat": 4,
 "nbformat_minor": 2
}
