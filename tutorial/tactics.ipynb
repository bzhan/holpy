{
 "cells": [
  {
   "cell_type": "code",
   "execution_count": 1,
   "metadata": {},
   "outputs": [],
   "source": [
    "import os\n",
    "os.chdir('..')"
   ]
  },
  {
   "cell_type": "code",
   "execution_count": 2,
   "metadata": {},
   "outputs": [],
   "source": [
    "from kernel.type import TFun, BoolType, NatType\n",
    "from kernel.term import Var, Implies, Forall, BoolVars\n",
    "from kernel.proofterm import ProofTerm, TacticException\n",
    "from kernel.thm import Thm\n",
    "from logic import basic\n",
    "from logic.tactic import Tactic\n",
    "from syntax.settings import settings\n",
    "\n",
    "basic.load_theory('nat')\n",
    "settings.unicode = True"
   ]
  },
  {
   "cell_type": "markdown",
   "metadata": {},
   "source": [
    "## Tactics"
   ]
  },
  {
   "cell_type": "markdown",
   "metadata": {},
   "source": [
    "So far our proofs are constructed mostly in the bottom-up fashion. That is, the proof term is built up by first building its components, then composing these components together. Often, a different approach, constructing a proof top-down, is more appropriate. In this approach, a goal is reduced to one or more simpler subgoals, which are further reduced, until there is no subgoal remaining. The system of *tactics* permits this kind of reasoning.\n",
    "\n",
    "A tactic is a function that takes a theorem as input, and returns a proof term proving that theorem. The returned proof term may contain gaps (constructed by the rule `sorry`), indicating remaining goals to be proved. Hence, a tactic can also be viewed as transforming a goal to a list of subgoals. Like conversions, we can compose tactics together to form more complex tactics using *tacticals*.\n",
    "\n",
    "Tactics is represented in holpy as the class `Tactic`. New tactics are implemented by inheriting from this class. A tactic can take additional arguments through its `__init__` function. The `get_proof_term` function takes a goal (of type `Thm`) as argument, and should return a proof term whose conclusion is the goal. The returned proof term may contain gaps."
   ]
  },
  {
   "cell_type": "markdown",
   "metadata": {},
   "source": [
    "Let's begin with some simple examples of tactics. The `intro_imp_tac` tactic takes an implication goal, and moves one assumption to the hypothesis. It applies the following proof rule in the reverse direction:\n",
    "\n",
    "$$ \\frac{\\Gamma, A \\vdash C}{\\Gamma \\vdash A\\to C} $$"
   ]
  },
  {
   "cell_type": "code",
   "execution_count": 3,
   "metadata": {},
   "outputs": [],
   "source": [
    "class intro_imp_tac(Tactic):\n",
    "    def get_proof_term(self, goal):\n",
    "        if not goal.prop.is_implies():\n",
    "            raise TacticException('intro_imp: goal is not implies.')\n",
    "\n",
    "        A, C = goal.prop.args\n",
    "        new_goal = ProofTerm.sorry(Thm(list(goal.hyps) + [A], C))\n",
    "        return new_goal.implies_intr(A)"
   ]
  },
  {
   "cell_type": "markdown",
   "metadata": {},
   "source": [
    "We can test the tactic directly on a theorem (note the printing function for a proof term also prints the remaining goals to be proved)."
   ]
  },
  {
   "cell_type": "code",
   "execution_count": 4,
   "metadata": {},
   "outputs": [
    {
     "name": "stdout",
     "output_type": "stream",
     "text": [
      "goal: A ⊢ P x ⟶ Q x\n",
      "pt: ProofTerm(A ⊢ P x ⟶ Q x)\n",
      "Gaps: A, P x ⊢ Q x\n",
      "\n",
      "Proof:\n",
      "0: A, P x ⊢ Q x by sorry\n",
      "1: A ⊢ P x ⟶ Q x by implies_intr P x from 0\n"
     ]
    }
   ],
   "source": [
    "x = Var('x', NatType)\n",
    "P = Var('P', TFun(NatType, BoolType))\n",
    "Q = Var('Q', TFun(NatType, BoolType))\n",
    "A = Var('A', BoolType)\n",
    "\n",
    "th = Thm([A], Implies(P(x), Q(x)))\n",
    "print('goal:', th)\n",
    "\n",
    "pt = intro_imp_tac().get_proof_term(th)\n",
    "print('pt:', pt)\n",
    "\n",
    "print('\\nProof:')\n",
    "print(pt.export())"
   ]
  },
  {
   "cell_type": "markdown",
   "metadata": {},
   "source": [
    "The `intro_forall_tac` takes an forall goal, and introduces a new variable. If a variable name is provided it is used. Otherwise the name provided by the abstraction is used. It applies the following proof rule in the reverse direction:\n",
    "\n",
    "$$ \\frac{\\Gamma \\vdash P(a)}{\\Gamma \\vdash \\forall a.\\,P(a)}\\hbox{ ($a$ does not occur in $\\Gamma$)} $$"
   ]
  },
  {
   "cell_type": "code",
   "execution_count": 5,
   "metadata": {},
   "outputs": [],
   "source": [
    "class intro_forall_tac(Tactic):\n",
    "    def __init__(self, var_name=None):\n",
    "        self.var_name = var_name\n",
    "        \n",
    "    def get_proof_term(self, goal):\n",
    "        if not goal.prop.is_forall():\n",
    "            raise TacticException('intro_forall: goal is not forall')\n",
    "\n",
    "        v, body = goal.prop.arg.dest_abs(self.var_name)\n",
    "        new_goal = ProofTerm.sorry(Thm(goal.hyps, body))\n",
    "        return new_goal.forall_intr(v)"
   ]
  },
  {
   "cell_type": "code",
   "execution_count": 6,
   "metadata": {},
   "outputs": [
    {
     "name": "stdout",
     "output_type": "stream",
     "text": [
      "goal: A ⊢ ∀x. P x ⟶ Q x\n",
      "pt: ProofTerm(A ⊢ ∀x. P x ⟶ Q x)\n",
      "Gaps: A ⊢ P x ⟶ Q x\n",
      "\n",
      "Proof:\n",
      "0: A ⊢ P x ⟶ Q x by sorry\n",
      "1: A ⊢ ∀x. P x ⟶ Q x by forall_intr x from 0\n"
     ]
    }
   ],
   "source": [
    "th = Thm([A], Forall(x, Implies(P(x), Q(x))))\n",
    "print('goal:', th)\n",
    "\n",
    "pt = intro_forall_tac().get_proof_term(th)\n",
    "print('pt:', pt)\n",
    "\n",
    "print('\\nProof:')\n",
    "print(pt.export())"
   ]
  },
  {
   "cell_type": "markdown",
   "metadata": {},
   "source": [
    "A tactic can also be applied on a proof term, through the proof term's `tac` method. The method applies the tactic to the *first* subgoal of the proof term."
   ]
  },
  {
   "cell_type": "code",
   "execution_count": 7,
   "metadata": {},
   "outputs": [
    {
     "name": "stdout",
     "output_type": "stream",
     "text": [
      "pt: ProofTerm(A ⊢ P x ⟶ Q x)\n",
      "Gaps: A ⊢ P x ⟶ Q x\n",
      "pt2: ProofTerm(A ⊢ P x ⟶ Q x)\n",
      "Gaps: A, P x ⊢ Q x\n"
     ]
    }
   ],
   "source": [
    "pt = ProofTerm.sorry(Thm([A], Implies(P(x), Q(x))))\n",
    "print('pt:', pt)\n",
    "\n",
    "pt2 = pt.tac(intro_imp_tac())\n",
    "print('pt2:', pt2)"
   ]
  },
  {
   "cell_type": "markdown",
   "metadata": {},
   "source": [
    "Several tactics can be applied in sequence using the `tacs` method:"
   ]
  },
  {
   "cell_type": "code",
   "execution_count": 8,
   "metadata": {},
   "outputs": [
    {
     "name": "stdout",
     "output_type": "stream",
     "text": [
      "pt: ProofTerm(A ⊢ ∀x. P x ⟶ Q x)\n",
      "Gaps: A ⊢ ∀x. P x ⟶ Q x\n",
      "pt2: ProofTerm(A ⊢ ∀x. P x ⟶ Q x)\n",
      "Gaps: A, P x ⊢ Q x\n"
     ]
    }
   ],
   "source": [
    "pt = ProofTerm.sorry(Thm([A], Forall(x, Implies(P(x), Q(x)))))\n",
    "print('pt:', pt)\n",
    "\n",
    "pt2 = pt.tacs(intro_forall_tac('a'), intro_imp_tac())\n",
    "print('pt2:', pt2)"
   ]
  },
  {
   "cell_type": "markdown",
   "metadata": {},
   "source": [
    "## Tacticals"
   ]
  },
  {
   "cell_type": "markdown",
   "metadata": {},
   "source": [
    "A tactical can be used to compose together tactics to form more complex tactics. This works in a way similar to conversion combinators. In holpy, a tactical is also implemented by inheriting from class `Tactic`, taking the component tactics as arguments to the `__init__` function. We first demonstrate this with the `then_tac` tactical:"
   ]
  },
  {
   "cell_type": "code",
   "execution_count": 9,
   "metadata": {},
   "outputs": [],
   "source": [
    "class then_tac(Tactic):\n",
    "    def __init__(self, tac1, tac2):\n",
    "        self.tac1 = tac1\n",
    "        self.tac2 = tac2\n",
    "        \n",
    "    def get_proof_term(self, goal):\n",
    "        return ProofTerm.sorry(goal).tacs(self.tac1, self.tac2)"
   ]
  },
  {
   "cell_type": "markdown",
   "metadata": {},
   "source": [
    "Use `tacs` to apply a sequence of tactics is the same as using `tac` to apply the `then_tac` of these tactics. For example:"
   ]
  },
  {
   "cell_type": "code",
   "execution_count": 10,
   "metadata": {},
   "outputs": [
    {
     "name": "stdout",
     "output_type": "stream",
     "text": [
      "pt: ProofTerm(A ⊢ ∀x. P x ⟶ Q x)\n",
      "Gaps: A ⊢ ∀x. P x ⟶ Q x\n",
      "pt2: ProofTerm(A ⊢ ∀x. P x ⟶ Q x)\n",
      "Gaps: A, P x ⊢ Q x\n"
     ]
    }
   ],
   "source": [
    "pt = ProofTerm.sorry(Thm([A], Forall(x, Implies(P(x), Q(x)))))\n",
    "print('pt:', pt)\n",
    "\n",
    "pt2 = pt.tac(then_tac(intro_forall_tac('a'), intro_imp_tac()))\n",
    "print('pt2:', pt2)"
   ]
  },
  {
   "cell_type": "markdown",
   "metadata": {},
   "source": [
    "The tactical `else_tac` tries to apply the first tactic, and if fails, the second tactics:"
   ]
  },
  {
   "cell_type": "code",
   "execution_count": 11,
   "metadata": {},
   "outputs": [],
   "source": [
    "class else_tac(Tactic):\n",
    "    def __init__(self, tac1, tac2):\n",
    "        self.tac1 = tac1\n",
    "        self.tac2 = tac2\n",
    "        \n",
    "    def get_proof_term(self, goal):\n",
    "        try:\n",
    "            return self.tac1.get_proof_term(goal)\n",
    "        except TacticException:\n",
    "            return self.tac2.get_proof_term(goal)"
   ]
  },
  {
   "cell_type": "markdown",
   "metadata": {},
   "source": [
    "For example, we can form the tactic `intro_one`, which introduces either an implication or a forall quantification:"
   ]
  },
  {
   "cell_type": "code",
   "execution_count": 12,
   "metadata": {},
   "outputs": [
    {
     "name": "stdout",
     "output_type": "stream",
     "text": [
      "ProofTerm(A ⊢ P x ⟶ Q x)\n",
      "Gaps: A, P x ⊢ Q x\n",
      "ProofTerm(A ⊢ ∀x. P x ⟶ Q x)\n",
      "Gaps: A ⊢ P x ⟶ Q x\n"
     ]
    }
   ],
   "source": [
    "intro_one_tac = else_tac(intro_imp_tac(), intro_forall_tac())\n",
    "\n",
    "print(intro_one_tac.get_proof_term(Thm([A], Implies(P(x), Q(x)))))\n",
    "print(intro_one_tac.get_proof_term(Thm([A], Forall(x, Implies(P(x), Q(x))))))"
   ]
  },
  {
   "cell_type": "markdown",
   "metadata": {},
   "source": [
    "The tactical `repeat_tac` repeatedly applies some tactic, until `TacticException` is raised:"
   ]
  },
  {
   "cell_type": "code",
   "execution_count": 13,
   "metadata": {},
   "outputs": [],
   "source": [
    "class repeat_tac(Tactic):\n",
    "    def __init__(self, tac):\n",
    "        self.tac = tac\n",
    "        \n",
    "    def get_proof_term(self, goal):\n",
    "        pt = ProofTerm.sorry(goal)\n",
    "        while True:\n",
    "            try:\n",
    "                pt = pt.tac(self.tac)\n",
    "            except TacticException:\n",
    "                break\n",
    "        return pt"
   ]
  },
  {
   "cell_type": "markdown",
   "metadata": {},
   "source": [
    "The tactic `intros_tac` repeatedly introduces implication and forall quantification:"
   ]
  },
  {
   "cell_type": "code",
   "execution_count": 14,
   "metadata": {},
   "outputs": [
    {
     "name": "stdout",
     "output_type": "stream",
     "text": [
      "ProofTerm(A ⊢ ∀x. P x ⟶ Q x)\n",
      "Gaps: A, P x ⊢ Q x\n"
     ]
    }
   ],
   "source": [
    "intros_tac = repeat_tac(else_tac(intro_imp_tac(), intro_forall_tac()))\n",
    "\n",
    "print(intros_tac.get_proof_term(Thm([A], Forall(x, Implies(P(x), Q(x))))))"
   ]
  },
  {
   "cell_type": "markdown",
   "metadata": {},
   "source": [
    "Implication and forall quantification can also alternate:"
   ]
  },
  {
   "cell_type": "code",
   "execution_count": 15,
   "metadata": {},
   "outputs": [
    {
     "name": "stdout",
     "output_type": "stream",
     "text": [
      "goal: ∀x. P x ⟶ (∀y. Q y ⟶ R x y)\n",
      "ProofTerm(⊢ ∀x. P x ⟶ (∀y. Q y ⟶ R x y))\n",
      "Gaps: P x, Q y ⊢ R x y\n"
     ]
    }
   ],
   "source": [
    "x = Var('x', NatType)\n",
    "y = Var('y', NatType)\n",
    "P = Var('P', TFun(NatType, BoolType))\n",
    "Q = Var('Q', TFun(NatType, BoolType))\n",
    "R = Var('R', TFun(NatType, NatType, BoolType))\n",
    "\n",
    "goal = Forall(x, Implies(P(x), Forall(y, Implies(Q(y), R(x, y)))))\n",
    "print('goal:', goal)\n",
    "print(intros_tac.get_proof_term(Thm([], goal)))"
   ]
  }
 ],
 "metadata": {
  "kernelspec": {
   "display_name": "Python 3",
   "language": "python",
   "name": "python3"
  },
  "language_info": {
   "codemirror_mode": {
    "name": "ipython",
    "version": 3
   },
   "file_extension": ".py",
   "mimetype": "text/x-python",
   "name": "python",
   "nbconvert_exporter": "python",
   "pygments_lexer": "ipython3",
   "version": "3.6.6"
  }
 },
 "nbformat": 4,
 "nbformat_minor": 2
}
