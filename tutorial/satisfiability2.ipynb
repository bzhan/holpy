{
 "cells": [
  {
   "cell_type": "code",
   "execution_count": 1,
   "metadata": {},
   "outputs": [],
   "source": [
    "import os\n",
    "os.chdir('..')"
   ]
  },
  {
   "cell_type": "code",
   "execution_count": 2,
   "metadata": {},
   "outputs": [],
   "source": [
    "import pprint\n",
    "\n",
    "from kernel.term import BoolVars, Eq, Implies, Not, false, Term\n",
    "from kernel.proofterm import ProofTerm\n",
    "from kernel import theory\n",
    "from kernel.report import ProofReport\n",
    "from logic import basic\n",
    "from logic import logic\n",
    "from logic.conv import rewr_conv\n",
    "from prover import tseitin\n",
    "from prover import sat\n",
    "from syntax.settings import settings\n",
    "\n",
    "basic.load_theory('sat')\n",
    "settings.unicode = True\n",
    "pp = pprint.PrettyPrinter()"
   ]
  },
  {
   "cell_type": "markdown",
   "metadata": {},
   "source": [
    "## Proof generation for DPLL"
   ]
  },
  {
   "cell_type": "markdown",
   "metadata": {},
   "source": [
    "In this section, we combine together the work in the previous three sections, and implement a full verified solver for propositional formulas based on SAT solving. The overall procedure is: given a propositional formula $F$ which we want to prove,\n",
    "\n",
    "1. Convert $\\neg F$ to CNF form using Tseitin encoding, generating a theorem guaranteeing the correctness of the encoding.\n",
    "\n",
    "2. Use the DPLL algorithm to check the unsatisfiability of $\\neg F$ in CNF form. Return the proof as a chain of resolutions.\n",
    "\n",
    "3. Assemble the proof of unsatisfiability of the formula from the chain of resolutions.\n",
    "\n",
    "4. Combine with the theorem guaranteeing the encoding to give a proof of the original formula.\n",
    "\n",
    "We start from a rather simple propositional formula, problem #1 from the problem list in \"Seventy-five problems for testing automatic theorem provers:"
   ]
  },
  {
   "cell_type": "code",
   "execution_count": 3,
   "metadata": {},
   "outputs": [],
   "source": [
    "p, q = BoolVars('p q')\n",
    "\n",
    "F = Eq(Implies(p, q), Implies(Not(q), Not(p)))"
   ]
  },
  {
   "cell_type": "markdown",
   "metadata": {},
   "source": [
    "Using Tseitin encoding, the formular $\\neg F$ is translated as follows:"
   ]
  },
  {
   "cell_type": "code",
   "execution_count": 4,
   "metadata": {},
   "outputs": [
    {
     "name": "stdout",
     "output_type": "stream",
     "text": [
      "ProofTerm(x1 ⟷ p, x2 ⟷ q, x3 ⟷ ¬x1, x4 ⟷ ¬x2, x8 ⟷ ¬x7, x5 ⟷ (x1 ⟶ x2), x6 ⟷ (x4 ⟶ x3), x7 ⟷ x5 ⟷ x6, ¬((p ⟶ q) ⟷ (¬q ⟶ ¬p)) ⊢ x8 ∧ (x1 ∨ x5) ∧ (x3 ∨ x1) ∧ (x4 ∨ x2) ∧ (x4 ∨ x6) ∧ (x8 ∨ x7) ∧ (¬x2 ∨ x5) ∧ (¬x3 ∨ x6) ∧ (x7 ∨ x5 ∨ x6) ∧ (¬x3 ∨ ¬x1) ∧ (¬x4 ∨ ¬x2) ∧ (¬x8 ∨ ¬x7) ∧ (x7 ∨ ¬x5 ∨ ¬x6) ∧ (¬x5 ∨ ¬x1 ∨ x2) ∧ (¬x6 ∨ ¬x4 ∨ x3) ∧ (¬x7 ∨ x5 ∨ ¬x6) ∧ (¬x7 ∨ ¬x5 ∨ x6))\n",
      "[[('x8', True)],\n",
      " [('x1', True), ('x5', True)],\n",
      " [('x3', True), ('x1', True)],\n",
      " [('x4', True), ('x2', True)],\n",
      " [('x4', True), ('x6', True)],\n",
      " [('x8', True), ('x7', True)],\n",
      " [('x2', False), ('x5', True)],\n",
      " [('x3', False), ('x6', True)],\n",
      " [('x7', True), ('x5', True), ('x6', True)],\n",
      " [('x3', False), ('x1', False)],\n",
      " [('x4', False), ('x2', False)],\n",
      " [('x8', False), ('x7', False)],\n",
      " [('x7', True), ('x5', False), ('x6', False)],\n",
      " [('x5', False), ('x1', False), ('x2', True)],\n",
      " [('x6', False), ('x4', False), ('x3', True)],\n",
      " [('x7', False), ('x5', True), ('x6', False)],\n",
      " [('x7', False), ('x5', False), ('x6', True)]]\n"
     ]
    }
   ],
   "source": [
    "encode_pt = tseitin.encode(Not(F))\n",
    "print(encode_pt)\n",
    "\n",
    "cnf = tseitin.convert_cnf(encode_pt.prop)\n",
    "pp.pprint(cnf)"
   ]
  },
  {
   "cell_type": "markdown",
   "metadata": {},
   "source": [
    "This is a CNF formula consisting of 8 variables and 17 clauses. The result of DPLL on this formula is as follows:"
   ]
  },
  {
   "cell_type": "code",
   "execution_count": 5,
   "metadata": {},
   "outputs": [
    {
     "name": "stdout",
     "output_type": "stream",
     "text": [
      "unsatisfiable {17: [14, 9, 1, 12, 11, 0], 18: [13, 8, 10, 2, 7, 11, 0, 17], 19: [12, 11, 0, 4, 18, 6, 3, 18]}\n"
     ]
    }
   ],
   "source": [
    "res, proof = sat.solve_cnf(cnf)\n",
    "print(res, proof)"
   ]
  },
  {
   "cell_type": "markdown",
   "metadata": {},
   "source": [
    "As expected, the formula is unsatisfiable. The proof returned consists of three chains of resolutions. To construct proofs for these, we first obtain a list of assumptions for the inital clauses."
   ]
  },
  {
   "cell_type": "code",
   "execution_count": 6,
   "metadata": {},
   "outputs": [
    {
     "name": "stdout",
     "output_type": "stream",
     "text": [
      "[ProofTerm(x8 ⊢ x8),\n",
      " ProofTerm(x1 ∨ x5 ⊢ x1 ∨ x5),\n",
      " ProofTerm(x3 ∨ x1 ⊢ x3 ∨ x1),\n",
      " ProofTerm(x4 ∨ x2 ⊢ x4 ∨ x2),\n",
      " ProofTerm(x4 ∨ x6 ⊢ x4 ∨ x6),\n",
      " ProofTerm(x8 ∨ x7 ⊢ x8 ∨ x7),\n",
      " ProofTerm(¬x2 ∨ x5 ⊢ ¬x2 ∨ x5),\n",
      " ProofTerm(¬x3 ∨ x6 ⊢ ¬x3 ∨ x6),\n",
      " ProofTerm(x7 ∨ x5 ∨ x6 ⊢ x7 ∨ x5 ∨ x6),\n",
      " ProofTerm(¬x3 ∨ ¬x1 ⊢ ¬x3 ∨ ¬x1),\n",
      " ProofTerm(¬x4 ∨ ¬x2 ⊢ ¬x4 ∨ ¬x2),\n",
      " ProofTerm(¬x8 ∨ ¬x7 ⊢ ¬x8 ∨ ¬x7),\n",
      " ProofTerm(x7 ∨ ¬x5 ∨ ¬x6 ⊢ x7 ∨ ¬x5 ∨ ¬x6),\n",
      " ProofTerm(¬x5 ∨ ¬x1 ∨ x2 ⊢ ¬x5 ∨ ¬x1 ∨ x2),\n",
      " ProofTerm(¬x6 ∨ ¬x4 ∨ x3 ⊢ ¬x6 ∨ ¬x4 ∨ x3),\n",
      " ProofTerm(¬x7 ∨ x5 ∨ ¬x6 ⊢ ¬x7 ∨ x5 ∨ ¬x6),\n",
      " ProofTerm(¬x7 ∨ ¬x5 ∨ x6 ⊢ ¬x7 ∨ ¬x5 ∨ x6)]\n"
     ]
    }
   ],
   "source": [
    "clause_pts = [ProofTerm.assume(clause) for clause in encode_pt.prop.strip_conj()]\n",
    "pp.pprint(clause_pts)"
   ]
  },
  {
   "cell_type": "markdown",
   "metadata": {},
   "source": [
    "Now, for the first proof, we can construct the resolution according to the numbers:"
   ]
  },
  {
   "cell_type": "code",
   "execution_count": 7,
   "metadata": {},
   "outputs": [
    {
     "name": "stdout",
     "output_type": "stream",
     "text": [
      "Initial clause: ¬x6 ∨ ¬x4 ∨ x3\n",
      "Resolution with ¬x3 ∨ ¬x1 to get ¬x1 ∨ ¬x4 ∨ ¬x6\n",
      "Resolution with x1 ∨ x5 to get x5 ∨ ¬x4 ∨ ¬x6\n",
      "Resolution with x7 ∨ ¬x5 ∨ ¬x6 to get x7 ∨ ¬x4 ∨ ¬x6\n",
      "Resolution with ¬x8 ∨ ¬x7 to get ¬x4 ∨ ¬x6 ∨ ¬x8\n",
      "Resolution with x8 to get ¬x4 ∨ ¬x6\n"
     ]
    }
   ],
   "source": [
    "lst = proof[17]\n",
    "pt = clause_pts[lst[0]]\n",
    "print('Initial clause:', pt.prop)\n",
    "for step in lst[1:]:\n",
    "    pt = logic.resolution(pt, clause_pts[step])\n",
    "    print('Resolution with %s to get %s' % (clause_pts[step].prop, pt.prop))"
   ]
  },
  {
   "cell_type": "markdown",
   "metadata": {},
   "source": [
    "The result $\\neg x_3$ is then added to the list of clauses, and we can continue with the next item in the proof. The last step of the proof should give us a contradiction. The full code is:"
   ]
  },
  {
   "cell_type": "code",
   "execution_count": 8,
   "metadata": {},
   "outputs": [],
   "source": [
    "for new_id in sorted(proof.keys()):\n",
    "    steps = proof[new_id]\n",
    "    pt = clause_pts[steps[0]]\n",
    "    for step in steps[1:]:\n",
    "        pt = logic.resolution(pt, clause_pts[step])\n",
    "    clause_pts.append(pt)\n",
    "    \n",
    "contra_pt = clause_pts[-1]\n",
    "assert contra_pt.prop == false"
   ]
  },
  {
   "cell_type": "markdown",
   "metadata": {},
   "source": [
    "We have now obtained a proof term showing a contradiction from the clauses of the CNF. This can be easily transformed into a theorem showing a contradiction from the CNF itself:"
   ]
  },
  {
   "cell_type": "code",
   "execution_count": 9,
   "metadata": {},
   "outputs": [
    {
     "name": "stdout",
     "output_type": "stream",
     "text": [
      "ProofTerm(x1 ⟷ p, x2 ⟷ q, x3 ⟷ ¬x1, x4 ⟷ ¬x2, x8 ⟷ ¬x7, x5 ⟷ (x1 ⟶ x2), x6 ⟷ (x4 ⟶ x3), x7 ⟷ x5 ⟷ x6, ¬((p ⟶ q) ⟷ (¬q ⟶ ¬p)) ⊢ false)\n"
     ]
    }
   ],
   "source": [
    "pt1, pt2 = encode_pt, contra_pt\n",
    "while pt1.prop.is_conj():\n",
    "    pt_left = logic.apply_theorem('conjD1', pt1)\n",
    "    pt2 = pt2.implies_intr(pt_left.prop).implies_elim(pt_left)  # remove one clause from assumption\n",
    "    pt1 = logic.apply_theorem('conjD2', pt1)\n",
    "pt2 = pt2.implies_intr(pt1.prop).implies_elim(pt1)  # remove last clause from assumption\n",
    "print(pt2)"
   ]
  },
  {
   "cell_type": "markdown",
   "metadata": {},
   "source": [
    "Finally, we need to remove the dependence on each of the equalities. This need to be done in the reverse order of variables, from $x_8$ back to $x_1$. We first obtain the list of equalities in reverse order."
   ]
  },
  {
   "cell_type": "code",
   "execution_count": 10,
   "metadata": {},
   "outputs": [],
   "source": [
    "eqs = [t for t in pt2.hyps if t.is_equals()]\n",
    "eqs = list(reversed(sorted(eqs, key=lambda t: int(t.lhs().name[1:]))))"
   ]
  },
  {
   "cell_type": "markdown",
   "metadata": {},
   "source": [
    "Next, we remove one equality at a time. This works by introducing the equality into the proposition, forall the new variable, then substitute the right side. Let's try it for one step:"
   ]
  },
  {
   "cell_type": "code",
   "execution_count": 11,
   "metadata": {},
   "outputs": [
    {
     "name": "stdout",
     "output_type": "stream",
     "text": [
      "ProofTerm(x1 ⟷ p, x2 ⟷ q, x3 ⟷ ¬x1, x4 ⟷ ¬x2, x5 ⟷ (x1 ⟶ x2), x6 ⟷ (x4 ⟶ x3), x7 ⟷ x5 ⟷ x6, ¬((p ⟶ q) ⟷ (¬q ⟶ ¬p)) ⊢ false)\n"
     ]
    }
   ],
   "source": [
    "eq = eqs[0]\n",
    "print(pt2.implies_intr(eq).forall_intr(eq.lhs).forall_elim(eq.rhs)\n",
    "         .implies_elim(ProofTerm.reflexive(eq.rhs)))"
   ]
  },
  {
   "cell_type": "markdown",
   "metadata": {},
   "source": [
    "Iterative over all of eqs, we get:"
   ]
  },
  {
   "cell_type": "code",
   "execution_count": 12,
   "metadata": {},
   "outputs": [
    {
     "name": "stdout",
     "output_type": "stream",
     "text": [
      "ProofTerm(¬((p ⟶ q) ⟷ (¬q ⟶ ¬p)) ⊢ false)\n"
     ]
    }
   ],
   "source": [
    "for eq in eqs:\n",
    "    pt2 = pt2.implies_intr(eq).forall_intr(eq.lhs).forall_elim(eq.rhs) \\\n",
    "             .implies_elim(ProofTerm.reflexive(eq.rhs))\n",
    "print(pt2)"
   ]
  },
  {
   "cell_type": "markdown",
   "metadata": {},
   "source": [
    "Finally, we finish by applying `negI` and `double_neg`:"
   ]
  },
  {
   "cell_type": "code",
   "execution_count": 13,
   "metadata": {},
   "outputs": [
    {
     "data": {
      "text/plain": [
       "ProofTerm(⊢ (p ⟶ q) ⟷ (¬q ⟶ ¬p))"
      ]
     },
     "execution_count": 13,
     "metadata": {},
     "output_type": "execute_result"
    }
   ],
   "source": [
    "logic.apply_theorem('negI', pt2.implies_intr(pt2.hyps[0])).on_prop(rewr_conv('double_neg'))"
   ]
  },
  {
   "cell_type": "markdown",
   "metadata": {},
   "source": [
    "The full code is below:"
   ]
  },
  {
   "cell_type": "code",
   "execution_count": 14,
   "metadata": {},
   "outputs": [],
   "source": [
    "def solve_cnf(F):\n",
    "    encode_pt = tseitin.encode(Not(F))\n",
    "    cnf = tseitin.convert_cnf(encode_pt.prop)\n",
    "    res, proof = sat.solve_cnf(cnf)\n",
    "    assert res == 'unsatisfiable', 'solve_cnf: statement is not provable'\n",
    "    \n",
    "    # Perform the resolution steps\n",
    "    clause_pts = [ProofTerm.assume(clause) for clause in encode_pt.prop.strip_conj()]\n",
    "    for new_id in sorted(proof.keys()):\n",
    "        steps = proof[new_id]\n",
    "        pt = clause_pts[steps[0]]\n",
    "        for step in steps[1:]:\n",
    "            pt = logic.resolution(pt, clause_pts[step])\n",
    "        clause_pts.append(pt)\n",
    "\n",
    "    contra_pt = clause_pts[-1]\n",
    "    assert contra_pt.prop == false\n",
    "    \n",
    "    # Show contradiction from ~F and definitions of new variables\n",
    "    pt1, pt2 = encode_pt, contra_pt\n",
    "    while pt1.prop.is_conj():\n",
    "        pt_left = logic.apply_theorem('conjD1', pt1)\n",
    "        pt2 = pt2.implies_intr(pt_left.prop).implies_elim(pt_left)  # remove one clause from assumption\n",
    "        pt1 = logic.apply_theorem('conjD2', pt1)\n",
    "    pt2 = pt2.implies_intr(pt1.prop).implies_elim(pt1)  # remove last clause from assumption\n",
    "\n",
    "    # Clear definition of new variables from antecedent\n",
    "    eqs = [t for t in pt2.hyps if t.is_equals()]\n",
    "    eqs = list(reversed(sorted(eqs, key=lambda t: int(t.lhs().name[1:]))))\n",
    "\n",
    "    for eq in eqs:\n",
    "        pt2 = pt2.implies_intr(eq).forall_intr(eq.lhs).forall_elim(eq.rhs) \\\n",
    "                 .implies_elim(ProofTerm.reflexive(eq.rhs))\n",
    "\n",
    "    return logic.apply_theorem('negI', pt2.implies_intr(pt2.hyps[0])).on_prop(rewr_conv('double_neg'))"
   ]
  },
  {
   "cell_type": "code",
   "execution_count": 15,
   "metadata": {},
   "outputs": [
    {
     "data": {
      "text/plain": [
       "ProofTerm(⊢ (p ⟶ q) ⟷ (¬q ⟶ ¬p))"
      ]
     },
     "execution_count": 15,
     "metadata": {},
     "output_type": "execute_result"
    }
   ],
   "source": [
    "solve_cnf(F)"
   ]
  },
  {
   "cell_type": "markdown",
   "metadata": {},
   "source": [
    "We can test this on some other examples from Pelletier's problem list:"
   ]
  },
  {
   "cell_type": "code",
   "execution_count": 16,
   "metadata": {},
   "outputs": [
    {
     "data": {
      "text/plain": [
       "ProofTerm(⊢ ¬¬p ⟷ p)"
      ]
     },
     "execution_count": 16,
     "metadata": {},
     "output_type": "execute_result"
    }
   ],
   "source": [
    "# Problem 2\n",
    "solve_cnf(Term(\"~~p <--> p\"))"
   ]
  },
  {
   "cell_type": "code",
   "execution_count": 17,
   "metadata": {},
   "outputs": [
    {
     "data": {
      "text/plain": [
       "ProofTerm(⊢ (¬p ⟶ q) ⟷ (¬q ⟶ p))"
      ]
     },
     "execution_count": 17,
     "metadata": {},
     "output_type": "execute_result"
    }
   ],
   "source": [
    "# Problem 4\n",
    "solve_cnf(Term(\"(~p --> q) <--> (~q --> p)\"))"
   ]
  },
  {
   "cell_type": "code",
   "execution_count": 18,
   "metadata": {},
   "outputs": [
    {
     "data": {
      "text/plain": [
       "ProofTerm(⊢ (p ∨ q ⟶ p ∨ r) ⟶ p ∨ (q ⟶ r))"
      ]
     },
     "execution_count": 18,
     "metadata": {},
     "output_type": "execute_result"
    }
   ],
   "source": [
    "# Problem 5\n",
    "solve_cnf(Term(\"((p | q) --> (p | r)) --> (p | (q --> r))\"))"
   ]
  },
  {
   "cell_type": "code",
   "execution_count": 19,
   "metadata": {},
   "outputs": [
    {
     "data": {
      "text/plain": [
       "ProofTerm(⊢ ((p ⟶ q) ⟶ p) ⟶ p)"
      ]
     },
     "execution_count": 19,
     "metadata": {},
     "output_type": "execute_result"
    }
   ],
   "source": [
    "# Problem 8\n",
    "solve_cnf(Term(\"((p --> q) --> p) --> p\"))"
   ]
  },
  {
   "cell_type": "code",
   "execution_count": 20,
   "metadata": {},
   "outputs": [
    {
     "name": "stdout",
     "output_type": "stream",
     "text": [
      "ProofTerm(⊢ ((p ⟷ q) ⟷ r) ⟷ p ⟷ q ⟷ r)\n"
     ]
    }
   ],
   "source": [
    "# Problem 12\n",
    "p12_pt = solve_cnf(Term(\"((p <--> q) <--> r) <--> (p <--> (q <--> r))\"))\n",
    "print(p12_pt)"
   ]
  },
  {
   "cell_type": "markdown",
   "metadata": {},
   "source": [
    "The last example is takes a bit long, let's see statistics from checking the proof (evaluation of this cell takes some time)."
   ]
  },
  {
   "cell_type": "code",
   "execution_count": 21,
   "metadata": {},
   "outputs": [
    {
     "name": "stdout",
     "output_type": "stream",
     "text": [
      "Steps: 11519\n",
      "  Theorems:  3470\n",
      "  Primitive: 8049\n",
      "  Macro:     0\n",
      "Theorems applied: resolution, conjD2, trivial, disjE2, syllogism, resolution_right, resolution_left, double_neg, disjI2, negE, negI, conjI, encode_eq, encode_not, conjD1, disjI1\n",
      "Macros evaluated: \n",
      "Macros expanded: resolution, imp_disj, apply_theorem, apply_theorem_for, imp_conj\n",
      "Gaps: []\n"
     ]
    }
   ],
   "source": [
    "rpt = ProofReport()\n",
    "theory.check_proof(p12_pt.export(), rpt=rpt)\n",
    "print(rpt)"
   ]
  }
 ],
 "metadata": {
  "kernelspec": {
   "display_name": "Python 3",
   "language": "python",
   "name": "python3"
  },
  "language_info": {
   "codemirror_mode": {
    "name": "ipython",
    "version": 3
   },
   "file_extension": ".py",
   "mimetype": "text/x-python",
   "name": "python",
   "nbconvert_exporter": "python",
   "pygments_lexer": "ipython3",
   "version": "3.6.6"
  }
 },
 "nbformat": 4,
 "nbformat_minor": 2
}
