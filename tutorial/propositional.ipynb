{
 "cells": [
  {
   "cell_type": "markdown",
   "metadata": {},
   "source": [
    "$\\newcommand{\\To}{\\Rightarrow}$"
   ]
  },
  {
   "cell_type": "code",
   "execution_count": 2,
   "metadata": {},
   "outputs": [],
   "source": [
    "import os, sys\n",
    "sys.path.append(os.path.split(os.getcwd())[0])"
   ]
  },
  {
   "cell_type": "code",
   "execution_count": 15,
   "metadata": {},
   "outputs": [],
   "source": [
    "from kernel.type import boolT\n",
    "from kernel.term import Var\n",
    "from kernel.thm import Thm\n",
    "from logic import basic\n",
    "from logic.logic import conj\n",
    "from syntax import printer\n",
    "\n",
    "thy = basic.loadTheory('logic_base')"
   ]
  },
  {
   "cell_type": "markdown",
   "metadata": {},
   "source": [
    "## Propositional logic"
   ]
  },
  {
   "cell_type": "markdown",
   "metadata": {},
   "source": [
    "In this section, we describe proofs in propositional logic. Propositional logic has four operators: conjunction ($\\wedge$), disjunction ($\\vee$), implication ($\\to$), and negation ($\\neg$). Rules for implication have already been discussed (primitive deduction rules `implies_intr` and `implies_elim`). We will now discuss rules for the other three operators in turn.\n",
    "\n",
    "The introduction and destruction rules for conjunction are `conjI`, `conjD1` and `conjD2`:"
   ]
  },
  {
   "cell_type": "code",
   "execution_count": 9,
   "metadata": {},
   "outputs": [
    {
     "name": "stdout",
     "output_type": "stream",
     "text": [
      "conjI: ⊢ A ⟶ B ⟶ A ∧ B\n",
      "conjD1: ⊢ A ∧ B ⟶ A\n",
      "conjD2: ⊢ A ∧ B ⟶ B\n"
     ]
    }
   ],
   "source": [
    "conjI = thy.get_theorem('conjI')\n",
    "print(\"conjI:\", printer.print_thm(thy, conjI, unicode=True))\n",
    "\n",
    "conjD1 = thy.get_theorem('conjD1')\n",
    "print(\"conjD1:\", printer.print_thm(thy, conjD1, unicode=True))\n",
    "\n",
    "conjD2 = thy.get_theorem('conjD2')\n",
    "print(\"conjD2:\", printer.print_thm(thy, conjD2, unicode=True))"
   ]
  },
  {
   "cell_type": "markdown",
   "metadata": {},
   "source": [
    "We consider these three theorems to be *axioms* that form the fundamental assumptions about conjunction (it is also possible to define conjunction satisfying these axioms in higher-order logic. This is omitted for simplicity). `conjI` states how a conjunction theorem can be proved. `conjD1` and `conjD2` shows how to make use of conjunction theorems.\n",
    "\n",
    "We now give some examples for working with conjunction."
   ]
  },
  {
   "cell_type": "markdown",
   "metadata": {},
   "source": [
    "#### Example:\n",
    "\n",
    "Prove $A \\wedge B \\to B \\wedge A$.\n",
    "\n",
    "#### Solution:\n",
    "\n",
    "0. $A \\wedge B \\vdash A \\wedge B$ by assume $A \\wedge B$.\n",
    "1. $\\vdash A \\wedge B \\to A$ by theorem conjD1.\n",
    "2. $A \\wedge B \\vdash A$ by implies_elim from 1, 0.\n",
    "3. $\\vdash A \\wedge B \\to B$ by theorem conjD2.\n",
    "4. $A \\wedge B \\vdash B$ by implies_elim from 3, 0.\n",
    "5. $\\vdash A \\to B \\to A \\wedge B$ by theorem conjI.\n",
    "6. $\\vdash B \\to A \\to B \\wedge A$ by substitution {A: B, B: A} from 5.\n",
    "7. $A \\wedge B \\vdash A \\to B \\wedge A$ by implies_elim 6, 4.\n",
    "8. $A \\wedge B \\vdash B \\wedge A$ by implies_elim 7, 2.\n",
    "9. $\\vdash A \\wedge B \\to B \\wedge A$ by implies_intr $A \\wedge B$ from 8."
   ]
  },
  {
   "cell_type": "code",
   "execution_count": 19,
   "metadata": {},
   "outputs": [
    {
     "name": "stdout",
     "output_type": "stream",
     "text": [
      "⊢ A ∧ B ⟶ B ∧ A\n"
     ]
    }
   ],
   "source": [
    "A = Var(\"A\", boolT)\n",
    "B = Var(\"B\", boolT)\n",
    "th0 = Thm.assume(conj(A, B))\n",
    "th1 = thy.get_theorem('conjD1')\n",
    "th2 = Thm.implies_elim(th1, th0)\n",
    "th3 = thy.get_theorem('conjD2')\n",
    "th4 = Thm.implies_elim(th3, th0)\n",
    "th5 = thy.get_theorem('conjI')\n",
    "th6 = Thm.substitution({\"A\": B, \"B\": A}, th5)\n",
    "th7 = Thm.implies_elim(th6, th4)\n",
    "th8 = Thm.implies_elim(th7, th2)\n",
    "th9 = Thm.implies_intr(conj(A, B), th8)\n",
    "print(printer.print_thm(thy, th9, unicode=True))"
   ]
  }
 ],
 "metadata": {
  "kernelspec": {
   "display_name": "Python 3",
   "language": "python",
   "name": "python3"
  },
  "language_info": {
   "codemirror_mode": {
    "name": "ipython",
    "version": 3
   },
   "file_extension": ".py",
   "mimetype": "text/x-python",
   "name": "python",
   "nbconvert_exporter": "python",
   "pygments_lexer": "ipython3",
   "version": "3.5.2"
  }
 },
 "nbformat": 4,
 "nbformat_minor": 2
}
