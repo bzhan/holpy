{
 "cells": [
  {
   "cell_type": "code",
   "execution_count": 1,
   "metadata": {},
   "outputs": [],
   "source": [
    "import os\n",
    "os.chdir('..')"
   ]
  },
  {
   "cell_type": "code",
   "execution_count": 2,
   "metadata": {},
   "outputs": [],
   "source": [
    "from kernel.type import BoolType\n",
    "from kernel.term import Var, BoolVars, And, Or, Implies, Not, Eq\n",
    "from kernel.thm import Thm\n",
    "from kernel import theory\n",
    "from kernel import term_ord\n",
    "from kernel.proofterm import ProofTerm\n",
    "from logic.conv import rewr_conv, top_conv\n",
    "from logic.logic import apply_theorem, conj_norm\n",
    "from logic import basic\n",
    "from syntax.settings import settings\n",
    "\n",
    "basic.load_theory('sat')\n",
    "settings.unicode = True"
   ]
  },
  {
   "cell_type": "markdown",
   "metadata": {},
   "source": [
    "## Tseitin encoding"
   ]
  },
  {
   "cell_type": "markdown",
   "metadata": {},
   "source": [
    "DPLL-based SAT solving works with a formula in CNF (conjunctive normal form). That is, the formula is written as a conjunction of clauses, where each clause is a disjunction of literals. To use SAT to decide an arbitrary propositional formula, the first step is to convert into CNF form. One standard way to convert an arbitrary propositional formula to CNF form is using the Tseitin encoding, which we present in this section.\n",
    "\n",
    "The material in this section is based on Chapter 2 of Handbook of Satisfiability.\n",
    "\n",
    "The idea of Tseitin encoding is to assign a variable to each subterm of the propositional formula. For variables corresponding to non-atoms, an equality between the variable and a conjunction, disjunction, implication, or equivalence of two variables is constructed, which is then converted to CNF form. For example, in the formula (from the Handbook)\n",
    "\n",
    "$$ (a \\to (c \\wedge d)) \\vee (b \\to (c \\wedge e)) $$\n",
    "\n",
    "variables should be made for each of $a,b,c,d,e$, as well as non-atomic subterms $c\\wedge d$, $c\\wedge e$, $a\\to (c\\wedge d)$, $b\\to (c\\wedge e)$, and the whole formula. In our version, we assign variables also to atomic terms.\n",
    "\n",
    "The subterms of a logical formula can be computed as follows:"
   ]
  },
  {
   "cell_type": "code",
   "execution_count": 3,
   "metadata": {},
   "outputs": [],
   "source": [
    "def is_logical(t):\n",
    "    return t.is_implies() or t.is_equals() or t.is_conj() or t.is_disj() or t.is_not()\n",
    "\n",
    "def logic_subterms(t):\n",
    "    def rec(t):\n",
    "        if not is_logical(t):\n",
    "            return [t]\n",
    "        elif t.is_not():\n",
    "            return rec(t.arg) + [t]\n",
    "        else:\n",
    "            return rec(t.arg1) + rec(t.arg) + [t]\n",
    "\n",
    "    return term_ord.sorted_terms(rec(t))"
   ]
  },
  {
   "cell_type": "code",
   "execution_count": 4,
   "metadata": {},
   "outputs": [
    {
     "name": "stdout",
     "output_type": "stream",
     "text": [
      "(a ⟶ c ∧ d) ∨ (b ⟶ c ∧ e)\n",
      "a, b, c, d, e, c ∧ d, c ∧ e, a ⟶ c ∧ d, b ⟶ c ∧ e, (a ⟶ c ∧ d) ∨ (b ⟶ c ∧ e)\n"
     ]
    }
   ],
   "source": [
    "a, b, c, d, e = BoolVars('a b c d e')\n",
    "t = Or(Implies(a, And(c, d)), Implies(b, And(c, e)))\n",
    "print(t)\n",
    "print(', '.join(str(subt) for subt in logic_subterms(t)))"
   ]
  },
  {
   "cell_type": "markdown",
   "metadata": {},
   "source": [
    "Now, we can construct a dictionary that assigns to each term a corresponding variable $x_i$, with $i$ starting from 1:"
   ]
  },
  {
   "cell_type": "code",
   "execution_count": 5,
   "metadata": {},
   "outputs": [
    {
     "name": "stdout",
     "output_type": "stream",
     "text": [
      "{a: x1, b: x2, c: x3, d: x4, e: x5, c ∧ d: x6, c ∧ e: x7, a ⟶ c ∧ d: x8, b ⟶ c ∧ e: x9, (a ⟶ c ∧ d) ∨ (b ⟶ c ∧ e): x10}\n"
     ]
    }
   ],
   "source": [
    "subterm_dict = dict()\n",
    "for i, subt in enumerate(logic_subterms(t)):\n",
    "    subterm_dict[subt] = Var('x' + str(i+1), BoolType)\n",
    "\n",
    "print('{' + ', '.join('%s: %s' % (k, v) for k, v in subterm_dict.items()) + '}')"
   ]
  },
  {
   "cell_type": "markdown",
   "metadata": {},
   "source": [
    "For each subterm, we get a corresponding equality:"
   ]
  },
  {
   "cell_type": "code",
   "execution_count": 6,
   "metadata": {},
   "outputs": [
    {
     "name": "stdout",
     "output_type": "stream",
     "text": [
      "x1 ⟷ a\n",
      "x2 ⟷ b\n",
      "x3 ⟷ c\n",
      "x4 ⟷ d\n",
      "x5 ⟷ e\n",
      "x6 ⟷ x3 ∧ x4\n",
      "x7 ⟷ x3 ∧ x5\n",
      "x8 ⟷ (x1 ⟶ x6)\n",
      "x9 ⟷ (x2 ⟶ x7)\n",
      "x10 ⟷ x8 ∨ x9\n"
     ]
    }
   ],
   "source": [
    "eqs = []\n",
    "for subt in subterm_dict:\n",
    "    r = subterm_dict[subt]\n",
    "    if not is_logical(subt):\n",
    "        eqs.append(Eq(r, subt))\n",
    "    elif subt.is_not():\n",
    "        r1 = subterm_dict[subt.arg]\n",
    "        eqs.append(Eq(r, Not(r1)))\n",
    "    else:\n",
    "        r1 = subterm_dict[subt.arg1]\n",
    "        r2 = subterm_dict[subt.arg]\n",
    "        eqs.append(Eq(r, subt.head(r1, r2)))\n",
    "\n",
    "for eq in eqs:\n",
    "    print(eq)"
   ]
  },
  {
   "cell_type": "markdown",
   "metadata": {},
   "source": [
    "Each equality can be viewed as introducing a new variable, and so does not affect the satisfiability of the problem. It is also clear that the original term is equivalent to the last introduced variable (in the case $x_{10}$). Hence, after introducing new variables, the original formula is *equisatisfiable* to the formula obtained by conjoining the equalities as well as the last introduced variable. It turns out that for the purpose of SAT solving, we only need to prove one direction of the implication, and equalities to atomic variables are not needed.\n",
    "\n",
    "The needed theorem can be generated directly:"
   ]
  },
  {
   "cell_type": "code",
   "execution_count": 7,
   "metadata": {},
   "outputs": [
    {
     "name": "stdout",
     "output_type": "stream",
     "text": [
      "x1 ⟷ a, x2 ⟷ b, x3 ⟷ c, x4 ⟷ d, x5 ⟷ e, x10 ⟷ x8 ∨ x9, x6 ⟷ x3 ∧ x4, x7 ⟷ x3 ∧ x5, x8 ⟷ (x1 ⟶ x6), x9 ⟷ (x2 ⟶ x7), (a ⟶ c ∧ d) ∨ (b ⟶ c ∧ e) ⊢ (x6 ⟷ x3 ∧ x4) ∧ (x7 ⟷ x3 ∧ x5) ∧ (x8 ⟷ (x1 ⟶ x6)) ∧ (x9 ⟷ (x2 ⟶ x7)) ∧ (x10 ⟷ x8 ∨ x9) ∧ x10\n"
     ]
    }
   ],
   "source": [
    "# Target theorem\n",
    "concl = [eq for eq in eqs if is_logical(eq.rhs)] + [eqs[-1].lhs]\n",
    "th = Thm(eqs + [t], And(*concl))\n",
    "print(th)"
   ]
  },
  {
   "cell_type": "markdown",
   "metadata": {},
   "source": [
    "The proof of the theorem can also be generated. The only tricky step is going from the original formula to the last introduced variable by rewriting:"
   ]
  },
  {
   "cell_type": "code",
   "execution_count": 8,
   "metadata": {},
   "outputs": [
    {
     "name": "stdout",
     "output_type": "stream",
     "text": [
      "ProofTerm(x1 ⟷ a, x2 ⟷ b, x3 ⟷ c, x4 ⟷ d, x5 ⟷ e, x10 ⟷ x8 ∨ x9, x6 ⟷ x3 ∧ x4, x7 ⟷ x3 ∧ x5, x8 ⟷ (x1 ⟶ x6), x9 ⟷ (x2 ⟶ x7), (a ⟶ c ∧ d) ∨ (b ⟶ c ∧ e) ⊢ (x10 ⟷ x8 ∨ x9) ∧ (x9 ⟷ (x2 ⟶ x7)) ∧ (x8 ⟷ (x1 ⟶ x6)) ∧ (x7 ⟷ x3 ∧ x5) ∧ (x6 ⟷ x3 ∧ x4) ∧ x10)\n"
     ]
    }
   ],
   "source": [
    "eq_pts = [ProofTerm.assume(eq) for eq in eqs]\n",
    "encode_pt = ProofTerm.assume(t)\n",
    "for eq_pt in eq_pts:\n",
    "    encode_pt = encode_pt.on_prop(top_conv(rewr_conv(eq_pt, sym=True)))\n",
    "for eq_pt in eq_pts:\n",
    "    if is_logical(eq_pt.rhs):\n",
    "        encode_pt = apply_theorem('conjI', eq_pt, encode_pt)\n",
    "print(encode_pt)"
   ]
  },
  {
   "cell_type": "markdown",
   "metadata": {},
   "source": [
    "Each equality for non-atomic terms can be expressed in CNF form. Equalities for atomic terms will simply be used for rewriting later. The conversion of each kind of equality to CNF form is expressed in the following theorems:"
   ]
  },
  {
   "cell_type": "code",
   "execution_count": 9,
   "metadata": {},
   "outputs": [
    {
     "name": "stdout",
     "output_type": "stream",
     "text": [
      "encode_conj: ⊢ (l ⟷ r1 ∧ r2) ⟷ (¬l ∨ r1) ∧ (¬l ∨ r2) ∧ (¬r1 ∨ ¬r2 ∨ l)\n",
      "encode_disj: ⊢ (l ⟷ r1 ∨ r2) ⟷ (¬l ∨ r1 ∨ r2) ∧ (¬r1 ∨ l) ∧ (¬r2 ∨ l)\n",
      "encode_imp: ⊢ (l ⟷ (r1 ⟶ r2)) ⟷ (¬l ∨ ¬r1 ∨ r2) ∧ (r1 ∨ l) ∧ (¬r2 ∨ l)\n",
      "encode_eq: ⊢ (l ⟷ r1 ⟷ r2) ⟷ (¬l ∨ ¬r1 ∨ r2) ∧ (¬l ∨ r1 ∨ ¬r2) ∧ (l ∨ ¬r1 ∨ ¬r2) ∧ (l ∨ r1 ∨ r2)\n",
      "encode_not: ⊢ (l ⟷ ¬r) ⟷ (l ∨ r) ∧ (¬l ∨ ¬r)\n"
     ]
    }
   ],
   "source": [
    "theory.print_theorem(\n",
    "    'encode_conj',\n",
    "    'encode_disj',\n",
    "    'encode_imp',\n",
    "    'encode_eq',\n",
    "    'encode_not'\n",
    ")"
   ]
  },
  {
   "cell_type": "markdown",
   "metadata": {},
   "source": [
    "We can apply these rewrite rules directly to `res_pt`:"
   ]
  },
  {
   "cell_type": "code",
   "execution_count": 10,
   "metadata": {},
   "outputs": [
    {
     "name": "stdout",
     "output_type": "stream",
     "text": [
      "ProofTerm(x1 ⟷ a, x2 ⟷ b, x3 ⟷ c, x4 ⟷ d, x5 ⟷ e, x10 ⟷ x8 ∨ x9, x6 ⟷ x3 ∧ x4, x7 ⟷ x3 ∧ x5, x8 ⟷ (x1 ⟶ x6), x9 ⟷ (x2 ⟶ x7), (a ⟶ c ∧ d) ∨ (b ⟶ c ∧ e) ⊢ ((¬x10 ∨ x8 ∨ x9) ∧ (¬x8 ∨ x10) ∧ (¬x9 ∨ x10)) ∧ ((¬x9 ∨ ¬x2 ∨ x7) ∧ (x2 ∨ x9) ∧ (¬x7 ∨ x9)) ∧ ((¬x8 ∨ ¬x1 ∨ x6) ∧ (x1 ∨ x8) ∧ (¬x6 ∨ x8)) ∧ ((¬x7 ∨ x3) ∧ (¬x7 ∨ x5) ∧ (¬x3 ∨ ¬x5 ∨ x7)) ∧ ((¬x6 ∨ x3) ∧ (¬x6 ∨ x4) ∧ (¬x3 ∨ ¬x4 ∨ x6)) ∧ x10)\n"
     ]
    }
   ],
   "source": [
    "encode_thms = ['encode_conj', 'encode_disj', 'encode_imp', 'encode_eq', 'encode_not']\n",
    "for th in encode_thms:\n",
    "    encode_pt = encode_pt.on_prop(top_conv(rewr_conv(th)))\n",
    "print(encode_pt)"
   ]
  },
  {
   "cell_type": "markdown",
   "metadata": {},
   "source": [
    "Finally, we use the normalization of conjunction described in the previous section (available as `logic.conj_norm`) to simplify the conclusion:"
   ]
  },
  {
   "cell_type": "code",
   "execution_count": 11,
   "metadata": {},
   "outputs": [
    {
     "name": "stdout",
     "output_type": "stream",
     "text": [
      "ProofTerm(x1 ⟷ a, x2 ⟷ b, x3 ⟷ c, x4 ⟷ d, x5 ⟷ e, x10 ⟷ x8 ∨ x9, x6 ⟷ x3 ∧ x4, x7 ⟷ x3 ∧ x5, x8 ⟷ (x1 ⟶ x6), x9 ⟷ (x2 ⟶ x7), (a ⟶ c ∧ d) ∨ (b ⟶ c ∧ e) ⊢ x10 ∧ (x1 ∨ x8) ∧ (x2 ∨ x9) ∧ (¬x6 ∨ x3) ∧ (¬x6 ∨ x4) ∧ (¬x6 ∨ x8) ∧ (¬x7 ∨ x3) ∧ (¬x7 ∨ x5) ∧ (¬x7 ∨ x9) ∧ (¬x8 ∨ x10) ∧ (¬x9 ∨ x10) ∧ (¬x10 ∨ x8 ∨ x9) ∧ (¬x3 ∨ ¬x4 ∨ x6) ∧ (¬x3 ∨ ¬x5 ∨ x7) ∧ (¬x8 ∨ ¬x1 ∨ x6) ∧ (¬x9 ∨ ¬x2 ∨ x7))\n"
     ]
    }
   ],
   "source": [
    "encode_pt = encode_pt.on_prop(conj_norm())\n",
    "print(encode_pt)"
   ]
  },
  {
   "cell_type": "markdown",
   "metadata": {},
   "source": [
    "The following is the full code for the main function:"
   ]
  },
  {
   "cell_type": "code",
   "execution_count": 12,
   "metadata": {},
   "outputs": [],
   "source": [
    "def tseitin_encode(t):\n",
    "    \"\"\"Given a propositional formula t, compute its Tseitin encoding.\n",
    "    \n",
    "    Returns the proof term for the theorem (eqs, t) |- cnf encoding.\n",
    "    \"\"\"\n",
    "\n",
    "    # Mapping from subterms to newly introduced variables\n",
    "    subterm_dict = dict()\n",
    "    for i, subt in enumerate(logic_subterms(t)):\n",
    "        subterm_dict[subt] = Var('x' + str(i+1), BoolType)\n",
    "\n",
    "    # Collect list of equations\n",
    "    eqs = []\n",
    "    for subt in subterm_dict:\n",
    "        r = subterm_dict[subt]\n",
    "        if not is_logical(subt):\n",
    "            eqs.append(Eq(r, subt))\n",
    "        elif subt.is_not():\n",
    "            r1 = subterm_dict[subt.arg]\n",
    "            eqs.append(Eq(r, Not(r1)))\n",
    "        else:\n",
    "            r1 = subterm_dict[subt.arg1]\n",
    "            r2 = subterm_dict[subt.arg]\n",
    "            eqs.append(Eq(r, subt.head(r1, r2)))\n",
    "\n",
    "    # Form the proof term\n",
    "    eq_pts = [ProofTerm.assume(eq) for eq in eqs]\n",
    "    encode_pt = ProofTerm.assume(t)\n",
    "    for eq_pt in eq_pts:\n",
    "        encode_pt = encode_pt.on_prop(top_conv(rewr_conv(eq_pt, sym=True)))\n",
    "    for eq_pt in eq_pts:\n",
    "        if is_logical(eq_pt.rhs):\n",
    "            encode_pt = apply_theorem('conjI', eq_pt, encode_pt)\n",
    "    \n",
    "    # Rewrite using Tseitin rules\n",
    "    encode_thms = ['encode_conj', 'encode_disj', 'encode_imp', 'encode_eq', 'encode_not']\n",
    "    for th in encode_thms:\n",
    "        encode_pt = encode_pt.on_prop(top_conv(rewr_conv(th)))\n",
    "    \n",
    "    # Normalize the conjuncts\n",
    "    return encode_pt.on_prop(conj_norm())"
   ]
  },
  {
   "cell_type": "markdown",
   "metadata": {},
   "source": [
    "The code is called directly as follows:"
   ]
  },
  {
   "cell_type": "code",
   "execution_count": 13,
   "metadata": {},
   "outputs": [
    {
     "name": "stdout",
     "output_type": "stream",
     "text": [
      "ProofTerm(x1 ⟷ a, x2 ⟷ b, x3 ⟷ c, x4 ⟷ d, x5 ⟷ e, x10 ⟷ x8 ∨ x9, x6 ⟷ x3 ∧ x4, x7 ⟷ x3 ∧ x5, x8 ⟷ (x1 ⟶ x6), x9 ⟷ (x2 ⟶ x7), (a ⟶ c ∧ d) ∨ (b ⟶ c ∧ e) ⊢ x10 ∧ (x1 ∨ x8) ∧ (x2 ∨ x9) ∧ (¬x6 ∨ x3) ∧ (¬x6 ∨ x4) ∧ (¬x6 ∨ x8) ∧ (¬x7 ∨ x3) ∧ (¬x7 ∨ x5) ∧ (¬x7 ∨ x9) ∧ (¬x8 ∨ x10) ∧ (¬x9 ∨ x10) ∧ (¬x10 ∨ x8 ∨ x9) ∧ (¬x3 ∨ ¬x4 ∨ x6) ∧ (¬x3 ∨ ¬x5 ∨ x7) ∧ (¬x8 ∨ ¬x1 ∨ x6) ∧ (¬x9 ∨ ¬x2 ∨ x7))\n"
     ]
    }
   ],
   "source": [
    "a, b, c, d, e = BoolVars('a b c d e')\n",
    "t = Or(Implies(a, And(c, d)), Implies(b, And(c, e)))\n",
    "print(tseitin_encode(t))"
   ]
  },
  {
   "cell_type": "markdown",
   "metadata": {},
   "source": [
    "We test it on more examples:"
   ]
  },
  {
   "cell_type": "code",
   "execution_count": 14,
   "metadata": {},
   "outputs": [
    {
     "name": "stdout",
     "output_type": "stream",
     "text": [
      "ProofTerm(x1 ⟷ a, x2 ⟷ ¬x1, x3 ⟷ ¬x2, x4 ⟷ ¬x3, x6 ⟷ ¬x5, x5 ⟷ x1 ∨ x4, ¬(a ∨ ¬¬¬a) ⊢ x6 ∧ (x2 ∨ x1) ∧ (x3 ∨ x2) ∧ (x4 ∨ x3) ∧ (x6 ∨ x5) ∧ (¬x1 ∨ x5) ∧ (¬x4 ∨ x5) ∧ (¬x2 ∨ ¬x1) ∧ (¬x3 ∨ ¬x2) ∧ (¬x4 ∨ ¬x3) ∧ (¬x6 ∨ ¬x5) ∧ (¬x5 ∨ x1 ∨ x4))\n"
     ]
    }
   ],
   "source": [
    "# Pelletier's problem 7\n",
    "print(tseitin_encode(Not(Or(a, Not(Not(Not(a)))))))"
   ]
  },
  {
   "cell_type": "code",
   "execution_count": 15,
   "metadata": {},
   "outputs": [
    {
     "name": "stdout",
     "output_type": "stream",
     "text": [
      "ProofTerm(x1 ⟷ a, x2 ⟷ b, x6 ⟷ ¬x5, x3 ⟷ (x1 ⟶ x2), x4 ⟷ (x3 ⟶ x1), x5 ⟷ (x4 ⟶ x1), ¬(((a ⟶ b) ⟶ a) ⟶ a) ⊢ x6 ∧ (x1 ∨ x3) ∧ (x3 ∨ x4) ∧ (x4 ∨ x5) ∧ (x6 ∨ x5) ∧ (¬x1 ∨ x4) ∧ (¬x1 ∨ x5) ∧ (¬x2 ∨ x3) ∧ (¬x6 ∨ ¬x5) ∧ (¬x3 ∨ ¬x1 ∨ x2) ∧ (¬x4 ∨ ¬x3 ∨ x1) ∧ (¬x5 ∨ ¬x4 ∨ x1))\n"
     ]
    }
   ],
   "source": [
    "# Pelletier's problem 8, Pierce's law\n",
    "print(tseitin_encode(Not(Implies(Implies(Implies(a, b), a), a))))"
   ]
  },
  {
   "cell_type": "code",
   "execution_count": 16,
   "metadata": {},
   "outputs": [
    {
     "name": "stdout",
     "output_type": "stream",
     "text": [
      "ProofTerm(x1 ⟷ a, x2 ⟷ b, x3 ⟷ c, x9 ⟷ ¬x8, x4 ⟷ x1 ⟷ x2, x5 ⟷ x2 ⟷ x3, x6 ⟷ x1 ⟷ x5, x7 ⟷ x4 ⟷ x3, x8 ⟷ x7 ⟷ x6, ¬(((a ⟷ b) ⟷ c) ⟷ a ⟷ b ⟷ c) ⊢ x9 ∧ (x9 ∨ x8) ∧ (x4 ∨ x1 ∨ x2) ∧ (x5 ∨ x2 ∨ x3) ∧ (x6 ∨ x1 ∨ x5) ∧ (x7 ∨ x4 ∨ x3) ∧ (x8 ∨ x7 ∨ x6) ∧ (¬x9 ∨ ¬x8) ∧ (x4 ∨ ¬x1 ∨ ¬x2) ∧ (x5 ∨ ¬x2 ∨ ¬x3) ∧ (x6 ∨ ¬x1 ∨ ¬x5) ∧ (x7 ∨ ¬x4 ∨ ¬x3) ∧ (x8 ∨ ¬x7 ∨ ¬x6) ∧ (¬x4 ∨ x1 ∨ ¬x2) ∧ (¬x4 ∨ ¬x1 ∨ x2) ∧ (¬x5 ∨ x2 ∨ ¬x3) ∧ (¬x5 ∨ ¬x2 ∨ x3) ∧ (¬x6 ∨ x1 ∨ ¬x5) ∧ (¬x6 ∨ ¬x1 ∨ x5) ∧ (¬x7 ∨ x4 ∨ ¬x3) ∧ (¬x7 ∨ ¬x4 ∨ x3) ∧ (¬x8 ∨ x7 ∨ ¬x6) ∧ (¬x8 ∨ ¬x7 ∨ x6))\n"
     ]
    }
   ],
   "source": [
    "# Pelletier's problem 12\n",
    "print(tseitin_encode(Not(Eq(Eq(Eq(a, b), c), Eq(a, Eq(b, c))))))"
   ]
  }
 ],
 "metadata": {
  "kernelspec": {
   "display_name": "Python 3",
   "language": "python",
   "name": "python3"
  },
  "language_info": {
   "codemirror_mode": {
    "name": "ipython",
    "version": 3
   },
   "file_extension": ".py",
   "mimetype": "text/x-python",
   "name": "python",
   "nbconvert_exporter": "python",
   "pygments_lexer": "ipython3",
   "version": "3.6.6"
  }
 },
 "nbformat": 4,
 "nbformat_minor": 2
}
