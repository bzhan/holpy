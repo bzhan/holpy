{
 "cells": [
  {
   "cell_type": "markdown",
   "metadata": {},
   "source": [
    "$\\newcommand{\\To}{\\Rightarrow}$\n",
    "$\\newcommand{\\Suc}{\\operatorname{Suc}\\,}$\n",
    "$\\newcommand{\\zero}{\\mathrm{zero}}$\n",
    "$\\newcommand{\\one}{\\mathrm{one}}$\n",
    "$\\newcommand{\\bitz}{\\operatorname{bit0}\\,}$\n",
    "$\\newcommand{\\bito}{\\operatorname{bit1}\\,}$"
   ]
  },
  {
   "cell_type": "code",
   "execution_count": 1,
   "metadata": {},
   "outputs": [],
   "source": [
    "import os\n",
    "os.chdir('..')"
   ]
  },
  {
   "cell_type": "code",
   "execution_count": 2,
   "metadata": {},
   "outputs": [],
   "source": [
    "from kernel.type import NatType\n",
    "from kernel.term import Var, Nat, Inst, Eq, Lambda, Binary\n",
    "from kernel import theory\n",
    "from kernel.proofterm import refl, ProofTerm\n",
    "from logic import basic\n",
    "from logic.conv import top_conv, rewr_conv, every_conv, try_conv, arg_conv, repeat_conv, Conv\n",
    "from logic.logic import apply_theorem\n",
    "from data.nat import Suc, zero\n",
    "from syntax.settings import settings\n",
    "\n",
    "basic.load_theory('nat')\n",
    "settings.unicode = True"
   ]
  },
  {
   "cell_type": "markdown",
   "metadata": {},
   "source": [
    "## Peano arithmetic"
   ]
  },
  {
   "cell_type": "markdown",
   "metadata": {},
   "source": [
    "In higher-order logic, types like natural numbers are defined as an inductive datatype, following the construction of natural numbers using Peano arithmetic. This construction specifies that the natural numbers can be built through two constructors: $\\zero :: nat$ and $\\Suc :: nat \\To nat$ (here $\\hbox{Suc}$ is short for successor). This is usually written as:\n",
    "\n",
    "$$\\begin{align*}\n",
    "\\hbox{datatype }nat = \\zero\\ |\\ \\Suc nat\n",
    "\\end{align*}$$"
   ]
  },
  {
   "cell_type": "markdown",
   "metadata": {},
   "source": [
    "This means terms like $\\zero, \\Suc\\zero, \\Suc(\\Suc \\zero)$, etc are natural numbers. Moreover, these are the *only* natural numbers. It is clear that the numbers above correspond to $0, 1, 2$, etc.\n",
    "\n",
    "The fact that these are the only natural numbers is reflected in the following theorem, called *principle of mathematical induction*:"
   ]
  },
  {
   "cell_type": "code",
   "execution_count": 3,
   "metadata": {},
   "outputs": [
    {
     "name": "stdout",
     "output_type": "stream",
     "text": [
      "nat_induct: ⊢ P 0 ⟶ (∀n. P n ⟶ P (Suc n)) ⟶ P x\n"
     ]
    }
   ],
   "source": [
    "theory.print_theorem('nat_induct')"
   ]
  },
  {
   "cell_type": "markdown",
   "metadata": {},
   "source": [
    "The theorem says that, in order to prove any property $P$ holds for all natural numbers, it suffices to show that $P$ holds for $0$, and that if $P$ holds for $n$ then it holds for $\\Suc n$ (that is, $n+1$). The reason we insist on using $\\Suc n$ instead of $n+1$ is that so far, we are assuming that we have just defined natural numbers, and have not defined addition or proved any of its properties. This is what we will do next."
   ]
  },
  {
   "cell_type": "markdown",
   "metadata": {},
   "source": [
    "Addition on natural numbers is also defined by induction, more precisely, we define $m+n$ by induction on the first argument $m$. The definition consists of two equations, displayed as follows:\n",
    "\n",
    "$$\n",
    "\\begin{align*}\n",
    "& \\mathbf{fun} \\hbox{ plus} :: nat \\To nat \\To nat\\ \\mathbf{where} \\\\\n",
    "& \\quad 0 + n = n \\\\\n",
    "& \\quad \\hbox{Suc } m + n = \\hbox{Suc } (m + n)\n",
    "\\end{align*}\n",
    "$$"
   ]
  },
  {
   "cell_type": "markdown",
   "metadata": {},
   "source": [
    "The two equalities are given names `nat_plus_def_1` and `nat_plus_def_2` in holpy:"
   ]
  },
  {
   "cell_type": "code",
   "execution_count": 4,
   "metadata": {},
   "outputs": [
    {
     "name": "stdout",
     "output_type": "stream",
     "text": [
      "nat_plus_def_1: ⊢ 0 + n = n\n",
      "nat_plus_def_2: ⊢ Suc m + n = Suc (m + n)\n"
     ]
    }
   ],
   "source": [
    "theory.print_theorem('nat_plus_def_1', 'nat_plus_def_2')"
   ]
  },
  {
   "cell_type": "markdown",
   "metadata": {},
   "source": [
    "If we interpret $\\Suc n$ as $n+1$, it is clear that these equations are true. Morever, these two equations suffice to compute the sum of any two natural numbers expressed using $\\Suc$ and $\\zero$. For example, the following computes $2+1=3$:\n",
    "\n",
    "$$ \\Suc(\\Suc\\zero) + \\Suc\\zero = \\Suc(\\Suc\\zero + \\Suc\\zero) = \\Suc(\\Suc(\\zero + \\Suc\\zero)) = \\Suc(\\Suc(\\Suc\\zero)) $$\n",
    "\n",
    "Please check that the above calculation consists of two applications of `nat_plus_def_2`, followed by one application of `nat_plus_def_1`.\n",
    "\n",
    "We can realize this in Python as follows:"
   ]
  },
  {
   "cell_type": "code",
   "execution_count": 5,
   "metadata": {},
   "outputs": [
    {
     "name": "stdout",
     "output_type": "stream",
     "text": [
      "t: Suc (Suc 0) + Suc 0\n",
      "eq: ProofTerm(⊢ Suc (Suc 0) + Suc 0 = Suc (Suc (Suc 0)))\n"
     ]
    }
   ],
   "source": [
    "norm_plus_cv = top_conv('nat_plus_def_1', 'nat_plus_def_2')\n",
    "\n",
    "t = Suc(Suc(zero)) + Suc(zero)\n",
    "print('t:', t)\n",
    "print('eq:', refl(t).on_rhs(norm_plus_cv))"
   ]
  },
  {
   "cell_type": "markdown",
   "metadata": {},
   "source": [
    "Multiplication on natural numbers is defined in a similar way using induction:\n",
    "\n",
    "$$\n",
    "\\begin{align*}\n",
    "& \\mathbf{fun} \\hbox{ times} :: nat \\To nat \\To nat\\ \\mathbf{where} \\\\\n",
    "& \\quad 0 * n = 0 \\\\\n",
    "& \\quad \\hbox{Suc } m * n = n + m * n\n",
    "\\end{align*}\n",
    "$$"
   ]
  },
  {
   "cell_type": "markdown",
   "metadata": {},
   "source": [
    "This is recorded as the following theorems:"
   ]
  },
  {
   "cell_type": "code",
   "execution_count": 6,
   "metadata": {},
   "outputs": [
    {
     "name": "stdout",
     "output_type": "stream",
     "text": [
      "nat_times_def_1: ⊢ 0 * n = 0\n",
      "nat_times_def_2: ⊢ Suc m * n = n + m * n\n"
     ]
    }
   ],
   "source": [
    "theory.print_theorem('nat_times_def_1', 'nat_times_def_2')"
   ]
  },
  {
   "cell_type": "markdown",
   "metadata": {},
   "source": [
    "We can compute with multiplication as follows:"
   ]
  },
  {
   "cell_type": "code",
   "execution_count": 7,
   "metadata": {},
   "outputs": [
    {
     "name": "stdout",
     "output_type": "stream",
     "text": [
      "t: Suc (Suc 0) * Suc (Suc (Suc 0))\n",
      "ProofTerm(⊢ Suc (Suc 0) * Suc (Suc (Suc 0)) = Suc (Suc (Suc (Suc (Suc (Suc 0))))))\n"
     ]
    }
   ],
   "source": [
    "norm_times_cv = top_conv('nat_times_def_1', 'nat_times_def_2', norm_plus_cv)\n",
    "\n",
    "t = Suc(Suc(zero)) * Suc(Suc(Suc(zero)))\n",
    "print('t:', t)\n",
    "print(refl(t).on_rhs(norm_times_cv))"
   ]
  },
  {
   "cell_type": "markdown",
   "metadata": {},
   "source": [
    "## Proofs using induction"
   ]
  },
  {
   "cell_type": "markdown",
   "metadata": {},
   "source": [
    "We now give some examples of proofs using induction. First, note that while we know $0 + n = n$ directly from definition, the fact that $n + 0 = n$ still need to be proved. The proof is by induction on $n$. By induction, we need to prove $0+0=0$ and $\\forall n.\\,n+0=n \\to \\Suc n+0=\\Suc n$.\n",
    "\n",
    "#### Example:\n",
    "\n",
    "Prove $n + 0 = n$.\n",
    "\n",
    "#### Solution:\n",
    "\n",
    "0. $\\vdash 0 + 0 = 0$ by rewriting with nat_plus_def_1.\n",
    "1. $n + 0 = n \\vdash n + 0 = n$ by assume $n + 0 = n$.\n",
    "2. $\\vdash \\Suc(n) + 0 = \\Suc(n + 0)$ by rewriting with nat_plus_def_2.\n",
    "3. $n + 0 = n \\vdash \\Suc(n) + 0 = \\Suc(n)$ by rewriting 2 with 1.\n",
    "4. $\\vdash n + 0 = n \\to \\Suc(n) + 0 = \\Suc(n)$ by implies_intr $n + 0 = n$ from 3.\n",
    "5. $\\vdash \\forall n.\\,n + 0 = n \\to \\Suc(n) + 0 = \\Suc(n)$ by forall_intr $n$ from 4.\n",
    "6. $n + 0 = n$ by apply_theorem nat_induct from 0, 5.\n",
    "\n",
    "The proof can be realized in Python as follows:"
   ]
  },
  {
   "cell_type": "code",
   "execution_count": 8,
   "metadata": {},
   "outputs": [
    {
     "name": "stdout",
     "output_type": "stream",
     "text": [
      "ProofTerm(⊢ n + 0 = n)\n"
     ]
    }
   ],
   "source": [
    "n = Var('n', NatType)\n",
    "\n",
    "pt0 = refl(Nat(0) + 0).on_rhs(rewr_conv('nat_plus_def_1'))\n",
    "pt1 = ProofTerm.assume(Eq(n + 0, n))\n",
    "pt2 = refl(Suc(n) + 0).on_rhs(rewr_conv('nat_plus_def_2'))\n",
    "pt3 = pt2.on_rhs(arg_conv(rewr_conv(pt1)))\n",
    "pt4 = pt3.implies_intr(Eq(n + 0, n))\n",
    "pt5 = pt4.forall_intr(n)\n",
    "pt6 = apply_theorem('nat_induct', pt0, pt5, inst=Inst(P=Lambda(n, Eq(n + 0, n)), x=n))\n",
    "print(pt6)"
   ]
  },
  {
   "cell_type": "markdown",
   "metadata": {},
   "source": [
    "The exported proof is as follows. It is a bit longer than the proof written above because of extra steps inserted by conversions."
   ]
  },
  {
   "cell_type": "code",
   "execution_count": 9,
   "metadata": {},
   "outputs": [
    {
     "name": "stdout",
     "output_type": "stream",
     "text": [
      "0: ⊢ 0 + ?n = ?n by theorem nat_plus_def_1\n",
      "1: ⊢ (0::nat) + 0 = 0 by substitution {n: (0::nat)} from 0\n",
      "2: ⊢ Suc ?m + ?n = Suc (?m + ?n) by theorem nat_plus_def_2\n",
      "3: ⊢ Suc n + 0 = Suc (n + 0) by substitution {m: n, n: (0::nat)} from 2\n",
      "4: ⊢ Suc = Suc by reflexive Suc\n",
      "5: n + 0 = n ⊢ n + 0 = n by assume n + 0 = n\n",
      "6: n + 0 = n ⊢ Suc (n + 0) = Suc n by combination from 4, 5\n",
      "7: n + 0 = n ⊢ Suc n + 0 = Suc n by transitive from 3, 6\n",
      "8: ⊢ n + 0 = n ⟶ Suc n + 0 = Suc n by implies_intr n + 0 = n from 7\n",
      "9: ⊢ ∀n. n + 0 = n ⟶ Suc n + 0 = Suc n by forall_intr n from 8\n",
      "10: ⊢ n + 0 = n by apply_theorem_for nat_induct, {P: λn::nat. n + 0 = n, x: n} from 1, 9\n"
     ]
    }
   ],
   "source": [
    "print(pt6.export())"
   ]
  },
  {
   "cell_type": "markdown",
   "metadata": {},
   "source": [
    "We do a second example, this time concerning multiplication.\n",
    "\n",
    "#### Example:\n",
    "\n",
    "Prove $n * 0 = 0$.\n",
    "\n",
    "#### Solution:\n",
    "\n",
    "0. $\\vdash 0 * 0 = 0$ by rewriting with nat_times_def_1.\n",
    "1. $n * 0 = 0 \\vdash n * 0 = 0$ by assume $n * 0 = 0$.\n",
    "2. $\\vdash \\Suc(n) * 0 = 0 + n * 0$ by rewriting with nat_times_def_2.\n",
    "3. $\\vdash \\Suc(n) * 0 = n * 0$ by rewriting 2 with nat_plus_def_1.\n",
    "4. $n * 0 = 0 \\vdash \\Suc(n) * 0 = 0$ by rewriting 3 with 1.\n",
    "5. $\\vdash n * 0 = 0 \\to \\Suc(n) * 0 = 0$ implies_intr $n * 0 = 0$ from 4.\n",
    "6. $\\vdash \\forall n.\\,n * 0 = 0 \\to \\Suc(n) * 0 = 0$ by forall_intr $n$ from 5.\n",
    "7. $n * 0 = 0$ by apply_theorem nat_induct from 0, 6.\n",
    "\n",
    "This is realized in Python as follows:"
   ]
  },
  {
   "cell_type": "code",
   "execution_count": 10,
   "metadata": {},
   "outputs": [
    {
     "name": "stdout",
     "output_type": "stream",
     "text": [
      "ProofTerm(⊢ Suc n * 0 = 0 + n * 0)\n"
     ]
    }
   ],
   "source": [
    "n = Var('n', NatType)\n",
    "\n",
    "pt0 = refl(Nat(0) * 0).on_rhs(rewr_conv('nat_times_def_1'))\n",
    "pt1 = ProofTerm.assume(Eq(n * 0, 0))\n",
    "pt2 = refl(Suc(n) * 0).on_rhs(rewr_conv('nat_times_def_2'))\n",
    "pt3 = pt2.on_rhs(rewr_conv('nat_plus_def_1'))\n",
    "pt4 = pt3.on_rhs(rewr_conv(pt1))\n",
    "pt5 = pt4.implies_intr(Eq(n * 0, 0))\n",
    "pt6 = pt5.forall_intr(n)\n",
    "pt7 = apply_theorem('nat_induct', pt0, pt6, inst=Inst(P=Lambda(n, Eq(n * 0, 0)), x=n))\n",
    "print(pt2)"
   ]
  },
  {
   "cell_type": "markdown",
   "metadata": {},
   "source": [
    "The same approach can be used to prove other properties of addition and multiplication, such as associativity, commutativity, and distributivity. We leave the proofs to later, when the use of tactics make them more convenient."
   ]
  },
  {
   "cell_type": "markdown",
   "metadata": {},
   "source": [
    "## Binary representation"
   ]
  },
  {
   "cell_type": "markdown",
   "metadata": {},
   "source": [
    "Representing natural numbers using $\\Suc$ is straightforward but far from efficient. It is exponentially more expensive than decimal or binary notation. The same holds for carrying out arithmetic operations on natural numbers. Hence, in practice we use binary notation to represent natural numbers. A *binary number* is a term formed using $\\zero$, $\\one$, and two functions $\\bitz$ and $\\bito$. The two functions are defined as follows:"
   ]
  },
  {
   "cell_type": "code",
   "execution_count": 11,
   "metadata": {},
   "outputs": [
    {
     "name": "stdout",
     "output_type": "stream",
     "text": [
      "bit0_def: ⊢ bit0 n = n + n\n",
      "bit1_def: ⊢ bit1 n = n + n + 1\n"
     ]
    }
   ],
   "source": [
    "theory.print_theorem('bit0_def', 'bit1_def')"
   ]
  },
  {
   "cell_type": "markdown",
   "metadata": {},
   "source": [
    "It can be seen that each nonzero natural number can be represented uniquely as a sequence of applications of $\\bitz$ and $\\bito$ to $\\one$. The sequence of applications corresponds to the reverse of the binary representation of that number. For example, the number $10$ is $1010$ in binary form, and we have:\n",
    "\n",
    "$$ 10 = \\bitz(\\bito(\\bitz(\\one))) $$\n",
    "\n",
    "In holpy, the natural numbers zero and one are represented directly as constants. Natural numbers greater than one are represented using the function $\\hbox{of_nat} :: nat \\To nat$ applied to a natural number. The use of $\\hbox{of_nat}$ is for consistency with other numeral types, such as integers and real numbers. For natural numbers it is just the identity function. The pretty printer automatically prints a natural number in this form as numerals. However, we can deconstruct the function and argument to see its detailed structure:"
   ]
  },
  {
   "cell_type": "code",
   "execution_count": 12,
   "metadata": {},
   "outputs": [
    {
     "name": "stdout",
     "output_type": "stream",
     "text": [
      "(10::nat)\n",
      "(of_nat::nat ⇒ nat)\n",
      "bit0 (bit1 (bit0 1))\n"
     ]
    }
   ],
   "source": [
    "print(Nat(10))\n",
    "print(Nat(10).fun)\n",
    "print(Nat(10).arg)"
   ]
  },
  {
   "cell_type": "markdown",
   "metadata": {},
   "source": [
    "Another way to see the detailed binary form is to use the `print_basic` method for terms:"
   ]
  },
  {
   "cell_type": "code",
   "execution_count": 13,
   "metadata": {},
   "outputs": [
    {
     "name": "stdout",
     "output_type": "stream",
     "text": [
      "of_nat (bit0 (bit1 (bit0 one)))\n"
     ]
    }
   ],
   "source": [
    "print(Nat(10).print_basic())"
   ]
  },
  {
   "cell_type": "markdown",
   "metadata": {},
   "source": [
    "Addition on binary numbers is carried using several lemmas about $\\bitz$ and $\\bito$:"
   ]
  },
  {
   "cell_type": "code",
   "execution_count": 14,
   "metadata": {},
   "outputs": [
    {
     "name": "stdout",
     "output_type": "stream",
     "text": [
      "bit0_bit0_add: ⊢ bit0 m + bit0 n = bit0 (m + n)\n",
      "bit0_bit1_add: ⊢ bit0 m + bit1 n = bit1 (m + n)\n",
      "bit1_bit0_add: ⊢ bit1 m + bit0 n = bit1 (m + n)\n",
      "bit1_bit1_add: ⊢ bit1 m + bit1 n = bit0 (Suc (m + n))\n"
     ]
    }
   ],
   "source": [
    "theory.print_theorem('bit0_bit0_add', 'bit0_bit1_add', 'bit1_bit0_add', 'bit1_bit1_add')"
   ]
  },
  {
   "cell_type": "markdown",
   "metadata": {},
   "source": [
    "It reduces addition of two binary numbers to addition with smaller cases, as well as evaluation of $\\Suc$ on a binary number, for which we also have:"
   ]
  },
  {
   "cell_type": "code",
   "execution_count": 15,
   "metadata": {},
   "outputs": [
    {
     "name": "stdout",
     "output_type": "stream",
     "text": [
      "one_Suc: ⊢ Suc 1 = bit0 1\n",
      "bit0_Suc: ⊢ Suc (bit0 n) = bit1 n\n",
      "bit1_Suc: ⊢ Suc (bit1 n) = bit0 (Suc n)\n"
     ]
    }
   ],
   "source": [
    "theory.print_theorem('one_Suc', 'bit0_Suc', 'bit1_Suc')"
   ]
  },
  {
   "cell_type": "markdown",
   "metadata": {},
   "source": [
    "Hence, we can implement evaluation of $\\Suc$ on a binary number as follows:"
   ]
  },
  {
   "cell_type": "code",
   "execution_count": 16,
   "metadata": {},
   "outputs": [],
   "source": [
    "class Suc_conv(Conv):\n",
    "    def get_proof_term(self, t):\n",
    "        return refl(t).on_rhs(top_conv(('nat_one_def', 'sym'), 'one_Suc', 'bit0_Suc', 'bit1_Suc'))"
   ]
  },
  {
   "cell_type": "code",
   "execution_count": 17,
   "metadata": {},
   "outputs": [
    {
     "name": "stdout",
     "output_type": "stream",
     "text": [
      "ProofTerm(⊢ Suc (bit0 (bit1 (bit0 1))) = bit1 (bit1 (bit0 1)))\n",
      "ProofTerm(⊢ Suc 0 = 1)\n",
      "ProofTerm(⊢ Suc (bit1 1) = bit0 (bit0 1))\n"
     ]
    }
   ],
   "source": [
    "print(refl(Suc(Binary(10))).on_rhs(Suc_conv()))\n",
    "print(refl(Suc(Nat(0))).on_rhs(Suc_conv()))\n",
    "print(refl(Suc(Binary(3))).on_rhs(Suc_conv()))"
   ]
  },
  {
   "cell_type": "markdown",
   "metadata": {},
   "source": [
    "Next, evaluation of addition. Here a `repeat_conv` is needed because when using `bit1_bit1_add`, the result requires first evaluating the subterm $m+n$, then evaluating $\\Suc$ on the result, which does not fit with the top-down order. Hence `top_conv` is not able to finish evaluation in one run."
   ]
  },
  {
   "cell_type": "code",
   "execution_count": 18,
   "metadata": {},
   "outputs": [],
   "source": [
    "class add_conv(Conv):\n",
    "    def get_proof_term(self, t):\n",
    "        return refl(t).on_rhs(repeat_conv(top_conv(\n",
    "            'nat_plus_def_1', 'add_0_right', 'add_1_left', 'add_1_right',\n",
    "            'bit0_bit0_add', 'bit0_bit1_add', 'bit1_bit0_add', 'bit1_bit1_add', Suc_conv()\n",
    "        )))"
   ]
  },
  {
   "cell_type": "code",
   "execution_count": 19,
   "metadata": {},
   "outputs": [
    {
     "name": "stdout",
     "output_type": "stream",
     "text": [
      "ProofTerm(⊢ bit0 (bit1 (bit0 1)) + bit0 (bit1 1) = bit0 (bit0 (bit0 (bit0 1))))\n"
     ]
    }
   ],
   "source": [
    "print(refl(Binary(10)+Binary(6)).on_rhs(add_conv()))"
   ]
  },
  {
   "cell_type": "markdown",
   "metadata": {},
   "source": [
    "Likewise the theorems used for evaluating multiplication is as follows:"
   ]
  },
  {
   "cell_type": "code",
   "execution_count": 20,
   "metadata": {},
   "outputs": [
    {
     "name": "stdout",
     "output_type": "stream",
     "text": [
      "bit0_bit0_mult: ⊢ bit0 m * bit0 n = bit0 (bit0 (m * n))\n",
      "bit0_bit1_mult: ⊢ bit0 m * bit1 n = bit0 (m * bit1 n)\n",
      "bit1_bit0_mult: ⊢ bit1 m * bit0 n = bit0 (bit1 m * n)\n",
      "bit1_bit1_mult: ⊢ bit1 m * bit1 n = bit1 (m + n + bit0 (m * n))\n"
     ]
    }
   ],
   "source": [
    "theory.print_theorem('bit0_bit0_mult', 'bit0_bit1_mult', 'bit1_bit0_mult', 'bit1_bit1_mult')"
   ]
  },
  {
   "cell_type": "markdown",
   "metadata": {},
   "source": [
    "And the conversion can be implemented as:"
   ]
  },
  {
   "cell_type": "code",
   "execution_count": 21,
   "metadata": {},
   "outputs": [],
   "source": [
    "class mult_conv(Conv):\n",
    "    def get_proof_term(self, t):\n",
    "        return refl(t).on_rhs(repeat_conv(top_conv(\n",
    "            'nat_times_def_1', 'mult_0_right', 'mult_1_left', 'mult_1_right',\n",
    "            'bit0_bit0_mult', 'bit0_bit1_mult', 'bit1_bit0_mult', 'bit1_bit1_mult', add_conv()\n",
    "        )))"
   ]
  },
  {
   "cell_type": "code",
   "execution_count": 22,
   "metadata": {},
   "outputs": [
    {
     "name": "stdout",
     "output_type": "stream",
     "text": [
      "ProofTerm(⊢ bit0 (bit1 (bit0 1)) * bit0 (bit1 1) = bit0 (bit0 (bit1 (bit1 (bit1 1)))))\n"
     ]
    }
   ],
   "source": [
    "print(refl(Binary(10)*Binary(6)).on_rhs(mult_conv()))"
   ]
  }
 ],
 "metadata": {
  "kernelspec": {
   "display_name": "Python 3",
   "language": "python",
   "name": "python3"
  },
  "language_info": {
   "codemirror_mode": {
    "name": "ipython",
    "version": 3
   },
   "file_extension": ".py",
   "mimetype": "text/x-python",
   "name": "python",
   "nbconvert_exporter": "python",
   "pygments_lexer": "ipython3",
   "version": "3.6.6"
  }
 },
 "nbformat": 4,
 "nbformat_minor": 2
}
