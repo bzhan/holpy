{
 "cells": [
  {
   "cell_type": "markdown",
   "metadata": {},
   "source": [
    "$\\newcommand{\\To}{\\Rightarrow}$"
   ]
  },
  {
   "cell_type": "code",
   "execution_count": 3,
   "metadata": {},
   "outputs": [],
   "source": [
    "import os, sys\n",
    "sys.path.append(os.path.split(os.getcwd())[0])"
   ]
  },
  {
   "cell_type": "code",
   "execution_count": 32,
   "metadata": {},
   "outputs": [],
   "source": [
    "from kernel.type import TFun, boolT\n",
    "from kernel.term import Term, Var\n",
    "from kernel.thm import Thm\n",
    "from logic.nat import natT\n",
    "from logic import basic\n",
    "from syntax import printer\n",
    "\n",
    "thy = basic.loadTheory('nat')"
   ]
  },
  {
   "cell_type": "markdown",
   "metadata": {},
   "source": [
    "## Equality"
   ]
  },
  {
   "cell_type": "markdown",
   "metadata": {},
   "source": [
    "In this section, we introduce rules for working with equality. Equality is characterized by four essential properties: reflexivity, symmetry, transitivity, and congruence. They are stated as follows:\n",
    "\n",
    "$$ \\frac{}{\\vdash x = x} \\hbox{ reflexive} $$\n",
    "\n",
    "$$ \\frac{\\vdash x = y}{\\vdash y = x} \\hbox{ symmetric} $$\n",
    "\n",
    "$$ \\frac{\\vdash x = y \\quad \\vdash y = z}{\\vdash x = z} \\hbox{ transitive} $$\n",
    "\n",
    "$$ \\frac{\\vdash f = g \\quad \\vdash x = y}{\\vdash f\\ x = g\\ y} \\hbox{ combination} $$\n",
    "\n",
    "These rules can be invoked as follows:"
   ]
  },
  {
   "cell_type": "code",
   "execution_count": 25,
   "metadata": {},
   "outputs": [
    {
     "name": "stdout",
     "output_type": "stream",
     "text": [
      "⊢ x = x\n",
      "⊢ y = x\n",
      "⊢ x = z\n",
      "⊢ f x = g y\n"
     ]
    }
   ],
   "source": [
    "x = Var(\"x\", natT)\n",
    "y = Var(\"y\", natT)\n",
    "z = Var(\"z\", natT)\n",
    "\n",
    "print(printer.print_thm(thy, Thm.reflexive(x), unicode=True))\n",
    "\n",
    "th1 = Thm([], Term.mk_equals(x, y))\n",
    "th2 = Thm([], Term.mk_equals(y, z))\n",
    "print(printer.print_thm(thy, Thm.symmetric(th1), unicode=True))\n",
    "\n",
    "print(printer.print_thm(thy, Thm.transitive(th1, th2), unicode=True))\n",
    "\n",
    "f = Var(\"f\", TFun(natT, natT))\n",
    "g = Var(\"g\", TFun(natT, natT))\n",
    "\n",
    "th5 = Thm([], Term.mk_equals(f, g))\n",
    "print(printer.print_thm(thy, Thm.combination(th5, th1), unicode=True))"
   ]
  },
  {
   "cell_type": "markdown",
   "metadata": {},
   "source": [
    "These rules can be used with `implies_intr` to prove corresponding implication theorems. The following example show a variant of the combination rule, where the function stays the same.\n",
    "\n",
    "#### Example:\n",
    "\n",
    "Prove $x = y \\to f\\ x = f\\ y$.\n",
    "\n",
    "#### Solution:\n",
    "\n",
    "0. $\\vdash f = f$ by reflexive $f$.\n",
    "1. $x = y \\vdash x = y$ by assume $x = y$.\n",
    "2. $x = y \\vdash f\\ x = f\\ y$ by combination from 0, 1.\n",
    "3. $\\vdash x = y \\to f\\ x = f\\ y$ by implies_intr $x = y$.\n",
    "\n",
    "In Python, this is as follows:"
   ]
  },
  {
   "cell_type": "code",
   "execution_count": 27,
   "metadata": {},
   "outputs": [
    {
     "name": "stdout",
     "output_type": "stream",
     "text": [
      "⊢ x = y ⟶ f x = f y\n"
     ]
    }
   ],
   "source": [
    "th0 = Thm.reflexive(f)\n",
    "th1 = Thm.assume(Term.mk_equals(x, y))\n",
    "th2 = Thm.combination(th0, th1)\n",
    "th3 = Thm.implies_intr(Term.mk_equals(x, y), th2)\n",
    "print(printer.print_thm(thy, th3, unicode=True))"
   ]
  },
  {
   "cell_type": "markdown",
   "metadata": {},
   "source": [
    "We now show a more complex example, on the congruence property of functions on two variables:\n",
    "\n",
    "#### Example:\n",
    "\n",
    "Prove $x_1 = x_2 \\to y_1 = y_2 \\to h\\ x_1\\ y_1 = h\\ x_2\\ y_2$.\n",
    "\n",
    "#### Solution:\n",
    "\n",
    "0. $\\vdash h = h$ by reflexive $h$.\n",
    "1. $x_1 = x_2 \\vdash x_1 = x_2$ by assume $x_1 = x_2$.\n",
    "2. $y_1 = y_2 \\vdash y_1 = y_2$ by assume $y_1 = y_2$.\n",
    "3. $x_1 = x_2 \\vdash h\\ x_1 = h\\ x_2$ by combination from 0, 1.\n",
    "4. $x_1 = x_2, y_1 = y_2 \\vdash h\\ x_1\\ y_1 = h\\ x_2\\ y_2$ by combination from 3, 2.\n",
    "5. $x_1 = x_2 \\vdash y_1 = y_2 \\to h\\ x_1\\ y_1 = h\\ x_2\\ y_2$ by implies_intr $y_1 = y_2$ from 4.\n",
    "6. $\\vdash x_1 = x_2 \\to y_1 = y_2 \\to h\\ x_1\\ y_1 = h\\ x_2\\ y_2$ by implies_intr $x_1 = x_2$ from 5."
   ]
  },
  {
   "cell_type": "code",
   "execution_count": 30,
   "metadata": {},
   "outputs": [
    {
     "name": "stdout",
     "output_type": "stream",
     "text": [
      "⊢ x1 = x2 ⟶ y1 = y2 ⟶ h x1 y1 = h x2 y2\n"
     ]
    }
   ],
   "source": [
    "h = Var(\"h\", TFun(natT, natT, natT))\n",
    "x1 = Var(\"x1\", natT)\n",
    "x2 = Var(\"x2\", natT)\n",
    "y1 = Var(\"y1\", natT)\n",
    "y2 = Var(\"y2\", natT)\n",
    "th0 = Thm.reflexive(h)\n",
    "th1 = Thm.assume(Term.mk_equals(x1, x2))\n",
    "th2 = Thm.assume(Term.mk_equals(y1, y2))\n",
    "th3 = Thm.combination(th0, th1)\n",
    "th4 = Thm.combination(th3, th2)\n",
    "th5 = Thm.implies_intr(Term.mk_equals(y1, y2), th4)\n",
    "th6 = Thm.implies_intr(Term.mk_equals(x1, x2), th5)\n",
    "print(printer.print_thm(thy, th6, unicode=True))"
   ]
  },
  {
   "cell_type": "markdown",
   "metadata": {},
   "source": [
    "## Equality on booleans"
   ]
  },
  {
   "cell_type": "markdown",
   "metadata": {},
   "source": [
    "Two primitive deduction rules concern equality between boolean terms. `equal_intr` states that an equality between boolean terms can be proved by showing two implications. This corresponds to showing an if-and-only-if statement by showing the two directions.\n",
    "\n",
    "$$ \\frac{\\vdash A \\to B \\quad \\vdash B \\to A}{\\vdash A = B} \\hbox{ equal_intr} $$\n",
    "\n",
    "An example:"
   ]
  },
  {
   "cell_type": "code",
   "execution_count": 34,
   "metadata": {},
   "outputs": [
    {
     "name": "stdout",
     "output_type": "stream",
     "text": [
      "⊢ A = B\n"
     ]
    }
   ],
   "source": [
    "A = Var(\"A\", boolT)\n",
    "B = Var(\"B\", boolT)\n",
    "th0 = Thm([], Term.mk_implies(A, B))\n",
    "th1 = Thm([], Term.mk_implies(B, A))\n",
    "print(printer.print_thm(thy, Thm.equal_intr(th0, th1), unicode=True))"
   ]
  },
  {
   "cell_type": "markdown",
   "metadata": {},
   "source": [
    "The `equal_elim` rule states that given $A = B$ and $A$, we can obtain $B$. It shows how to make use of an equality between booleans.\n",
    "\n",
    "$$ \\frac{\\vdash A = B \\quad \\vdash A}{\\vdash B} \\hbox{ equal_elim} $$\n",
    "\n",
    "#### Example:\n",
    "\n",
    "Prove $\\vdash a = b \\to P\\ a \\to P\\ b$.\n",
    "\n",
    "#### Solution:\n",
    "\n",
    "0. $a = b \\vdash a = b$ by assume $a = b$.\n",
    "1. $P\\ a \\vdash P\\ a$ by assume $P\\ a$.\n",
    "2. $\\vdash P = P$ by reflexive $P$.\n",
    "3. $a = b \\vdash P\\ a = P\\ b$ by combination from 2, 0.\n",
    "4. $a = b, P\\ a \\vdash P\\ b$ by equal_elim from 3, 1.\n",
    "5. $a = b \\vdash P\\ a \\to P\\ b$ by implies_intr $P\\ a$.\n",
    "6. $\\vdash a = b \\to P\\ a \\to P\\ b$ by implies_intr $a = b$."
   ]
  },
  {
   "cell_type": "code",
   "execution_count": 40,
   "metadata": {},
   "outputs": [
    {
     "name": "stdout",
     "output_type": "stream",
     "text": [
      "⊢ a = b ⟶ P a ⟶ P b\n"
     ]
    }
   ],
   "source": [
    "a = Var(\"a\", natT)\n",
    "b = Var(\"b\", natT)\n",
    "P = Var(\"P\", TFun(natT, boolT))\n",
    "th0 = Thm.assume(Term.mk_equals(a, b))\n",
    "th1 = Thm.assume(P(a))\n",
    "th2 = Thm.reflexive(P)\n",
    "th3 = Thm.combination(th2, th0)\n",
    "th4 = Thm.equal_elim(th3, th1)\n",
    "th5 = Thm.implies_intr(P(a), th4)\n",
    "th6 = Thm.implies_intr(Term.mk_equals(a, b), th5)\n",
    "print(printer.print_thm(thy, th6, unicode=True))"
   ]
  }
 ],
 "metadata": {
  "kernelspec": {
   "display_name": "Python 3",
   "language": "python",
   "name": "python3"
  },
  "language_info": {
   "codemirror_mode": {
    "name": "ipython",
    "version": 3
   },
   "file_extension": ".py",
   "mimetype": "text/x-python",
   "name": "python",
   "nbconvert_exporter": "python",
   "pygments_lexer": "ipython3",
   "version": "3.5.2"
  }
 },
 "nbformat": 4,
 "nbformat_minor": 2
}
