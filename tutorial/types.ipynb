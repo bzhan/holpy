{
 "cells": [
  {
   "cell_type": "markdown",
   "metadata": {},
   "source": [
    "$\\newcommand{\\To}{\\Rightarrow}$"
   ]
  },
  {
   "cell_type": "code",
   "execution_count": 24,
   "metadata": {},
   "outputs": [],
   "source": [
    "import os, sys\n",
    "sys.path.append(os.path.split(os.getcwd())[0])"
   ]
  },
  {
   "cell_type": "code",
   "execution_count": 23,
   "metadata": {},
   "outputs": [],
   "source": [
    "from kernel.type import HOLType, TVar, Type, TFun, hol_bool"
   ]
  },
  {
   "cell_type": "markdown",
   "metadata": {},
   "source": [
    "## Types"
   ]
  },
  {
   "cell_type": "markdown",
   "metadata": {},
   "source": [
    "In higher-order logic, every term has a type. Common types include booleans, natural numbers, functions, lists, and so on. We also need the concept of *type variables*. Types are implemented in `kernel/type.py`.\n",
    "\n",
    "Booleans and natural numbers are type constants that do not take any parameters. They can be constructed as follows:"
   ]
  },
  {
   "cell_type": "code",
   "execution_count": 18,
   "metadata": {
    "scrolled": true
   },
   "outputs": [
    {
     "name": "stdout",
     "output_type": "stream",
     "text": [
      "bool\n"
     ]
    }
   ],
   "source": [
    "print(Type(\"bool\"))"
   ]
  },
  {
   "cell_type": "code",
   "execution_count": 19,
   "metadata": {},
   "outputs": [
    {
     "name": "stdout",
     "output_type": "stream",
     "text": [
      "nat\n"
     ]
    }
   ],
   "source": [
    "print(Type(\"nat\"))"
   ]
  },
  {
   "cell_type": "markdown",
   "metadata": {},
   "source": [
    "We use `hol_bool` as a shortcut for `Type(\"bool\")`."
   ]
  },
  {
   "cell_type": "code",
   "execution_count": 29,
   "metadata": {},
   "outputs": [
    {
     "name": "stdout",
     "output_type": "stream",
     "text": [
      "bool\n"
     ]
    }
   ],
   "source": [
    "print(hol_bool)"
   ]
  },
  {
   "cell_type": "markdown",
   "metadata": {},
   "source": [
    "Functions is a very important class of types. Given any two types $A$ and $B$, the type $A \\To B$ represents functions from $A$ to $B$. For example, the type $nat \\To bool$ represents functions from natural numbers to booleans, or in other words, properties of natural numbers. This type is constructed as follows:"
   ]
  },
  {
   "cell_type": "code",
   "execution_count": 30,
   "metadata": {},
   "outputs": [
    {
     "name": "stdout",
     "output_type": "stream",
     "text": [
      "nat => bool\n"
     ]
    }
   ],
   "source": [
    "print(Type(\"fun\", Type(\"nat\"), hol_bool))"
   ]
  },
  {
   "cell_type": "markdown",
   "metadata": {},
   "source": [
    "A shortcut to construct function types is to use `TFun`:"
   ]
  },
  {
   "cell_type": "code",
   "execution_count": 31,
   "metadata": {},
   "outputs": [
    {
     "name": "stdout",
     "output_type": "stream",
     "text": [
      "nat => bool\n"
     ]
    }
   ],
   "source": [
    "print(TFun(Type(\"nat\"), hol_bool))"
   ]
  },
  {
   "cell_type": "markdown",
   "metadata": {},
   "source": [
    "A key concept for dealing with function types is *currying*. It allows us to represent functions of multiple arguments. For example, the type of functions taking two natural numbers as arguments, and output one natural number, is given by $nat \\To (nat \\To nat)$. Note this is very different from $(nat \\To nat) \\To nat$. Since the former is used more frequently, we have the convention that the operator $\\To$ associates to the right, so the former type is simply written as $nat \\To nat \\To nat$. In general, the type $A_1 \\To \\cdots \\To A_n \\To C$ can be read as: functions taking arguments of type $A_1,\\dots A_n$ as input, and output a value of type $C$."
   ]
  },
  {
   "cell_type": "code",
   "execution_count": 25,
   "metadata": {},
   "outputs": [
    {
     "name": "stdout",
     "output_type": "stream",
     "text": [
      "nat => nat => nat\n"
     ]
    }
   ],
   "source": [
    "print(TFun(Type(\"nat\"), TFun(Type(\"nat\"), Type(\"nat\"))))"
   ]
  },
  {
   "cell_type": "markdown",
   "metadata": {},
   "source": [
    "`TFun` can actually take any number of arguments:"
   ]
  },
  {
   "cell_type": "code",
   "execution_count": 26,
   "metadata": {},
   "outputs": [
    {
     "name": "stdout",
     "output_type": "stream",
     "text": [
      "nat => nat => nat\n"
     ]
    }
   ],
   "source": [
    "print(TFun(Type(\"nat\"), Type(\"nat\"), Type(\"nat\")))"
   ]
  },
  {
   "cell_type": "markdown",
   "metadata": {},
   "source": [
    "Functions are not the only types with arguments. Given any type $A$, we can form the type of (finite) lists with entries in $A$:"
   ]
  },
  {
   "cell_type": "code",
   "execution_count": 27,
   "metadata": {},
   "outputs": [
    {
     "name": "stdout",
     "output_type": "stream",
     "text": [
      "nat list\n"
     ]
    }
   ],
   "source": [
    "print(Type(\"list\", Type(\"nat\")))"
   ]
  },
  {
   "cell_type": "markdown",
   "metadata": {},
   "source": [
    "All these can be combined in arbitrary ways. For example, the following is a type representing lists of functions that take a list of natural numbers as input, and returns a natural number:"
   ]
  },
  {
   "cell_type": "code",
   "execution_count": 28,
   "metadata": {},
   "outputs": [
    {
     "name": "stdout",
     "output_type": "stream",
     "text": [
      "(nat list => nat) list\n"
     ]
    }
   ],
   "source": [
    "print(Type(\"list\", TFun(Type(\"list\", Type(\"nat\")), Type(\"nat\"))))"
   ]
  }
 ],
 "metadata": {
  "kernelspec": {
   "display_name": "Python 3",
   "language": "python",
   "name": "python3"
  },
  "language_info": {
   "codemirror_mode": {
    "name": "ipython",
    "version": 3
   },
   "file_extension": ".py",
   "mimetype": "text/x-python",
   "name": "python",
   "nbconvert_exporter": "python",
   "pygments_lexer": "ipython3",
   "version": "3.5.2"
  }
 },
 "nbformat": 4,
 "nbformat_minor": 2
}
