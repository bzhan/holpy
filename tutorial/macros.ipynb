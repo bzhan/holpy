{
 "cells": [
  {
   "cell_type": "markdown",
   "metadata": {},
   "source": [
    "$\\newcommand{\\To}{\\Rightarrow}$\n",
    "$\\newcommand{\\false}{\\mathrm{false}}$"
   ]
  },
  {
   "cell_type": "code",
   "execution_count": 3,
   "metadata": {},
   "outputs": [],
   "source": [
    "import os, sys\n",
    "sys.path.append(os.path.split(os.getcwd())[0])"
   ]
  },
  {
   "cell_type": "code",
   "execution_count": 12,
   "metadata": {},
   "outputs": [],
   "source": [
    "from kernel.type import boolT\n",
    "from kernel.term import Var\n",
    "from kernel.report import ProofReport\n",
    "from logic import basic\n",
    "from logic import matcher\n",
    "from logic.proofterm import ProofTerm, ProofTermDeriv, ProofTermMacro\n",
    "from syntax import printer\n",
    "\n",
    "thy = basic.loadTheory('logic_base')"
   ]
  },
  {
   "cell_type": "markdown",
   "metadata": {},
   "source": [
    "## Macros"
   ]
  },
  {
   "cell_type": "markdown",
   "metadata": {},
   "source": [
    "In this section, we introduce the central concept of macros. Macros are deduction rules that serve as abbreviations for more elementary proof steps. In both linear proof and proof terms, one can use an invocation of a macro to substitute for multiple steps of proof. The macro invocations can be expanded on demand during proof checking. Hence, they shorten the length of proofs that need to be stored, and make the whole system scalable to large proofs.\n",
    "\n",
    "The standard way to create a macro is to inherit from class `ProofTermMacro` (so called because it constructs a macro from functions working with proof terms). The new macro class needs to implement the `get_proof_term` method, which takes as arguments the current theory, arguments to the macro, and a list of input proof terms. If the inputs are valid, the function should return the resulting proof term.\n",
    "\n",
    "Again, we use applying a theorem as an example, this time implementing it as a macro. We choose the name `apply_theorem_test` to avoid name conflicts with the existing `apply_theorem` macro."
   ]
  },
  {
   "cell_type": "code",
   "execution_count": 5,
   "metadata": {},
   "outputs": [],
   "source": [
    "class apply_theorem_test(ProofTermMacro):\n",
    "    def __init__(self):\n",
    "        self.level = 1\n",
    "\n",
    "    def get_proof_term(self, thy, th_name, prevs):\n",
    "        pt = ProofTerm.theorem(thy, th_name)\n",
    "        As, _ = pt.prop.strip_implies()  # list of assumptions of pt\n",
    "        instsp = dict(), dict()      # initial (empty) instantiation\n",
    "        for A, prev in zip(As, prevs):   # match each assumption with corresponding prev\n",
    "            matcher.first_order_match_incr(A, prev.prop, instsp)\n",
    "        tyinst, inst = instsp\n",
    "        pt2 = ProofTerm.subst_type(tyinst, pt) if tyinst else pt   # perform substitution on pt\n",
    "        pt3 = ProofTerm.substitution(inst, pt2) if inst else pt2\n",
    "        for prev in prevs:                   # perform implies_elim on pt\n",
    "            pt3 = ProofTerm.implies_elim(pt3, prev)\n",
    "        return pt3"
   ]
  },
  {
   "cell_type": "markdown",
   "metadata": {},
   "source": [
    "The implementation of `get_proof_term` in `apply_theorem_test` is exactly the same as `apply_theorem` function in the previous section. We can test this macro independently:"
   ]
  },
  {
   "cell_type": "code",
   "execution_count": 6,
   "metadata": {},
   "outputs": [
    {
     "name": "stdout",
     "output_type": "stream",
     "text": [
      "0: ⊢ A ⟶ B ⟶ A ∧ B by theorem conjI\n",
      "1: ⊢ A ⟶ B ⟶ A ∧ B by substitution {A: A, B: B} from 0\n",
      "2: A ⊢ A by assume A\n",
      "3: A ⊢ B ⟶ A ∧ B by implies_elim from 1, 2\n",
      "4: B ⊢ B by assume B\n",
      "5: A, B ⊢ A ∧ B by implies_elim from 3, 4\n"
     ]
    }
   ],
   "source": [
    "A = Var(\"A\", boolT)\n",
    "B = Var(\"B\", boolT)\n",
    "ptA = ProofTerm.assume(A)\n",
    "ptB = ProofTerm.assume(B)\n",
    "ptAB = apply_theorem_test().get_proof_term(thy, 'conjI', [ptA, ptB])\n",
    "prf = ptAB.export()\n",
    "thy.check_proof(prf)\n",
    "print(printer.print_proof(thy, prf, unicode=True))"
   ]
  },
  {
   "cell_type": "markdown",
   "metadata": {},
   "source": [
    "To use this macro in proofs, we need to first register it to the theory object. For this, we use the `add_proof_macro` method. It takes two arguments: the name of the macro, and the macro object."
   ]
  },
  {
   "cell_type": "code",
   "execution_count": 7,
   "metadata": {},
   "outputs": [],
   "source": [
    "thy.add_proof_macro('apply_theorem_test', apply_theorem_test())"
   ]
  },
  {
   "cell_type": "markdown",
   "metadata": {},
   "source": [
    "Even though the name of the macro agrees with the class name in this case, this is not required. Nor is it necessary that the macro object be built from a constructor taking no arguments. It can be built in any other way, as long as the `get_proof_term` method is present. This also marks the first time that we modified the theory object directly. As it is now clear, it is the job of the theory object to keep track of the set of macros that can be used in proofs, in addition to the list of types, constants, theorems, and so on."
   ]
  },
  {
   "cell_type": "code",
   "execution_count": 9,
   "metadata": {},
   "outputs": [
    {
     "name": "stdout",
     "output_type": "stream",
     "text": [
      "A, B ⊢ A ∧ B\n"
     ]
    }
   ],
   "source": [
    "ptA = ProofTerm.assume(A)\n",
    "ptB = ProofTerm.assume(B)\n",
    "ptAB = ProofTermDeriv('apply_theorem_test', thy, 'conjI', prevs=[ptA, ptB])\n",
    "print(printer.print_thm(thy, ptAB, unicode=True))"
   ]
  },
  {
   "cell_type": "markdown",
   "metadata": {},
   "source": [
    "As we can see, the sequent obtained by `ptAB` is computed immediately, using the `get_proof_term` function. However, the full proofs is not stored:"
   ]
  },
  {
   "cell_type": "code",
   "execution_count": 10,
   "metadata": {},
   "outputs": [
    {
     "name": "stdout",
     "output_type": "stream",
     "text": [
      "0: assume A\n",
      "1: assume B\n",
      "2: apply_theorem_test conjI from 0, 1\n"
     ]
    }
   ],
   "source": [
    "prf = ptAB.export()\n",
    "print(printer.print_proof(thy, prf, unicode=True))"
   ]
  },
  {
   "cell_type": "markdown",
   "metadata": {},
   "source": [
    "In the exported proof, the proof rule `apply_theorem_test` appears directly. Let us now check the proof while keeping the report:"
   ]
  },
  {
   "cell_type": "code",
   "execution_count": 15,
   "metadata": {},
   "outputs": [
    {
     "name": "stdout",
     "output_type": "stream",
     "text": [
      "0: A ⊢ A by assume A\n",
      "1: B ⊢ B by assume B\n",
      "2: A, B ⊢ A ∧ B by apply_theorem_test conjI from 0, 1 \n",
      "\n",
      "Steps: 6\n",
      "  Theorems:  1\n",
      "  Primitive: 5\n",
      "  Macro:     0\n",
      "Theorems applied: conjI\n",
      "Macros evaluated: \n",
      "Macros expanded: apply_theorem_test\n",
      "Gaps: []\n"
     ]
    }
   ],
   "source": [
    "rpt = ProofReport()\n",
    "thy.check_proof(prf, rpt)\n",
    "print(printer.print_proof(thy, prf, unicode=True), \"\\n\")\n",
    "print(rpt)"
   ]
  },
  {
   "cell_type": "markdown",
   "metadata": {},
   "source": [
    "This time the report is quite informative. While the original proof is only 3 steps, the report says 6 steps were taken, of which there is one application of a theorem (`conjI`) and 5 primitive steps. In addition, the macro `apply_theorem_test` is expanded. This means during proof checking, the full proof behind `apply_theorem_test` is expanded, first using its `get_proof_term` function to obtain a proof term, then converting that proof term into a linear proof."
   ]
  }
 ],
 "metadata": {
  "kernelspec": {
   "display_name": "Python 3",
   "language": "python",
   "name": "python3"
  },
  "language_info": {
   "codemirror_mode": {
    "name": "ipython",
    "version": 3
   },
   "file_extension": ".py",
   "mimetype": "text/x-python",
   "name": "python",
   "nbconvert_exporter": "python",
   "pygments_lexer": "ipython3",
   "version": "3.6.6"
  }
 },
 "nbformat": 4,
 "nbformat_minor": 2
}
