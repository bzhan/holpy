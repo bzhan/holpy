{
 "cells": [
  {
   "cell_type": "markdown",
   "metadata": {},
   "source": [
    "$\\newcommand{\\To}{\\Rightarrow}$"
   ]
  },
  {
   "cell_type": "code",
   "execution_count": 1,
   "metadata": {},
   "outputs": [],
   "source": [
    "import os, sys\n",
    "sys.path.append(os.path.split(os.getcwd())[0])"
   ]
  },
  {
   "cell_type": "code",
   "execution_count": 2,
   "metadata": {},
   "outputs": [],
   "source": [
    "from kernel.type import HOLType, TVar, Type, TFun, boolT\n",
    "from data.nat import natT"
   ]
  },
  {
   "cell_type": "markdown",
   "metadata": {},
   "source": [
    "## Types"
   ]
  },
  {
   "cell_type": "markdown",
   "metadata": {},
   "source": [
    "In higher-order logic, every term has a type. Common types include booleans, natural numbers, functions, lists, and so on. We also need the concept of *type variables*. Types are implemented in `kernel/type.py`.\n",
    "\n",
    "Booleans and natural numbers are type constants that do not take any parameters. They can be constructed as follows:"
   ]
  },
  {
   "cell_type": "code",
   "execution_count": 3,
   "metadata": {
    "scrolled": true
   },
   "outputs": [
    {
     "name": "stdout",
     "output_type": "stream",
     "text": [
      "bool\n"
     ]
    }
   ],
   "source": [
    "print(Type(\"bool\"))"
   ]
  },
  {
   "cell_type": "code",
   "execution_count": 4,
   "metadata": {},
   "outputs": [
    {
     "name": "stdout",
     "output_type": "stream",
     "text": [
      "nat\n"
     ]
    }
   ],
   "source": [
    "print(Type(\"nat\"))"
   ]
  },
  {
   "cell_type": "markdown",
   "metadata": {},
   "source": [
    "We use `boolT` as a shorthand for `Type(\"bool\")`, and `natT` as a shorthand for `Type(\"nat\")`."
   ]
  },
  {
   "cell_type": "code",
   "execution_count": 5,
   "metadata": {},
   "outputs": [
    {
     "name": "stdout",
     "output_type": "stream",
     "text": [
      "bool\n",
      "nat\n"
     ]
    }
   ],
   "source": [
    "print(boolT)\n",
    "print(natT)"
   ]
  },
  {
   "cell_type": "markdown",
   "metadata": {},
   "source": [
    "Functions is a very important class of types. Given any two types $A$ and $B$, the type $A \\To B$ represents functions from $A$ to $B$. For example, the type $nat \\To bool$ represents functions from natural numbers to booleans, or in other words, properties of natural numbers. This type is constructed as follows:"
   ]
  },
  {
   "cell_type": "code",
   "execution_count": 6,
   "metadata": {},
   "outputs": [
    {
     "name": "stdout",
     "output_type": "stream",
     "text": [
      "nat => bool\n"
     ]
    }
   ],
   "source": [
    "print(Type(\"fun\", natT, boolT))"
   ]
  },
  {
   "cell_type": "markdown",
   "metadata": {},
   "source": [
    "A shortcut to construct function types is to use `TFun`:"
   ]
  },
  {
   "cell_type": "code",
   "execution_count": 7,
   "metadata": {},
   "outputs": [
    {
     "name": "stdout",
     "output_type": "stream",
     "text": [
      "nat => bool\n"
     ]
    }
   ],
   "source": [
    "print(TFun(natT, boolT))"
   ]
  },
  {
   "cell_type": "markdown",
   "metadata": {},
   "source": [
    "A key concept for dealing with function types is *currying*. It allows us to represent functions of multiple arguments. For example, the type of functions taking two natural numbers as arguments, and output one natural number, is given by $nat \\To (nat \\To nat)$. Note this is very different from $(nat \\To nat) \\To nat$. Since the former is used more frequently, we have the convention that the operator $\\To$ associates to the right, so the former type is simply written as $nat \\To nat \\To nat$. In general, the type $A_1 \\To \\cdots \\To A_n \\To C$ can be read as: functions taking arguments of type $A_1,\\dots A_n$ as input, and output a value of type $C$."
   ]
  },
  {
   "cell_type": "code",
   "execution_count": 8,
   "metadata": {},
   "outputs": [
    {
     "name": "stdout",
     "output_type": "stream",
     "text": [
      "nat => nat => nat\n"
     ]
    }
   ],
   "source": [
    "print(TFun(natT, TFun(natT, natT)))"
   ]
  },
  {
   "cell_type": "markdown",
   "metadata": {},
   "source": [
    "`TFun` can actually take any number of arguments:"
   ]
  },
  {
   "cell_type": "code",
   "execution_count": 9,
   "metadata": {},
   "outputs": [
    {
     "name": "stdout",
     "output_type": "stream",
     "text": [
      "nat => nat => nat\n"
     ]
    }
   ],
   "source": [
    "print(TFun(natT, natT, natT))"
   ]
  },
  {
   "cell_type": "markdown",
   "metadata": {},
   "source": [
    "Functions are not the only types with arguments. Given any type $A$, we can form the type of (finite) lists with entries in $A$:"
   ]
  },
  {
   "cell_type": "code",
   "execution_count": 10,
   "metadata": {},
   "outputs": [
    {
     "name": "stdout",
     "output_type": "stream",
     "text": [
      "nat list\n"
     ]
    }
   ],
   "source": [
    "print(Type(\"list\", natT))"
   ]
  },
  {
   "cell_type": "markdown",
   "metadata": {},
   "source": [
    "All these can be combined in arbitrary ways. For example, the following is a type representing lists of functions that take a list of natural numbers as input, and returns a natural number:"
   ]
  },
  {
   "cell_type": "code",
   "execution_count": 11,
   "metadata": {},
   "outputs": [
    {
     "name": "stdout",
     "output_type": "stream",
     "text": [
      "(nat list => nat) list\n"
     ]
    }
   ],
   "source": [
    "print(Type(\"list\", TFun(Type(\"list\", natT), natT)))"
   ]
  },
  {
   "cell_type": "markdown",
   "metadata": {},
   "source": [
    "A few methods are defined for working with function types:\n",
    "- `is_fun()` returns whether the type is a function type.\n",
    "- Given a type $A \\To B$, `domain_type()` returns $A$ and `range_type()` returns $B$.\n",
    "- Given a type $A_1 \\To\\cdots\\To A_n\\To B$, `strip_type()` returns the pair $[A_1,\\dots,A_n], B$."
   ]
  },
  {
   "cell_type": "code",
   "execution_count": 12,
   "metadata": {},
   "outputs": [
    {
     "name": "stdout",
     "output_type": "stream",
     "text": [
      "True\n",
      "False\n",
      "nat\n",
      "bool\n",
      "([Type(nat, [])], Type(bool, []))\n",
      "([Type(nat, []), Type(nat, [])], Type(bool, []))\n"
     ]
    }
   ],
   "source": [
    "a = TFun(natT, boolT)\n",
    "print(a.is_fun())\n",
    "print(boolT.is_fun())\n",
    "print(a.domain_type())\n",
    "print(a.range_type())\n",
    "print(a.strip_type())\n",
    "\n",
    "b = TFun(natT, natT, boolT)\n",
    "print(b.strip_type())"
   ]
  },
  {
   "cell_type": "markdown",
   "metadata": {},
   "source": [
    "## Type variables"
   ]
  },
  {
   "cell_type": "markdown",
   "metadata": {},
   "source": [
    "A *type variable* is a variable that can stand in for any type. We follow the convention of writing a type variable with name $a$ as `'a`. Type variables are constructed as follows:"
   ]
  },
  {
   "cell_type": "code",
   "execution_count": 13,
   "metadata": {},
   "outputs": [
    {
     "name": "stdout",
     "output_type": "stream",
     "text": [
      "'a\n"
     ]
    }
   ],
   "source": [
    "print(TVar(\"a\"))"
   ]
  },
  {
   "cell_type": "markdown",
   "metadata": {},
   "source": [
    "Type variables can be used as arguments to type constructors. For example, the following type represents all functions from type $a$ to type $b$:"
   ]
  },
  {
   "cell_type": "code",
   "execution_count": 14,
   "metadata": {},
   "outputs": [
    {
     "name": "stdout",
     "output_type": "stream",
     "text": [
      "'a => 'b\n"
     ]
    }
   ],
   "source": [
    "print(TFun(TVar(\"a\"), TVar(\"b\")))"
   ]
  },
  {
   "cell_type": "markdown",
   "metadata": {},
   "source": [
    "Next, we introduce the important concepts of *substitution* and *matching*. A type with type variables can be considered as a *pattern* for producing types. If each type variable in the pattern is assigned a concrete value, the pattern can be *instantiated* to a concrete type (without type variables). We illustrate this with some examples."
   ]
  },
  {
   "cell_type": "code",
   "execution_count": 15,
   "metadata": {},
   "outputs": [
    {
     "name": "stdout",
     "output_type": "stream",
     "text": [
      "'a => 'b\n",
      "nat => bool\n",
      "(nat => nat) => bool\n",
      "nat => nat => bool\n"
     ]
    }
   ],
   "source": [
    "p = TFun(TVar(\"a\"), TVar(\"b\"))\n",
    "print(p)\n",
    "print(p.subst({\"a\": natT, \"b\": boolT}))\n",
    "print(p.subst({\"a\": TFun(natT, natT), \"b\": boolT}))\n",
    "print(p.subst({\"a\": natT, \"b\": TFun(natT, boolT)}))"
   ]
  },
  {
   "cell_type": "markdown",
   "metadata": {},
   "source": [
    "In fact, we can assign a type variable to another type containing type variables. Note in this case, substitution of all variables is performed at the same time."
   ]
  },
  {
   "cell_type": "code",
   "execution_count": 16,
   "metadata": {},
   "outputs": [
    {
     "name": "stdout",
     "output_type": "stream",
     "text": [
      "'b => 'a\n"
     ]
    }
   ],
   "source": [
    "print(p.subst({\"a\": TVar(\"b\"), \"b\": TVar(\"a\")}))"
   ]
  },
  {
   "cell_type": "markdown",
   "metadata": {},
   "source": [
    "Matching can be considered as the dual of substitution. Given a pattern $p$ (a type containing type variables) and a type $t$ (with or without type variables), it determines whether $p$ can be instantiated to $t$, and returns the assignment of type variables in $p$ if it is possible."
   ]
  },
  {
   "cell_type": "code",
   "execution_count": 17,
   "metadata": {},
   "outputs": [
    {
     "name": "stdout",
     "output_type": "stream",
     "text": [
      "{'a': Type(nat, []), 'b': Type(bool, [])}\n"
     ]
    }
   ],
   "source": [
    "print(p.match(TFun(natT, boolT)))"
   ]
  },
  {
   "cell_type": "markdown",
   "metadata": {},
   "source": [
    "If it is impossible to instantiate $p$ to $t$, the match function throws a `TypeMatchException`:"
   ]
  },
  {
   "cell_type": "code",
   "execution_count": 18,
   "metadata": {
    "tags": [
     "raises-exception"
    ]
   },
   "outputs": [
    {
     "ename": "TypeMatchException",
     "evalue": "",
     "output_type": "error",
     "traceback": [
      "\u001b[0;31m---------------------------------------------------------------------------\u001b[0m",
      "\u001b[0;31mTypeMatchException\u001b[0m                        Traceback (most recent call last)",
      "\u001b[0;32m<ipython-input-18-327b27ec9da6>\u001b[0m in \u001b[0;36m<module>\u001b[0;34m()\u001b[0m\n\u001b[0;32m----> 1\u001b[0;31m \u001b[0mp\u001b[0m\u001b[0;34m.\u001b[0m\u001b[0mmatch\u001b[0m\u001b[0;34m(\u001b[0m\u001b[0mnatT\u001b[0m\u001b[0;34m)\u001b[0m  \u001b[0;31m# raises TypeMatchException\u001b[0m\u001b[0;34m\u001b[0m\u001b[0m\n\u001b[0m",
      "\u001b[0;32m~/Private/holpy/kernel/type.py\u001b[0m in \u001b[0;36mmatch\u001b[0;34m(self, T, internal_only)\u001b[0m\n\u001b[1;32m    175\u001b[0m         \"\"\"\n\u001b[1;32m    176\u001b[0m         \u001b[0mtyinst\u001b[0m \u001b[0;34m=\u001b[0m \u001b[0mdict\u001b[0m\u001b[0;34m(\u001b[0m\u001b[0;34m)\u001b[0m\u001b[0;34m\u001b[0m\u001b[0m\n\u001b[0;32m--> 177\u001b[0;31m         \u001b[0mself\u001b[0m\u001b[0;34m.\u001b[0m\u001b[0mmatch_incr\u001b[0m\u001b[0;34m(\u001b[0m\u001b[0mT\u001b[0m\u001b[0;34m,\u001b[0m \u001b[0mtyinst\u001b[0m\u001b[0;34m,\u001b[0m \u001b[0minternal_only\u001b[0m\u001b[0;34m=\u001b[0m\u001b[0minternal_only\u001b[0m\u001b[0;34m)\u001b[0m\u001b[0;34m\u001b[0m\u001b[0m\n\u001b[0m\u001b[1;32m    178\u001b[0m         \u001b[0;32mreturn\u001b[0m \u001b[0mtyinst\u001b[0m\u001b[0;34m\u001b[0m\u001b[0m\n\u001b[1;32m    179\u001b[0m \u001b[0;34m\u001b[0m\u001b[0m\n",
      "\u001b[0;32m~/Private/holpy/kernel/type.py\u001b[0m in \u001b[0;36mmatch_incr\u001b[0;34m(self, T, tyinst, internal_only)\u001b[0m\n\u001b[1;32m    162\u001b[0m         \u001b[0;32melif\u001b[0m \u001b[0mself\u001b[0m\u001b[0;34m.\u001b[0m\u001b[0mty\u001b[0m \u001b[0;34m==\u001b[0m \u001b[0mHOLType\u001b[0m\u001b[0;34m.\u001b[0m\u001b[0mTYPE\u001b[0m\u001b[0;34m:\u001b[0m\u001b[0;34m\u001b[0m\u001b[0m\n\u001b[1;32m    163\u001b[0m             \u001b[0;32mif\u001b[0m \u001b[0mT\u001b[0m\u001b[0;34m.\u001b[0m\u001b[0mty\u001b[0m \u001b[0;34m!=\u001b[0m \u001b[0mHOLType\u001b[0m\u001b[0;34m.\u001b[0m\u001b[0mTYPE\u001b[0m \u001b[0;32mor\u001b[0m \u001b[0mT\u001b[0m\u001b[0;34m.\u001b[0m\u001b[0mname\u001b[0m \u001b[0;34m!=\u001b[0m \u001b[0mself\u001b[0m\u001b[0;34m.\u001b[0m\u001b[0mname\u001b[0m\u001b[0;34m:\u001b[0m\u001b[0;34m\u001b[0m\u001b[0m\n\u001b[0;32m--> 164\u001b[0;31m                 \u001b[0;32mraise\u001b[0m \u001b[0mTypeMatchException\u001b[0m\u001b[0;34m(\u001b[0m\u001b[0;34m)\u001b[0m\u001b[0;34m\u001b[0m\u001b[0m\n\u001b[0m\u001b[1;32m    165\u001b[0m             \u001b[0;32melse\u001b[0m\u001b[0;34m:\u001b[0m\u001b[0;34m\u001b[0m\u001b[0m\n\u001b[1;32m    166\u001b[0m                 \u001b[0;32mfor\u001b[0m \u001b[0marg\u001b[0m\u001b[0;34m,\u001b[0m \u001b[0margT\u001b[0m \u001b[0;32min\u001b[0m \u001b[0mzip\u001b[0m\u001b[0;34m(\u001b[0m\u001b[0mself\u001b[0m\u001b[0;34m.\u001b[0m\u001b[0margs\u001b[0m\u001b[0;34m,\u001b[0m \u001b[0mT\u001b[0m\u001b[0;34m.\u001b[0m\u001b[0margs\u001b[0m\u001b[0;34m)\u001b[0m\u001b[0;34m:\u001b[0m\u001b[0;34m\u001b[0m\u001b[0m\n",
      "\u001b[0;31mTypeMatchException\u001b[0m: "
     ]
    }
   ],
   "source": [
    "p.match(natT)  # raises TypeMatchException"
   ]
  },
  {
   "cell_type": "markdown",
   "metadata": {},
   "source": [
    "Note the same type variable can appear multiple times in a pattern. During matching, each occurrence of the type variable must be assigned to the same type."
   ]
  },
  {
   "cell_type": "code",
   "execution_count": 19,
   "metadata": {},
   "outputs": [
    {
     "name": "stdout",
     "output_type": "stream",
     "text": [
      "'a list => 'a\n",
      "nat list => nat\n",
      "{'a': Type(nat, [])}\n"
     ]
    }
   ],
   "source": [
    "q = TFun(Type(\"list\", TVar(\"a\")), TVar(\"a\"))\n",
    "print(q)\n",
    "print(q.subst({\"a\": natT}))\n",
    "print(q.match(TFun(Type(\"list\", natT), natT)))"
   ]
  },
  {
   "cell_type": "markdown",
   "metadata": {},
   "source": [
    "Here is an example of a matching that failed because the two occurrences of `'a` correspond to different types ($nat$ and $bool$)."
   ]
  },
  {
   "cell_type": "code",
   "execution_count": 20,
   "metadata": {
    "scrolled": false,
    "tags": [
     "raises-exception"
    ]
   },
   "outputs": [
    {
     "ename": "TypeMatchException",
     "evalue": "",
     "output_type": "error",
     "traceback": [
      "\u001b[0;31m---------------------------------------------------------------------------\u001b[0m",
      "\u001b[0;31mTypeMatchException\u001b[0m                        Traceback (most recent call last)",
      "\u001b[0;32m<ipython-input-20-ba41bee10e6d>\u001b[0m in \u001b[0;36m<module>\u001b[0;34m()\u001b[0m\n\u001b[0;32m----> 1\u001b[0;31m \u001b[0mq\u001b[0m\u001b[0;34m.\u001b[0m\u001b[0mmatch\u001b[0m\u001b[0;34m(\u001b[0m\u001b[0mTFun\u001b[0m\u001b[0;34m(\u001b[0m\u001b[0mType\u001b[0m\u001b[0;34m(\u001b[0m\u001b[0;34m\"list\"\u001b[0m\u001b[0;34m,\u001b[0m \u001b[0mnatT\u001b[0m\u001b[0;34m)\u001b[0m\u001b[0;34m,\u001b[0m \u001b[0mboolT\u001b[0m\u001b[0;34m)\u001b[0m\u001b[0;34m)\u001b[0m  \u001b[0;31m# raises TypeMatchException\u001b[0m\u001b[0;34m\u001b[0m\u001b[0m\n\u001b[0m",
      "\u001b[0;32m~/Private/holpy/kernel/type.py\u001b[0m in \u001b[0;36mmatch\u001b[0;34m(self, T, internal_only)\u001b[0m\n\u001b[1;32m    175\u001b[0m         \"\"\"\n\u001b[1;32m    176\u001b[0m         \u001b[0mtyinst\u001b[0m \u001b[0;34m=\u001b[0m \u001b[0mdict\u001b[0m\u001b[0;34m(\u001b[0m\u001b[0;34m)\u001b[0m\u001b[0;34m\u001b[0m\u001b[0m\n\u001b[0;32m--> 177\u001b[0;31m         \u001b[0mself\u001b[0m\u001b[0;34m.\u001b[0m\u001b[0mmatch_incr\u001b[0m\u001b[0;34m(\u001b[0m\u001b[0mT\u001b[0m\u001b[0;34m,\u001b[0m \u001b[0mtyinst\u001b[0m\u001b[0;34m,\u001b[0m \u001b[0minternal_only\u001b[0m\u001b[0;34m=\u001b[0m\u001b[0minternal_only\u001b[0m\u001b[0;34m)\u001b[0m\u001b[0;34m\u001b[0m\u001b[0m\n\u001b[0m\u001b[1;32m    178\u001b[0m         \u001b[0;32mreturn\u001b[0m \u001b[0mtyinst\u001b[0m\u001b[0;34m\u001b[0m\u001b[0m\n\u001b[1;32m    179\u001b[0m \u001b[0;34m\u001b[0m\u001b[0m\n",
      "\u001b[0;32m~/Private/holpy/kernel/type.py\u001b[0m in \u001b[0;36mmatch_incr\u001b[0;34m(self, T, tyinst, internal_only)\u001b[0m\n\u001b[1;32m    165\u001b[0m             \u001b[0;32melse\u001b[0m\u001b[0;34m:\u001b[0m\u001b[0;34m\u001b[0m\u001b[0m\n\u001b[1;32m    166\u001b[0m                 \u001b[0;32mfor\u001b[0m \u001b[0marg\u001b[0m\u001b[0;34m,\u001b[0m \u001b[0margT\u001b[0m \u001b[0;32min\u001b[0m \u001b[0mzip\u001b[0m\u001b[0;34m(\u001b[0m\u001b[0mself\u001b[0m\u001b[0;34m.\u001b[0m\u001b[0margs\u001b[0m\u001b[0;34m,\u001b[0m \u001b[0mT\u001b[0m\u001b[0;34m.\u001b[0m\u001b[0margs\u001b[0m\u001b[0;34m)\u001b[0m\u001b[0;34m:\u001b[0m\u001b[0;34m\u001b[0m\u001b[0m\n\u001b[0;32m--> 167\u001b[0;31m                     \u001b[0marg\u001b[0m\u001b[0;34m.\u001b[0m\u001b[0mmatch_incr\u001b[0m\u001b[0;34m(\u001b[0m\u001b[0margT\u001b[0m\u001b[0;34m,\u001b[0m \u001b[0mtyinst\u001b[0m\u001b[0;34m,\u001b[0m \u001b[0minternal_only\u001b[0m\u001b[0;34m=\u001b[0m\u001b[0minternal_only\u001b[0m\u001b[0;34m)\u001b[0m\u001b[0;34m\u001b[0m\u001b[0m\n\u001b[0m\u001b[1;32m    168\u001b[0m         \u001b[0;32melse\u001b[0m\u001b[0;34m:\u001b[0m\u001b[0;34m\u001b[0m\u001b[0m\n\u001b[1;32m    169\u001b[0m             \u001b[0;32mraise\u001b[0m \u001b[0mTypeError\u001b[0m\u001b[0;34m(\u001b[0m\u001b[0;34m)\u001b[0m\u001b[0;34m\u001b[0m\u001b[0m\n",
      "\u001b[0;32m~/Private/holpy/kernel/type.py\u001b[0m in \u001b[0;36mmatch_incr\u001b[0;34m(self, T, tyinst, internal_only)\u001b[0m\n\u001b[1;32m    157\u001b[0m             \u001b[0;32melif\u001b[0m \u001b[0mself\u001b[0m\u001b[0;34m.\u001b[0m\u001b[0mname\u001b[0m \u001b[0;32min\u001b[0m \u001b[0mtyinst\u001b[0m\u001b[0;34m:\u001b[0m\u001b[0;34m\u001b[0m\u001b[0m\n\u001b[1;32m    158\u001b[0m                 \u001b[0;32mif\u001b[0m \u001b[0mT\u001b[0m \u001b[0;34m!=\u001b[0m \u001b[0mtyinst\u001b[0m\u001b[0;34m[\u001b[0m\u001b[0mself\u001b[0m\u001b[0;34m.\u001b[0m\u001b[0mname\u001b[0m\u001b[0;34m]\u001b[0m\u001b[0;34m:\u001b[0m\u001b[0;34m\u001b[0m\u001b[0m\n\u001b[0;32m--> 159\u001b[0;31m                     \u001b[0;32mraise\u001b[0m \u001b[0mTypeMatchException\u001b[0m\u001b[0;34m(\u001b[0m\u001b[0;34m)\u001b[0m\u001b[0;34m\u001b[0m\u001b[0m\n\u001b[0m\u001b[1;32m    160\u001b[0m             \u001b[0;32melse\u001b[0m\u001b[0;34m:\u001b[0m\u001b[0;34m\u001b[0m\u001b[0m\n\u001b[1;32m    161\u001b[0m                 \u001b[0mtyinst\u001b[0m\u001b[0;34m[\u001b[0m\u001b[0mself\u001b[0m\u001b[0;34m.\u001b[0m\u001b[0mname\u001b[0m\u001b[0;34m]\u001b[0m \u001b[0;34m=\u001b[0m \u001b[0mT\u001b[0m\u001b[0;34m\u001b[0m\u001b[0m\n",
      "\u001b[0;31mTypeMatchException\u001b[0m: "
     ]
    }
   ],
   "source": [
    "q.match(TFun(Type(\"list\", natT), boolT))  # raises TypeMatchException"
   ]
  },
  {
   "cell_type": "markdown",
   "metadata": {},
   "source": [
    "## Miscellaneous functions"
   ]
  },
  {
   "cell_type": "markdown",
   "metadata": {},
   "source": [
    "`name` can be used to access the name of a type variable or constructor. `args` can be used to access the list of arguments (returned as a tuple):"
   ]
  },
  {
   "cell_type": "code",
   "execution_count": 21,
   "metadata": {},
   "outputs": [
    {
     "name": "stdout",
     "output_type": "stream",
     "text": [
      "a\n",
      "list\n",
      "(Type(nat, []),)\n"
     ]
    }
   ],
   "source": [
    "a = TVar(\"a\")\n",
    "print(a.name)\n",
    "\n",
    "b = Type(\"list\", natT)\n",
    "print(b.name)\n",
    "print(b.args)"
   ]
  },
  {
   "cell_type": "markdown",
   "metadata": {},
   "source": [
    "`get_tvars()` returns the list of type variables in a type. `get_tsubs()` returns the list of all types appearing in a type."
   ]
  },
  {
   "cell_type": "code",
   "execution_count": 22,
   "metadata": {},
   "outputs": [
    {
     "name": "stdout",
     "output_type": "stream",
     "text": [
      "'a => 'b => nat\n",
      "'a, 'b\n",
      "'a => 'b => nat, 'a, 'b => nat, 'b, nat\n"
     ]
    }
   ],
   "source": [
    "a = TFun(TVar(\"a\"), TVar(\"b\"), natT)\n",
    "print(a)\n",
    "print(\", \".join(str(t) for t in a.get_tvars()))\n",
    "print(\", \".join(str(t) for t in a.get_tsubs()))"
   ]
  }
 ],
 "metadata": {
  "kernelspec": {
   "display_name": "Python 3",
   "language": "python",
   "name": "python3"
  },
  "language_info": {
   "codemirror_mode": {
    "name": "ipython",
    "version": 3
   },
   "file_extension": ".py",
   "mimetype": "text/x-python",
   "name": "python",
   "nbconvert_exporter": "python",
   "pygments_lexer": "ipython3",
   "version": "3.5.2"
  }
 },
 "nbformat": 4,
 "nbformat_minor": 2
}
