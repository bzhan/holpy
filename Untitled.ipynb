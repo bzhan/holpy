{
 "cells": [
  {
   "cell_type": "code",
   "execution_count": 5,
   "metadata": {},
   "outputs": [],
   "source": [
    "A, B, C, D, E = range(2,7)"
   ]
  },
  {
   "cell_type": "code",
   "execution_count": 6,
   "metadata": {},
   "outputs": [
    {
     "data": {
      "text/plain": [
       "(2, 3)"
      ]
     },
     "execution_count": 6,
     "metadata": {},
     "output_type": "execute_result"
    }
   ],
   "source": [
    "A, B"
   ]
  },
  {
   "cell_type": "code",
   "execution_count": 8,
   "metadata": {},
   "outputs": [],
   "source": [
    "from kernel.term import Var, Const\n",
    "from kernel.type import boolT"
   ]
  },
  {
   "cell_type": "code",
   "execution_count": 10,
   "metadata": {},
   "outputs": [
    {
     "name": "stdout",
     "output_type": "stream",
     "text": [
      "Var(a,bool)\n"
     ]
    }
   ],
   "source": [
    "print(repr(Var(\"a\", boolT)))"
   ]
  },
  {
   "cell_type": "code",
   "execution_count": 11,
   "metadata": {
    "scrolled": true
   },
   "outputs": [
    {
     "data": {
      "text/plain": [
       "[0, 1, 2, 3, 4]"
      ]
     },
     "execution_count": 11,
     "metadata": {},
     "output_type": "execute_result"
    }
   ],
   "source": [
    "list(range(5))"
   ]
  },
  {
   "cell_type": "code",
   "execution_count": null,
   "metadata": {},
   "outputs": [],
   "source": [
    "from kernel.type import Type, TFun\n",
    "from kernel.term import Term, Const\n",
    "from kernel.thm import Thm\n",
    "from kernel import macro\n",
    "from logic.conv import Conv, ConvException, all_conv, rewr_conv, \\\n",
    "    then_conv, arg_conv, arg1_conv, every_conv, binop_conv\n",
    "from logic.proofterm import ProofTerm, ProofTermMacro, ProofTermDeriv, refl\n",
    "from logic.logic_macro import apply_theorem\n",
    "from logic import logic\n",
    "from logic import term_ord"
   ]
  },
  {
   "cell_type": "code",
   "execution_count": null,
   "metadata": {},
   "outputs": [],
   "source": [
    "natT = Type(\"nat\")\n",
    "zero = Const(\"zero\", natT)\n",
    "Suc = Const(\"Suc\", TFun(natT, natT))\n",
    "one = Suc(zero)\n",
    "plus = Const(\"plus\", TFun(natT, natT, natT))\n",
    "times = Const(\"times\", TFun(natT, natT, natT))"
   ]
  }
 ],
 "metadata": {
  "kernelspec": {
   "display_name": "Python 3",
   "language": "python",
   "name": "python3"
  },
  "language_info": {
   "codemirror_mode": {
    "name": "ipython",
    "version": 3
   },
   "file_extension": ".py",
   "mimetype": "text/x-python",
   "name": "python",
   "nbconvert_exporter": "python",
   "pygments_lexer": "ipython3",
   "version": "3.5.2"
  }
 },
 "nbformat": 4,
 "nbformat_minor": 2
}
