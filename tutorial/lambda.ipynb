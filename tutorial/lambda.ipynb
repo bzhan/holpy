{
 "cells": [
  {
   "cell_type": "markdown",
   "metadata": {},
   "source": [
    "$\\newcommand{\\To}{\\Rightarrow}$"
   ]
  },
  {
   "cell_type": "code",
   "execution_count": 1,
   "metadata": {},
   "outputs": [],
   "source": [
    "import os\n",
    "os.chdir('..')"
   ]
  },
  {
   "cell_type": "code",
   "execution_count": 2,
   "metadata": {},
   "outputs": [],
   "source": [
    "from kernel.type import TFun, BoolType, NatType\n",
    "from kernel import term\n",
    "from kernel.term import Term, Var, Const, Lambda, Abs, Bound, Nat, Or, Eq, Forall, Exists, Implies, And\n",
    "from data import nat\n",
    "from logic import basic\n",
    "\n",
    "basic.load_theory('nat')"
   ]
  },
  {
   "cell_type": "markdown",
   "metadata": {},
   "source": [
    "## Lambda calculus"
   ]
  },
  {
   "cell_type": "markdown",
   "metadata": {},
   "source": [
    "In the previous section, we discussed how to construct terms consisting of variables, constants, and function application. The relevant constructors are `Var`, `Const`, and `Comb`. In this section, we discuss construction of *lambda terms*, which completes the representation of terms in *lambda calculus*.\n",
    "\n",
    "The motivation is as follows: we have already noted that terms can have function type. For example, in the previous section, we can declare a variable $f$ of type $nat \\To nat$ by `Var(\"f\", TFun(NatType, NatType))`. We have also encountered constants that have function type, for example the addition operator. However, we have not said anything about how to construct new examples of such functions.\n",
    "\n",
    "In principle, any well-defined rule for computing the output from the input should be representable as a function. For example, there should be a function that takes as input a natural number $n$, and outputs $n+2$. In higher-order logic (also known as *simply-typed lambda calculus*), we can represent such functions as *lambda terms*. The above function can be written (in mathematical notation) as:\n",
    "\n",
    "$$ \\lambda n. n + 2 $$\n",
    "\n",
    "Here $n$ (the variable right after $\\lambda$) is known as a *bound variable*, in the sense that it is associated to the $\\lambda$ sign directly in front of it, and is valid only in the scope of that $\\lambda$ sign. It is important to note that *the name of the bound variable does not matter*. The expression $\\lambda n. n + 2$ means the same thing as the expression $\\lambda m. m + 2$. Both represent functions that add 2 to its input. We say that two terms are *$\\alpha$-equivalent* if one can be changed to the other by changing the names of some bound variables."
   ]
  },
  {
   "cell_type": "markdown",
   "metadata": {},
   "source": [
    "We can construct a function term using `Lambda`."
   ]
  },
  {
   "cell_type": "code",
   "execution_count": 3,
   "metadata": {},
   "outputs": [
    {
     "name": "stdout",
     "output_type": "stream",
     "text": [
      "%n::nat. n + 2\n"
     ]
    }
   ],
   "source": [
    "n = Var('n', NatType)\n",
    "f = Lambda(n, n + 2)\n",
    "print(f)"
   ]
  },
  {
   "cell_type": "markdown",
   "metadata": {},
   "source": [
    "Note $\\lambda$ is printed in ASCII using `%`. We can test that the name of bound variable does not matter by constructing `t` in another way:"
   ]
  },
  {
   "cell_type": "code",
   "execution_count": 4,
   "metadata": {},
   "outputs": [
    {
     "name": "stdout",
     "output_type": "stream",
     "text": [
      "%m::nat. m + 2\n"
     ]
    }
   ],
   "source": [
    "m = Var('m', NatType)\n",
    "f2 = Lambda(m, m + 2)\n",
    "print(f2)\n",
    "assert f == f2"
   ]
  },
  {
   "cell_type": "markdown",
   "metadata": {},
   "source": [
    "Functions taking several arguments can be constructed using multiple Lambdas. The following constructs a function that takes two natural numbers $x$ and $y$ as input, and returns $x + 2y$."
   ]
  },
  {
   "cell_type": "code",
   "execution_count": 5,
   "metadata": {},
   "outputs": [
    {
     "name": "stdout",
     "output_type": "stream",
     "text": [
      "%x::nat. %y. x + 2 * y\n"
     ]
    }
   ],
   "source": [
    "x = Var('x', NatType)\n",
    "y = Var('y', NatType)\n",
    "g = Lambda(x, Lambda(y, x + 2 * y))\n",
    "print(g)"
   ]
  },
  {
   "cell_type": "markdown",
   "metadata": {},
   "source": [
    "This can be written more simply as follows:"
   ]
  },
  {
   "cell_type": "code",
   "execution_count": 6,
   "metadata": {},
   "outputs": [],
   "source": [
    "# TODO: Lambda with multiple variables."
   ]
  },
  {
   "cell_type": "markdown",
   "metadata": {},
   "source": [
    "The types of $f$ and $g$ are as expected (recall `checked_get_type` will perform type-checking on the term, in addition to returning the type of the term)."
   ]
  },
  {
   "cell_type": "code",
   "execution_count": 7,
   "metadata": {},
   "outputs": [
    {
     "name": "stdout",
     "output_type": "stream",
     "text": [
      "nat => nat\n",
      "nat => nat => nat\n"
     ]
    }
   ],
   "source": [
    "print(f.checked_get_type())\n",
    "print(g.checked_get_type())"
   ]
  },
  {
   "cell_type": "markdown",
   "metadata": {},
   "source": [
    "`Lambda` can also be used to construct predicates or binary relations."
   ]
  },
  {
   "cell_type": "code",
   "execution_count": 8,
   "metadata": {},
   "outputs": [
    {
     "name": "stdout",
     "output_type": "stream",
     "text": [
      "%x::nat. x = 0 | x = 2\n",
      "%x::nat. %y. x = y + 2\n"
     ]
    }
   ],
   "source": [
    "P = Lambda(x, Or(Eq(x, 0), Eq(x, 2)))\n",
    "print(P)\n",
    "\n",
    "R = Lambda(x, Lambda(y, Eq(x, y + 2)))\n",
    "print(R)"
   ]
  },
  {
   "cell_type": "markdown",
   "metadata": {},
   "source": [
    "## $\\beta$-conversion"
   ]
  },
  {
   "cell_type": "markdown",
   "metadata": {},
   "source": [
    "In the previous section, we constructed lambda terms using the `Lambda` constructor. These are supposed to represent functions. What happens when we apply such functions an argument? Well, initially nothing happens:"
   ]
  },
  {
   "cell_type": "code",
   "execution_count": 9,
   "metadata": {},
   "outputs": [
    {
     "name": "stdout",
     "output_type": "stream",
     "text": [
      "%n::nat. n + 2\n",
      "(%n::nat. n + 2) 3\n"
     ]
    }
   ],
   "source": [
    "print(f)\n",
    "t = f(Nat(3))\n",
    "print(t)"
   ]
  },
  {
   "cell_type": "markdown",
   "metadata": {},
   "source": [
    "The `Comb` constructor (invoked through the `__call__` method of $f$) simply combines its two arguments, performing no function evaluation. To actually evaluate a function application, we need to use the `beta_conv` method, so named because function evaluation in lambda calculus is called *$\\beta$-conversion*."
   ]
  },
  {
   "cell_type": "code",
   "execution_count": 10,
   "metadata": {},
   "outputs": [
    {
     "name": "stdout",
     "output_type": "stream",
     "text": [
      "(3::nat) + 2\n"
     ]
    }
   ],
   "source": [
    "t2 = t.beta_conv()\n",
    "print(t2)"
   ]
  },
  {
   "cell_type": "markdown",
   "metadata": {},
   "source": [
    "Now, the argument 2 is substituted into the function. More precisely, the function `beta_conv` assumes the input term is in the form `f x`, where `f` is a lambda term, and substitutes `x` for the bound variable of `f`. The addition $3+2$ is still not evaluated: the general rule is that no evaluation is performed unless explicitly called for. We will discuss evaluation of arithmetic on natural numbers in a later section.\n",
    "\n",
    "Let's see a more complicated example:"
   ]
  },
  {
   "cell_type": "markdown",
   "metadata": {},
   "source": [
    "Oops... Here `beta_conv` failed because the function part of $t_3$ is not a lambda term: it is a lambda term applied to 2. To fully evaluate $f_2$ on two arguments 2 and 3, we need to apply them one at a time, performing $\\beta$-conversion:"
   ]
  },
  {
   "cell_type": "code",
   "execution_count": 11,
   "metadata": {
    "tags": [
     "raises-exception"
    ]
   },
   "outputs": [
    {
     "name": "stdout",
     "output_type": "stream",
     "text": [
      "g:  %x::nat. %y. x + 2 * y\n",
      "t3: (%x::nat. %y. x + 2 * y) 3 4\n"
     ]
    },
    {
     "ename": "TermException",
     "evalue": "beta_conv: input is not in the form (%x. t1) t2.",
     "output_type": "error",
     "traceback": [
      "\u001b[1;31m---------------------------------------------------------------------------\u001b[0m",
      "\u001b[1;31mTermException\u001b[0m                             Traceback (most recent call last)",
      "\u001b[1;32m<ipython-input-11-47788e15ec95>\u001b[0m in \u001b[0;36m<module>\u001b[1;34m\u001b[0m\n\u001b[0;32m      3\u001b[0m \u001b[0mprint\u001b[0m\u001b[1;33m(\u001b[0m\u001b[1;34m't3:'\u001b[0m\u001b[1;33m,\u001b[0m \u001b[0mt3\u001b[0m\u001b[1;33m)\u001b[0m\u001b[1;33m\u001b[0m\u001b[0m\n\u001b[0;32m      4\u001b[0m \u001b[1;33m\u001b[0m\u001b[0m\n\u001b[1;32m----> 5\u001b[1;33m \u001b[0mt4\u001b[0m \u001b[1;33m=\u001b[0m \u001b[0mt3\u001b[0m\u001b[1;33m.\u001b[0m\u001b[0mbeta_conv\u001b[0m\u001b[1;33m(\u001b[0m\u001b[1;33m)\u001b[0m   \u001b[1;31m# raises TermException\u001b[0m\u001b[1;33m\u001b[0m\u001b[0m\n\u001b[0m",
      "\u001b[1;32m~\\Projects\\holpy\\kernel\\term.py\u001b[0m in \u001b[0;36mbeta_conv\u001b[1;34m(self)\u001b[0m\n\u001b[0;32m    531\u001b[0m             \u001b[1;32mreturn\u001b[0m \u001b[0mself\u001b[0m\u001b[1;33m.\u001b[0m\u001b[0mfun\u001b[0m\u001b[1;33m.\u001b[0m\u001b[0msubst_bound\u001b[0m\u001b[1;33m(\u001b[0m\u001b[0mself\u001b[0m\u001b[1;33m.\u001b[0m\u001b[0marg\u001b[0m\u001b[1;33m)\u001b[0m\u001b[1;33m\u001b[0m\u001b[0m\n\u001b[0;32m    532\u001b[0m         \u001b[1;32melse\u001b[0m\u001b[1;33m:\u001b[0m\u001b[1;33m\u001b[0m\u001b[0m\n\u001b[1;32m--> 533\u001b[1;33m             \u001b[1;32mraise\u001b[0m \u001b[0mTermException\u001b[0m\u001b[1;33m(\u001b[0m\u001b[1;34m\"beta_conv: input is not in the form (%x. t1) t2.\"\u001b[0m\u001b[1;33m)\u001b[0m\u001b[1;33m\u001b[0m\u001b[0m\n\u001b[0m\u001b[0;32m    534\u001b[0m \u001b[1;33m\u001b[0m\u001b[0m\n\u001b[0;32m    535\u001b[0m     \u001b[1;32mdef\u001b[0m \u001b[0mbeta_norm\u001b[0m\u001b[1;33m(\u001b[0m\u001b[0mself\u001b[0m\u001b[1;33m)\u001b[0m\u001b[1;33m:\u001b[0m\u001b[1;33m\u001b[0m\u001b[0m\n",
      "\u001b[1;31mTermException\u001b[0m: beta_conv: input is not in the form (%x. t1) t2."
     ]
    }
   ],
   "source": [
    "print('g: ', g)\n",
    "t3 = g(Nat(3), Nat(4))\n",
    "print('t3:', t3)\n",
    "\n",
    "t4 = t3.beta_conv()   # raises TermException"
   ]
  },
  {
   "cell_type": "code",
   "execution_count": 12,
   "metadata": {},
   "outputs": [
    {
     "name": "stdout",
     "output_type": "stream",
     "text": [
      "t3: %y::nat. 3 + 2 * y\n",
      "t4: (3::nat) + 2 * 4\n"
     ]
    }
   ],
   "source": [
    "t3 = g(Nat(3)).beta_conv()\n",
    "print('t3:', t3)\n",
    "t4 = t3(Nat(4)).beta_conv()\n",
    "print('t4:', t4)"
   ]
  },
  {
   "cell_type": "markdown",
   "metadata": {},
   "source": [
    "A more convenient method is `beta_norm`, which performs all $\\beta$-conversions on subterms:"
   ]
  },
  {
   "cell_type": "code",
   "execution_count": 13,
   "metadata": {},
   "outputs": [
    {
     "name": "stdout",
     "output_type": "stream",
     "text": [
      "(3::nat) + 2 * 4\n"
     ]
    }
   ],
   "source": [
    "t5 = g(Nat(3),Nat(4)).beta_norm()\n",
    "print(t5)"
   ]
  },
  {
   "cell_type": "markdown",
   "metadata": {},
   "source": [
    "## Quantifiers in predicate logic"
   ]
  },
  {
   "cell_type": "markdown",
   "metadata": {},
   "source": [
    "Predicate logic extends propositional logic by adding two quantifiers: forall ($\\forall$) and exists ($\\exists$). In higher-order logic, both operators are represented as constants of type $('a \\To bool) \\To bool$. This can be explained as follows, taking the forall quantifier as an example. A forall expression in mathematics has the form\n",
    "\n",
    "$$ \\forall x. P(x) $$\n",
    "\n",
    "Here $x$ is a bound variable. In (untyped) first-order logic, there are only two types of terms: objects and propositions, and $x$ can only range over objects. The main distinction between higher-order and first-order logic is that in higher-order logic, the bound variable of quantifiers can be of any type, including function types. Hence, we designate the type of the bound variable by the type variable $'a$. Then, the predicate $P$ has type $'a \\To bool$. Any forall expression is a function taking a predicate $P$ of type $'a \\To bool$ as input, and outputs a boolean value (whether $P$ is true on all of $'a$). Hence, its type must be $('a \\To bool) \\To bool$.\n",
    "\n",
    "Forall and exists expressions are constructed as follows."
   ]
  },
  {
   "cell_type": "code",
   "execution_count": 14,
   "metadata": {},
   "outputs": [
    {
     "name": "stdout",
     "output_type": "stream",
     "text": [
      "t1: !x::nat. x > 2 --> x > 1\n",
      "t2: ?x::nat. x > 2 & x < 4\n"
     ]
    }
   ],
   "source": [
    "x = Var(\"x\", NatType)\n",
    "t1 = Forall(x, Implies(x > 2, x > 1))\n",
    "print('t1:', t1)\n",
    "t2 = Exists(x, And(x > 2, x < 4))\n",
    "print('t2:', t2)"
   ]
  },
  {
   "cell_type": "markdown",
   "metadata": {},
   "source": [
    "The type of $t_1$ and $t_2$ are booleans, as expected."
   ]
  },
  {
   "cell_type": "code",
   "execution_count": 15,
   "metadata": {},
   "outputs": [
    {
     "name": "stdout",
     "output_type": "stream",
     "text": [
      "bool\n",
      "bool\n"
     ]
    }
   ],
   "source": [
    "print(t1.checked_get_type())\n",
    "print(t2.checked_get_type())"
   ]
  },
  {
   "cell_type": "markdown",
   "metadata": {},
   "source": [
    "## de Bruijn indices"
   ]
  },
  {
   "cell_type": "markdown",
   "metadata": {},
   "source": [
    "When representing terms in higher-order logic, we would like to be able to quickly tell whether two terms are $\\alpha$-equivalent. This motivates the use of *de Bruijn index* (named after Dutch mathematician Nicolaas Govert de Bruijn). Following this method, the bound variables are (in principle) unnamed, and whenever one needs to refer to a bound variable, one uses a sign $B_i$ where $i$ counts the depth of the location of reference with respect to the lambda sign of that variable. We follow the convention that the counting begins at 0. For example, the above function is represented using de Bruijn index as:\n",
    "\n",
    "$$ \\lambda\\_. B_0 + 2 $$\n",
    "\n",
    "Here we use an underscore to denote a bound variable that is unnamed. Another example: the expression $\\lambda x. \\lambda y. x + y$ is represented as $\\lambda\\_. \\lambda\\_. B_1 + B_0$ using de Bruijn indices. This is because the location where $x$ occurs is separated from the $\\lambda$ sign that bounds it (the first $\\lambda$ sign) by one $\\lambda$ sign in the middle, while the location where $y$ occurs is directly after the $\\lambda$ sign that bounds it (the second $\\lambda$ sign)."
   ]
  },
  {
   "cell_type": "markdown",
   "metadata": {},
   "source": [
    "The use of de Bruijn indices is revealed by looking at the `repr` of a lambda term:"
   ]
  },
  {
   "cell_type": "code",
   "execution_count": 16,
   "metadata": {},
   "outputs": [
    {
     "name": "stdout",
     "output_type": "stream",
     "text": [
      "Abs(x, nat, Comb(Comb(Const(plus, nat => nat => nat), Bound(0)), Const(one, nat)))\n"
     ]
    }
   ],
   "source": [
    "x = Var('x', NatType)\n",
    "t = Lambda(x, x + 1)\n",
    "print(repr(t))"
   ]
  },
  {
   "cell_type": "markdown",
   "metadata": {},
   "source": [
    "Here, `Abs` is the constructor for a lambda term. The first argument is the *suggested* name of the bound variable. It is used for printing only (and perhaps as a starting point when names of new variables need to be invented during proof). The second argument is the type of the bound variable, which *is* significant (different types of bound variables give different terms). The third argument is the body of the lambda term. In the body, bound variables are refered to by `Bound(n)`, where $n$ is a natural number.\n",
    "\n",
    "Let us examine a more complex lambda expression:"
   ]
  },
  {
   "cell_type": "code",
   "execution_count": 17,
   "metadata": {},
   "outputs": [
    {
     "name": "stdout",
     "output_type": "stream",
     "text": [
      "%x::nat. %y. x + y\n",
      "Abs(x, nat, Abs(y, nat, Comb(Comb(Const(plus, nat => nat => nat), Bound(1)), Bound(0))))\n"
     ]
    }
   ],
   "source": [
    "x = Var('x', NatType)\n",
    "y = Var('y', NatType)\n",
    "t = Lambda(x, Lambda(y, x + y))\n",
    "print(t)\n",
    "print(repr(t))"
   ]
  },
  {
   "cell_type": "markdown",
   "metadata": {},
   "source": [
    "While we are at it, let us also examine the representation of forall and exists terms:"
   ]
  },
  {
   "cell_type": "code",
   "execution_count": 18,
   "metadata": {},
   "outputs": [
    {
     "name": "stdout",
     "output_type": "stream",
     "text": [
      "Comb(Const(all, (nat => bool) => bool), Abs(x, nat, Comb(Comb(Const(greater_eq, nat => nat => bool), Bound(0)), Const(zero, nat))))\n"
     ]
    }
   ],
   "source": [
    "print(repr(Forall(x, x >= 0)))"
   ]
  },
  {
   "cell_type": "code",
   "execution_count": 19,
   "metadata": {},
   "outputs": [
    {
     "name": "stdout",
     "output_type": "stream",
     "text": [
      "Comb(Const(exists, (nat => bool) => bool), Abs(x, nat, Comb(Comb(Const(less, nat => nat => bool), Bound(0)), Const(one, nat))))\n"
     ]
    }
   ],
   "source": [
    "print(repr(Exists(x, x < 1)))"
   ]
  },
  {
   "cell_type": "markdown",
   "metadata": {},
   "source": [
    "After understanding the de Bruijn representation, we can also creater lambda terms directly using the `Abs` and `Bound` constructors. This is seldomly necessary, but we show it here to illustrate the concepts:"
   ]
  },
  {
   "cell_type": "code",
   "execution_count": 20,
   "metadata": {},
   "outputs": [
    {
     "name": "stdout",
     "output_type": "stream",
     "text": [
      "%x::nat. x + 1\n"
     ]
    }
   ],
   "source": [
    "t = Abs('x', NatType, nat.plus(Bound(0), nat.one))\n",
    "print(t)\n",
    "assert t == Lambda(x, x + 1)"
   ]
  }
 ],
 "metadata": {
  "kernelspec": {
   "display_name": "Python 3",
   "language": "python",
   "name": "python3"
  },
  "language_info": {
   "codemirror_mode": {
    "name": "ipython",
    "version": 3
   },
   "file_extension": ".py",
   "mimetype": "text/x-python",
   "name": "python",
   "nbconvert_exporter": "python",
   "pygments_lexer": "ipython3",
   "version": "3.6.6"
  }
 },
 "nbformat": 4,
 "nbformat_minor": 2
}
