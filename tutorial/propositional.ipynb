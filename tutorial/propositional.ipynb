{
 "cells": [
  {
   "cell_type": "markdown",
   "metadata": {},
   "source": [
    "$\\newcommand{\\To}{\\Rightarrow}$\n",
    "$\\newcommand{\\false}{\\mathrm{false}}$"
   ]
  },
  {
   "cell_type": "code",
   "execution_count": 3,
   "metadata": {},
   "outputs": [],
   "source": [
    "import os, sys\n",
    "sys.path.append(os.path.split(os.getcwd())[0])"
   ]
  },
  {
   "cell_type": "code",
   "execution_count": 4,
   "metadata": {},
   "outputs": [],
   "source": [
    "from kernel.type import boolT\n",
    "from kernel.term import Var\n",
    "from kernel.thm import Thm\n",
    "from logic import basic\n",
    "from logic.logic import conj, disj, neg\n",
    "from logic import matcher\n",
    "from syntax import printer\n",
    "\n",
    "thy = basic.loadTheory('logic_base')"
   ]
  },
  {
   "cell_type": "markdown",
   "metadata": {},
   "source": [
    "## Propositional logic"
   ]
  },
  {
   "cell_type": "markdown",
   "metadata": {},
   "source": [
    "In this section, we describe proofs in propositional logic. Propositional logic has four operators: conjunction ($\\wedge$), disjunction ($\\vee$), implication ($\\to$), and negation ($\\neg$). Rules for implication have already been discussed (primitive deduction rules `implies_intr` and `implies_elim`). We will now discuss rules for the other three operators in turn.\n",
    "\n",
    "### Conjunction\n",
    "\n",
    "The introduction and destruction rules for conjunction are `conjI`, `conjD1` and `conjD2`:"
   ]
  },
  {
   "cell_type": "code",
   "execution_count": 3,
   "metadata": {},
   "outputs": [
    {
     "name": "stdout",
     "output_type": "stream",
     "text": [
      "conjI: ⊢ A ⟶ B ⟶ A ∧ B\n",
      "conjD1: ⊢ A ∧ B ⟶ A\n",
      "conjD2: ⊢ A ∧ B ⟶ B\n"
     ]
    }
   ],
   "source": [
    "print(\"conjI:\", printer.print_thm(thy, thy.get_theorem('conjI'), unicode=True))\n",
    "print(\"conjD1:\", printer.print_thm(thy, thy.get_theorem('conjD1'), unicode=True))\n",
    "print(\"conjD2:\", printer.print_thm(thy, thy.get_theorem('conjD2'), unicode=True))"
   ]
  },
  {
   "cell_type": "markdown",
   "metadata": {},
   "source": [
    "We consider these three theorems to be *axioms* that form the fundamental assumptions about conjunction (it is also possible to define conjunction satisfying these axioms in higher-order logic. This is omitted for simplicity). `conjI` states how a conjunction theorem can be proved. `conjD1` and `conjD2` shows how to make use of conjunction theorems.\n",
    "\n",
    "We now give some examples for working with conjunction."
   ]
  },
  {
   "cell_type": "markdown",
   "metadata": {},
   "source": [
    "#### Example:\n",
    "\n",
    "Prove $A \\wedge B \\to B \\wedge A$.\n",
    "\n",
    "#### Solution:\n",
    "\n",
    "0. $A \\wedge B \\vdash A \\wedge B$ by assume $A \\wedge B$.\n",
    "1. $\\vdash A \\wedge B \\to A$ by theorem conjD1.\n",
    "2. $A \\wedge B \\vdash A$ by implies_elim from 1, 0.\n",
    "3. $\\vdash A \\wedge B \\to B$ by theorem conjD2.\n",
    "4. $A \\wedge B \\vdash B$ by implies_elim from 3, 0.\n",
    "5. $\\vdash A \\to B \\to A \\wedge B$ by theorem conjI.\n",
    "6. $\\vdash B \\to A \\to B \\wedge A$ by substitution {A: B, B: A} from 5.\n",
    "7. $A \\wedge B \\vdash A \\to B \\wedge A$ by implies_elim 6, 4.\n",
    "8. $A \\wedge B \\vdash B \\wedge A$ by implies_elim 7, 2.\n",
    "9. $\\vdash A \\wedge B \\to B \\wedge A$ by implies_intr $A \\wedge B$ from 8."
   ]
  },
  {
   "cell_type": "code",
   "execution_count": 7,
   "metadata": {},
   "outputs": [
    {
     "name": "stdout",
     "output_type": "stream",
     "text": [
      "⊢ A ∧ B ⟶ B ∧ A\n"
     ]
    }
   ],
   "source": [
    "A = Var(\"A\", boolT)\n",
    "B = Var(\"B\", boolT)\n",
    "th0 = Thm.assume(conj(A, B))\n",
    "th1 = thy.get_theorem('conjD1')\n",
    "th2 = Thm.implies_elim(th1, th0)\n",
    "th3 = thy.get_theorem('conjD2')\n",
    "th4 = Thm.implies_elim(th3, th0)\n",
    "th5 = thy.get_theorem('conjI')\n",
    "th6 = Thm.substitution({\"A\": B, \"B\": A}, th5)\n",
    "th7 = Thm.implies_elim(th6, th4)\n",
    "th8 = Thm.implies_elim(th7, th2)\n",
    "th9 = Thm.implies_intr(conj(A, B), th8)\n",
    "print(printer.print_thm(thy, th9, unicode=True))"
   ]
  },
  {
   "cell_type": "markdown",
   "metadata": {},
   "source": [
    "Note the use of `thy.get_theorem` in the Python proof, which corresponds to the special rule \"theorem $th\\_name$\" in the written proof.\n",
    "\n",
    "### Interlude: automation for applying a theorem\n",
    "\n",
    "In the proof above, a frequently occurring pattern is applying an existing theorem stated in terms of implication: the theorem is introduced, substitution is possibly made to bring the theorem into the required form, then one or more `implies_elim` is used to discharge the assumptions using earlier sequents. This repeating pattern calls for proof automation. The function `apply_theorem`, given below, takes the current theory, the name of an existing theorem, and a list of sequents that are supposed to discharge the assumptions of the theorem. It returns a sequent whose proposition is the conclusion of the theorem. It also takes an optional argument specifying instantiations of some of the variables (this will be useful in the section on disjunction)."
   ]
  },
  {
   "cell_type": "code",
   "execution_count": 1,
   "metadata": {},
   "outputs": [],
   "source": [
    "def apply_theorem(thy, th_name, *args, instsp=None):\n",
    "    th = thy.get_theorem(th_name)\n",
    "    As, _ = th.prop.strip_implies()  # list of assumptions of th\n",
    "    if instsp is None:\n",
    "        instsp = dict(), dict()      # initial (empty) instantiation\n",
    "    for A, arg in zip(As, args):     # match each assumption with corresponding arg\n",
    "        matcher.first_order_match_incr(A, arg.prop, instsp)\n",
    "    tyinst, inst = instsp\n",
    "    th2 = Thm.subst_type(tyinst, th)   # perform substitution on th\n",
    "    th3 = Thm.substitution(inst, th2)\n",
    "    for arg in args:                   # perform implies_elim on th\n",
    "        th3 = Thm.implies_elim(th3, arg)\n",
    "    return th3"
   ]
  },
  {
   "cell_type": "markdown",
   "metadata": {},
   "source": [
    "Let's test the above function on each of `conjI`, `conjD1` and `conjD2` individually."
   ]
  },
  {
   "cell_type": "code",
   "execution_count": 6,
   "metadata": {},
   "outputs": [
    {
     "name": "stdout",
     "output_type": "stream",
     "text": [
      "A, B ⊢ A ∧ B\n",
      "A ∧ B ⊢ A\n",
      "A ∧ B ⊢ B\n"
     ]
    }
   ],
   "source": [
    "thA = Thm.assume(A)\n",
    "thB = Thm.assume(B)\n",
    "print(printer.print_thm(thy, apply_theorem(thy, \"conjI\", thA, thB), unicode=True))\n",
    "\n",
    "thAB = Thm.assume(conj(A, B))\n",
    "print(printer.print_thm(thy, apply_theorem(thy, \"conjD1\", thAB), unicode=True))\n",
    "\n",
    "print(printer.print_thm(thy, apply_theorem(thy, \"conjD2\", thAB), unicode=True))"
   ]
  },
  {
   "cell_type": "markdown",
   "metadata": {},
   "source": [
    "Now we combine these to get a shorter (and clearer) proof of commutativity of conjunction:"
   ]
  },
  {
   "cell_type": "code",
   "execution_count": 8,
   "metadata": {},
   "outputs": [
    {
     "name": "stdout",
     "output_type": "stream",
     "text": [
      "⊢ A ∧ B ⟶ B ∧ A\n"
     ]
    }
   ],
   "source": [
    "th0 = Thm.assume(conj(A, B))\n",
    "th1 = apply_theorem(thy, 'conjD1', th0)\n",
    "th2 = apply_theorem(thy, 'conjD2', th0)\n",
    "th3 = apply_theorem(thy, 'conjI', th2, th1)\n",
    "th4 = Thm.implies_intr(conj(A, B), th3)\n",
    "print(printer.print_thm(thy, th4, unicode=True))"
   ]
  },
  {
   "cell_type": "markdown",
   "metadata": {},
   "source": [
    "In text, it can be written as follows:\n",
    "\n",
    "0. $A \\wedge B \\vdash A \\wedge B$ by assume $A \\wedge B$.\n",
    "1. $A \\wedge B \\vdash A$ by apply_theorem conjD1 from 0.\n",
    "2. $A \\wedge B \\vdash B$ by apply_theorem conjD2 from 0.\n",
    "3. $A \\wedge B \\vdash B \\wedge A$ by apply_theorem conjI from 2, 1.\n",
    "4. $\\vdash A \\wedge B \\to B \\wedge A$ by implies_intr $A \\wedge B$ from 3."
   ]
  },
  {
   "cell_type": "markdown",
   "metadata": {},
   "source": [
    "### Disjunction\n",
    "\n",
    "The introduction and elimination rules for disjunction are `disjI1`, `disjI2` and `disjE`:"
   ]
  },
  {
   "cell_type": "code",
   "execution_count": 8,
   "metadata": {},
   "outputs": [
    {
     "name": "stdout",
     "output_type": "stream",
     "text": [
      "disjI1: ⊢ A ⟶ A ∨ B\n",
      "disjI2: ⊢ B ⟶ A ∨ B\n",
      "disjE: ⊢ A ∨ B ⟶ (A ⟶ C) ⟶ (B ⟶ C) ⟶ C\n"
     ]
    }
   ],
   "source": [
    "print(\"disjI1:\", printer.print_thm(thy, thy.get_theorem('disjI1'), unicode=True))\n",
    "print(\"disjI2:\", printer.print_thm(thy, thy.get_theorem('disjI2'), unicode=True))\n",
    "print(\"disjE:\", printer.print_thm(thy, thy.get_theorem('disjE'), unicode=True))"
   ]
  },
  {
   "cell_type": "markdown",
   "metadata": {},
   "source": [
    "Here, `disjI1` and `disjI2` are quite obvious, while `disjE` deserves some explanation. The `disjE` theorem says suppose we know $A \\vee B$ and we want to prove some proposition $C$, it suffices to derive $C$ from $A$ (show $A \\to C$) and to derive $C$ from $B$ (show $B \\to C$). It corresponds to *case analysis* using the disjunction.\n",
    "\n",
    "We demonstrate the rules for disjunction in the following example."
   ]
  },
  {
   "cell_type": "markdown",
   "metadata": {},
   "source": [
    "#### Example:\n",
    "\n",
    "Prove $A \\vee B \\to B \\vee A$.\n",
    "\n",
    "#### Solution:\n",
    "\n",
    "0. $A \\vee B \\vdash A \\vee B$ by assume $A \\vee B$.\n",
    "1. $A \\vdash A$ by assume $A$.\n",
    "2. $A \\vdash B \\vee A$ by apply_theorem disjI2 {A: $B$} from 1.\n",
    "3. $\\vdash A \\to B \\vee A$ by implies_intr $A$ from 2.\n",
    "4. $B \\vdash B$ by assume $B$.\n",
    "5. $B \\vdash B \\vee A$ by apply_theorem disjI1 {B: $A$} from 4.\n",
    "6. $\\vdash B \\to B \\vee A$ by implies_intr $B$ from 5.\n",
    "7. $A \\vee B \\vdash B \\vee A$ by apply_theorem disjE from 0, 3, 6.\n",
    "8. $\\vdash A \\vee B \\to B \\vee A$ by implies_intr $A \\vee B$ from 7.\n",
    "\n",
    "Here, steps 1-3 is dedicated to proving $A \\to B \\vee A$, and steps 4-6 to proving $B \\to B \\vee A$, handling the two branches of case-analysis on $A \\vee B$ with goal $B \\vee A$. We can check this proof using the following Python code."
   ]
  },
  {
   "cell_type": "code",
   "execution_count": 9,
   "metadata": {},
   "outputs": [
    {
     "name": "stdout",
     "output_type": "stream",
     "text": [
      "⊢ A ∨ B ⟶ B ∨ A\n"
     ]
    }
   ],
   "source": [
    "th0 = Thm.assume(disj(A, B))\n",
    "th1 = Thm.assume(A)\n",
    "th2 = apply_theorem(thy, 'disjI2', th1, instsp=({}, {'A': B}))\n",
    "th3 = Thm.implies_intr(A, th2)\n",
    "th4 = Thm.assume(B)\n",
    "th5 = apply_theorem(thy, 'disjI1', th4, instsp=({}, {'B': A}))\n",
    "th6 = Thm.implies_intr(B, th5)\n",
    "th7 = apply_theorem(thy, 'disjE', th0, th3, th6)\n",
    "th8 = Thm.implies_intr(disj(A, B), th7)\n",
    "print(printer.print_thm(thy, th8, unicode=True))"
   ]
  },
  {
   "cell_type": "markdown",
   "metadata": {},
   "source": [
    "### Negation"
   ]
  },
  {
   "cell_type": "markdown",
   "metadata": {},
   "source": [
    "The negation operator is intimately linked to proof of contradiction ($\\false$). In fact, it is usual to define $\\neg A$ as $A \\to \\false$. This definition gives raise to the following two basic rules:"
   ]
  },
  {
   "cell_type": "code",
   "execution_count": 10,
   "metadata": {},
   "outputs": [
    {
     "name": "stdout",
     "output_type": "stream",
     "text": [
      "negI: ⊢ (A ⟶ false) ⟶ ¬A\n",
      "negE: ⊢ ¬A ⟶ A ⟶ false\n"
     ]
    }
   ],
   "source": [
    "print(\"negI:\", printer.print_thm(thy, thy.get_theorem('negI'), unicode=True))\n",
    "print(\"negE:\", printer.print_thm(thy, thy.get_theorem('negE'), unicode=True))"
   ]
  },
  {
   "cell_type": "markdown",
   "metadata": {},
   "source": [
    "The first rule states how to prove a negation: $\\neg A$ can be proved by showing $A \\to \\false$. The second rule states how to use a negation: given $\\neg A$, if in addition $A$ is known, then a contradiction can be derived."
   ]
  },
  {
   "cell_type": "markdown",
   "metadata": {},
   "source": [
    "#### Example:\n",
    "\n",
    "Prove $A \\to \\neg \\neg A$.\n",
    "\n",
    "#### Solution:\n",
    "\n",
    "0. $A \\vdash A$ from assume $A$\n",
    "1. $\\neg A \\vdash \\neg A$ from assume $A \\to \\false$.\n",
    "2. $A, \\neg A \\vdash \\false$ from apply_theorem negE from 1, 0.\n",
    "3. $A \\vdash \\neg A \\to \\false$ from implies_intr $\\neg A$.\n",
    "4. $A \\vdash \\neg \\neg A$ from apply_theorem negI from 3.\n",
    "5. $\\vdash A \\to \\neg \\neg A$ from implies_intr $A$ from 4."
   ]
  },
  {
   "cell_type": "markdown",
   "metadata": {},
   "source": [
    "Let's try to understand the thought process behind this proof. First, it is clear that we need to assume $A$, and the goal is to show $\\neg \\neg A$. By `negI`, it suffices to show $\\neg A \\to \\false$, and lines 1-3 is dedicated to this. For this purpose, it suffices to assume $\\neg A$ and show $\\false$. Since we also assumed $A$, the contradiction follows by `negE`. This proof can be checked as follows:"
   ]
  },
  {
   "cell_type": "code",
   "execution_count": 11,
   "metadata": {},
   "outputs": [
    {
     "name": "stdout",
     "output_type": "stream",
     "text": [
      "⊢ A ⟶ ¬¬A\n"
     ]
    }
   ],
   "source": [
    "th0 = Thm.assume(A)\n",
    "th1 = Thm.assume(neg(A))\n",
    "th2 = apply_theorem(thy, 'negE', th1, th0)\n",
    "th3 = Thm.implies_intr(neg(A), th2)\n",
    "th4 = apply_theorem(thy, 'negI', th3)\n",
    "th5 = Thm.implies_intr(A, th4)\n",
    "print(printer.print_thm(thy, th5, unicode=True))"
   ]
  },
  {
   "cell_type": "markdown",
   "metadata": {},
   "source": [
    "## Classical logic"
   ]
  },
  {
   "cell_type": "markdown",
   "metadata": {},
   "source": [
    "We have now stated introduction and elimination/destruction rules for all four operations in propositional logic: conjunction, disjunction, implication, and negation. However, this is not yet the complete picture. While the above rules can be used to prove a lot of theorems, there are statements that are valid but cannot be proved. In order to be able to prove everything that is valid, we need to introduce two more rules. They are called the principle of explosion and the law of excluded middle.\n",
    "\n",
    "The principle of explosion states that anything can be proved from a contradiction. It is given the name `falseE`:"
   ]
  },
  {
   "cell_type": "code",
   "execution_count": 12,
   "metadata": {},
   "outputs": [
    {
     "name": "stdout",
     "output_type": "stream",
     "text": [
      "⊢ false ⟶ A\n"
     ]
    }
   ],
   "source": [
    "print(printer.print_thm(thy, thy.get_theorem('falseE'), unicode=True))"
   ]
  },
  {
   "cell_type": "markdown",
   "metadata": {},
   "source": [
    "The law of excluded middle states that given any proposition $A$, either $A$ or $\\neg A$ holds (there is nothing in the middle). It is also known as the *classical axiom*, as this is the axiom distinguishing *classical logic* from *intuitionistic logic*. It is given the name `classical`:"
   ]
  },
  {
   "cell_type": "code",
   "execution_count": 13,
   "metadata": {},
   "outputs": [
    {
     "name": "stdout",
     "output_type": "stream",
     "text": [
      "⊢ A ∨ ¬A\n"
     ]
    }
   ],
   "source": [
    "print(printer.print_thm(thy, thy.get_theorem('classical'), unicode=True))"
   ]
  },
  {
   "cell_type": "markdown",
   "metadata": {},
   "source": [
    "We now demonstrate the use of these two theorems on a statement that we cannot prove before - the converse of the previous example.\n",
    "\n",
    "#### Example:\n",
    "\n",
    "Prove $\\neg \\neg A \\to A$.\n",
    "\n",
    "#### Solution:\n",
    "\n",
    "0. $\\neg \\neg A \\vdash \\neg \\neg A$ by assume $\\neg \\neg A$.\n",
    "1. $\\vdash A \\vee \\neg A$ by apply_theorem classical {A: A}.\n",
    "2. $A \\vdash A$ by assume $A$.\n",
    "3. $\\vdash A \\to A$ by implies_intr $A$ from 2.\n",
    "4. $\\neg A \\vdash \\neg A$ by assume $\\neg A$.\n",
    "5. $\\neg A, \\neg \\neg A \\vdash \\false$ by apply_theorem negE from 0, 4.\n",
    "6. $\\neg A, \\neg \\neg A \\vdash A$ by apply_theorem falseE {A; A} from 5.\n",
    "7. $\\neg \\neg A \\vdash \\neg A \\to A$ by implies_intr $\\neg A$ from 6.\n",
    "8. $\\neg \\neg A \\vdash A$ by apply_theorem disjE from 1, 3, 7.\n",
    "9. $\\vdash \\neg \\neg A \\to A$ by implies_intr $\\neg \\neg A$ from 8."
   ]
  },
  {
   "cell_type": "markdown",
   "metadata": {},
   "source": [
    "This proof used both principle of explosion and law of excluded middle. First, law of excluded middle is used to create a case analysis on $A$ and $\\neg A$. Lines 2-3 shows the $A$ case. Lines 4-7 shows the $\\neg A$ case, during which the principle of explosion is used."
   ]
  },
  {
   "cell_type": "code",
   "execution_count": 14,
   "metadata": {},
   "outputs": [
    {
     "name": "stdout",
     "output_type": "stream",
     "text": [
      "⊢ ¬¬A ⟶ A\n"
     ]
    }
   ],
   "source": [
    "th0 = Thm.assume(neg(neg(A)))\n",
    "th1 = apply_theorem(thy, 'classical', instsp=({}, {'A': A}))\n",
    "th2 = Thm.assume(A)\n",
    "th3 = Thm.implies_intr(A, th2)\n",
    "th4 = Thm.assume(neg(A))\n",
    "th5 = apply_theorem(thy, 'negE', th0, th4)\n",
    "th6 = apply_theorem(thy, 'falseE', th5, instsp=({}, {'A': A}))\n",
    "th7 = Thm.implies_intr(neg(A), th6)\n",
    "th8 = apply_theorem(thy, 'disjE', th1, th3, th7)\n",
    "th9 = Thm.implies_intr(neg(neg(A)), th8)\n",
    "print(printer.print_thm(thy, th9, unicode=True))"
   ]
  }
 ],
 "metadata": {
  "kernelspec": {
   "display_name": "Python 3",
   "language": "python",
   "name": "python3"
  },
  "language_info": {
   "codemirror_mode": {
    "name": "ipython",
    "version": 3
   },
   "file_extension": ".py",
   "mimetype": "text/x-python",
   "name": "python",
   "nbconvert_exporter": "python",
   "pygments_lexer": "ipython3",
   "version": "3.6.6"
  }
 },
 "nbformat": 4,
 "nbformat_minor": 2
}
