{
 "cells": [
  {
   "cell_type": "markdown",
   "metadata": {},
   "source": [
    "$\\newcommand{\\To}{\\Rightarrow}$"
   ]
  },
  {
   "cell_type": "code",
   "execution_count": 1,
   "metadata": {},
   "outputs": [],
   "source": [
    "import os\n",
    "os.chdir('..')"
   ]
  },
  {
   "cell_type": "code",
   "execution_count": 2,
   "metadata": {},
   "outputs": [],
   "source": [
    "from kernel.type import STVar, TVar, TFun, BoolType, NatType\n",
    "from kernel.term import Term, Var, SVar, Const, Eq, Lambda, Nat, Or, And, Forall, NatVars, Inst\n",
    "from data import nat\n",
    "from logic import basic\n",
    "from logic import matcher\n",
    "\n",
    "basic.load_theory('nat')"
   ]
  },
  {
   "cell_type": "markdown",
   "metadata": {},
   "source": [
    "## Patterns and substitution"
   ]
  },
  {
   "cell_type": "markdown",
   "metadata": {},
   "source": [
    "A pattern is a term containing schematic (term) variables. Substitution on terms is analogous to substitution on types, but more complicated due to the presence of abstractions (lambda terms), and the need to substitute for both type and term variables. Consider the following term:"
   ]
  },
  {
   "cell_type": "code",
   "execution_count": 3,
   "metadata": {},
   "outputs": [
    {
     "name": "stdout",
     "output_type": "stream",
     "text": [
      "?a = ?b\n",
      "Comb(Comb(Const(equals, ?'a => ?'a => bool), SVar(a, ?'a)), SVar(b, ?'a))\n"
     ]
    }
   ],
   "source": [
    "Ta = STVar(\"a\")\n",
    "a = SVar(\"a\", Ta)\n",
    "b = SVar(\"b\", Ta)\n",
    "t = Eq(a, b)\n",
    "print(t)\n",
    "print(repr(t))"
   ]
  },
  {
   "cell_type": "markdown",
   "metadata": {},
   "source": [
    "Observe that there are both type and term variables in $t$. The method `subst_type` takes a dictionary of assignments for type variables, and substitutes using this dictionary."
   ]
  },
  {
   "cell_type": "code",
   "execution_count": 4,
   "metadata": {},
   "outputs": [
    {
     "name": "stdout",
     "output_type": "stream",
     "text": [
      "?a = ?b\n",
      "Comb(Comb(Const(equals, nat => nat => bool), SVar(a, nat)), SVar(b, nat))\n"
     ]
    }
   ],
   "source": [
    "t2 = t.subst_type(a=NatType)\n",
    "print(t2)\n",
    "print(repr(t2))"
   ]
  },
  {
   "cell_type": "markdown",
   "metadata": {},
   "source": [
    "Next, we can apply the method `subst`, which takes a dictionary of assignments for (term) variables, and substitutes using this dictionary."
   ]
  },
  {
   "cell_type": "code",
   "execution_count": 5,
   "metadata": {},
   "outputs": [
    {
     "name": "stdout",
     "output_type": "stream",
     "text": [
      "(0::nat) = 1\n",
      "Comb(Comb(Const(equals, nat => nat => bool), Const(zero, nat)), Const(one, nat))\n"
     ]
    }
   ],
   "source": [
    "t3 = t2.subst(a=nat.zero, b=nat.one)\n",
    "print(t3)\n",
    "print(repr(t3))"
   ]
  },
  {
   "cell_type": "markdown",
   "metadata": {},
   "source": [
    "Actually, we can apply `subst` directly, which automatically figures out the type instantiation for us:"
   ]
  },
  {
   "cell_type": "code",
   "execution_count": 6,
   "metadata": {},
   "outputs": [
    {
     "name": "stdout",
     "output_type": "stream",
     "text": [
      "(0::nat) = 1\n"
     ]
    }
   ],
   "source": [
    "t4 = t.subst(a=nat.zero, b=nat.one)\n",
    "print(t4)"
   ]
  },
  {
   "cell_type": "markdown",
   "metadata": {},
   "source": [
    "We now look at some examples demonstrating how substitution interacts with abstractions. Consider the following term $t$:"
   ]
  },
  {
   "cell_type": "code",
   "execution_count": 7,
   "metadata": {},
   "outputs": [
    {
     "name": "stdout",
     "output_type": "stream",
     "text": [
      "(%x. x + ?y) 1 + ?x\n"
     ]
    }
   ],
   "source": [
    "x = SVar(\"x\", NatType)\n",
    "y = SVar(\"y\", NatType)\n",
    "t = Lambda(x, x + y)(nat.one) + x\n",
    "print(t)"
   ]
  },
  {
   "cell_type": "markdown",
   "metadata": {},
   "source": [
    "This term contains variables $x$ and $y$. Let's substitute 3 for $x$ and 5 for $y$:"
   ]
  },
  {
   "cell_type": "code",
   "execution_count": 8,
   "metadata": {},
   "outputs": [
    {
     "name": "stdout",
     "output_type": "stream",
     "text": [
      "(%x::nat. x + 5) 1 + 3\n"
     ]
    }
   ],
   "source": [
    "t2 = t.subst(x=Nat(3), y=Nat(5))\n",
    "print(t2)"
   ]
  },
  {
   "cell_type": "markdown",
   "metadata": {},
   "source": [
    "Observe that both the $x$ at the end and the $y$ inside the lambda term is substituted. However, the $x$ inside the lambda term is not. This is because the latter $x$ is a bound variable, and quite different from the former $x$. In fact, since the name of the bound variable does not matter, the term $t$ is equivalent to $(\\lambda z. z + y) 1 + x$. The fact that the name of the bound variable is the same as a variable outside the lambda term is simply a coincidence."
   ]
  },
  {
   "cell_type": "markdown",
   "metadata": {},
   "source": [
    "By default, substitution does not perform $\\beta$-conversion (evaluation of functions). For example:"
   ]
  },
  {
   "cell_type": "code",
   "execution_count": 9,
   "metadata": {},
   "outputs": [
    {
     "name": "stdout",
     "output_type": "stream",
     "text": [
      "t:  ?f ?a\n"
     ]
    }
   ],
   "source": [
    "f = SVar(\"f\", TFun(NatType, NatType))\n",
    "a = SVar(\"a\", NatType)\n",
    "t = f(a)\n",
    "print('t: ', t)"
   ]
  },
  {
   "cell_type": "code",
   "execution_count": 10,
   "metadata": {},
   "outputs": [
    {
     "name": "stdout",
     "output_type": "stream",
     "text": [
      "(%x::nat. x + 2) 3\n"
     ]
    }
   ],
   "source": [
    "x = Var('x', NatType)\n",
    "t2 = t.subst(f=Lambda(x, x + 2), a=Nat(3))\n",
    "print(t2)"
   ]
  },
  {
   "cell_type": "markdown",
   "metadata": {},
   "source": [
    "To evaluate $f$ after a substitution, one can use `beta_norm` function introduced previously. The function `subst_norm` combines the three operations above: type substitution, term substitution, and $\\beta$-normalization. This function takes instantiations for term variables."
   ]
  },
  {
   "cell_type": "code",
   "execution_count": 11,
   "metadata": {},
   "outputs": [
    {
     "name": "stdout",
     "output_type": "stream",
     "text": [
      "(3::nat) + 2\n"
     ]
    }
   ],
   "source": [
    "t3 = t.subst_norm(f=Lambda(x, x + 2), a=Nat(3))\n",
    "print(t3)"
   ]
  },
  {
   "cell_type": "markdown",
   "metadata": {},
   "source": [
    "We can also use `logic.subst_norm` to do the example at the beginning of the section:"
   ]
  },
  {
   "cell_type": "code",
   "execution_count": 12,
   "metadata": {},
   "outputs": [
    {
     "name": "stdout",
     "output_type": "stream",
     "text": [
      "(0::nat) = 1\n"
     ]
    }
   ],
   "source": [
    "Ta = STVar(\"a\")\n",
    "a = SVar(\"a\", Ta)\n",
    "b = SVar(\"b\", Ta)\n",
    "t = Eq(a, b)\n",
    "t2 = t.subst_norm(a=nat.zero, b=nat.one)\n",
    "print(t2)"
   ]
  },
  {
   "cell_type": "markdown",
   "metadata": {},
   "source": [
    "## Matching"
   ]
  },
  {
   "cell_type": "markdown",
   "metadata": {},
   "source": [
    "As with types, we can match a pattern (a term containing type and term variables) with a term. Matching a pattern $p$ with a term $t$ determines whether it is possible to instantiate $p$ to $t$, and if it is possible, produces the assignment of type and term variables. Matching of terms is complicated by the presence of two kinds of variables, as well as presence of abstractions (including the possibility of $\\beta$-conversion). We start with the discussion with some simple cases, then gradually move to more complex situations.\n",
    "\n",
    "The basic function for matching is `matcher.first_order_match`. It takes two arguments: the pattern and the term to be matched. It returns a pair (tyinst, inst), where tyinst is the dictionary of type instantiations, and inst is the dictionary of term instantiations. For example:"
   ]
  },
  {
   "cell_type": "code",
   "execution_count": 13,
   "metadata": {},
   "outputs": [
    {
     "name": "stdout",
     "output_type": "stream",
     "text": [
      "p: ?A | ?B\n",
      "t: x = 0 | x = 1\n",
      "A := x = 0, B := x = 1\n"
     ]
    }
   ],
   "source": [
    "A = SVar(\"A\", BoolType)\n",
    "B = SVar(\"B\", BoolType)\n",
    "p = Or(A, B)\n",
    "print('p:', p)\n",
    "\n",
    "x = Var(\"x\", NatType)\n",
    "t = Or(Eq(x, 0), Eq(x, 1))\n",
    "print('t:', t)\n",
    "\n",
    "inst = matcher.first_order_match(p, t)\n",
    "print(inst)"
   ]
  },
  {
   "cell_type": "markdown",
   "metadata": {},
   "source": [
    "The output says the term $x = 0 \\vee x = 1$ matches the pattern $A \\vee B$, where $A$ is assigned to $x = 0$ and $B$ is assigned to $x = 1$. If there is no match, the function `first_order_match` raises an exception. For example:"
   ]
  },
  {
   "cell_type": "code",
   "execution_count": 14,
   "metadata": {
    "scrolled": false,
    "tags": [
     "raises-exception"
    ]
   },
   "outputs": [
    {
     "name": "stdout",
     "output_type": "stream",
     "text": [
      "x = 0 & x = 1\n"
     ]
    },
    {
     "ename": "MatchException",
     "evalue": "[(Comb(Comb(Const(disj, bool => bool => bool), SVar(A, bool)), SVar(B, bool)), Comb(Comb(Const(conj, bool => bool => bool), Comb(Comb(Const(equals, nat => nat => bool), Var(x, nat)), Const(zero, nat))), Comb(Comb(Const(equals, nat => nat => bool), Var(x, nat)), Const(one, nat)))), (Comb(Const(disj, bool => bool => bool), SVar(A, bool)), Comb(Const(conj, bool => bool => bool), Comb(Comb(Const(equals, nat => nat => bool), Var(x, nat)), Const(zero, nat)))), (Const(disj, bool => bool => bool), Const(conj, bool => bool => bool))]",
     "output_type": "error",
     "traceback": [
      "\u001b[1;31m---------------------------------------------------------------------------\u001b[0m",
      "\u001b[1;31mMatchException\u001b[0m                            Traceback (most recent call last)",
      "\u001b[1;32m<ipython-input-14-291867b0342a>\u001b[0m in \u001b[0;36m<module>\u001b[1;34m\u001b[0m\n\u001b[0;32m      2\u001b[0m \u001b[0mprint\u001b[0m\u001b[1;33m(\u001b[0m\u001b[0mt2\u001b[0m\u001b[1;33m)\u001b[0m\u001b[1;33m\u001b[0m\u001b[0m\n\u001b[0;32m      3\u001b[0m \u001b[1;33m\u001b[0m\u001b[0m\n\u001b[1;32m----> 4\u001b[1;33m \u001b[0mmatcher\u001b[0m\u001b[1;33m.\u001b[0m\u001b[0mfirst_order_match\u001b[0m\u001b[1;33m(\u001b[0m\u001b[0mp\u001b[0m\u001b[1;33m,\u001b[0m \u001b[0mt2\u001b[0m\u001b[1;33m)\u001b[0m   \u001b[1;31m# raises MatchException\u001b[0m\u001b[1;33m\u001b[0m\u001b[0m\n\u001b[0m",
      "\u001b[1;32m~\\Projects\\holpy\\logic\\matcher.py\u001b[0m in \u001b[0;36mfirst_order_match\u001b[1;34m(pat, t, inst)\u001b[0m\n\u001b[0;32m    237\u001b[0m         \u001b[0mtrace\u001b[0m\u001b[1;33m.\u001b[0m\u001b[0mpop\u001b[0m\u001b[1;33m(\u001b[0m\u001b[1;33m)\u001b[0m\u001b[1;33m\u001b[0m\u001b[0m\n\u001b[0;32m    238\u001b[0m \u001b[1;33m\u001b[0m\u001b[0m\n\u001b[1;32m--> 239\u001b[1;33m     \u001b[0mmatch\u001b[0m\u001b[1;33m(\u001b[0m\u001b[0mpat\u001b[0m\u001b[1;33m,\u001b[0m \u001b[0mt\u001b[0m\u001b[1;33m)\u001b[0m\u001b[1;33m\u001b[0m\u001b[0m\n\u001b[0m\u001b[0;32m    240\u001b[0m     \u001b[1;32mreturn\u001b[0m \u001b[0minst\u001b[0m\u001b[1;33m\u001b[0m\u001b[0m\n\u001b[0;32m    241\u001b[0m \u001b[1;33m\u001b[0m\u001b[0m\n",
      "\u001b[1;32m~\\Projects\\holpy\\logic\\matcher.py\u001b[0m in \u001b[0;36mmatch\u001b[1;34m(pat, t)\u001b[0m\n\u001b[0;32m    197\u001b[0m                 \u001b[1;32mraise\u001b[0m \u001b[0mMatchException\u001b[0m\u001b[1;33m(\u001b[0m\u001b[0mtrace\u001b[0m\u001b[1;33m)\u001b[0m\u001b[1;33m\u001b[0m\u001b[0m\n\u001b[0;32m    198\u001b[0m             \u001b[1;32mif\u001b[0m \u001b[0mis_pattern\u001b[0m\u001b[1;33m(\u001b[0m\u001b[0mpat\u001b[0m\u001b[1;33m.\u001b[0m\u001b[0mfun\u001b[0m\u001b[1;33m,\u001b[0m \u001b[0mlist\u001b[0m\u001b[1;33m(\u001b[0m\u001b[0minst\u001b[0m\u001b[1;33m.\u001b[0m\u001b[0mkeys\u001b[0m\u001b[1;33m(\u001b[0m\u001b[1;33m)\u001b[0m\u001b[1;33m)\u001b[0m\u001b[1;33m,\u001b[0m \u001b[0mbd_vars\u001b[0m\u001b[1;33m=\u001b[0m\u001b[1;33m[\u001b[0m\u001b[0mv\u001b[0m\u001b[1;33m.\u001b[0m\u001b[0mname\u001b[0m \u001b[1;32mfor\u001b[0m \u001b[0mv\u001b[0m \u001b[1;32min\u001b[0m \u001b[0mbd_vars\u001b[0m\u001b[1;33m]\u001b[0m\u001b[1;33m)\u001b[0m\u001b[1;33m:\u001b[0m\u001b[1;33m\u001b[0m\u001b[0m\n\u001b[1;32m--> 199\u001b[1;33m                 \u001b[0mmatch\u001b[0m\u001b[1;33m(\u001b[0m\u001b[0mpat\u001b[0m\u001b[1;33m.\u001b[0m\u001b[0mfun\u001b[0m\u001b[1;33m,\u001b[0m \u001b[0mt\u001b[0m\u001b[1;33m.\u001b[0m\u001b[0mfun\u001b[0m\u001b[1;33m)\u001b[0m\u001b[1;33m\u001b[0m\u001b[0m\n\u001b[0m\u001b[0;32m    200\u001b[0m                 \u001b[0mmatch\u001b[0m\u001b[1;33m(\u001b[0m\u001b[0mpat\u001b[0m\u001b[1;33m.\u001b[0m\u001b[0marg\u001b[0m\u001b[1;33m,\u001b[0m \u001b[0mt\u001b[0m\u001b[1;33m.\u001b[0m\u001b[0marg\u001b[0m\u001b[1;33m)\u001b[0m\u001b[1;33m\u001b[0m\u001b[0m\n\u001b[0;32m    201\u001b[0m             \u001b[1;32melse\u001b[0m\u001b[1;33m:\u001b[0m\u001b[1;33m\u001b[0m\u001b[0m\n",
      "\u001b[1;32m~\\Projects\\holpy\\logic\\matcher.py\u001b[0m in \u001b[0;36mmatch\u001b[1;34m(pat, t)\u001b[0m\n\u001b[0;32m    197\u001b[0m                 \u001b[1;32mraise\u001b[0m \u001b[0mMatchException\u001b[0m\u001b[1;33m(\u001b[0m\u001b[0mtrace\u001b[0m\u001b[1;33m)\u001b[0m\u001b[1;33m\u001b[0m\u001b[0m\n\u001b[0;32m    198\u001b[0m             \u001b[1;32mif\u001b[0m \u001b[0mis_pattern\u001b[0m\u001b[1;33m(\u001b[0m\u001b[0mpat\u001b[0m\u001b[1;33m.\u001b[0m\u001b[0mfun\u001b[0m\u001b[1;33m,\u001b[0m \u001b[0mlist\u001b[0m\u001b[1;33m(\u001b[0m\u001b[0minst\u001b[0m\u001b[1;33m.\u001b[0m\u001b[0mkeys\u001b[0m\u001b[1;33m(\u001b[0m\u001b[1;33m)\u001b[0m\u001b[1;33m)\u001b[0m\u001b[1;33m,\u001b[0m \u001b[0mbd_vars\u001b[0m\u001b[1;33m=\u001b[0m\u001b[1;33m[\u001b[0m\u001b[0mv\u001b[0m\u001b[1;33m.\u001b[0m\u001b[0mname\u001b[0m \u001b[1;32mfor\u001b[0m \u001b[0mv\u001b[0m \u001b[1;32min\u001b[0m \u001b[0mbd_vars\u001b[0m\u001b[1;33m]\u001b[0m\u001b[1;33m)\u001b[0m\u001b[1;33m:\u001b[0m\u001b[1;33m\u001b[0m\u001b[0m\n\u001b[1;32m--> 199\u001b[1;33m                 \u001b[0mmatch\u001b[0m\u001b[1;33m(\u001b[0m\u001b[0mpat\u001b[0m\u001b[1;33m.\u001b[0m\u001b[0mfun\u001b[0m\u001b[1;33m,\u001b[0m \u001b[0mt\u001b[0m\u001b[1;33m.\u001b[0m\u001b[0mfun\u001b[0m\u001b[1;33m)\u001b[0m\u001b[1;33m\u001b[0m\u001b[0m\n\u001b[0m\u001b[0;32m    200\u001b[0m                 \u001b[0mmatch\u001b[0m\u001b[1;33m(\u001b[0m\u001b[0mpat\u001b[0m\u001b[1;33m.\u001b[0m\u001b[0marg\u001b[0m\u001b[1;33m,\u001b[0m \u001b[0mt\u001b[0m\u001b[1;33m.\u001b[0m\u001b[0marg\u001b[0m\u001b[1;33m)\u001b[0m\u001b[1;33m\u001b[0m\u001b[0m\n\u001b[0;32m    201\u001b[0m             \u001b[1;32melse\u001b[0m\u001b[1;33m:\u001b[0m\u001b[1;33m\u001b[0m\u001b[0m\n",
      "\u001b[1;32m~\\Projects\\holpy\\logic\\matcher.py\u001b[0m in \u001b[0;36mmatch\u001b[1;34m(pat, t)\u001b[0m\n\u001b[0;32m    185\u001b[0m             \u001b[1;31m# from a bound variable.\u001b[0m\u001b[1;33m\u001b[0m\u001b[1;33m\u001b[0m\u001b[0m\n\u001b[0;32m    186\u001b[0m             \u001b[1;32mif\u001b[0m \u001b[0mpat\u001b[0m\u001b[1;33m.\u001b[0m\u001b[0mty\u001b[0m \u001b[1;33m!=\u001b[0m \u001b[0mt\u001b[0m\u001b[1;33m.\u001b[0m\u001b[0mty\u001b[0m \u001b[1;32mor\u001b[0m \u001b[0mpat\u001b[0m\u001b[1;33m.\u001b[0m\u001b[0mname\u001b[0m \u001b[1;33m!=\u001b[0m \u001b[0mt\u001b[0m\u001b[1;33m.\u001b[0m\u001b[0mname\u001b[0m\u001b[1;33m:\u001b[0m\u001b[1;33m\u001b[0m\u001b[0m\n\u001b[1;32m--> 187\u001b[1;33m                 \u001b[1;32mraise\u001b[0m \u001b[0mMatchException\u001b[0m\u001b[1;33m(\u001b[0m\u001b[0mtrace\u001b[0m\u001b[1;33m)\u001b[0m\u001b[1;33m\u001b[0m\u001b[0m\n\u001b[0m\u001b[0;32m    188\u001b[0m             \u001b[1;32melse\u001b[0m\u001b[1;33m:\u001b[0m\u001b[1;33m\u001b[0m\u001b[0m\n\u001b[0;32m    189\u001b[0m                 \u001b[1;32mtry\u001b[0m\u001b[1;33m:\u001b[0m\u001b[1;33m\u001b[0m\u001b[0m\n",
      "\u001b[1;31mMatchException\u001b[0m: [(Comb(Comb(Const(disj, bool => bool => bool), SVar(A, bool)), SVar(B, bool)), Comb(Comb(Const(conj, bool => bool => bool), Comb(Comb(Const(equals, nat => nat => bool), Var(x, nat)), Const(zero, nat))), Comb(Comb(Const(equals, nat => nat => bool), Var(x, nat)), Const(one, nat)))), (Comb(Const(disj, bool => bool => bool), SVar(A, bool)), Comb(Const(conj, bool => bool => bool), Comb(Comb(Const(equals, nat => nat => bool), Var(x, nat)), Const(zero, nat)))), (Const(disj, bool => bool => bool), Const(conj, bool => bool => bool))]"
     ]
    }
   ],
   "source": [
    "t2 = And(Eq(x, 0), Eq(x, 1))\n",
    "print(t2)\n",
    "\n",
    "matcher.first_order_match(p, t2)   # raises MatchException"
   ]
  },
  {
   "cell_type": "markdown",
   "metadata": {},
   "source": [
    "We now show an example with type variables."
   ]
  },
  {
   "cell_type": "code",
   "execution_count": 15,
   "metadata": {},
   "outputs": [
    {
     "name": "stdout",
     "output_type": "stream",
     "text": [
      "'a := nat, a := (0::nat), b := (1::nat)\n"
     ]
    }
   ],
   "source": [
    "Ta = STVar(\"a\")\n",
    "a = SVar(\"a\", Ta)\n",
    "b = SVar(\"b\", Ta)\n",
    "p = Eq(a, b)\n",
    "\n",
    "t = Eq(nat.zero, nat.one)\n",
    "inst = matcher.first_order_match(p, t)\n",
    "print(inst)"
   ]
  },
  {
   "cell_type": "markdown",
   "metadata": {},
   "source": [
    "Matching can certainly go inside abstractions:"
   ]
  },
  {
   "cell_type": "code",
   "execution_count": 16,
   "metadata": {},
   "outputs": [
    {
     "name": "stdout",
     "output_type": "stream",
     "text": [
      "p: !x. ?P x\n",
      "t: !n. A n\n",
      "'a := nat, P := A\n"
     ]
    }
   ],
   "source": [
    "x = SVar(\"x\", Ta)\n",
    "P = SVar(\"P\", TFun(Ta, BoolType))\n",
    "p = Forall(x, P(x))\n",
    "print('p:', p)\n",
    "\n",
    "n = Var(\"n\", NatType)\n",
    "A = Var(\"A\", TFun(NatType, BoolType))\n",
    "t = Forall(n, A(n))\n",
    "print('t:', t)\n",
    "\n",
    "inst = matcher.first_order_match(p, t)\n",
    "print(inst)"
   ]
  },
  {
   "cell_type": "markdown",
   "metadata": {},
   "source": [
    "The previous matching worked because the body of the $\\forall$ quantifier is precisely a function applied to the bound variable. However, matching still works if the body is a more general predicate of the bound variable:"
   ]
  },
  {
   "cell_type": "code",
   "execution_count": 17,
   "metadata": {},
   "outputs": [
    {
     "name": "stdout",
     "output_type": "stream",
     "text": [
      "t2: !n::nat. n = 0\n",
      "'a := nat, P := %x::nat. x = 0\n"
     ]
    }
   ],
   "source": [
    "t2 = Forall(n, Eq(n, 0))\n",
    "print('t2:', t2)\n",
    "\n",
    "inst = matcher.first_order_match(p, t2)\n",
    "print(inst)"
   ]
  },
  {
   "cell_type": "markdown",
   "metadata": {},
   "source": [
    "In this case, $p$ can be transformed to $t$ only after instantiation as well as $\\beta$-normalization. In general, `first_order_match` determines whether there exists `inst` such that `p.subst_norm(inst)` is equal to $t$."
   ]
  },
  {
   "cell_type": "markdown",
   "metadata": {},
   "source": [
    "## Preview: applying a theorem"
   ]
  },
  {
   "cell_type": "markdown",
   "metadata": {},
   "source": [
    "Matching and substitution play crucial roles in proofs in higher-order logic, in particular when applying a theorem. We will start the discussion of theorems and proofs in the next section. Here, we give a brief preview of these ideas, using what we have learned so far.\n",
    "\n",
    "One important class of theorems is identities. For example, the distributivity of multiplication over addition is stated as follows:"
   ]
  },
  {
   "cell_type": "code",
   "execution_count": 18,
   "metadata": {},
   "outputs": [
    {
     "name": "stdout",
     "output_type": "stream",
     "text": [
      "?x * (?y + ?z) = ?x * ?y + ?x * ?z\n"
     ]
    }
   ],
   "source": [
    "x = SVar(\"x\", NatType)\n",
    "y = SVar(\"y\", NatType)\n",
    "z = SVar(\"z\", NatType)\n",
    "\n",
    "distrib_l = Eq(x * (y + z), x * y + x * z)\n",
    "print(distrib_l)"
   ]
  },
  {
   "cell_type": "markdown",
   "metadata": {},
   "source": [
    "Here $x,y,z$ are variables that can represent arbitrary natural numbers. We would like to apply this identity to rewrite any expression of the form $x\\cdot (y+z)$, for example $a\\cdot (2a+(b+1))$, which should be rewritten to $a\\cdot 2a+a(b+1)$.\n",
    "\n",
    "The idea for implementing this functionality is as follows. Suppose the term to be rewritten is $t$. First match the left side of the equality with $t$. If the matching succeeds, use the resulting assignments of variables to instantiate the right side of the equality."
   ]
  },
  {
   "cell_type": "code",
   "execution_count": 19,
   "metadata": {},
   "outputs": [],
   "source": [
    "def rewrite(prop, t):\n",
    "    \"\"\"Rewrite term t using the identity (equality term) prop.\"\"\"\n",
    "    inst = matcher.first_order_match(prop.lhs, t)\n",
    "    return prop.rhs.subst_norm(inst)"
   ]
  },
  {
   "cell_type": "markdown",
   "metadata": {},
   "source": [
    "We now test this function on an example:"
   ]
  },
  {
   "cell_type": "code",
   "execution_count": 20,
   "metadata": {},
   "outputs": [
    {
     "name": "stdout",
     "output_type": "stream",
     "text": [
      "Before: a * (2 * a + (b + 1))\n",
      "After:  a * (2 * a) + a * (b + 1)\n"
     ]
    }
   ],
   "source": [
    "a = Var(\"a\", NatType)\n",
    "b = Var(\"b\", NatType)\n",
    "t = a * (2 * a + (b + 1))\n",
    "print('Before:', t)\n",
    "\n",
    "t2 = rewrite(distrib_l, t)\n",
    "print(\"After: \", t2)"
   ]
  },
  {
   "cell_type": "markdown",
   "metadata": {},
   "source": [
    "We have written our first program for proof automation! But before we get too excited - so far all we are doing is manipulating terms. In the next section, we will start the discussion of theorems, which allows us to describe proofs in a more precise language. In particular, we will see how to make sure that the proofs we construct are correct, without trusting the proof automation we wrote ourselves."
   ]
  }
 ],
 "metadata": {
  "kernelspec": {
   "display_name": "Python 3",
   "language": "python",
   "name": "python3"
  },
  "language_info": {
   "codemirror_mode": {
    "name": "ipython",
    "version": 3
   },
   "file_extension": ".py",
   "mimetype": "text/x-python",
   "name": "python",
   "nbconvert_exporter": "python",
   "pygments_lexer": "ipython3",
   "version": "3.6.6"
  }
 },
 "nbformat": 4,
 "nbformat_minor": 2
}
