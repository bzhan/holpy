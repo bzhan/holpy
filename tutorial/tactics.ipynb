{
 "cells": [
  {
   "cell_type": "code",
   "execution_count": 1,
   "metadata": {},
   "outputs": [],
   "source": [
    "import os\n",
    "os.chdir('..')"
   ]
  },
  {
   "cell_type": "code",
   "execution_count": 2,
   "metadata": {},
   "outputs": [],
   "source": [
    "from copy import copy\n",
    "\n",
    "from kernel.type import TFun, BoolType, NatType\n",
    "from kernel.term import Var, Implies, Forall, BoolVars, Inst, And, Or, Exists\n",
    "from kernel.proofterm import ProofTerm, TacticException\n",
    "from kernel.thm import Thm\n",
    "from kernel import theory\n",
    "from logic import basic\n",
    "from logic.tactic import Tactic\n",
    "from logic.matcher import MatchException, first_order_match\n",
    "from syntax.settings import settings\n",
    "\n",
    "basic.load_theory('nat')\n",
    "settings.unicode = True"
   ]
  },
  {
   "cell_type": "markdown",
   "metadata": {},
   "source": [
    "## Tactics"
   ]
  },
  {
   "cell_type": "markdown",
   "metadata": {},
   "source": [
    "So far our proofs are constructed mostly in the bottom-up fashion. That is, the proof term is built up by first building its components, then composing these components together. Often, a different approach, constructing a proof top-down, is more appropriate. In this approach, a goal is reduced to one or more simpler subgoals, which are further reduced, until there is no subgoal remaining. The system of *tactics* permits this kind of reasoning.\n",
    "\n",
    "A tactic is a function that takes a theorem as input, and returns a proof term proving that theorem. The returned proof term may contain gaps (constructed by the rule `sorry`), indicating remaining goals to be proved. Hence, a tactic can also be viewed as transforming a goal to a list of subgoals. Like conversions, we can compose tactics together to form more complex tactics using *tacticals*.\n",
    "\n",
    "Tactics is represented in holpy as the class `Tactic`. New tactics are implemented by inheriting from this class. A tactic can take additional arguments through its `__init__` function. The `get_proof_term` function takes a goal (of type `Thm`) as argument, and should return a proof term whose conclusion is the goal. The returned proof term may contain gaps."
   ]
  },
  {
   "cell_type": "markdown",
   "metadata": {},
   "source": [
    "Let's begin with some simple examples of tactics. The `intro_imp_tac` tactic takes an implication goal, and moves one assumption to the hypothesis. It applies the following proof rule in the reverse direction:\n",
    "\n",
    "$$ \\frac{\\Gamma, A \\vdash C}{\\Gamma \\vdash A\\to C} $$"
   ]
  },
  {
   "cell_type": "code",
   "execution_count": 3,
   "metadata": {},
   "outputs": [],
   "source": [
    "class intro_imp_tac(Tactic):\n",
    "    def get_proof_term(self, goal):\n",
    "        if not goal.prop.is_implies():\n",
    "            raise TacticException('intro_imp: goal is not implies.')\n",
    "\n",
    "        A, C = goal.prop.args\n",
    "        new_goal = ProofTerm.sorry(Thm(list(goal.hyps) + [A], C))\n",
    "        return new_goal.implies_intr(A)"
   ]
  },
  {
   "cell_type": "markdown",
   "metadata": {},
   "source": [
    "We can test the tactic directly on a theorem (note the printing function for a proof term also prints the remaining goals to be proved)."
   ]
  },
  {
   "cell_type": "code",
   "execution_count": 4,
   "metadata": {},
   "outputs": [
    {
     "name": "stdout",
     "output_type": "stream",
     "text": [
      "goal: A ⊢ P x ⟶ Q x\n",
      "pt: ProofTerm(A ⊢ P x ⟶ Q x)\n",
      "Gaps: A, P x ⊢ Q x\n",
      "\n",
      "Proof:\n",
      "0: A, P x ⊢ Q x by sorry\n",
      "1: A ⊢ P x ⟶ Q x by implies_intr P x from 0\n"
     ]
    }
   ],
   "source": [
    "x = Var('x', NatType)\n",
    "P = Var('P', TFun(NatType, BoolType))\n",
    "Q = Var('Q', TFun(NatType, BoolType))\n",
    "A = Var('A', BoolType)\n",
    "\n",
    "th = Thm([A], Implies(P(x), Q(x)))\n",
    "print('goal:', th)\n",
    "\n",
    "pt = intro_imp_tac().get_proof_term(th)\n",
    "print('pt:', pt)\n",
    "\n",
    "print('\\nProof:')\n",
    "print(pt.export())"
   ]
  },
  {
   "cell_type": "markdown",
   "metadata": {},
   "source": [
    "The `intro_forall_tac` takes an forall goal, and introduces a new variable. If a variable name is provided it is used. Otherwise the name provided by the abstraction is used. It applies the following proof rule in the reverse direction:\n",
    "\n",
    "$$ \\frac{\\Gamma \\vdash P(a)}{\\Gamma \\vdash \\forall a.\\,P(a)}\\hbox{ ($a$ does not occur in $\\Gamma$)} $$"
   ]
  },
  {
   "cell_type": "code",
   "execution_count": 5,
   "metadata": {},
   "outputs": [],
   "source": [
    "class intro_forall_tac(Tactic):\n",
    "    def __init__(self, var_name=None):\n",
    "        self.var_name = var_name\n",
    "        \n",
    "    def get_proof_term(self, goal):\n",
    "        if not goal.prop.is_forall():\n",
    "            raise TacticException('intro_forall: goal is not forall')\n",
    "\n",
    "        v, body = goal.prop.arg.dest_abs(self.var_name)\n",
    "        new_goal = ProofTerm.sorry(Thm(goal.hyps, body))\n",
    "        return new_goal.forall_intr(v)"
   ]
  },
  {
   "cell_type": "code",
   "execution_count": 6,
   "metadata": {},
   "outputs": [
    {
     "name": "stdout",
     "output_type": "stream",
     "text": [
      "goal: A ⊢ ∀x. P x ⟶ Q x\n",
      "pt: ProofTerm(A ⊢ ∀x. P x ⟶ Q x)\n",
      "Gaps: A ⊢ P x ⟶ Q x\n",
      "\n",
      "Proof:\n",
      "0: A ⊢ P x ⟶ Q x by sorry\n",
      "1: A ⊢ ∀x. P x ⟶ Q x by forall_intr x from 0\n"
     ]
    }
   ],
   "source": [
    "th = Thm([A], Forall(x, Implies(P(x), Q(x))))\n",
    "print('goal:', th)\n",
    "\n",
    "pt = intro_forall_tac().get_proof_term(th)\n",
    "print('pt:', pt)\n",
    "\n",
    "print('\\nProof:')\n",
    "print(pt.export())"
   ]
  },
  {
   "cell_type": "markdown",
   "metadata": {},
   "source": [
    "A tactic can also be applied on a proof term, through the proof term's `tac` method. The method applies the tactic to the *first* subgoal of the proof term."
   ]
  },
  {
   "cell_type": "code",
   "execution_count": 7,
   "metadata": {},
   "outputs": [
    {
     "name": "stdout",
     "output_type": "stream",
     "text": [
      "pt: ProofTerm(A ⊢ P x ⟶ Q x)\n",
      "Gaps: A ⊢ P x ⟶ Q x\n",
      "pt2: ProofTerm(A ⊢ P x ⟶ Q x)\n",
      "Gaps: A, P x ⊢ Q x\n"
     ]
    }
   ],
   "source": [
    "pt = ProofTerm.sorry(Thm([A], Implies(P(x), Q(x))))\n",
    "print('pt:', pt)\n",
    "\n",
    "pt2 = pt.tac(intro_imp_tac())\n",
    "print('pt2:', pt2)"
   ]
  },
  {
   "cell_type": "markdown",
   "metadata": {},
   "source": [
    "Several tactics can be applied in sequence using the `tacs` method:"
   ]
  },
  {
   "cell_type": "code",
   "execution_count": 8,
   "metadata": {},
   "outputs": [
    {
     "name": "stdout",
     "output_type": "stream",
     "text": [
      "pt: ProofTerm(A ⊢ ∀x. P x ⟶ Q x)\n",
      "Gaps: A ⊢ ∀x. P x ⟶ Q x\n",
      "pt2: ProofTerm(A ⊢ ∀a. P a ⟶ Q a)\n",
      "Gaps: A, P a ⊢ Q a\n"
     ]
    }
   ],
   "source": [
    "pt = ProofTerm.sorry(Thm([A], Forall(x, Implies(P(x), Q(x)))))\n",
    "print('pt:', pt)\n",
    "\n",
    "pt2 = pt.tacs(intro_forall_tac('a'), intro_imp_tac())\n",
    "print('pt2:', pt2)"
   ]
  },
  {
   "cell_type": "markdown",
   "metadata": {},
   "source": [
    "## Tacticals"
   ]
  },
  {
   "cell_type": "markdown",
   "metadata": {},
   "source": [
    "A tactical can be used to compose together tactics to form more complex tactics. This works in a way similar to conversion combinators. In holpy, a tactical is also implemented by inheriting from class `Tactic`, taking the component tactics as arguments to the `__init__` function. We first demonstrate this with the `then_tac` tactical:"
   ]
  },
  {
   "cell_type": "code",
   "execution_count": 9,
   "metadata": {},
   "outputs": [],
   "source": [
    "class then_tac(Tactic):\n",
    "    def __init__(self, tac1, tac2):\n",
    "        self.tac1 = tac1\n",
    "        self.tac2 = tac2\n",
    "        \n",
    "    def get_proof_term(self, goal):\n",
    "        return ProofTerm.sorry(goal).tacs(self.tac1, self.tac2)"
   ]
  },
  {
   "cell_type": "markdown",
   "metadata": {},
   "source": [
    "Use `tacs` to apply a sequence of tactics is the same as using `tac` to apply the `then_tac` of these tactics. For example:"
   ]
  },
  {
   "cell_type": "code",
   "execution_count": 10,
   "metadata": {},
   "outputs": [
    {
     "name": "stdout",
     "output_type": "stream",
     "text": [
      "pt: ProofTerm(A ⊢ ∀x. P x ⟶ Q x)\n",
      "Gaps: A ⊢ ∀x. P x ⟶ Q x\n",
      "pt2: ProofTerm(A ⊢ ∀a. P a ⟶ Q a)\n",
      "Gaps: A, P a ⊢ Q a\n"
     ]
    }
   ],
   "source": [
    "pt = ProofTerm.sorry(Thm([A], Forall(x, Implies(P(x), Q(x)))))\n",
    "print('pt:', pt)\n",
    "\n",
    "pt2 = pt.tac(then_tac(intro_forall_tac('a'), intro_imp_tac()))\n",
    "print('pt2:', pt2)"
   ]
  },
  {
   "cell_type": "markdown",
   "metadata": {},
   "source": [
    "The tactical `else_tac` tries to apply the first tactic, and if fails, the second tactics:"
   ]
  },
  {
   "cell_type": "code",
   "execution_count": 11,
   "metadata": {},
   "outputs": [],
   "source": [
    "class else_tac(Tactic):\n",
    "    def __init__(self, tac1, tac2):\n",
    "        self.tac1 = tac1\n",
    "        self.tac2 = tac2\n",
    "        \n",
    "    def get_proof_term(self, goal):\n",
    "        try:\n",
    "            return self.tac1.get_proof_term(goal)\n",
    "        except TacticException:\n",
    "            return self.tac2.get_proof_term(goal)"
   ]
  },
  {
   "cell_type": "markdown",
   "metadata": {},
   "source": [
    "For example, we can form the tactic `intro_one`, which introduces either an implication or a forall quantification:"
   ]
  },
  {
   "cell_type": "code",
   "execution_count": 12,
   "metadata": {},
   "outputs": [
    {
     "name": "stdout",
     "output_type": "stream",
     "text": [
      "ProofTerm(A ⊢ P x ⟶ Q x)\n",
      "Gaps: A, P x ⊢ Q x\n",
      "ProofTerm(A ⊢ ∀x. P x ⟶ Q x)\n",
      "Gaps: A ⊢ P x ⟶ Q x\n"
     ]
    }
   ],
   "source": [
    "intro_one_tac = else_tac(intro_imp_tac(), intro_forall_tac())\n",
    "\n",
    "print(intro_one_tac.get_proof_term(Thm([A], Implies(P(x), Q(x)))))\n",
    "print(intro_one_tac.get_proof_term(Thm([A], Forall(x, Implies(P(x), Q(x))))))"
   ]
  },
  {
   "cell_type": "markdown",
   "metadata": {},
   "source": [
    "The tactical `repeat_tac` repeatedly applies some tactic, until `TacticException` is raised:"
   ]
  },
  {
   "cell_type": "code",
   "execution_count": 13,
   "metadata": {},
   "outputs": [],
   "source": [
    "class repeat_tac(Tactic):\n",
    "    def __init__(self, tac):\n",
    "        self.tac = tac\n",
    "        \n",
    "    def get_proof_term(self, goal):\n",
    "        pt = ProofTerm.sorry(goal)\n",
    "        while True:\n",
    "            try:\n",
    "                pt = pt.tac(self.tac)\n",
    "            except TacticException:\n",
    "                break\n",
    "        return pt"
   ]
  },
  {
   "cell_type": "markdown",
   "metadata": {},
   "source": [
    "The tactic `intros_tac` repeatedly introduces implication and forall quantification:"
   ]
  },
  {
   "cell_type": "code",
   "execution_count": 14,
   "metadata": {},
   "outputs": [
    {
     "name": "stdout",
     "output_type": "stream",
     "text": [
      "ProofTerm(A ⊢ ∀x. P x ⟶ Q x)\n",
      "Gaps: A, P x ⊢ Q x\n"
     ]
    }
   ],
   "source": [
    "intros_tac = repeat_tac(else_tac(intro_imp_tac(), intro_forall_tac()))\n",
    "\n",
    "print(intros_tac.get_proof_term(Thm([A], Forall(x, Implies(P(x), Q(x))))))"
   ]
  },
  {
   "cell_type": "markdown",
   "metadata": {},
   "source": [
    "Implication and forall quantification can also alternate:"
   ]
  },
  {
   "cell_type": "code",
   "execution_count": 15,
   "metadata": {},
   "outputs": [
    {
     "name": "stdout",
     "output_type": "stream",
     "text": [
      "goal: ∀x. P x ⟶ (∀y. Q y ⟶ R x y)\n",
      "ProofTerm(⊢ ∀x. P x ⟶ (∀y. Q y ⟶ R x y))\n",
      "Gaps: P x, Q y ⊢ R x y\n"
     ]
    }
   ],
   "source": [
    "x = Var('x', NatType)\n",
    "y = Var('y', NatType)\n",
    "P = Var('P', TFun(NatType, BoolType))\n",
    "Q = Var('Q', TFun(NatType, BoolType))\n",
    "R = Var('R', TFun(NatType, NatType, BoolType))\n",
    "\n",
    "goal = Forall(x, Implies(P(x), Forall(y, Implies(Q(y), R(x, y)))))\n",
    "print('goal:', goal)\n",
    "print(intros_tac.get_proof_term(Thm([], goal)))"
   ]
  },
  {
   "cell_type": "markdown",
   "metadata": {},
   "source": [
    "## Applying theorems"
   ]
  },
  {
   "cell_type": "markdown",
   "metadata": {},
   "source": [
    "We now discuss tactics for applying a single theorem. The tactic `rule_tac` applies a theorem in the backward direction. It matches the current goal with the conclusion of the theorem. If there is a match, it replaces the goal with the assumption of the theorem. The tactics takes an additional optional parameter specifying part of the instantiation. This tactic can be implemented as follows:"
   ]
  },
  {
   "cell_type": "code",
   "execution_count": 16,
   "metadata": {},
   "outputs": [],
   "source": [
    "class rule_tac(Tactic):\n",
    "    def __init__(self, th_name, *, inst=None):\n",
    "        self.th_name = th_name\n",
    "        if inst is None:\n",
    "            inst = Inst()\n",
    "        self.inst = inst\n",
    "        \n",
    "    def get_proof_term(self, goal):\n",
    "        th = theory.get_theorem(self.th_name)        \n",
    "        try:\n",
    "            inst = first_order_match(th.concl, goal.prop, self.inst)\n",
    "        except MatchException:\n",
    "            raise TacticException('rule: matching failed')\n",
    "            \n",
    "        if any(v.name not in inst for v in th.prop.get_svars()):\n",
    "            raise TacticException('rule: not all variables are matched')\n",
    "            \n",
    "        pt = ProofTerm.theorem(self.th_name).substitution(inst)\n",
    "        for assum in pt.assums:\n",
    "            pt = pt.implies_elim(ProofTerm.sorry(Thm(goal.hyps, assum)))\n",
    "        return pt"
   ]
  },
  {
   "cell_type": "markdown",
   "metadata": {},
   "source": [
    "We test this tactic on some simple theorems:"
   ]
  },
  {
   "cell_type": "code",
   "execution_count": 17,
   "metadata": {},
   "outputs": [
    {
     "name": "stdout",
     "output_type": "stream",
     "text": [
      "pt: ProofTerm(P ∧ Q ⊢ Q ∧ P)\n",
      "Gaps: P ∧ Q ⊢ Q ∧ P\n",
      "pt2: ProofTerm(P ∧ Q ⊢ Q ∧ P)\n",
      "Gaps: P ∧ Q ⊢ Q\n",
      "      P ∧ Q ⊢ P\n"
     ]
    }
   ],
   "source": [
    "P, Q = BoolVars('P Q')\n",
    "pt = ProofTerm.sorry(Thm([And(P, Q)], And(Q, P)))\n",
    "print('pt:', pt)\n",
    "\n",
    "pt2 = pt.tac(rule_tac('conjI'))\n",
    "print('pt2:', pt2)"
   ]
  },
  {
   "cell_type": "markdown",
   "metadata": {},
   "source": [
    "We see that the tactic reduces the goal $Q\\wedge P$ into two goals $Q$ and $P$, with the same hypothesis. We can try to use this theorem with `conjD1` and `conjD2` to prove this theorem completely, this time by providing some instantiation."
   ]
  },
  {
   "cell_type": "code",
   "execution_count": 18,
   "metadata": {},
   "outputs": [
    {
     "name": "stdout",
     "output_type": "stream",
     "text": [
      "ProofTerm(P ∧ Q ⊢ Q ∧ P)\n",
      "Gaps: P ∧ Q ⊢ P ∧ Q\n",
      "      P ∧ Q ⊢ P\n"
     ]
    }
   ],
   "source": [
    "print(pt.tacs(rule_tac('conjI'), rule_tac('conjD2', inst=Inst(A=P))))"
   ]
  },
  {
   "cell_type": "markdown",
   "metadata": {},
   "source": [
    "We see that we will need another tactic that solves a goal when it already appears in the assumption."
   ]
  },
  {
   "cell_type": "code",
   "execution_count": 19,
   "metadata": {},
   "outputs": [],
   "source": [
    "class assumption(Tactic):\n",
    "    def get_proof_term(self, goal):\n",
    "        if not goal.prop in goal.hyps:\n",
    "            raise TacticException('assumption: prop does not appear in hyps')\n",
    "        \n",
    "        return ProofTerm.assume(goal.prop)"
   ]
  },
  {
   "cell_type": "markdown",
   "metadata": {},
   "source": [
    "The reason this works is because the proof term returned by the tactic does not need to exactly match the goal, as long as it has the same consequent as the goal, and the antecedent is a subset of the antecedent of the goal."
   ]
  },
  {
   "cell_type": "code",
   "execution_count": 20,
   "metadata": {},
   "outputs": [
    {
     "name": "stdout",
     "output_type": "stream",
     "text": [
      "ProofTerm(P ∧ Q ⊢ Q ∧ P)\n"
     ]
    }
   ],
   "source": [
    "print(pt.tacs(\n",
    "    rule_tac('conjI'),\n",
    "    rule_tac('conjD2', inst=Inst(A=P)), assumption(),\n",
    "    rule_tac('conjD1', inst=Inst(B=Q)), assumption()\n",
    "))"
   ]
  },
  {
   "cell_type": "markdown",
   "metadata": {},
   "source": [
    "## Elimination"
   ]
  },
  {
   "cell_type": "markdown",
   "metadata": {},
   "source": [
    "Theorems like `conjI` is well-suited for application by matching only the conclusion. However, many other theorems are well-suited to application by matching the conclusion as well as the first assumption. A representative example is `disjE`:\n",
    "\n",
    "$$ A \\vee B \\to (A \\to C) \\to (B \\to C) \\to C $$\n",
    "\n",
    "Here the conclusion is arbitrary, and the key is matching the assumption $A\\vee B$, replacing the goal $C$ by two subgoals $A\\to C$ and $B\\to C$. This corresponds to case analysis on the disjunction $A\\vee B$. The `elim` tactic implements this function. In addition to the theorem name, it takes an optional parameter specifying the term $A\\vee B$. If the parameter is not given, it finds the first term in the antecedent of the goal matching this pattern (it should be clear that relying on this feature is not very robust)."
   ]
  },
  {
   "cell_type": "code",
   "execution_count": 21,
   "metadata": {},
   "outputs": [],
   "source": [
    "class elim_tac(Tactic):\n",
    "    def __init__(self, th_name, *, cond=None, inst=None):\n",
    "        self.th_name = th_name\n",
    "        if inst is None:\n",
    "            inst = Inst()\n",
    "        self.inst = inst\n",
    "        self.cond = cond\n",
    "        \n",
    "    def get_proof_term(self, goal):\n",
    "        th = theory.get_theorem(self.th_name)\n",
    "\n",
    "        assum = th.assums[0]\n",
    "        cond = self.cond\n",
    "        if cond is None:\n",
    "            # Find cond by matching with goal.hyps one by one\n",
    "            for hyp in goal.hyps:\n",
    "                try:\n",
    "                    inst = first_order_match(th.assums[0], hyp, self.inst)\n",
    "                    cond = hyp\n",
    "                    break\n",
    "                except MatchException:\n",
    "                    pass\n",
    "        \n",
    "        if cond is None:\n",
    "            raise TacticException('elim: cannot match assumption')\n",
    "\n",
    "        try:\n",
    "            inst = first_order_match(th.concl, goal.prop, inst)\n",
    "        except MatchException:\n",
    "            raise TacticException('elim: matching failed')\n",
    "\n",
    "        if any(v.name not in inst for v in th.prop.get_svars()):\n",
    "            raise TacticException('elim: not all variables are matched')\n",
    "            \n",
    "        pt = ProofTerm.theorem(self.th_name).substitution(inst)\n",
    "        pt = pt.implies_elim(ProofTerm.assume(cond))\n",
    "        for assum in pt.assums:\n",
    "            pt = pt.implies_elim(ProofTerm.sorry(Thm(goal.hyps, assum)))\n",
    "        return pt"
   ]
  },
  {
   "cell_type": "markdown",
   "metadata": {},
   "source": [
    "Let's test this tactic with `disjE`:"
   ]
  },
  {
   "cell_type": "code",
   "execution_count": 22,
   "metadata": {},
   "outputs": [
    {
     "name": "stdout",
     "output_type": "stream",
     "text": [
      "pt: ProofTerm(P ∨ Q ⊢ Q ∨ P)\n",
      "Gaps: P ∨ Q ⊢ Q ∨ P\n",
      "pt2: ProofTerm(P ∨ Q ⊢ Q ∨ P)\n",
      "Gaps: P ∨ Q ⊢ P ⟶ Q ∨ P\n",
      "      P ∨ Q ⊢ Q ⟶ Q ∨ P\n"
     ]
    }
   ],
   "source": [
    "P = Var('P', BoolType)\n",
    "Q = Var('Q', BoolType)\n",
    "pt = ProofTerm.sorry(Thm([Or(P, Q)], Or(Q, P)))\n",
    "print('pt:', pt)\n",
    "\n",
    "pt2 = pt.tac(elim_tac('disjE'))\n",
    "print('pt2:', pt2)"
   ]
  },
  {
   "cell_type": "markdown",
   "metadata": {},
   "source": [
    "We can now finish the proof of this theorem using tactics we have already implemented:"
   ]
  },
  {
   "cell_type": "code",
   "execution_count": 23,
   "metadata": {},
   "outputs": [
    {
     "name": "stdout",
     "output_type": "stream",
     "text": [
      "ProofTerm(P ∨ Q ⊢ Q ∨ P)\n"
     ]
    }
   ],
   "source": [
    "print(pt.tacs(\n",
    "    elim_tac('disjE'),\n",
    "    intros_tac, rule_tac('disjI2'), assumption(),\n",
    "    intros_tac, rule_tac('disjI1'), assumption()\n",
    "))"
   ]
  },
  {
   "cell_type": "markdown",
   "metadata": {},
   "source": [
    "Elimination can also be used on conjunctive assumptions. Here we used the theorem `conjE`:"
   ]
  },
  {
   "cell_type": "code",
   "execution_count": 24,
   "metadata": {},
   "outputs": [
    {
     "name": "stdout",
     "output_type": "stream",
     "text": [
      "conjE: ⊢ A ∧ B ⟶ (A ⟶ B ⟶ C) ⟶ C\n"
     ]
    }
   ],
   "source": [
    "theory.print_theorem('conjE')"
   ]
  },
  {
   "cell_type": "markdown",
   "metadata": {},
   "source": [
    "After applying `elim` on `conjE`, a goal with $A$ and $B$ as additional assumptions is generated. Two applications of `intro_forall_tac` moves them to the hypothesis. This can be packaged up as a tactic as follows:"
   ]
  },
  {
   "cell_type": "code",
   "execution_count": 25,
   "metadata": {},
   "outputs": [],
   "source": [
    "class conj_elim_tac(Tactic):\n",
    "    def get_proof_term(self, goal):\n",
    "        return ProofTerm.sorry(goal).tacs(\n",
    "            elim_tac('conjE'), intro_imp_tac(), intro_imp_tac())"
   ]
  },
  {
   "cell_type": "markdown",
   "metadata": {},
   "source": [
    "Let's try it on commutativity of conjunction from above:"
   ]
  },
  {
   "cell_type": "code",
   "execution_count": 26,
   "metadata": {},
   "outputs": [
    {
     "name": "stdout",
     "output_type": "stream",
     "text": [
      "ProofTerm(⊢ P ∧ Q ⟶ Q ∧ P)\n"
     ]
    }
   ],
   "source": [
    "P, Q = BoolVars('P Q')\n",
    "goal = Implies(And(P, Q), And(Q, P))\n",
    "pt = ProofTerm.sorry(Thm([], goal))\n",
    "print(pt.tacs(intros_tac, rule_tac('conjI'),\n",
    "              conj_elim_tac(), assumption(),\n",
    "              conj_elim_tac(), assumption()))"
   ]
  }
 ],
 "metadata": {
  "kernelspec": {
   "display_name": "Python 3",
   "language": "python",
   "name": "python3"
  },
  "language_info": {
   "codemirror_mode": {
    "name": "ipython",
    "version": 3
   },
   "file_extension": ".py",
   "mimetype": "text/x-python",
   "name": "python",
   "nbconvert_exporter": "python",
   "pygments_lexer": "ipython3",
   "version": "3.6.6"
  }
 },
 "nbformat": 4,
 "nbformat_minor": 2
}
