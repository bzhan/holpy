{
 "cells": [
  {
   "cell_type": "code",
   "execution_count": 1,
   "metadata": {},
   "outputs": [],
   "source": [
    "import os\n",
    "os.chdir('..')"
   ]
  },
  {
   "cell_type": "code",
   "execution_count": 2,
   "metadata": {},
   "outputs": [],
   "source": [
    "from kernel.type import BoolType\n",
    "from kernel.term import Var, And, Or, Implies, Eq, Inst, Not\n",
    "from kernel.proofterm import ProofTerm, refl\n",
    "from kernel import term_ord\n",
    "from kernel import theory\n",
    "from logic import basic\n",
    "from logic.conv import Conv\n",
    "from logic.logic import apply_theorem\n",
    "from syntax.settings import settings\n",
    "\n",
    "basic.load_theory('logic')\n",
    "settings.unicode = True"
   ]
  },
  {
   "cell_type": "markdown",
   "metadata": {},
   "source": [
    "## Resolution"
   ]
  },
  {
   "cell_type": "markdown",
   "metadata": {},
   "source": [
    "The resolution rule (for propositional logic) is the following:\n",
    "\n",
    "$$ \\frac{A_1\\vee\\dots A_{i-1}\\vee P\\vee A_{i+1}\\vee \\dots \\vee A_m \\quad \n",
    "B_1\\vee\\dots B_{j-1}\\vee \\neg P\\vee B_{j+1}\\vee \\dots\\vee B_n}\n",
    "{A_1\\vee\\dots A_{i-1}\\vee A_{i+1}\\vee\\dots A_m \\vee B_1\\vee\\dots B_{j-1}\\vee B_{j+1}\\vee\\dots B_n} $$\n",
    "\n",
    "That is, given two disjunctive clauses, one containing $P$ and one containing $\\neg P$, we can *resolve* on $P$, removing it from both clauses and combining the clauses together. Resolution (with its extension to predicate logic) is the fundamental rule for a family of automatic theorem proving methods called resolution theorem proving. In addition, DPLL-based methods for propositional SAT solving can also produce independently checkable proofs as a list of resolution steps.\n",
    "\n",
    "In this section, we describe implementation of resolution in higher-order logic. The methods used in this section comes from the paper \"Fast LCF-Style Proof Reconstruction for Z3\" by Sascha Bohme and Tjark Weber."
   ]
  },
  {
   "cell_type": "markdown",
   "metadata": {},
   "source": [
    "## Implication between conjunctions"
   ]
  },
  {
   "cell_type": "markdown",
   "metadata": {},
   "source": [
    "First, we do a small exercise which will also be useful in the future. We wish to automatically prove statements of the form $A_1\\wedge \\dots \\wedge A_m \\to B_1\\wedge\\dots\\wedge B_n$, where $\\{B_1,\\dots,B_n\\}$ is a subset of $\\{A_1,\\dots,A_m\\}$. This includes permutative problems like\n",
    "\n",
    "$$ P \\wedge Q \\wedge R \\to Q \\wedge R \\wedge P, $$\n",
    "\n",
    "but also other situations involving missing or repeated conjuncts:\n",
    "\n",
    "$$ R \\wedge P \\wedge Q \\wedge R \\to P \\wedge P \\wedge R. $$"
   ]
  },
  {
   "cell_type": "markdown",
   "metadata": {},
   "source": [
    "For solving problems like the first example, one idea that immediately comes to mind is to apply the approach of the previous section, using commutativity and associativity to reorder the conjuncts. However, extending this approach to cover problems like the second example is more involved. Moreover, this approach is not very efficient, requiring $O(n^2)$ rewrites in general. We shall see soon that another approach is both simpler and more efficient."
   ]
  },
  {
   "cell_type": "markdown",
   "metadata": {},
   "source": [
    "The idea is as follows. First, we construct proofs for each conjunct in the assumption from the assumption, using the theorems `conjD1` and `conjD2`. This gives also gives us proofs for each conjunct in the conclusion due to the subset condition. Then, we use `conjI` to combine the proofs together to give the conclusion. The implementation is as follows:"
   ]
  },
  {
   "cell_type": "code",
   "execution_count": 3,
   "metadata": {},
   "outputs": [],
   "source": [
    "def imp_conj(goal):\n",
    "    \"\"\"Goal is of the form A_1 & ... & A_m --> B_1 & ... & B_n, where\n",
    "    {B_1, ..., B_n} is a subset of {A_1, ..., A_m}.\"\"\"\n",
    "    \n",
    "    # Dictionary from conjuncts in A to its proof\n",
    "    pts_A = dict()\n",
    "\n",
    "    # Fills up pts_A from the assumption.\n",
    "    def traverse_A(pt):\n",
    "        if pt.prop.is_conj():\n",
    "            traverse_A(apply_theorem('conjD1', pt))\n",
    "            traverse_A(apply_theorem('conjD2', pt))\n",
    "        else:\n",
    "            pts_A[pt.prop] = pt\n",
    "            \n",
    "    # Use pts_A to prove the conclusion\n",
    "    def traverse_C(t):\n",
    "        if t.is_conj():\n",
    "            left_pt = traverse_C(t.arg1)\n",
    "            right_pt = traverse_C(t.arg)\n",
    "            return apply_theorem('conjI', left_pt, right_pt)\n",
    "        else:\n",
    "            assert t in pts_A, \"imp_conj: %s not found in assumption\" % t\n",
    "            return pts_A[t]\n",
    "\n",
    "    A = goal.arg1\n",
    "    traverse_A(ProofTerm.assume(A))\n",
    "    return traverse_C(goal.arg).implies_intr(A)"
   ]
  },
  {
   "cell_type": "markdown",
   "metadata": {},
   "source": [
    "Let us test this function on some examples:"
   ]
  },
  {
   "cell_type": "code",
   "execution_count": 4,
   "metadata": {},
   "outputs": [
    {
     "name": "stdout",
     "output_type": "stream",
     "text": [
      "ProofTerm(⊢ P ∧ Q ∧ R ⟶ R ∧ Q ∧ P)\n",
      "ProofTerm(⊢ R ∧ P ∧ Q ∧ R ⟶ P ∧ P ∧ R)\n"
     ]
    }
   ],
   "source": [
    "P = Var('P', BoolType)\n",
    "Q = Var('Q', BoolType)\n",
    "R = Var('R', BoolType)\n",
    "\n",
    "print(imp_conj(Implies(And(P, Q, R), And(R, Q, P))))\n",
    "print(imp_conj(Implies(And(R, P, Q, R), And(P, P, R))))"
   ]
  },
  {
   "cell_type": "markdown",
   "metadata": {},
   "source": [
    "As expected, the function raises an exception if the conjuncts in the conclusion is not a subset of conjuncts in the assumption:"
   ]
  },
  {
   "cell_type": "code",
   "execution_count": 5,
   "metadata": {
    "tags": [
     "raises-exception"
    ]
   },
   "outputs": [
    {
     "ename": "AssertionError",
     "evalue": "imp_conj: R not found in assumption",
     "output_type": "error",
     "traceback": [
      "\u001b[1;31m---------------------------------------------------------------------------\u001b[0m",
      "\u001b[1;31mAssertionError\u001b[0m                            Traceback (most recent call last)",
      "\u001b[1;32m<ipython-input-5-c358a3fbe997>\u001b[0m in \u001b[0;36m<module>\u001b[1;34m\u001b[0m\n\u001b[1;32m----> 1\u001b[1;33m \u001b[0mimp_conj\u001b[0m\u001b[1;33m(\u001b[0m\u001b[0mImplies\u001b[0m\u001b[1;33m(\u001b[0m\u001b[0mAnd\u001b[0m\u001b[1;33m(\u001b[0m\u001b[0mP\u001b[0m\u001b[1;33m,\u001b[0m \u001b[0mQ\u001b[0m\u001b[1;33m)\u001b[0m\u001b[1;33m,\u001b[0m \u001b[0mAnd\u001b[0m\u001b[1;33m(\u001b[0m\u001b[0mP\u001b[0m\u001b[1;33m,\u001b[0m \u001b[0mR\u001b[0m\u001b[1;33m)\u001b[0m\u001b[1;33m)\u001b[0m\u001b[1;33m)\u001b[0m  \u001b[1;31m# raises AssertionError\u001b[0m\u001b[1;33m\u001b[0m\u001b[0m\n\u001b[0m",
      "\u001b[1;32m<ipython-input-3-06f1fc40c8ad>\u001b[0m in \u001b[0;36mimp_conj\u001b[1;34m(goal)\u001b[0m\n\u001b[0;32m     26\u001b[0m     \u001b[0mA\u001b[0m \u001b[1;33m=\u001b[0m \u001b[0mgoal\u001b[0m\u001b[1;33m.\u001b[0m\u001b[0marg1\u001b[0m\u001b[1;33m\u001b[0m\u001b[0m\n\u001b[0;32m     27\u001b[0m     \u001b[0mtraverse_A\u001b[0m\u001b[1;33m(\u001b[0m\u001b[0mProofTerm\u001b[0m\u001b[1;33m.\u001b[0m\u001b[0massume\u001b[0m\u001b[1;33m(\u001b[0m\u001b[0mA\u001b[0m\u001b[1;33m)\u001b[0m\u001b[1;33m)\u001b[0m\u001b[1;33m\u001b[0m\u001b[0m\n\u001b[1;32m---> 28\u001b[1;33m     \u001b[1;32mreturn\u001b[0m \u001b[0mtraverse_C\u001b[0m\u001b[1;33m(\u001b[0m\u001b[0mgoal\u001b[0m\u001b[1;33m.\u001b[0m\u001b[0marg\u001b[0m\u001b[1;33m)\u001b[0m\u001b[1;33m.\u001b[0m\u001b[0mimplies_intr\u001b[0m\u001b[1;33m(\u001b[0m\u001b[0mA\u001b[0m\u001b[1;33m)\u001b[0m\u001b[1;33m\u001b[0m\u001b[0m\n\u001b[0m",
      "\u001b[1;32m<ipython-input-3-06f1fc40c8ad>\u001b[0m in \u001b[0;36mtraverse_C\u001b[1;34m(t)\u001b[0m\n\u001b[0;32m     18\u001b[0m         \u001b[1;32mif\u001b[0m \u001b[0mt\u001b[0m\u001b[1;33m.\u001b[0m\u001b[0mis_conj\u001b[0m\u001b[1;33m(\u001b[0m\u001b[1;33m)\u001b[0m\u001b[1;33m:\u001b[0m\u001b[1;33m\u001b[0m\u001b[0m\n\u001b[0;32m     19\u001b[0m             \u001b[0mleft_pt\u001b[0m \u001b[1;33m=\u001b[0m \u001b[0mtraverse_C\u001b[0m\u001b[1;33m(\u001b[0m\u001b[0mt\u001b[0m\u001b[1;33m.\u001b[0m\u001b[0marg1\u001b[0m\u001b[1;33m)\u001b[0m\u001b[1;33m\u001b[0m\u001b[0m\n\u001b[1;32m---> 20\u001b[1;33m             \u001b[0mright_pt\u001b[0m \u001b[1;33m=\u001b[0m \u001b[0mtraverse_C\u001b[0m\u001b[1;33m(\u001b[0m\u001b[0mt\u001b[0m\u001b[1;33m.\u001b[0m\u001b[0marg\u001b[0m\u001b[1;33m)\u001b[0m\u001b[1;33m\u001b[0m\u001b[0m\n\u001b[0m\u001b[0;32m     21\u001b[0m             \u001b[1;32mreturn\u001b[0m \u001b[0mapply_theorem\u001b[0m\u001b[1;33m(\u001b[0m\u001b[1;34m'conjI'\u001b[0m\u001b[1;33m,\u001b[0m \u001b[0mleft_pt\u001b[0m\u001b[1;33m,\u001b[0m \u001b[0mright_pt\u001b[0m\u001b[1;33m)\u001b[0m\u001b[1;33m\u001b[0m\u001b[0m\n\u001b[0;32m     22\u001b[0m         \u001b[1;32melse\u001b[0m\u001b[1;33m:\u001b[0m\u001b[1;33m\u001b[0m\u001b[0m\n",
      "\u001b[1;32m<ipython-input-3-06f1fc40c8ad>\u001b[0m in \u001b[0;36mtraverse_C\u001b[1;34m(t)\u001b[0m\n\u001b[0;32m     21\u001b[0m             \u001b[1;32mreturn\u001b[0m \u001b[0mapply_theorem\u001b[0m\u001b[1;33m(\u001b[0m\u001b[1;34m'conjI'\u001b[0m\u001b[1;33m,\u001b[0m \u001b[0mleft_pt\u001b[0m\u001b[1;33m,\u001b[0m \u001b[0mright_pt\u001b[0m\u001b[1;33m)\u001b[0m\u001b[1;33m\u001b[0m\u001b[0m\n\u001b[0;32m     22\u001b[0m         \u001b[1;32melse\u001b[0m\u001b[1;33m:\u001b[0m\u001b[1;33m\u001b[0m\u001b[0m\n\u001b[1;32m---> 23\u001b[1;33m             \u001b[1;32massert\u001b[0m \u001b[0mt\u001b[0m \u001b[1;32min\u001b[0m \u001b[0mpts_A\u001b[0m\u001b[1;33m,\u001b[0m \u001b[1;34m\"imp_conj: %s not found in assumption\"\u001b[0m \u001b[1;33m%\u001b[0m \u001b[0mt\u001b[0m\u001b[1;33m\u001b[0m\u001b[0m\n\u001b[0m\u001b[0;32m     24\u001b[0m             \u001b[1;32mreturn\u001b[0m \u001b[0mpts_A\u001b[0m\u001b[1;33m[\u001b[0m\u001b[0mt\u001b[0m\u001b[1;33m]\u001b[0m\u001b[1;33m\u001b[0m\u001b[0m\n\u001b[0;32m     25\u001b[0m \u001b[1;33m\u001b[0m\u001b[0m\n",
      "\u001b[1;31mAssertionError\u001b[0m: imp_conj: R not found in assumption"
     ]
    }
   ],
   "source": [
    "imp_conj(Implies(And(P, Q), And(P, R)))  # raises AssertionError"
   ]
  },
  {
   "cell_type": "markdown",
   "metadata": {},
   "source": [
    "To show an if-and-only-if relation between two conjuncts, we just compose the two directions using `equal_elim`:"
   ]
  },
  {
   "cell_type": "code",
   "execution_count": 6,
   "metadata": {},
   "outputs": [],
   "source": [
    "def imp_conj_iff(goal):\n",
    "    \"\"\"Goal is of the form A_1 & ... & A_m <--> B_1 & ... & B_n, where\n",
    "    the sets {A_1, ..., A_m} and {B_1, ..., B_n} are equal.\"\"\"\n",
    "    pt1 = imp_conj(Implies(goal.lhs, goal.rhs))\n",
    "    pt2 = imp_conj(Implies(goal.rhs, goal.lhs))\n",
    "    return ProofTerm.equal_intr(pt1, pt2)"
   ]
  },
  {
   "cell_type": "code",
   "execution_count": 7,
   "metadata": {},
   "outputs": [
    {
     "name": "stdout",
     "output_type": "stream",
     "text": [
      "ProofTerm(⊢ P ∧ Q ∧ R ⟷ R ∧ Q ∧ P)\n",
      "ProofTerm(⊢ R ∧ P ∧ Q ∧ R ⟷ P ∧ P ∧ R ∧ Q)\n"
     ]
    }
   ],
   "source": [
    "print(imp_conj_iff(Eq(And(P, Q, R), And(R, Q, P))))\n",
    "print(imp_conj_iff(Eq(And(R, P, Q, R), And(P, P, R, Q))))"
   ]
  },
  {
   "cell_type": "markdown",
   "metadata": {},
   "source": [
    "Based on this, we can also implement a normalization conversion. The conversion takes a conjunction and sort the conjuncts (as a Python list), then creates the desired equality for `imp_conj_iff` to prove:"
   ]
  },
  {
   "cell_type": "code",
   "execution_count": 8,
   "metadata": {},
   "outputs": [],
   "source": [
    "def strip_conj(t):\n",
    "    def rec(t):\n",
    "        if t.is_conj():\n",
    "            return rec(t.arg1) + rec(t.arg)\n",
    "        else:\n",
    "            return [t]\n",
    "    return term_ord.sorted_terms(rec(t))\n",
    "\n",
    "class conj_norm(Conv):\n",
    "    \"\"\"Normalize an conjunction.\"\"\"\n",
    "    def get_proof_term(self, t):\n",
    "        goal = Eq(t, And(*strip_conj(t)))\n",
    "        return imp_conj_iff(goal)"
   ]
  },
  {
   "cell_type": "code",
   "execution_count": 9,
   "metadata": {},
   "outputs": [
    {
     "name": "stdout",
     "output_type": "stream",
     "text": [
      "Q ∧ R ∧ P ⟷ P ∧ Q ∧ R\n",
      "P ∧ P ∧ Q ∧ Q ∧ R ∧ R ⟷ P ∧ Q ∧ R\n"
     ]
    }
   ],
   "source": [
    "def test_conv(cv, ts):\n",
    "    for t in ts:\n",
    "        print(refl(t).on_rhs(cv).prop)\n",
    "\n",
    "test_conv(conj_norm(), [\n",
    "    And(Q, R, P),\n",
    "    And(P, P, Q, Q, R, R),\n",
    "])"
   ]
  },
  {
   "cell_type": "markdown",
   "metadata": {},
   "source": [
    "## Implication between disjunctions"
   ]
  },
  {
   "cell_type": "markdown",
   "metadata": {},
   "source": [
    "The same idea can be applied to showing implication between disjunctions. The algorithm is just slightly more complicated. Here, we need to show $A_1\\vee\\dots\\vee A_m \\to B_1\\vee\\dots\\vee B_n$, where $\\{A_1,\\dots,A_m\\}$ is a subset of $\\{B_1,\\dots,B_n\\}$. The idea is to show $B_i\\to B_1\\vee\\dots\\vee B_n$ for each $i$, using theorems `disjI1` and `disjI2`, then combine the results together using `disjE`. The implementation is as follows:"
   ]
  },
  {
   "cell_type": "code",
   "execution_count": 10,
   "metadata": {},
   "outputs": [],
   "source": [
    "def imp_disj(goal):\n",
    "    \"\"\"Goal is of the form A_1 | ... | A_m --> B_1 | ...| B_n, where\n",
    "    {A_1, ..., A_m} is a subset of {B_1, ..., B_n}.\"\"\"\n",
    "\n",
    "    # Dictionary from B_i to B_i --> B_1 | ... | B_n\n",
    "    pts_B = dict()\n",
    "    \n",
    "    # Fills up pts_B.\n",
    "    def traverse_C(pt):\n",
    "        if pt.prop.arg1.is_disj():\n",
    "            pt1 = apply_theorem('disjI1', concl=pt.prop.arg1)\n",
    "            pt2 = apply_theorem('disjI2', concl=pt.prop.arg1)\n",
    "            traverse_C(apply_theorem('syllogism', pt1, pt))\n",
    "            traverse_C(apply_theorem('syllogism', pt2, pt))\n",
    "        else:\n",
    "            pts_B[pt.prop.arg1] = pt\n",
    "    \n",
    "    # Use pts_B to prove the implication\n",
    "    def traverse_A(t):\n",
    "        if t.is_disj():\n",
    "            pt1 = traverse_A(t.arg1)\n",
    "            pt2 = traverse_A(t.arg)\n",
    "            return apply_theorem('disjE2', pt1, pt2)\n",
    "        else:\n",
    "            assert t in pts_B, \"imp_disj: %s not found in conclusion\" % t\n",
    "            return pts_B[t]\n",
    "        \n",
    "    triv = apply_theorem('trivial', inst=Inst(A=goal.arg))\n",
    "    traverse_C(triv)\n",
    "    return traverse_A(goal.arg1)"
   ]
  },
  {
   "cell_type": "markdown",
   "metadata": {},
   "source": [
    "We test this on some examples:"
   ]
  },
  {
   "cell_type": "code",
   "execution_count": 11,
   "metadata": {},
   "outputs": [
    {
     "name": "stdout",
     "output_type": "stream",
     "text": [
      "ProofTerm(⊢ P ∨ Q ∨ R ⟶ R ∨ Q ∨ P)\n",
      "ProofTerm(⊢ P ∨ P ∨ R ⟶ R ∨ P ∨ Q ∨ R)\n"
     ]
    }
   ],
   "source": [
    "P = Var('P', BoolType)\n",
    "Q = Var('Q', BoolType)\n",
    "R = Var('R', BoolType)\n",
    "\n",
    "print(imp_disj(Implies(Or(P, Q, R), Or(R, Q, P))))\n",
    "print(imp_disj(Implies(Or(P, P, R), Or(R, P, Q, R))))"
   ]
  },
  {
   "cell_type": "markdown",
   "metadata": {},
   "source": [
    "As above, we can implement a function for showing if-and-only-if statements:"
   ]
  },
  {
   "cell_type": "code",
   "execution_count": 12,
   "metadata": {},
   "outputs": [],
   "source": [
    "def imp_disj_iff(goal):\n",
    "    \"\"\"Goal is of the form A_1 | ... | A_m <--> B_1 | ... | B_n, where\n",
    "    the sets {A_1, ..., A_m} and {B_1, ..., B_n} are equal.\"\"\"\n",
    "    pt1 = imp_disj(Implies(goal.lhs, goal.rhs))\n",
    "    pt2 = imp_disj(Implies(goal.rhs, goal.lhs))\n",
    "    return ProofTerm.equal_intr(pt1, pt2)"
   ]
  },
  {
   "cell_type": "code",
   "execution_count": 13,
   "metadata": {},
   "outputs": [
    {
     "name": "stdout",
     "output_type": "stream",
     "text": [
      "ProofTerm(⊢ P ∨ Q ∨ R ⟷ R ∨ Q ∨ P)\n",
      "ProofTerm(⊢ R ∨ P ∨ Q ∨ R ⟷ P ∨ P ∨ R ∨ Q)\n"
     ]
    }
   ],
   "source": [
    "print(imp_disj_iff(Eq(Or(P, Q, R), Or(R, Q, P))))\n",
    "print(imp_disj_iff(Eq(Or(R, P, Q, R), Or(P, P, R, Q))))"
   ]
  },
  {
   "cell_type": "markdown",
   "metadata": {},
   "source": [
    "Finally, we define a conversion for normalizing a disjunction."
   ]
  },
  {
   "cell_type": "code",
   "execution_count": 14,
   "metadata": {},
   "outputs": [],
   "source": [
    "def strip_disj(t):\n",
    "    def rec(t):\n",
    "        if t.is_disj():\n",
    "            return rec(t.arg1) + rec(t.arg)\n",
    "        else:\n",
    "            return [t]\n",
    "    return term_ord.sorted_terms(rec(t))\n",
    "\n",
    "class disj_norm(Conv):\n",
    "    \"\"\"Normalize an disjunction.\"\"\"\n",
    "    def get_proof_term(self, t):\n",
    "        goal = Eq(t, Or(*strip_disj(t)))\n",
    "        return imp_disj_iff(goal)"
   ]
  },
  {
   "cell_type": "code",
   "execution_count": 15,
   "metadata": {},
   "outputs": [
    {
     "name": "stdout",
     "output_type": "stream",
     "text": [
      "Q ∨ R ∨ P ⟷ P ∨ Q ∨ R\n",
      "P ∨ P ∨ Q ∨ Q ∨ R ∨ R ⟷ P ∨ Q ∨ R\n"
     ]
    }
   ],
   "source": [
    "test_conv(disj_norm(), [\n",
    "    Or(Q, R, P),\n",
    "    Or(P, P, Q, Q, R, R),\n",
    "])"
   ]
  },
  {
   "cell_type": "markdown",
   "metadata": {},
   "source": [
    "## Proof construction for resolution"
   ]
  },
  {
   "cell_type": "markdown",
   "metadata": {},
   "source": [
    "We now consider the problem of constructing proof for a resolution step. The basic procedure is as follows. First, we traverse the two disjunction to find a literal to resolve on. Then, this literal is moved to the front. This allows the resolution theorem to be applied, and we normalize the results. There are corner cases where the left or right side contains only one disjunct, and we use separate theorems for these:"
   ]
  },
  {
   "cell_type": "code",
   "execution_count": 16,
   "metadata": {},
   "outputs": [
    {
     "name": "stdout",
     "output_type": "stream",
     "text": [
      "resolution: ⊢ A ∨ B ⟶ ¬A ∨ C ⟶ B ∨ C\n",
      "resolution_left: ⊢ A ∨ B ⟶ ¬A ⟶ B\n",
      "resolution_right: ⊢ A ⟶ ¬A ∨ B ⟶ B\n",
      "negE: ⊢ ¬A ⟶ A ⟶ false\n"
     ]
    }
   ],
   "source": [
    "theory.print_theorem('resolution', 'resolution_left', 'resolution_right', 'negE')"
   ]
  },
  {
   "cell_type": "code",
   "execution_count": 17,
   "metadata": {},
   "outputs": [],
   "source": [
    "def resolution(pt1, pt2):\n",
    "    \"\"\"Input proof terms are A_1 | ... | A_m and B_1 | ... | B_n, where\n",
    "    there is some i, j such that B_j = ~A_i or A_i = ~B_j.\"\"\"\n",
    "    \n",
    "    # First, find the pair i, j such that B_j = ~A_i or A_i = ~B_j, the\n",
    "    # variable side records the side of the positive literal.\n",
    "    disj1 = strip_disj(pt1.prop)\n",
    "    disj2 = strip_disj(pt2.prop)\n",
    "    \n",
    "    side = None\n",
    "    for i, t1 in enumerate(disj1):\n",
    "        for j, t2 in enumerate(disj2):\n",
    "            if t2 == Not(t1):\n",
    "                side = 'left'\n",
    "                break\n",
    "            elif t1 == Not(t2):\n",
    "                side = 'right'\n",
    "                break\n",
    "        if side is not None:\n",
    "            break\n",
    "            \n",
    "    assert side is not None, \"resolution: literal not found\"\n",
    "    \n",
    "    # If side is wrong, just swap:\n",
    "    if side == 'right':\n",
    "        return resolution(pt2, pt1)\n",
    "    \n",
    "    # Move items i and j to the front\n",
    "    disj1 = [disj1[i]] + disj1[:i] + disj1[i+1:]\n",
    "    disj2 = [disj2[j]] + disj2[:j] + disj2[j+1:]\n",
    "    eq_pt1 = imp_disj_iff(Eq(pt1.prop, Or(*disj1)))\n",
    "    eq_pt2 = imp_disj_iff(Eq(pt2.prop, Or(*disj2)))\n",
    "    pt1 = eq_pt1.equal_elim(pt1)\n",
    "    pt2 = eq_pt2.equal_elim(pt2)\n",
    "    \n",
    "    if len(disj1) > 1 and len(disj2) > 1:\n",
    "        pt = apply_theorem('resolution', pt1, pt2)\n",
    "    elif len(disj1) > 1 and len(disj2) == 1:\n",
    "        pt = apply_theorem('resolution_left', pt1, pt2)\n",
    "    elif len(disj1) == 1 and len(disj2) > 1:\n",
    "        pt = apply_theorem('resolution_right', pt1, pt2)\n",
    "    else:\n",
    "        pt = apply_theorem('negE', pt2, pt1)\n",
    "\n",
    "    return pt.on_prop(disj_norm())"
   ]
  },
  {
   "cell_type": "markdown",
   "metadata": {},
   "source": [
    "We test this on some examples:"
   ]
  },
  {
   "cell_type": "code",
   "execution_count": 18,
   "metadata": {},
   "outputs": [
    {
     "name": "stdout",
     "output_type": "stream",
     "text": [
      "ProofTerm(P ∨ Q, ¬P ∨ R ⊢ Q ∨ R)\n",
      "ProofTerm(P ∨ Q ∨ R, P ∨ ¬Q ∨ R ⊢ P ∨ R)\n",
      "ProofTerm(¬P, P ∨ Q ⊢ Q)\n",
      "ProofTerm(¬Q, P ∨ Q ⊢ P)\n",
      "ProofTerm(P, ¬P ⊢ false)\n",
      "ProofTerm(P, ¬P ⊢ false)\n"
     ]
    }
   ],
   "source": [
    "test_data = [\n",
    "    (Or(P, Q), Or(Not(P), R)),\n",
    "    (Or(P, Q, R), Or(P, Not(Q), R)),\n",
    "    (Or(P, Q), Not(P)),\n",
    "    (Not(Q), Or(P, Q)),\n",
    "    (P, Not(P)),\n",
    "    (Not(P), P),\n",
    "]\n",
    "\n",
    "for t1, t2 in test_data:\n",
    "    print(resolution(ProofTerm.assume(t1), ProofTerm.assume(t2)))"
   ]
  }
 ],
 "metadata": {
  "kernelspec": {
   "display_name": "Python 3",
   "language": "python",
   "name": "python3"
  },
  "language_info": {
   "codemirror_mode": {
    "name": "ipython",
    "version": 3
   },
   "file_extension": ".py",
   "mimetype": "text/x-python",
   "name": "python",
   "nbconvert_exporter": "python",
   "pygments_lexer": "ipython3",
   "version": "3.6.6"
  }
 },
 "nbformat": 4,
 "nbformat_minor": 2
}
