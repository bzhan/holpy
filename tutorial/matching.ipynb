{
 "cells": [
  {
   "cell_type": "markdown",
   "metadata": {},
   "source": [
    "$\\newcommand{\\To}{\\Rightarrow}$"
   ]
  },
  {
   "cell_type": "code",
   "execution_count": 2,
   "metadata": {},
   "outputs": [],
   "source": [
    "import os, sys\n",
    "sys.path.append(os.path.split(os.getcwd())[0])"
   ]
  },
  {
   "cell_type": "code",
   "execution_count": 19,
   "metadata": {},
   "outputs": [],
   "source": [
    "from kernel.type import TVar, TFun\n",
    "from kernel.term import Term, Var\n",
    "from logic import nat\n",
    "from logic.nat import natT, zero, one, plus\n",
    "from logic import basic\n",
    "from logic import logic\n",
    "from syntax import printer\n",
    "\n",
    "thy = basic.loadTheory('nat')"
   ]
  },
  {
   "cell_type": "markdown",
   "metadata": {},
   "source": [
    "## Substitution"
   ]
  },
  {
   "cell_type": "markdown",
   "metadata": {},
   "source": [
    "Substitution on terms is analogous to substitution on types, but more complicated due to the presence of abstractions (lambda terms), and the need to substitute for both type and term variables. Consider the following term:"
   ]
  },
  {
   "cell_type": "code",
   "execution_count": 25,
   "metadata": {},
   "outputs": [
    {
     "name": "stdout",
     "output_type": "stream",
     "text": [
      "Comb(Comb(Const(equals,'a => 'a => bool),Var(a,'a)),Var(b,'a))\n"
     ]
    }
   ],
   "source": [
    "Ta = TVar(\"a\")\n",
    "a = Var(\"a\", Ta)\n",
    "b = Var(\"b\", Ta)\n",
    "t = Term.mk_equals(a, b)\n",
    "print(repr(t))"
   ]
  },
  {
   "cell_type": "markdown",
   "metadata": {},
   "source": [
    "Observe that there are both type and term variables in $t$. The method `subst_type` takes a dictionary of assignments for type variables, and substitutes using this dictionary."
   ]
  },
  {
   "cell_type": "code",
   "execution_count": 11,
   "metadata": {},
   "outputs": [
    {
     "name": "stdout",
     "output_type": "stream",
     "text": [
      "Comb(Comb(Const(equals,nat => nat => bool),Var(a,nat)),Var(b,nat))\n"
     ]
    }
   ],
   "source": [
    "t2 = t.subst_type({\"a\": natT})\n",
    "print(repr(t2))"
   ]
  },
  {
   "cell_type": "markdown",
   "metadata": {},
   "source": [
    "Next, we can apply the method `subst`, which takes a dictionary of assignments for (term) variables, and substitutes using this dictionary."
   ]
  },
  {
   "cell_type": "code",
   "execution_count": 19,
   "metadata": {},
   "outputs": [
    {
     "name": "stdout",
     "output_type": "stream",
     "text": [
      "0 = 1\n"
     ]
    }
   ],
   "source": [
    "t3 = t2.subst({\"a\": zero, \"b\": one})\n",
    "print(printer.print_term(thy, t3))"
   ]
  },
  {
   "cell_type": "markdown",
   "metadata": {},
   "source": [
    "We now look at some examples demonstrating how substitution interacts with abstractions. Consider the following term $t$:"
   ]
  },
  {
   "cell_type": "code",
   "execution_count": 5,
   "metadata": {},
   "outputs": [
    {
     "name": "stdout",
     "output_type": "stream",
     "text": [
      "(λx. x + y) 1 + x\n"
     ]
    }
   ],
   "source": [
    "x = Var(\"x\", natT)\n",
    "y = Var(\"y\", natT)\n",
    "t = plus(Term.mk_abs(x, plus(x, y))(one), x)\n",
    "print(printer.print_term(thy, t, unicode=True))"
   ]
  },
  {
   "cell_type": "markdown",
   "metadata": {},
   "source": [
    "This term contains variables $x$ and $y$. Let's substitute 3 for $x$ and 5 for $y$:"
   ]
  },
  {
   "cell_type": "code",
   "execution_count": 9,
   "metadata": {},
   "outputs": [
    {
     "name": "stdout",
     "output_type": "stream",
     "text": [
      "(λx. x + 5) 1 + 3\n"
     ]
    }
   ],
   "source": [
    "t2 = t.subst({\"x\": nat.to_binary(3), \"y\": nat.to_binary(5)})\n",
    "print(printer.print_term(thy, t2, unicode=True))"
   ]
  },
  {
   "cell_type": "markdown",
   "metadata": {},
   "source": [
    "Observe that both the $x$ at the end and the $y$ inside the lambda term is substituted. However, the $x$ inside the lambda term is not. This is because the latter $x$ is a bound variable, and quite different from the former $x$. In fact, since the name of the bound variable does not matter, the term $t$ is equivalent to $(\\lambda z. z + y) 1 + x$. The fact that the name of the bound variable is the same as a variable outside the lambda term is simply a coincidence."
   ]
  },
  {
   "cell_type": "markdown",
   "metadata": {},
   "source": [
    "By default, substitution does not perform $\\beta$-conversion (evaluation of functions). For example:"
   ]
  },
  {
   "cell_type": "code",
   "execution_count": 18,
   "metadata": {},
   "outputs": [
    {
     "name": "stdout",
     "output_type": "stream",
     "text": [
      "f a\n",
      "(λx. x + 2) 2\n"
     ]
    }
   ],
   "source": [
    "two = nat.to_binary(2)\n",
    "f = Var(\"f\", TFun(natT, natT))\n",
    "a = Var(\"a\", natT)\n",
    "t = f(a)\n",
    "print(printer.print_term(thy, t))\n",
    "\n",
    "t2 = t.subst({\"f\": Term.mk_abs(x, plus(x,two)), \"a\": two})\n",
    "print(printer.print_term(thy, t2, unicode=True))"
   ]
  },
  {
   "cell_type": "markdown",
   "metadata": {},
   "source": [
    "To evaluate $f$ after a substitution, one can use `logic.beta_norm` function introduced previously. The function `logic.subst_norm` combines the three operations above: type substitution, term substitution, and $\\beta$-normalization. This function takes the pattern to be substituted, and a pair of dictionaries of assignments for type and term variables."
   ]
  },
  {
   "cell_type": "code",
   "execution_count": 24,
   "metadata": {},
   "outputs": [
    {
     "name": "stdout",
     "output_type": "stream",
     "text": [
      "2 + 2\n"
     ]
    }
   ],
   "source": [
    "t3 = logic.subst_norm(t, (dict(), {\"f\": Term.mk_abs(x, plus(x,two)), \"a\": two}))\n",
    "print(printer.print_term(thy, t3))"
   ]
  },
  {
   "cell_type": "markdown",
   "metadata": {},
   "source": [
    "We can also use `logic.subst_norm` to do the example at the beginning of the section:"
   ]
  },
  {
   "cell_type": "code",
   "execution_count": 29,
   "metadata": {},
   "outputs": [
    {
     "name": "stdout",
     "output_type": "stream",
     "text": [
      "0 = 1\n"
     ]
    }
   ],
   "source": [
    "Ta = TVar(\"a\")\n",
    "a = Var(\"a\", Ta)\n",
    "b = Var(\"b\", Ta)\n",
    "t = Term.mk_equals(a, b)\n",
    "t2 = logic.subst_norm(t, ({\"a\": natT}, {\"a\": zero, \"b\": one}))\n",
    "print(printer.print_term(thy, t2))"
   ]
  },
  {
   "cell_type": "markdown",
   "metadata": {},
   "source": [
    "## Matching"
   ]
  },
  {
   "cell_type": "markdown",
   "metadata": {},
   "source": []
  }
 ],
 "metadata": {
  "kernelspec": {
   "display_name": "Python 3",
   "language": "python",
   "name": "python3"
  },
  "language_info": {
   "codemirror_mode": {
    "name": "ipython",
    "version": 3
   },
   "file_extension": ".py",
   "mimetype": "text/x-python",
   "name": "python",
   "nbconvert_exporter": "python",
   "pygments_lexer": "ipython3",
   "version": "3.6.6"
  }
 },
 "nbformat": 4,
 "nbformat_minor": 2
}
