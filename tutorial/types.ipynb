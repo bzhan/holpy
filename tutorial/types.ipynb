{
 "cells": [
  {
   "cell_type": "markdown",
   "metadata": {},
   "source": [
    "$\\newcommand{\\To}{\\Rightarrow}$"
   ]
  },
  {
   "cell_type": "code",
   "execution_count": 1,
   "metadata": {},
   "outputs": [],
   "source": [
    "# Initialize to directory holpy. Run this only once!\n",
    "import os\n",
    "os.chdir('..')"
   ]
  },
  {
   "cell_type": "code",
   "execution_count": 2,
   "metadata": {},
   "outputs": [],
   "source": [
    "from kernel.type import Type, STVar, TVar, TConst, TFun, BoolType, NatType, TyInst\n",
    "from data.list import ListType\n",
    "from syntax import parser\n",
    "from syntax.settings import settings\n",
    "from logic import basic\n",
    "\n",
    "basic.load_theory('list')"
   ]
  },
  {
   "cell_type": "markdown",
   "metadata": {},
   "source": [
    "## Types"
   ]
  },
  {
   "cell_type": "markdown",
   "metadata": {},
   "source": [
    "In higher-order logic, every term has a type. Common types include booleans, natural numbers, functions, lists, and so on. We also need the concept of *type variables*. Types are implemented in `kernel/type.py`.\n",
    "\n",
    "Booleans and natural numbers are type constants. They can be constructed as follows:"
   ]
  },
  {
   "cell_type": "code",
   "execution_count": 3,
   "metadata": {
    "scrolled": true
   },
   "outputs": [
    {
     "name": "stdout",
     "output_type": "stream",
     "text": [
      "bool\n"
     ]
    }
   ],
   "source": [
    "print(TConst(\"bool\"))"
   ]
  },
  {
   "cell_type": "code",
   "execution_count": 4,
   "metadata": {},
   "outputs": [
    {
     "name": "stdout",
     "output_type": "stream",
     "text": [
      "nat\n"
     ]
    }
   ],
   "source": [
    "print(TConst(\"nat\"))"
   ]
  },
  {
   "cell_type": "markdown",
   "metadata": {},
   "source": [
    "We use `BoolType` as a shorthand for `TConst(\"bool\")`, and `NatType` as a shorthand for `TConst(\"nat\")`."
   ]
  },
  {
   "cell_type": "code",
   "execution_count": 5,
   "metadata": {},
   "outputs": [
    {
     "name": "stdout",
     "output_type": "stream",
     "text": [
      "bool\n",
      "nat\n"
     ]
    }
   ],
   "source": [
    "print(BoolType)\n",
    "print(NatType)"
   ]
  },
  {
   "cell_type": "markdown",
   "metadata": {},
   "source": [
    "Functions is a very important class of types. Given any two types $A$ and $B$, the type $A \\To B$ represents functions from $A$ to $B$. For example, the type $nat \\To bool$ represents functions from natural numbers to booleans, or in other words, properties of natural numbers. This type is constructed as follows:"
   ]
  },
  {
   "cell_type": "code",
   "execution_count": 6,
   "metadata": {},
   "outputs": [
    {
     "name": "stdout",
     "output_type": "stream",
     "text": [
      "nat => bool\n"
     ]
    }
   ],
   "source": [
    "print(TConst(\"fun\", NatType, BoolType))"
   ]
  },
  {
   "cell_type": "markdown",
   "metadata": {},
   "source": [
    "A shortcut to construct function types is to use `TFun`:"
   ]
  },
  {
   "cell_type": "code",
   "execution_count": 7,
   "metadata": {},
   "outputs": [
    {
     "name": "stdout",
     "output_type": "stream",
     "text": [
      "nat => bool\n"
     ]
    }
   ],
   "source": [
    "print(TFun(NatType, BoolType))"
   ]
  },
  {
   "cell_type": "markdown",
   "metadata": {},
   "source": [
    "A key concept for dealing with function types is *currying*. It allows us to represent functions of multiple arguments. For example, the type of functions taking two natural numbers as arguments, and output one natural number, is given by $nat \\To (nat \\To nat)$. Note this is very different from $(nat \\To nat) \\To nat$. Since the former is used more frequently, we have the convention that the operator $\\To$ associates to the right, so the former type is simply written as $nat \\To nat \\To nat$. In general, the type $A_1 \\To \\cdots \\To A_n \\To C$ can be read as: functions taking arguments of type $A_1,\\dots A_n$ as input, and output a value of type $C$."
   ]
  },
  {
   "cell_type": "code",
   "execution_count": 8,
   "metadata": {},
   "outputs": [
    {
     "name": "stdout",
     "output_type": "stream",
     "text": [
      "nat => nat => nat\n"
     ]
    }
   ],
   "source": [
    "print(TFun(NatType, TFun(NatType, NatType)))"
   ]
  },
  {
   "cell_type": "markdown",
   "metadata": {},
   "source": [
    "This occurs so frequently that `TFun` supports any number of arguments as follows:"
   ]
  },
  {
   "cell_type": "code",
   "execution_count": 9,
   "metadata": {},
   "outputs": [
    {
     "name": "stdout",
     "output_type": "stream",
     "text": [
      "nat => nat => nat\n"
     ]
    }
   ],
   "source": [
    "print(TFun(NatType, NatType, NatType))"
   ]
  },
  {
   "cell_type": "markdown",
   "metadata": {},
   "source": [
    "Functions are not the only types with arguments. Given any type $A$, we can form the type of (finite) lists with entries in $A$:"
   ]
  },
  {
   "cell_type": "code",
   "execution_count": 10,
   "metadata": {},
   "outputs": [
    {
     "name": "stdout",
     "output_type": "stream",
     "text": [
      "nat list\n"
     ]
    }
   ],
   "source": [
    "print(TConst(\"list\", NatType))"
   ]
  },
  {
   "cell_type": "markdown",
   "metadata": {},
   "source": [
    "Construction of list types can be abbreviated as follows:"
   ]
  },
  {
   "cell_type": "code",
   "execution_count": 11,
   "metadata": {},
   "outputs": [
    {
     "name": "stdout",
     "output_type": "stream",
     "text": [
      "nat list\n"
     ]
    }
   ],
   "source": [
    "print(ListType(NatType))"
   ]
  },
  {
   "cell_type": "markdown",
   "metadata": {},
   "source": [
    "All these can be combined in arbitrary ways. For example, the following is a type representing lists of functions that take a list of natural numbers as input, and returns a natural number:"
   ]
  },
  {
   "cell_type": "code",
   "execution_count": 12,
   "metadata": {},
   "outputs": [
    {
     "name": "stdout",
     "output_type": "stream",
     "text": [
      "(nat list => nat) list\n"
     ]
    }
   ],
   "source": [
    "print(ListType(TFun(ListType(NatType), NatType)))"
   ]
  },
  {
   "cell_type": "markdown",
   "metadata": {},
   "source": [
    "A few methods are defined for working with function types:\n",
    "- `is_fun()` returns whether the type is a function type.\n",
    "- Given a type $A \\To B$, `domain_type()` returns $A$ and `range_type()` returns $B$.\n",
    "- Given a type $A_1 \\To\\cdots\\To A_n\\To B$, `strip_type()` returns the pair $[A_1,\\dots,A_n], B$."
   ]
  },
  {
   "cell_type": "code",
   "execution_count": 13,
   "metadata": {},
   "outputs": [
    {
     "name": "stdout",
     "output_type": "stream",
     "text": [
      "False\n"
     ]
    }
   ],
   "source": [
    "print(BoolType.is_fun())"
   ]
  },
  {
   "cell_type": "code",
   "execution_count": 14,
   "metadata": {},
   "outputs": [
    {
     "name": "stdout",
     "output_type": "stream",
     "text": [
      "True\n",
      "nat\n",
      "bool\n",
      "([TConst(nat, [])], TConst(bool, []))\n"
     ]
    }
   ],
   "source": [
    "a = TFun(NatType, BoolType)\n",
    "print(a.is_fun())\n",
    "print(a.domain_type())\n",
    "print(a.range_type())\n",
    "print(a.strip_type())"
   ]
  },
  {
   "cell_type": "code",
   "execution_count": 15,
   "metadata": {},
   "outputs": [
    {
     "name": "stdout",
     "output_type": "stream",
     "text": [
      "True\n",
      "nat\n",
      "nat => bool\n",
      "([TConst(nat, []), TConst(nat, [])], TConst(bool, []))\n"
     ]
    }
   ],
   "source": [
    "b = TFun(NatType, NatType, BoolType)\n",
    "print(b.is_fun())\n",
    "print(b.domain_type())\n",
    "print(b.range_type())\n",
    "print(b.strip_type())"
   ]
  },
  {
   "cell_type": "markdown",
   "metadata": {},
   "source": [
    "## Type variables"
   ]
  },
  {
   "cell_type": "markdown",
   "metadata": {},
   "source": [
    "A *type variable* is a variable that can stand in for any type. It can be thought of as an arbitrary but fixed type in the current context. We follow the convention of writing a type variable with name $a$ as 'a. Type variables are constructed as follows:"
   ]
  },
  {
   "cell_type": "code",
   "execution_count": 16,
   "metadata": {},
   "outputs": [
    {
     "name": "stdout",
     "output_type": "stream",
     "text": [
      "'a\n"
     ]
    }
   ],
   "source": [
    "print(TVar('a'))"
   ]
  },
  {
   "cell_type": "markdown",
   "metadata": {},
   "source": [
    "A *schematic type variable* is a variable that can be replaced by any type. It usually occurs in the context of statements of theorems, stating that the theorem should be true for any type. We follow the convention of writing a schematic type variable with name $a$ as `?'a`. Type variables are constructed as follows:"
   ]
  },
  {
   "cell_type": "code",
   "execution_count": 17,
   "metadata": {},
   "outputs": [
    {
     "name": "stdout",
     "output_type": "stream",
     "text": [
      "?'a\n"
     ]
    }
   ],
   "source": [
    "print(STVar(\"a\"))"
   ]
  },
  {
   "cell_type": "markdown",
   "metadata": {},
   "source": [
    "Type variables can be used as arguments to type constructors. For example, the following type represents all functions from schematic type variables $a$ to $b$:"
   ]
  },
  {
   "cell_type": "code",
   "execution_count": 18,
   "metadata": {},
   "outputs": [
    {
     "name": "stdout",
     "output_type": "stream",
     "text": [
      "?'a => ?'b\n"
     ]
    }
   ],
   "source": [
    "print(TFun(STVar(\"a\"), STVar(\"b\")))"
   ]
  },
  {
   "cell_type": "markdown",
   "metadata": {},
   "source": [
    "Next, we introduce the important concepts of *substitution* and *matching*. A type with schematic type variables can be considered as a *pattern* for producing types. If each schematic type variable in the pattern is assigned a concrete value, the pattern can be *instantiated* to a concrete type. We illustrate this with some examples."
   ]
  },
  {
   "cell_type": "code",
   "execution_count": 19,
   "metadata": {},
   "outputs": [
    {
     "name": "stdout",
     "output_type": "stream",
     "text": [
      "?'a => ?'b\n",
      "nat => bool\n",
      "(nat => nat) => bool\n",
      "nat => nat => bool\n"
     ]
    }
   ],
   "source": [
    "p = TFun(STVar(\"a\"), STVar(\"b\"))\n",
    "print(p)\n",
    "print(p.subst(a=NatType, b=BoolType))\n",
    "print(p.subst(a=TFun(NatType, NatType), b=BoolType))\n",
    "print(p.subst(a=NatType, b=TFun(NatType, BoolType)))"
   ]
  },
  {
   "cell_type": "markdown",
   "metadata": {},
   "source": [
    "In fact, we can assign a type variable to another type containing schematic type variables. Note all substitutions are performed at the same time."
   ]
  },
  {
   "cell_type": "code",
   "execution_count": 20,
   "metadata": {},
   "outputs": [
    {
     "name": "stdout",
     "output_type": "stream",
     "text": [
      "?'b => ?'a\n"
     ]
    }
   ],
   "source": [
    "print(p.subst(a=STVar(\"b\"), b=STVar(\"a\")))"
   ]
  },
  {
   "cell_type": "markdown",
   "metadata": {},
   "source": [
    "Matching can be considered as the dual of substitution. Given a pattern $p$ (a type containing type variables) and a type $t$ (with or without type variables), it determines whether $p$ can be instantiated to $t$, and returns the assignment of type variables in $p$ if it is possible."
   ]
  },
  {
   "cell_type": "code",
   "execution_count": 21,
   "metadata": {},
   "outputs": [
    {
     "name": "stdout",
     "output_type": "stream",
     "text": [
      "'a := nat, 'b := bool\n"
     ]
    }
   ],
   "source": [
    "print(p.match(TFun(NatType, BoolType)))"
   ]
  },
  {
   "cell_type": "markdown",
   "metadata": {},
   "source": [
    "If it is impossible to instantiate $p$ to $t$, the match function throws a `TypeMatchException`:"
   ]
  },
  {
   "cell_type": "code",
   "execution_count": 22,
   "metadata": {
    "tags": [
     "raises-exception"
    ]
   },
   "outputs": [
    {
     "ename": "TypeMatchException",
     "evalue": "Unable to match ?'a => ?'b with nat",
     "output_type": "error",
     "traceback": [
      "\u001b[1;31m---------------------------------------------------------------------------\u001b[0m",
      "\u001b[1;31mTypeMatchException\u001b[0m                        Traceback (most recent call last)",
      "\u001b[1;32m<ipython-input-22-2a1c166bf875>\u001b[0m in \u001b[0;36m<module>\u001b[1;34m\u001b[0m\n\u001b[1;32m----> 1\u001b[1;33m \u001b[0mp\u001b[0m\u001b[1;33m.\u001b[0m\u001b[0mmatch\u001b[0m\u001b[1;33m(\u001b[0m\u001b[0mNatType\u001b[0m\u001b[1;33m)\u001b[0m  \u001b[1;31m# raises TypeMatchException\u001b[0m\u001b[1;33m\u001b[0m\u001b[0m\n\u001b[0m",
      "\u001b[1;32m~\\Projects\\holpy\\kernel\\type.py\u001b[0m in \u001b[0;36mmatch\u001b[1;34m(self, T)\u001b[0m\n\u001b[0;32m    291\u001b[0m         \"\"\"\n\u001b[0;32m    292\u001b[0m         \u001b[0mtyinst\u001b[0m \u001b[1;33m=\u001b[0m \u001b[0mTyInst\u001b[0m\u001b[1;33m(\u001b[0m\u001b[1;33m)\u001b[0m\u001b[1;33m\u001b[0m\u001b[0m\n\u001b[1;32m--> 293\u001b[1;33m         \u001b[0mself\u001b[0m\u001b[1;33m.\u001b[0m\u001b[0mmatch_incr\u001b[0m\u001b[1;33m(\u001b[0m\u001b[0mT\u001b[0m\u001b[1;33m,\u001b[0m \u001b[0mtyinst\u001b[0m\u001b[1;33m)\u001b[0m\u001b[1;33m\u001b[0m\u001b[0m\n\u001b[0m\u001b[0;32m    294\u001b[0m         \u001b[1;32mreturn\u001b[0m \u001b[0mtyinst\u001b[0m\u001b[1;33m\u001b[0m\u001b[0m\n\u001b[0;32m    295\u001b[0m \u001b[1;33m\u001b[0m\u001b[0m\n",
      "\u001b[1;32m~\\Projects\\holpy\\kernel\\type.py\u001b[0m in \u001b[0;36mmatch_incr\u001b[1;34m(self, T, tyinst)\u001b[0m\n\u001b[0;32m    276\u001b[0m         \u001b[1;32melif\u001b[0m \u001b[0mself\u001b[0m\u001b[1;33m.\u001b[0m\u001b[0mis_tconst\u001b[0m\u001b[1;33m(\u001b[0m\u001b[1;33m)\u001b[0m\u001b[1;33m:\u001b[0m\u001b[1;33m\u001b[0m\u001b[0m\n\u001b[0;32m    277\u001b[0m             \u001b[1;32mif\u001b[0m \u001b[1;33m(\u001b[0m\u001b[1;32mnot\u001b[0m \u001b[0mT\u001b[0m\u001b[1;33m.\u001b[0m\u001b[0mis_tconst\u001b[0m\u001b[1;33m(\u001b[0m\u001b[1;33m)\u001b[0m\u001b[1;33m)\u001b[0m \u001b[1;32mor\u001b[0m \u001b[0mT\u001b[0m\u001b[1;33m.\u001b[0m\u001b[0mname\u001b[0m \u001b[1;33m!=\u001b[0m \u001b[0mself\u001b[0m\u001b[1;33m.\u001b[0m\u001b[0mname\u001b[0m\u001b[1;33m:\u001b[0m\u001b[1;33m\u001b[0m\u001b[0m\n\u001b[1;32m--> 278\u001b[1;33m                 \u001b[1;32mraise\u001b[0m \u001b[0mTypeMatchException\u001b[0m\u001b[1;33m(\u001b[0m\u001b[1;34m'Unable to match %s with %s'\u001b[0m \u001b[1;33m%\u001b[0m \u001b[1;33m(\u001b[0m\u001b[0mself\u001b[0m\u001b[1;33m,\u001b[0m \u001b[0mT\u001b[0m\u001b[1;33m)\u001b[0m\u001b[1;33m)\u001b[0m\u001b[1;33m\u001b[0m\u001b[0m\n\u001b[0m\u001b[0;32m    279\u001b[0m             \u001b[1;32melse\u001b[0m\u001b[1;33m:\u001b[0m\u001b[1;33m\u001b[0m\u001b[0m\n\u001b[0;32m    280\u001b[0m                 \u001b[1;32mfor\u001b[0m \u001b[0marg\u001b[0m\u001b[1;33m,\u001b[0m \u001b[0margT\u001b[0m \u001b[1;32min\u001b[0m \u001b[0mzip\u001b[0m\u001b[1;33m(\u001b[0m\u001b[0mself\u001b[0m\u001b[1;33m.\u001b[0m\u001b[0margs\u001b[0m\u001b[1;33m,\u001b[0m \u001b[0mT\u001b[0m\u001b[1;33m.\u001b[0m\u001b[0margs\u001b[0m\u001b[1;33m)\u001b[0m\u001b[1;33m:\u001b[0m\u001b[1;33m\u001b[0m\u001b[0m\n",
      "\u001b[1;31mTypeMatchException\u001b[0m: Unable to match ?'a => ?'b with nat"
     ]
    }
   ],
   "source": [
    "p.match(NatType)  # raises TypeMatchException"
   ]
  },
  {
   "cell_type": "markdown",
   "metadata": {},
   "source": [
    "Note the same type variable can appear multiple times in a pattern. During matching, each occurrence of the type variable must be assigned to the same type."
   ]
  },
  {
   "cell_type": "code",
   "execution_count": 23,
   "metadata": {},
   "outputs": [
    {
     "name": "stdout",
     "output_type": "stream",
     "text": [
      "?'a list => ?'a\n",
      "nat list => nat\n",
      "'a := nat\n"
     ]
    }
   ],
   "source": [
    "q = TFun(ListType(STVar(\"a\")), STVar(\"a\"))\n",
    "print(q)\n",
    "print(q.subst(a=NatType))\n",
    "print(q.match(TFun(ListType(NatType), NatType)))"
   ]
  },
  {
   "cell_type": "markdown",
   "metadata": {},
   "source": [
    "Here is an example of a matching that failed because the two occurrences of `'a` correspond to different types ($nat$ and $bool$)."
   ]
  },
  {
   "cell_type": "code",
   "execution_count": 24,
   "metadata": {
    "scrolled": false,
    "tags": [
     "raises-exception"
    ]
   },
   "outputs": [
    {
     "ename": "TypeMatchException",
     "evalue": "Unable to match bool with nat",
     "output_type": "error",
     "traceback": [
      "\u001b[1;31m---------------------------------------------------------------------------\u001b[0m",
      "\u001b[1;31mTypeMatchException\u001b[0m                        Traceback (most recent call last)",
      "\u001b[1;32m<ipython-input-24-9f92b346a21e>\u001b[0m in \u001b[0;36m<module>\u001b[1;34m\u001b[0m\n\u001b[1;32m----> 1\u001b[1;33m \u001b[0mq\u001b[0m\u001b[1;33m.\u001b[0m\u001b[0mmatch\u001b[0m\u001b[1;33m(\u001b[0m\u001b[0mTFun\u001b[0m\u001b[1;33m(\u001b[0m\u001b[0mListType\u001b[0m\u001b[1;33m(\u001b[0m\u001b[0mNatType\u001b[0m\u001b[1;33m)\u001b[0m\u001b[1;33m,\u001b[0m \u001b[0mBoolType\u001b[0m\u001b[1;33m)\u001b[0m\u001b[1;33m)\u001b[0m  \u001b[1;31m# raises TypeMatchException\u001b[0m\u001b[1;33m\u001b[0m\u001b[0m\n\u001b[0m",
      "\u001b[1;32m~\\Projects\\holpy\\kernel\\type.py\u001b[0m in \u001b[0;36mmatch\u001b[1;34m(self, T)\u001b[0m\n\u001b[0;32m    291\u001b[0m         \"\"\"\n\u001b[0;32m    292\u001b[0m         \u001b[0mtyinst\u001b[0m \u001b[1;33m=\u001b[0m \u001b[0mTyInst\u001b[0m\u001b[1;33m(\u001b[0m\u001b[1;33m)\u001b[0m\u001b[1;33m\u001b[0m\u001b[0m\n\u001b[1;32m--> 293\u001b[1;33m         \u001b[0mself\u001b[0m\u001b[1;33m.\u001b[0m\u001b[0mmatch_incr\u001b[0m\u001b[1;33m(\u001b[0m\u001b[0mT\u001b[0m\u001b[1;33m,\u001b[0m \u001b[0mtyinst\u001b[0m\u001b[1;33m)\u001b[0m\u001b[1;33m\u001b[0m\u001b[0m\n\u001b[0m\u001b[0;32m    294\u001b[0m         \u001b[1;32mreturn\u001b[0m \u001b[0mtyinst\u001b[0m\u001b[1;33m\u001b[0m\u001b[0m\n\u001b[0;32m    295\u001b[0m \u001b[1;33m\u001b[0m\u001b[0m\n",
      "\u001b[1;32m~\\Projects\\holpy\\kernel\\type.py\u001b[0m in \u001b[0;36mmatch_incr\u001b[1;34m(self, T, tyinst)\u001b[0m\n\u001b[0;32m    279\u001b[0m             \u001b[1;32melse\u001b[0m\u001b[1;33m:\u001b[0m\u001b[1;33m\u001b[0m\u001b[0m\n\u001b[0;32m    280\u001b[0m                 \u001b[1;32mfor\u001b[0m \u001b[0marg\u001b[0m\u001b[1;33m,\u001b[0m \u001b[0margT\u001b[0m \u001b[1;32min\u001b[0m \u001b[0mzip\u001b[0m\u001b[1;33m(\u001b[0m\u001b[0mself\u001b[0m\u001b[1;33m.\u001b[0m\u001b[0margs\u001b[0m\u001b[1;33m,\u001b[0m \u001b[0mT\u001b[0m\u001b[1;33m.\u001b[0m\u001b[0margs\u001b[0m\u001b[1;33m)\u001b[0m\u001b[1;33m:\u001b[0m\u001b[1;33m\u001b[0m\u001b[0m\n\u001b[1;32m--> 281\u001b[1;33m                     \u001b[0marg\u001b[0m\u001b[1;33m.\u001b[0m\u001b[0mmatch_incr\u001b[0m\u001b[1;33m(\u001b[0m\u001b[0margT\u001b[0m\u001b[1;33m,\u001b[0m \u001b[0mtyinst\u001b[0m\u001b[1;33m)\u001b[0m\u001b[1;33m\u001b[0m\u001b[0m\n\u001b[0m\u001b[0;32m    282\u001b[0m         \u001b[1;32melse\u001b[0m\u001b[1;33m:\u001b[0m\u001b[1;33m\u001b[0m\u001b[0m\n\u001b[0;32m    283\u001b[0m             \u001b[1;32mraise\u001b[0m \u001b[0mTypeError\u001b[0m\u001b[1;33m\u001b[0m\u001b[0m\n",
      "\u001b[1;32m~\\Projects\\holpy\\kernel\\type.py\u001b[0m in \u001b[0;36mmatch_incr\u001b[1;34m(self, T, tyinst)\u001b[0m\n\u001b[0;32m    268\u001b[0m             \u001b[1;32mif\u001b[0m \u001b[0mself\u001b[0m\u001b[1;33m.\u001b[0m\u001b[0mname\u001b[0m \u001b[1;32min\u001b[0m \u001b[0mtyinst\u001b[0m\u001b[1;33m:\u001b[0m\u001b[1;33m\u001b[0m\u001b[0m\n\u001b[0;32m    269\u001b[0m                 \u001b[1;32mif\u001b[0m \u001b[0mT\u001b[0m \u001b[1;33m!=\u001b[0m \u001b[0mtyinst\u001b[0m\u001b[1;33m[\u001b[0m\u001b[0mself\u001b[0m\u001b[1;33m.\u001b[0m\u001b[0mname\u001b[0m\u001b[1;33m]\u001b[0m\u001b[1;33m:\u001b[0m\u001b[1;33m\u001b[0m\u001b[0m\n\u001b[1;32m--> 270\u001b[1;33m                     \u001b[1;32mraise\u001b[0m \u001b[0mTypeMatchException\u001b[0m\u001b[1;33m(\u001b[0m\u001b[1;34m'Unable to match %s with %s'\u001b[0m \u001b[1;33m%\u001b[0m \u001b[1;33m(\u001b[0m\u001b[0mT\u001b[0m\u001b[1;33m,\u001b[0m \u001b[0mtyinst\u001b[0m\u001b[1;33m[\u001b[0m\u001b[0mself\u001b[0m\u001b[1;33m.\u001b[0m\u001b[0mname\u001b[0m\u001b[1;33m]\u001b[0m\u001b[1;33m)\u001b[0m\u001b[1;33m)\u001b[0m\u001b[1;33m\u001b[0m\u001b[0m\n\u001b[0m\u001b[0;32m    271\u001b[0m             \u001b[1;32melse\u001b[0m\u001b[1;33m:\u001b[0m\u001b[1;33m\u001b[0m\u001b[0m\n\u001b[0;32m    272\u001b[0m                 \u001b[0mtyinst\u001b[0m\u001b[1;33m[\u001b[0m\u001b[0mself\u001b[0m\u001b[1;33m.\u001b[0m\u001b[0mname\u001b[0m\u001b[1;33m]\u001b[0m \u001b[1;33m=\u001b[0m \u001b[0mT\u001b[0m\u001b[1;33m\u001b[0m\u001b[0m\n",
      "\u001b[1;31mTypeMatchException\u001b[0m: Unable to match bool with nat"
     ]
    }
   ],
   "source": [
    "q.match(TFun(ListType(NatType), BoolType))  # raises TypeMatchException"
   ]
  },
  {
   "cell_type": "markdown",
   "metadata": {},
   "source": [
    "## Class hierarchy"
   ]
  },
  {
   "cell_type": "markdown",
   "metadata": {},
   "source": [
    "The class `Type` is the parent class of all type objects, with `STVar`, `TVar` and `TConst` inheriting from it."
   ]
  },
  {
   "cell_type": "code",
   "execution_count": 25,
   "metadata": {},
   "outputs": [],
   "source": [
    "assert isinstance(TConst('bool'), Type)\n",
    "assert isinstance(TVar('a'), Type)\n",
    "assert isinstance(STVar('a'), Type)"
   ]
  },
  {
   "cell_type": "markdown",
   "metadata": {},
   "source": [
    "The functions `is_stvar()`, `is_tvar()` and `is_tconst()` should be used to distinguish between different types."
   ]
  },
  {
   "cell_type": "code",
   "execution_count": 26,
   "metadata": {},
   "outputs": [],
   "source": [
    "assert TConst('bool').is_tconst()\n",
    "assert not TConst('bool').is_tvar()\n",
    "assert TVar('a').is_tvar()\n",
    "assert not TVar('a').is_tconst()"
   ]
  },
  {
   "cell_type": "markdown",
   "metadata": {},
   "source": [
    "The constructor for `Type` can read a string as input, and parses the string as a type:"
   ]
  },
  {
   "cell_type": "code",
   "execution_count": 27,
   "metadata": {},
   "outputs": [
    {
     "name": "stdout",
     "output_type": "stream",
     "text": [
      "nat\n",
      "nat => nat list\n",
      "(nat => nat) list\n"
     ]
    }
   ],
   "source": [
    "print(Type('nat'))\n",
    "print(Type('nat => nat list'))\n",
    "print(Type('(nat => nat) list'))"
   ]
  },
  {
   "cell_type": "markdown",
   "metadata": {},
   "source": [
    "The field `name` can be used to access the name of a type variable or constructor. `args` can be used to access the list of arguments (returned as a tuple):"
   ]
  },
  {
   "cell_type": "code",
   "execution_count": 28,
   "metadata": {},
   "outputs": [
    {
     "name": "stdout",
     "output_type": "stream",
     "text": [
      "a\n",
      "list\n",
      "(TConst(nat, []),)\n"
     ]
    }
   ],
   "source": [
    "a = TVar(\"a\")\n",
    "print(a.name)\n",
    "\n",
    "b = ListType(NatType)\n",
    "print(b.name)\n",
    "print(b.args)"
   ]
  },
  {
   "cell_type": "markdown",
   "metadata": {},
   "source": [
    "The following functions return various classes of types appearing in a type:\n",
    "* `get_tsubs()` returns the list of all types appearing in a type (including itself).\n",
    "* `get_tvars()` returns the list of type variables in a type.\n",
    "* `get_stvars()` returns the list of schematic type variables in a type. "
   ]
  },
  {
   "cell_type": "code",
   "execution_count": 29,
   "metadata": {},
   "outputs": [
    {
     "name": "stdout",
     "output_type": "stream",
     "text": [
      "'a => ?'b\n",
      "[TConst(fun, [TVar(a), STVar(b)]), TVar(a), STVar(b)]\n",
      "[TVar(a)]\n",
      "[STVar(b)]\n"
     ]
    }
   ],
   "source": [
    "a = TFun(TVar(\"a\"), STVar(\"b\"))\n",
    "print(a)\n",
    "print(a.get_tsubs())\n",
    "print(a.get_tvars())\n",
    "print(a.get_stvars())"
   ]
  }
 ],
 "metadata": {
  "kernelspec": {
   "display_name": "Python 3",
   "language": "python",
   "name": "python3"
  },
  "language_info": {
   "codemirror_mode": {
    "name": "ipython",
    "version": 3
   },
   "file_extension": ".py",
   "mimetype": "text/x-python",
   "name": "python",
   "nbconvert_exporter": "python",
   "pygments_lexer": "ipython3",
   "version": "3.6.6"
  }
 },
 "nbformat": 4,
 "nbformat_minor": 2
}
