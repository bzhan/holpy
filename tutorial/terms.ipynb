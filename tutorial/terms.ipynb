{
 "cells": [
  {
   "cell_type": "markdown",
   "metadata": {},
   "source": [
    "$\\newcommand{\\To}{\\Rightarrow}$"
   ]
  },
  {
   "cell_type": "code",
   "execution_count": 1,
   "metadata": {},
   "outputs": [],
   "source": [
    "# Initialize to directory holpy. Run this only once!\n",
    "import os, sys\n",
    "os.chdir('..')"
   ]
  },
  {
   "cell_type": "code",
   "execution_count": 2,
   "metadata": {},
   "outputs": [],
   "source": [
    "from kernel.type import TFun, BoolType, NatType, IntType, RealType\n",
    "from kernel import term\n",
    "from kernel.term import Var, Const, Comb, Term, true, false, And, Or, Implies, Not, Eq\n",
    "from data import nat\n",
    "from data import real\n",
    "from logic import basic\n",
    "\n",
    "basic.load_theory('real')"
   ]
  },
  {
   "cell_type": "markdown",
   "metadata": {},
   "source": [
    "## Terms"
   ]
  },
  {
   "cell_type": "markdown",
   "metadata": {},
   "source": [
    "We now introduce the concept of *terms*. Terms are the building block of the language of higher-order logic. To understand types and terms intuitively, we make an analogy to ordinary programming languages: in a statement `int x = y + z`, both `x` and `y + z` are terms while `int` is a type. The statement declares a new variable `x` of type `int`, and sets it to the value of the term `y + z`. In higher-order logic, each term has a unique type (introduced in the previous section). A basic example of a term is a *variable*. It can be thought of as an arbitrary but fixed value in the current context. It is constructed by providing a name and a type:"
   ]
  },
  {
   "cell_type": "code",
   "execution_count": 3,
   "metadata": {},
   "outputs": [
    {
     "name": "stdout",
     "output_type": "stream",
     "text": [
      "a\n"
     ]
    }
   ],
   "source": [
    "a = Var(\"a\", NatType)\n",
    "print(a)"
   ]
  },
  {
   "cell_type": "markdown",
   "metadata": {},
   "source": [
    "Note a variable is displayed using its name. Its type is not displayed. To get the type of any term, we use the `get_type()` method:"
   ]
  },
  {
   "cell_type": "code",
   "execution_count": 4,
   "metadata": {},
   "outputs": [
    {
     "name": "stdout",
     "output_type": "stream",
     "text": [
      "nat\n"
     ]
    }
   ],
   "source": [
    "print(a.get_type())"
   ]
  },
  {
   "cell_type": "markdown",
   "metadata": {},
   "source": [
    "Another example of a term is a *constant*. A constant is assumed to represent some fixed mathematical concept. Examples of constants include the boolean values true and false, and natural numbers zero, one, etc."
   ]
  },
  {
   "cell_type": "code",
   "execution_count": 5,
   "metadata": {},
   "outputs": [
    {
     "name": "stdout",
     "output_type": "stream",
     "text": [
      "true\n",
      "false\n",
      "(0::nat)\n",
      "(1::nat)\n"
     ]
    }
   ],
   "source": [
    "print(Const(\"true\", BoolType))\n",
    "print(Const(\"false\", BoolType))\n",
    "print(Const(\"zero\", NatType))\n",
    "print(Const(\"one\", NatType))"
   ]
  },
  {
   "cell_type": "markdown",
   "metadata": {},
   "source": [
    "Note the printing of 0 and 1 with type annotations. This is in order to distinguish it from 0 and 1 as integers, real numbers, etc, which can be constructed as follows:"
   ]
  },
  {
   "cell_type": "code",
   "execution_count": 6,
   "metadata": {},
   "outputs": [
    {
     "name": "stdout",
     "output_type": "stream",
     "text": [
      "(0::int)\n",
      "(1::int)\n",
      "(0::real)\n",
      "(1::real)\n"
     ]
    }
   ],
   "source": [
    "print(Const(\"zero\", IntType))\n",
    "print(Const(\"one\", IntType))\n",
    "print(Const(\"zero\", RealType))\n",
    "print(Const(\"one\", RealType))"
   ]
  },
  {
   "cell_type": "markdown",
   "metadata": {},
   "source": [
    "These are used frequently so we provide shortcuts for them:"
   ]
  },
  {
   "cell_type": "code",
   "execution_count": 7,
   "metadata": {
    "scrolled": true
   },
   "outputs": [
    {
     "name": "stdout",
     "output_type": "stream",
     "text": [
      "true\n",
      "false\n",
      "(0::nat)\n",
      "(0::real)\n"
     ]
    }
   ],
   "source": [
    "print(true)\n",
    "print(false)\n",
    "print(nat.zero)\n",
    "print(real.zero)"
   ]
  },
  {
   "cell_type": "markdown",
   "metadata": {},
   "source": [
    "A variable (or constant) can also have function type. For example, the following declares a variable that is a property of natural numbers:"
   ]
  },
  {
   "cell_type": "code",
   "execution_count": 8,
   "metadata": {},
   "outputs": [
    {
     "name": "stdout",
     "output_type": "stream",
     "text": [
      "nat => bool\n"
     ]
    }
   ],
   "source": [
    "f = Var(\"f\", TFun(NatType, BoolType))\n",
    "print(f.get_type())"
   ]
  },
  {
   "cell_type": "markdown",
   "metadata": {},
   "source": [
    "Given a term $f$ of function type $A \\To B$, and a term $a$ of type $A$, we can form the term $f\\ a$, representing the evaluation of $f$ at $a$. In ordinary mathematics, this is also written as $f(a)$. However, we follow the usual convention in higher-order logic, with a space between two terms denoting function application. The term $f\\ a$ can be constructed as follows (here Comb stands for *combination*):"
   ]
  },
  {
   "cell_type": "code",
   "execution_count": 9,
   "metadata": {},
   "outputs": [
    {
     "name": "stdout",
     "output_type": "stream",
     "text": [
      "f a\n"
     ]
    }
   ],
   "source": [
    "c = Comb(f, a)\n",
    "print(c)"
   ]
  },
  {
   "cell_type": "markdown",
   "metadata": {},
   "source": [
    "We take advantage of Python's ability to install custom `__call__` functions to create the following shortcut for forming combinations:"
   ]
  },
  {
   "cell_type": "code",
   "execution_count": 10,
   "metadata": {},
   "outputs": [
    {
     "name": "stdout",
     "output_type": "stream",
     "text": [
      "f a\n"
     ]
    }
   ],
   "source": [
    "c = f(a)\n",
    "print(c)"
   ]
  },
  {
   "cell_type": "markdown",
   "metadata": {},
   "source": [
    "A function application $f\\ a$ is only permitted when $f$ has function type, and the type of $a$ agrees with the domain of that function type. In all other cases, the function application is illegal, and we say *type checking* fails on that term. While we can form a function application that is illegal, an error is raised when we try to *type-check* the term. Type checking is performed with `checked_get_type()`, which also returns the type of the term. Here is an example where `checked_get_type()` fails:"
   ]
  },
  {
   "cell_type": "code",
   "execution_count": 11,
   "metadata": {
    "tags": [
     "raises-exception"
    ]
   },
   "outputs": [
    {
     "ename": "TypeCheckException",
     "evalue": "type mismatch in application. Expected nat. Got bool",
     "output_type": "error",
     "traceback": [
      "\u001b[1;31m---------------------------------------------------------------------------\u001b[0m",
      "\u001b[1;31mTypeCheckException\u001b[0m                        Traceback (most recent call last)",
      "\u001b[1;32m<ipython-input-11-354ddd63c6ab>\u001b[0m in \u001b[0;36m<module>\u001b[1;34m\u001b[0m\n\u001b[0;32m      2\u001b[0m \u001b[0mx\u001b[0m \u001b[1;33m=\u001b[0m \u001b[0mVar\u001b[0m\u001b[1;33m(\u001b[0m\u001b[1;34m\"x\"\u001b[0m\u001b[1;33m,\u001b[0m \u001b[0mBoolType\u001b[0m\u001b[1;33m)\u001b[0m\u001b[1;33m\u001b[0m\u001b[0m\n\u001b[0;32m      3\u001b[0m \u001b[0mt\u001b[0m \u001b[1;33m=\u001b[0m \u001b[0mf\u001b[0m\u001b[1;33m(\u001b[0m\u001b[0mx\u001b[0m\u001b[1;33m)\u001b[0m\u001b[1;33m\u001b[0m\u001b[0m\n\u001b[1;32m----> 4\u001b[1;33m \u001b[0mt\u001b[0m\u001b[1;33m.\u001b[0m\u001b[0mchecked_get_type\u001b[0m\u001b[1;33m(\u001b[0m\u001b[1;33m)\u001b[0m   \u001b[1;31m# raises TypeCheckException\u001b[0m\u001b[1;33m\u001b[0m\u001b[0m\n\u001b[0m",
      "\u001b[1;32m~\\Projects\\holpy\\kernel\\term.py\u001b[0m in \u001b[0;36mchecked_get_type\u001b[1;34m(self)\u001b[0m\n\u001b[0;32m    629\u001b[0m             \u001b[1;32melse\u001b[0m\u001b[1;33m:\u001b[0m\u001b[1;33m\u001b[0m\u001b[0m\n\u001b[0;32m    630\u001b[0m                 \u001b[1;32mraise\u001b[0m \u001b[0mTypeError\u001b[0m\u001b[1;33m\u001b[0m\u001b[0m\n\u001b[1;32m--> 631\u001b[1;33m         \u001b[1;32mreturn\u001b[0m \u001b[0mrec\u001b[0m\u001b[1;33m(\u001b[0m\u001b[0mself\u001b[0m\u001b[1;33m,\u001b[0m \u001b[1;33m[\u001b[0m\u001b[1;33m]\u001b[0m\u001b[1;33m)\u001b[0m\u001b[1;33m\u001b[0m\u001b[0m\n\u001b[0m\u001b[0;32m    632\u001b[0m \u001b[1;33m\u001b[0m\u001b[0m\n\u001b[0;32m    633\u001b[0m     \u001b[1;32mdef\u001b[0m \u001b[0mconvert_svar\u001b[0m\u001b[1;33m(\u001b[0m\u001b[0mself\u001b[0m\u001b[1;33m)\u001b[0m\u001b[1;33m:\u001b[0m\u001b[1;33m\u001b[0m\u001b[0m\n",
      "\u001b[1;32m~\\Projects\\holpy\\kernel\\term.py\u001b[0m in \u001b[0;36mrec\u001b[1;34m(t, bd_vars)\u001b[0m\n\u001b[0;32m    616\u001b[0m                 \u001b[1;32melif\u001b[0m \u001b[0mfunT\u001b[0m\u001b[1;33m.\u001b[0m\u001b[0mdomain_type\u001b[0m\u001b[1;33m(\u001b[0m\u001b[1;33m)\u001b[0m \u001b[1;33m!=\u001b[0m \u001b[0margT\u001b[0m\u001b[1;33m:\u001b[0m\u001b[1;33m\u001b[0m\u001b[0m\n\u001b[0;32m    617\u001b[0m                     raise TypeCheckException(\n\u001b[1;32m--> 618\u001b[1;33m                         'type mismatch in application. Expected %s. Got %s' % (funT.domain_type(), argT))\n\u001b[0m\u001b[0;32m    619\u001b[0m                 \u001b[1;32melse\u001b[0m\u001b[1;33m:\u001b[0m\u001b[1;33m\u001b[0m\u001b[0m\n\u001b[0;32m    620\u001b[0m                     \u001b[1;32mreturn\u001b[0m \u001b[0mfunT\u001b[0m\u001b[1;33m.\u001b[0m\u001b[0mrange_type\u001b[0m\u001b[1;33m(\u001b[0m\u001b[1;33m)\u001b[0m\u001b[1;33m\u001b[0m\u001b[0m\n",
      "\u001b[1;31mTypeCheckException\u001b[0m: type mismatch in application. Expected nat. Got bool"
     ]
    }
   ],
   "source": [
    "f = Var(\"f\", TFun(NatType, BoolType))\n",
    "x = Var(\"x\", BoolType)\n",
    "t = f(x)\n",
    "t.checked_get_type()   # raises TypeCheckException"
   ]
  },
  {
   "cell_type": "markdown",
   "metadata": {},
   "source": [
    "Given a function with two arguments, we can evaluate the function one argument at a time. For example, if $g$ is a function of type $nat \\To nat \\To nat$, and $a$ and $b$ are both of type $nat$, then $(g\\ a)\\ b$ is the evaluation of $g$ on $a$ and $b$. Note this is very different from the term $g\\ (a\\ b)$ (which will not type-check). Since the former occurs more frequently, we have the convention that function application associates to the left. Hence, $(g\\ a)\\ b$ can be written more compactly as $g\\ a\\ b$."
   ]
  },
  {
   "cell_type": "code",
   "execution_count": 12,
   "metadata": {},
   "outputs": [
    {
     "name": "stdout",
     "output_type": "stream",
     "text": [
      "g a b\n"
     ]
    }
   ],
   "source": [
    "g = Var(\"g\", TFun(NatType, NatType, BoolType))\n",
    "a = Var(\"a\", NatType)\n",
    "b = Var(\"b\", NatType)\n",
    "print(g(a)(b))"
   ]
  },
  {
   "cell_type": "markdown",
   "metadata": {},
   "source": [
    "But in fact, the `__call__` function for terms is written such that all arguments can be provided at the same time:"
   ]
  },
  {
   "cell_type": "code",
   "execution_count": 13,
   "metadata": {},
   "outputs": [
    {
     "name": "stdout",
     "output_type": "stream",
     "text": [
      "g a b\n"
     ]
    }
   ],
   "source": [
    "print(g(a, b))"
   ]
  },
  {
   "cell_type": "markdown",
   "metadata": {},
   "source": [
    "While the printed form $g\\ a\\ b$ is very simple, it is worth remembering how the term is represented behind the scenes. The `repr` function returns the detailed representation of the term:"
   ]
  },
  {
   "cell_type": "code",
   "execution_count": 14,
   "metadata": {},
   "outputs": [
    {
     "name": "stdout",
     "output_type": "stream",
     "text": [
      "Comb(Comb(Var(g, nat => nat => bool), Var(a, nat)), Var(b, nat))\n"
     ]
    }
   ],
   "source": [
    "print(repr(g(a, b)))"
   ]
  },
  {
   "cell_type": "markdown",
   "metadata": {},
   "source": [
    "## Common operators"
   ]
  },
  {
   "cell_type": "markdown",
   "metadata": {},
   "source": [
    "Many of the most frequently used operators are functions on two arguments. For example, addition and multiplication are both functions of type $nat \\To nat \\To nat$. In propositional logic, conjunction and disjunction are both functions of type $bool \\To bool \\To bool$. Negation is a function of type $bool \\To bool$."
   ]
  },
  {
   "cell_type": "code",
   "execution_count": 15,
   "metadata": {},
   "outputs": [
    {
     "name": "stdout",
     "output_type": "stream",
     "text": [
      "Const(plus, nat => nat => nat)\n",
      "Const(times, nat => nat => nat)\n",
      "Const(conj, bool => bool => bool)\n",
      "Const(disj, bool => bool => bool)\n",
      "Const(neg, bool => bool)\n"
     ]
    }
   ],
   "source": [
    "print(repr(nat.plus))\n",
    "print(repr(nat.times))\n",
    "print(repr(term.conj))\n",
    "print(repr(term.disj))\n",
    "print(repr(term.neg))"
   ]
  },
  {
   "cell_type": "markdown",
   "metadata": {},
   "source": [
    "These can be applied to terms just like any function. For example, the term $x + y$ (where $x$ and $y$ are natural numbers) is represented as follows:"
   ]
  },
  {
   "cell_type": "code",
   "execution_count": 16,
   "metadata": {},
   "outputs": [
    {
     "name": "stdout",
     "output_type": "stream",
     "text": [
      "x + y\n"
     ]
    }
   ],
   "source": [
    "x = Var(\"x\", NatType)\n",
    "y = Var(\"y\", NatType)\n",
    "z = Var(\"z\", NatType)\n",
    "t = nat.plus(x, y)\n",
    "print(t)"
   ]
  },
  {
   "cell_type": "markdown",
   "metadata": {},
   "source": [
    "Note how the term is automatically printed in infix form. The printing function understands usual order of evaluation rules, with addition and multiplication associate to the left."
   ]
  },
  {
   "cell_type": "code",
   "execution_count": 17,
   "metadata": {},
   "outputs": [
    {
     "name": "stdout",
     "output_type": "stream",
     "text": [
      "x + y * z\n",
      "(x + y) * z\n",
      "x + (y + z)\n",
      "x + y + z\n"
     ]
    }
   ],
   "source": [
    "print(nat.plus(x, nat.times(y, z)))\n",
    "print(nat.times(nat.plus(x, y), z))\n",
    "print(nat.plus(x, nat.plus(y, z)))\n",
    "print(nat.plus(nat.plus(x, y), z))"
   ]
  },
  {
   "cell_type": "markdown",
   "metadata": {},
   "source": [
    "We used `nat.plus` and `nat.times` to show the construction of terms more explicitly. However, infix operators between terms are also provided."
   ]
  },
  {
   "cell_type": "code",
   "execution_count": 18,
   "metadata": {},
   "outputs": [
    {
     "name": "stdout",
     "output_type": "stream",
     "text": [
      "x + y * z\n",
      "(x + y) * z\n",
      "x + (y + z)\n",
      "x + y + z\n"
     ]
    }
   ],
   "source": [
    "print(x + y * z)\n",
    "print((x + y) * z)\n",
    "print(x + (y + z))\n",
    "print((x + y) + z)"
   ]
  },
  {
   "cell_type": "markdown",
   "metadata": {},
   "source": [
    "Likewise, we can use conjunction and disjunction to form expressions in propositional logic."
   ]
  },
  {
   "cell_type": "code",
   "execution_count": 19,
   "metadata": {},
   "outputs": [
    {
     "name": "stdout",
     "output_type": "stream",
     "text": [
      "P & Q\n",
      "P | Q\n"
     ]
    }
   ],
   "source": [
    "P = Var(\"P\", BoolType)\n",
    "Q = Var(\"Q\", BoolType)\n",
    "R = Var(\"R\", BoolType)\n",
    "\n",
    "print(term.conj(P, Q))\n",
    "print(term.disj(P, Q))"
   ]
  },
  {
   "cell_type": "markdown",
   "metadata": {},
   "source": [
    "Here, we use ASCII characters `&` to represent conjunction, and `|` to represent disjunction. This is in keeping with programming languages such as C, where `&&` stands for `and` and `||` stands for `or`. However, if the user interface allows, we can also print in unicode:"
   ]
  },
  {
   "cell_type": "code",
   "execution_count": 20,
   "metadata": {},
   "outputs": [],
   "source": [
    "# TODO: add unicode printing."
   ]
  },
  {
   "cell_type": "markdown",
   "metadata": {},
   "source": [
    "Here are some more examples. Observe the order of evaluation between conjunction and disjunction, as well as the fact that both logical operators associate to the right."
   ]
  },
  {
   "cell_type": "code",
   "execution_count": 21,
   "metadata": {},
   "outputs": [
    {
     "name": "stdout",
     "output_type": "stream",
     "text": [
      "P & (Q | R)\n",
      "P & Q | R\n",
      "P & Q & R\n",
      "(P & Q) & R\n"
     ]
    }
   ],
   "source": [
    "print(term.conj(P, term.disj(Q, R)))\n",
    "print(term.disj(term.conj(P, Q), R))\n",
    "print(term.conj(P, term.conj(Q, R)))\n",
    "print(term.conj(term.conj(P, Q), R))"
   ]
  },
  {
   "cell_type": "markdown",
   "metadata": {},
   "source": [
    "We do not provide infix operators for conjunction and disjunction. However, we do provide functions And, Or, Implies, and Not to construct propositional formulas. The first three functions take arbitrarily many inputs:"
   ]
  },
  {
   "cell_type": "code",
   "execution_count": 22,
   "metadata": {},
   "outputs": [
    {
     "name": "stdout",
     "output_type": "stream",
     "text": [
      "P & Q & R\n",
      "P | Q | R\n",
      "P --> Q --> R\n",
      "~P --> ~Q\n"
     ]
    }
   ],
   "source": [
    "print(And(P, Q, R))\n",
    "print(Or(P, Q, R))\n",
    "print(Implies(P, Q, R))\n",
    "print(Implies(Not(P), Not(Q)))"
   ]
  },
  {
   "cell_type": "markdown",
   "metadata": {},
   "source": [
    "The equality operator is special in that it can take arguments of any type, as long as the two arguments have the same type. The output type is always bool. Hence, the type of the equality operator is $'a \\To\\ 'a \\To bool$. Here $'a$ is a *type variable*, introduced in the previous section. To form an equality expression, we use the `Eq` function. Note how the type of the equality constant is instantiated according to the type of the arguments."
   ]
  },
  {
   "cell_type": "code",
   "execution_count": 23,
   "metadata": {},
   "outputs": [
    {
     "name": "stdout",
     "output_type": "stream",
     "text": [
      "x = y\n",
      "Comb(Comb(Const(equals, nat => nat => bool), Var(x, nat)), Var(y, nat))\n"
     ]
    }
   ],
   "source": [
    "x = Var(\"x\", NatType)\n",
    "y = Var(\"y\", NatType)\n",
    "t = Eq(x, y)\n",
    "print(t)\n",
    "print(repr(t))"
   ]
  },
  {
   "cell_type": "code",
   "execution_count": 24,
   "metadata": {},
   "outputs": [
    {
     "name": "stdout",
     "output_type": "stream",
     "text": [
      "P <--> Q\n",
      "Comb(Comb(Const(equals, bool => bool => bool), Var(P, bool)), Var(Q, bool))\n"
     ]
    }
   ],
   "source": [
    "P = Var(\"P\", BoolType)\n",
    "Q = Var(\"Q\", BoolType)\n",
    "t = Eq(P, Q)\n",
    "print(t)\n",
    "print(repr(t))"
   ]
  },
  {
   "cell_type": "markdown",
   "metadata": {},
   "source": [
    "Also note that equality between boolean terms is printed as an if-and-only-if ($\\longleftrightarrow$) sign. However, both forms of equalities are represented by constant `equals`."
   ]
  },
  {
   "cell_type": "markdown",
   "metadata": {},
   "source": [
    "## Accessing part of a term"
   ]
  },
  {
   "cell_type": "markdown",
   "metadata": {},
   "source": [
    "For both variables and constants, `name` is the name of the term:"
   ]
  },
  {
   "cell_type": "code",
   "execution_count": 25,
   "metadata": {},
   "outputs": [
    {
     "name": "stdout",
     "output_type": "stream",
     "text": [
      "'x'\n"
     ]
    }
   ],
   "source": [
    "x = Var(\"x\", NatType)\n",
    "print(repr(x.name))"
   ]
  },
  {
   "cell_type": "markdown",
   "metadata": {},
   "source": [
    "Given a combination, `fun` and `arg` returns the function and argument of the combination:"
   ]
  },
  {
   "cell_type": "code",
   "execution_count": 26,
   "metadata": {},
   "outputs": [
    {
     "name": "stdout",
     "output_type": "stream",
     "text": [
      "f\n",
      "x\n"
     ]
    }
   ],
   "source": [
    "f = Var(\"f\", TFun(NatType, NatType))\n",
    "t = f(x)\n",
    "print(t.fun)\n",
    "print(t.arg)"
   ]
  },
  {
   "cell_type": "markdown",
   "metadata": {},
   "source": [
    "Let's try this on the evaluation of a binary operator:"
   ]
  },
  {
   "cell_type": "code",
   "execution_count": 27,
   "metadata": {},
   "outputs": [
    {
     "name": "stdout",
     "output_type": "stream",
     "text": [
      "plus x\n",
      "y\n"
     ]
    }
   ],
   "source": [
    "y = Var(\"y\", NatType)\n",
    "t = x + y\n",
    "print(t.fun)\n",
    "print(t.arg)"
   ]
  },
  {
   "cell_type": "markdown",
   "metadata": {},
   "source": [
    "What's going on here? Recall that a binary operator like `plus` is represented by a function of type $nat \\To nat \\To nat$. The term $x + y$ is really `plus x y` or, with parenthesis put in, `(plus x) y`. Hence, at the outermost level, the term is a function application with function `plus x` and argument `y`. The term `plus x` is a *partial application* of the function `plus`. It is, on its own, a function of type $nat \\To nat$ that adds $x$ to its argument.\n",
    "\n",
    "Given the application of a binary operator, most often we want to access the operator itself, as well as the two arguments. We have already seen that the second argument can be accessed by `arg`. The first argument can be accessed by `arg1`, and the operator can be accessed by `head`:"
   ]
  },
  {
   "cell_type": "code",
   "execution_count": 28,
   "metadata": {},
   "outputs": [
    {
     "name": "stdout",
     "output_type": "stream",
     "text": [
      "(plus::nat => nat => nat)\n",
      "x\n"
     ]
    }
   ],
   "source": [
    "print(t.head)\n",
    "print(t.arg1)"
   ]
  },
  {
   "cell_type": "markdown",
   "metadata": {},
   "source": [
    "More generally, given a term of the form $f\\ t_1\\ t_2\\cdots t_n$, the method `strip_comb` returns the pair $f, [t_1, \\dots, t_n]$. The properties `head` and `args` correspond to $f$ and $[t_1, \\dots, t_n]$, respectively. We demonstrate these functions below."
   ]
  },
  {
   "cell_type": "code",
   "execution_count": 29,
   "metadata": {},
   "outputs": [
    {
     "name": "stdout",
     "output_type": "stream",
     "text": [
      "(Var(g, nat => nat => nat), [Var(x, nat), Var(y, nat), Var(z, nat)])\n",
      "Var(g, nat => nat => nat)\n",
      "[Var(x, nat), Var(y, nat), Var(z, nat)]\n"
     ]
    }
   ],
   "source": [
    "g = Var(\"g\", TFun(NatType, NatType, NatType))\n",
    "z = Var(\"z\", NatType)\n",
    "t = g(x, y, z)\n",
    "print(t.strip_comb())\n",
    "print(repr(t.head))\n",
    "print(t.args)"
   ]
  },
  {
   "cell_type": "markdown",
   "metadata": {},
   "source": [
    "Python's multiple assignment can be used with `strip_comb` to extract head and arguments at the same time:"
   ]
  },
  {
   "cell_type": "code",
   "execution_count": 30,
   "metadata": {},
   "outputs": [
    {
     "name": "stdout",
     "output_type": "stream",
     "text": [
      "f = g, a1 = x, a2 = y, a3 = z\n"
     ]
    }
   ],
   "source": [
    "f, (a1, a2, a3) = t.strip_comb()\n",
    "print('f = %s, a1 = %s, a2 = %s, a3 = %s' % (f, a1, a2, a3))"
   ]
  },
  {
   "cell_type": "markdown",
   "metadata": {},
   "source": [
    "Given an equality term, its left and right side can be accessed using `arg1` and `arg`. However, writing the code in this way is unintuitive. We further provide properties `lhs` and `rhs` to access the left and right sides of an equality:"
   ]
  },
  {
   "cell_type": "code",
   "execution_count": 31,
   "metadata": {},
   "outputs": [
    {
     "name": "stdout",
     "output_type": "stream",
     "text": [
      "x\n",
      "y\n"
     ]
    }
   ],
   "source": [
    "t = Eq(x, y)\n",
    "print(t.lhs)\n",
    "print(t.rhs)"
   ]
  }
 ],
 "metadata": {
  "kernelspec": {
   "display_name": "Python 3",
   "language": "python",
   "name": "python3"
  },
  "language_info": {
   "codemirror_mode": {
    "name": "ipython",
    "version": 3
   },
   "file_extension": ".py",
   "mimetype": "text/x-python",
   "name": "python",
   "nbconvert_exporter": "python",
   "pygments_lexer": "ipython3",
   "version": "3.6.6"
  }
 },
 "nbformat": 4,
 "nbformat_minor": 2
}
