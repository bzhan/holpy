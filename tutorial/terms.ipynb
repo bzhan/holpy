{
 "cells": [
  {
   "cell_type": "markdown",
   "metadata": {},
   "source": [
    "$\\newcommand{\\To}{\\Rightarrow}$"
   ]
  },
  {
   "cell_type": "code",
   "execution_count": 1,
   "metadata": {},
   "outputs": [],
   "source": [
    "import os, sys\n",
    "sys.path.append(os.path.split(os.getcwd())[0])"
   ]
  },
  {
   "cell_type": "code",
   "execution_count": 2,
   "metadata": {},
   "outputs": [],
   "source": [
    "from kernel.type import TFun, boolT\n",
    "from kernel.term import Var, Const, Comb, Term\n",
    "from logic.nat import natT, zero, plus, times\n",
    "from logic.logic import true, false, conj, disj, neg"
   ]
  },
  {
   "cell_type": "markdown",
   "metadata": {},
   "source": [
    "## Terms"
   ]
  },
  {
   "cell_type": "markdown",
   "metadata": {},
   "source": [
    "We now introduce the concept of *terms*. Terms are the building block of the language of higher-order logic. To understand types and terms intuitively, we make an analogy to ordinary programming languages: in a statement `int x = y + z`, both `x` and `y + z` are terms while `int` is a type. The statement declares a new variable `x` of type `int`, and sets it to the value of the term `y + z`. In higher-order logic, each term has a unique type (introduced in the previous section). A basic example of a term is a *variable*. It is constructed by providing a name and a type:"
   ]
  },
  {
   "cell_type": "code",
   "execution_count": 3,
   "metadata": {},
   "outputs": [
    {
     "name": "stdout",
     "output_type": "stream",
     "text": [
      "a\n"
     ]
    }
   ],
   "source": [
    "a = Var(\"a\", natT)\n",
    "print(a)"
   ]
  },
  {
   "cell_type": "markdown",
   "metadata": {},
   "source": [
    "Note a variable is displayed using its name. Its type is not displayed. To get the type of any term, we use the `get_type()` method:"
   ]
  },
  {
   "cell_type": "code",
   "execution_count": 4,
   "metadata": {},
   "outputs": [
    {
     "name": "stdout",
     "output_type": "stream",
     "text": [
      "nat\n"
     ]
    }
   ],
   "source": [
    "print(a.get_type())"
   ]
  },
  {
   "cell_type": "markdown",
   "metadata": {},
   "source": [
    "Another example of a term is a *constant*. A constant is also determined by its name and type. The difference between constants and variables is that a constant is assumed to represent some fixed mathematical concept, while a variable can stand in for any other term. Examples of constants include true, false (both boolean values) and zero (a natural number)."
   ]
  },
  {
   "cell_type": "code",
   "execution_count": 5,
   "metadata": {},
   "outputs": [
    {
     "name": "stdout",
     "output_type": "stream",
     "text": [
      "zero\n",
      "true\n",
      "false\n"
     ]
    }
   ],
   "source": [
    "print(Const(\"zero\", natT))\n",
    "print(Const(\"true\", boolT))\n",
    "print(Const(\"false\", boolT))"
   ]
  },
  {
   "cell_type": "markdown",
   "metadata": {},
   "source": [
    "These are used so frequently that we provide shorthands for them:"
   ]
  },
  {
   "cell_type": "code",
   "execution_count": 6,
   "metadata": {},
   "outputs": [
    {
     "name": "stdout",
     "output_type": "stream",
     "text": [
      "zero\n",
      "true\n",
      "false\n"
     ]
    }
   ],
   "source": [
    "print(zero)\n",
    "print(true)\n",
    "print(false)"
   ]
  },
  {
   "cell_type": "markdown",
   "metadata": {},
   "source": [
    "A variable (or constant) can also have function type. For example, the following declares a variable that is a property of natural numbers:"
   ]
  },
  {
   "cell_type": "code",
   "execution_count": 7,
   "metadata": {},
   "outputs": [
    {
     "name": "stdout",
     "output_type": "stream",
     "text": [
      "nat => bool\n"
     ]
    }
   ],
   "source": [
    "f = Var(\"f\", TFun(natT, boolT))\n",
    "print(f.get_type())"
   ]
  },
  {
   "cell_type": "markdown",
   "metadata": {},
   "source": [
    "Given a term $f$ of function type $A \\To B$, and a term $a$ of type $A$, we can form the term $f\\ a$, representing the evaluation of $f$ at $a$. In ordinary mathematics, this is also written as $f(a)$. However, we follow the usual convention in higher-order logic, with a space between two terms denoting function application. The term $f\\ a$ can be constructed as follows (here Comb stands for *combination*):"
   ]
  },
  {
   "cell_type": "code",
   "execution_count": 8,
   "metadata": {},
   "outputs": [
    {
     "name": "stdout",
     "output_type": "stream",
     "text": [
      "f a\n"
     ]
    }
   ],
   "source": [
    "c = Comb(f, a)\n",
    "print(c)"
   ]
  },
  {
   "cell_type": "markdown",
   "metadata": {},
   "source": [
    "We take advantage of Python's ability to install custom `__call__` functions to create the following shortcut for forming combinations:"
   ]
  },
  {
   "cell_type": "code",
   "execution_count": 9,
   "metadata": {},
   "outputs": [
    {
     "name": "stdout",
     "output_type": "stream",
     "text": [
      "f a\n"
     ]
    }
   ],
   "source": [
    "c = f(a)\n",
    "print(c)"
   ]
  },
  {
   "cell_type": "markdown",
   "metadata": {},
   "source": [
    "A function application $f\\ a$ is only permitted when $f$ has function type, and the type of $a$ agrees with the domain of that function type. In all other cases, the function application is illegal, and we say *type-checking* fails on that term. While we can form a function application that is illegal, an error is raised when we try to *type-check* the term. Type checking is performed with `checked_get_type()`, which also returns the type of the term. Here is an example where `checked_get_type()` fails:"
   ]
  },
  {
   "cell_type": "code",
   "execution_count": 10,
   "metadata": {
    "tags": [
     "raises-exception"
    ]
   },
   "outputs": [
    {
     "ename": "TypeCheckException",
     "evalue": "",
     "output_type": "error",
     "traceback": [
      "\u001b[0;31m---------------------------------------------------------------------------\u001b[0m",
      "\u001b[0;31mTypeCheckException\u001b[0m                        Traceback (most recent call last)",
      "\u001b[0;32m<ipython-input-10-2236803e67df>\u001b[0m in \u001b[0;36m<module>\u001b[0;34m()\u001b[0m\n\u001b[1;32m      2\u001b[0m \u001b[0mx\u001b[0m \u001b[0;34m=\u001b[0m \u001b[0mVar\u001b[0m\u001b[0;34m(\u001b[0m\u001b[0;34m\"x\"\u001b[0m\u001b[0;34m,\u001b[0m \u001b[0mboolT\u001b[0m\u001b[0;34m)\u001b[0m\u001b[0;34m\u001b[0m\u001b[0m\n\u001b[1;32m      3\u001b[0m \u001b[0mt\u001b[0m \u001b[0;34m=\u001b[0m \u001b[0mf\u001b[0m\u001b[0;34m(\u001b[0m\u001b[0mx\u001b[0m\u001b[0;34m)\u001b[0m\u001b[0;34m\u001b[0m\u001b[0m\n\u001b[0;32m----> 4\u001b[0;31m \u001b[0mt\u001b[0m\u001b[0;34m.\u001b[0m\u001b[0mchecked_get_type\u001b[0m\u001b[0;34m(\u001b[0m\u001b[0;34m)\u001b[0m   \u001b[0;31m# raises TypeCheckException\u001b[0m\u001b[0;34m\u001b[0m\u001b[0m\n\u001b[0m",
      "\u001b[0;32m~/Private/holpy/kernel/term.py\u001b[0m in \u001b[0;36mchecked_get_type\u001b[0;34m(self)\u001b[0m\n\u001b[1;32m    532\u001b[0m     \u001b[0;32mdef\u001b[0m \u001b[0mchecked_get_type\u001b[0m\u001b[0;34m(\u001b[0m\u001b[0mself\u001b[0m\u001b[0;34m)\u001b[0m\u001b[0;34m:\u001b[0m\u001b[0;34m\u001b[0m\u001b[0m\n\u001b[1;32m    533\u001b[0m         \u001b[0;34m\"\"\"Perform type-checking and return the type of self.\"\"\"\u001b[0m\u001b[0;34m\u001b[0m\u001b[0m\n\u001b[0;32m--> 534\u001b[0;31m         \u001b[0;32mreturn\u001b[0m \u001b[0mself\u001b[0m\u001b[0;34m.\u001b[0m\u001b[0m_checked_get_type\u001b[0m\u001b[0;34m(\u001b[0m\u001b[0;34m[\u001b[0m\u001b[0;34m]\u001b[0m\u001b[0;34m)\u001b[0m\u001b[0;34m\u001b[0m\u001b[0m\n\u001b[0m\u001b[1;32m    535\u001b[0m \u001b[0;34m\u001b[0m\u001b[0m\n\u001b[1;32m    536\u001b[0m \u001b[0;34m\u001b[0m\u001b[0m\n",
      "\u001b[0;32m~/Private/holpy/kernel/term.py\u001b[0m in \u001b[0;36m_checked_get_type\u001b[0;34m(self, bd_vars)\u001b[0m\n\u001b[1;32m    518\u001b[0m                 \u001b[0;32mreturn\u001b[0m \u001b[0mfunT\u001b[0m\u001b[0;34m.\u001b[0m\u001b[0mrange_type\u001b[0m\u001b[0;34m(\u001b[0m\u001b[0;34m)\u001b[0m\u001b[0;34m\u001b[0m\u001b[0m\n\u001b[1;32m    519\u001b[0m             \u001b[0;32melse\u001b[0m\u001b[0;34m:\u001b[0m\u001b[0;34m\u001b[0m\u001b[0m\n\u001b[0;32m--> 520\u001b[0;31m                 \u001b[0;32mraise\u001b[0m \u001b[0mTypeCheckException\u001b[0m\u001b[0;34m(\u001b[0m\u001b[0;34m)\u001b[0m\u001b[0;34m\u001b[0m\u001b[0m\n\u001b[0m\u001b[1;32m    521\u001b[0m         \u001b[0;32melif\u001b[0m \u001b[0mself\u001b[0m\u001b[0;34m.\u001b[0m\u001b[0mis_abs\u001b[0m\u001b[0;34m(\u001b[0m\u001b[0;34m)\u001b[0m\u001b[0;34m:\u001b[0m\u001b[0;34m\u001b[0m\u001b[0m\n\u001b[1;32m    522\u001b[0m             \u001b[0mbodyT\u001b[0m \u001b[0;34m=\u001b[0m \u001b[0mself\u001b[0m\u001b[0;34m.\u001b[0m\u001b[0mbody\u001b[0m\u001b[0;34m.\u001b[0m\u001b[0m_checked_get_type\u001b[0m\u001b[0;34m(\u001b[0m\u001b[0;34m[\u001b[0m\u001b[0mself\u001b[0m\u001b[0;34m.\u001b[0m\u001b[0mvar_T\u001b[0m\u001b[0;34m]\u001b[0m \u001b[0;34m+\u001b[0m \u001b[0mbd_vars\u001b[0m\u001b[0;34m)\u001b[0m\u001b[0;34m\u001b[0m\u001b[0m\n",
      "\u001b[0;31mTypeCheckException\u001b[0m: "
     ]
    }
   ],
   "source": [
    "f = Var(\"f\", TFun(natT, boolT))\n",
    "x = Var(\"x\", boolT)\n",
    "t = f(x)\n",
    "t.checked_get_type()   # raises TypeCheckException"
   ]
  },
  {
   "cell_type": "markdown",
   "metadata": {},
   "source": [
    "Given a function with two arguments, we can evaluate the function one argument at a time. For example, if $g$ is a function of type $nat \\To nat \\To nat$, and $a$ and $b$ are both of type $nat$, then $(g\\ a)\\ b$ is the evaluation of $g$ on $a$ and $b$. Note this is very different from the term $g\\ (a\\ b)$ (which will not type-check). Since the former occurs more frequently, we have the convention that function application associates to the left. Hence, $(g\\ a)\\ b$ can be written more compactly as $g\\ a\\ b$."
   ]
  },
  {
   "cell_type": "code",
   "execution_count": 11,
   "metadata": {},
   "outputs": [
    {
     "name": "stdout",
     "output_type": "stream",
     "text": [
      "g a b\n"
     ]
    }
   ],
   "source": [
    "g = Var(\"g\", TFun(natT, natT, boolT))\n",
    "a = Var(\"a\", natT)\n",
    "b = Var(\"b\", natT)\n",
    "print(g(a)(b))"
   ]
  },
  {
   "cell_type": "markdown",
   "metadata": {},
   "source": [
    "But in fact, the `__call__` function for terms is written such that all arguments can be provided at the same time:"
   ]
  },
  {
   "cell_type": "code",
   "execution_count": 12,
   "metadata": {},
   "outputs": [
    {
     "name": "stdout",
     "output_type": "stream",
     "text": [
      "g a b\n"
     ]
    }
   ],
   "source": [
    "print(g(a, b))"
   ]
  },
  {
   "cell_type": "markdown",
   "metadata": {},
   "source": [
    "While the printed form $g\\ a\\ b$ is very simple, it is worth remembering how the term is represented behind the scenes. The `repr` function returns the detailed representation of the term:"
   ]
  },
  {
   "cell_type": "code",
   "execution_count": 13,
   "metadata": {},
   "outputs": [
    {
     "name": "stdout",
     "output_type": "stream",
     "text": [
      "Comb(Comb(Var(g,nat => nat => bool),Var(a,nat)),Var(b,nat))\n"
     ]
    }
   ],
   "source": [
    "print(repr(g(a, b)))"
   ]
  },
  {
   "cell_type": "markdown",
   "metadata": {},
   "source": [
    "## Common operators"
   ]
  },
  {
   "cell_type": "markdown",
   "metadata": {},
   "source": [
    "Many of the most frequently used operators are functions on two arguments. For example, addition and multiplication are both functions of type $nat \\To nat \\To nat$. In propositional logic, conjunction and disjunction are both functions of type $bool \\To bool \\To bool$. Negation is a function of type $bool \\To bool$."
   ]
  },
  {
   "cell_type": "code",
   "execution_count": 14,
   "metadata": {},
   "outputs": [
    {
     "name": "stdout",
     "output_type": "stream",
     "text": [
      "Const(plus,nat => nat => nat)\n",
      "Const(times,nat => nat => nat)\n",
      "Const(conj,bool => bool => bool)\n",
      "Const(disj,bool => bool => bool)\n",
      "Const(neg,bool => bool)\n"
     ]
    }
   ],
   "source": [
    "print(repr(plus))\n",
    "print(repr(times))\n",
    "print(repr(conj))\n",
    "print(repr(disj))\n",
    "print(repr(neg))"
   ]
  },
  {
   "cell_type": "markdown",
   "metadata": {},
   "source": [
    "These can be applied to terms just like any function. For example, the term $x + y$ (where $x$ and $y$ are natural numbers) is represented as follows:"
   ]
  },
  {
   "cell_type": "code",
   "execution_count": 15,
   "metadata": {},
   "outputs": [
    {
     "name": "stdout",
     "output_type": "stream",
     "text": [
      "plus x y\n"
     ]
    }
   ],
   "source": [
    "x = Var(\"x\", natT)\n",
    "y = Var(\"y\", natT)\n",
    "z = Var(\"z\", natT)\n",
    "t = plus(x, y)\n",
    "print(t)"
   ]
  },
  {
   "cell_type": "markdown",
   "metadata": {},
   "source": [
    "The output is not very readable, as the basic printing function does not understand how to print binary operators using symbols and infix form. This gets worse as the expression gets longer. Hence, from now on we use a more sophisticated printing function. This printing function needs to be provided a *theory*, which contains information about currently available types, constants and theorems. It also contains information about how to print the basic operators. Theories will be discussed in more detail in later sections, for now we just use some boilerplate code to setup the printing."
   ]
  },
  {
   "cell_type": "code",
   "execution_count": 16,
   "metadata": {},
   "outputs": [],
   "source": [
    "from logic import basic\n",
    "from syntax import printer\n",
    "thy = basic.load_theory('nat')"
   ]
  },
  {
   "cell_type": "code",
   "execution_count": 17,
   "metadata": {},
   "outputs": [
    {
     "name": "stdout",
     "output_type": "stream",
     "text": [
      "x + y\n"
     ]
    }
   ],
   "source": [
    "print(printer.print_term(thy, t))"
   ]
  },
  {
   "cell_type": "markdown",
   "metadata": {},
   "source": [
    "The printing function understands usual order of evaluation rules. Note addition (and multiplication) associates to the left."
   ]
  },
  {
   "cell_type": "code",
   "execution_count": 18,
   "metadata": {},
   "outputs": [
    {
     "name": "stdout",
     "output_type": "stream",
     "text": [
      "x + y * z\n",
      "(x + y) * z\n",
      "x + (y + z)\n",
      "x + y + z\n"
     ]
    }
   ],
   "source": [
    "t1 = plus(x, times(y, z))\n",
    "print(printer.print_term(thy, t1))\n",
    "\n",
    "t2 = times(plus(x, y), z)\n",
    "print(printer.print_term(thy, t2))\n",
    "\n",
    "t3 = plus(x, plus(y, z))\n",
    "print(printer.print_term(thy, t3))\n",
    "\n",
    "t4 = plus(plus(x, y), z)\n",
    "print(printer.print_term(thy, t4))"
   ]
  },
  {
   "cell_type": "markdown",
   "metadata": {},
   "source": [
    "Likewise, we can use conjunction and disjunction to form expressions in propositional logic."
   ]
  },
  {
   "cell_type": "code",
   "execution_count": 19,
   "metadata": {},
   "outputs": [
    {
     "name": "stdout",
     "output_type": "stream",
     "text": [
      "P & Q\n",
      "P | Q\n"
     ]
    }
   ],
   "source": [
    "P = Var(\"P\", boolT)\n",
    "Q = Var(\"Q\", boolT)\n",
    "R = Var(\"R\", boolT)\n",
    "\n",
    "t1 = conj(P, Q)\n",
    "print(printer.print_term(thy, t1))\n",
    "\n",
    "t2 = disj(P, Q)\n",
    "print(printer.print_term(thy, t2))"
   ]
  },
  {
   "cell_type": "markdown",
   "metadata": {},
   "source": [
    "Here, we use ASCII characters `&` to represent conjunction, and `|` to represent disjunction. This is in keeping with programming languages such as C, where `&&` stands for `and` and `||` stands for `or`. However, if the user interface allows, we can also print in unicode:"
   ]
  },
  {
   "cell_type": "code",
   "execution_count": 20,
   "metadata": {},
   "outputs": [
    {
     "name": "stdout",
     "output_type": "stream",
     "text": [
      "P ∧ Q\n",
      "P ∨ Q\n"
     ]
    }
   ],
   "source": [
    "print(printer.print_term(thy, t1, unicode=True))\n",
    "print(printer.print_term(thy, t2, unicode=True))"
   ]
  },
  {
   "cell_type": "markdown",
   "metadata": {},
   "source": [
    "Here are some more examples. Observe the order of evaluation between conjunction and disjunction, as well as the fact that both logical operators associate to the right."
   ]
  },
  {
   "cell_type": "code",
   "execution_count": 21,
   "metadata": {},
   "outputs": [
    {
     "name": "stdout",
     "output_type": "stream",
     "text": [
      "P ∧ (Q ∨ R)\n",
      "P ∧ Q ∨ R\n",
      "P ∧ Q ∧ R\n",
      "(P ∧ Q) ∧ R\n"
     ]
    }
   ],
   "source": [
    "t1 = conj(P, disj(Q, R))\n",
    "print(printer.print_term(thy, t1, unicode=True))\n",
    "\n",
    "t2 = disj(conj(P, Q), R)\n",
    "print(printer.print_term(thy, t2, unicode=True))\n",
    "\n",
    "t3 = conj(P, conj(Q, R))\n",
    "print(printer.print_term(thy, t3, unicode=True))\n",
    "\n",
    "t4 = conj(conj(P, Q), R)\n",
    "print(printer.print_term(thy, t4, unicode=True))"
   ]
  },
  {
   "cell_type": "markdown",
   "metadata": {},
   "source": [
    "The equality operator is special in that it can take arguments of any type, as long as the two arguments have the same type. The output type is always bool. Hence, the type of the equality operator is $'a \\To\\ 'a \\To bool$. Here $'a$ is a *type variable*, introduced in the previous section. To form an equality expression, we use the `mk_equals` function in `Term`. Note how the type of the equality constant is instantiated according to the type of the arguments provided to `mk_equals`."
   ]
  },
  {
   "cell_type": "code",
   "execution_count": 22,
   "metadata": {},
   "outputs": [
    {
     "name": "stdout",
     "output_type": "stream",
     "text": [
      "x = y\n",
      "Comb(Comb(Const(equals,nat => nat => bool),Var(x,nat)),Var(y,nat))\n",
      "P = Q\n",
      "Comb(Comb(Const(equals,bool => bool => bool),Var(P,bool)),Var(Q,bool))\n"
     ]
    }
   ],
   "source": [
    "t = Term.mk_equals(x, y)\n",
    "print(printer.print_term(thy, t))\n",
    "print(repr(t))\n",
    "\n",
    "t = Term.mk_equals(P, Q)\n",
    "print(printer.print_term(thy, t))\n",
    "print(repr(t))"
   ]
  },
  {
   "cell_type": "markdown",
   "metadata": {},
   "source": [
    "## Accessing part of a term"
   ]
  },
  {
   "cell_type": "markdown",
   "metadata": {},
   "source": [
    "For both variables and constants, `name` is the name of the term:"
   ]
  },
  {
   "cell_type": "code",
   "execution_count": 23,
   "metadata": {},
   "outputs": [
    {
     "name": "stdout",
     "output_type": "stream",
     "text": [
      "'x'\n"
     ]
    }
   ],
   "source": [
    "x = Var(\"x\", natT)\n",
    "print(repr(x.name))"
   ]
  },
  {
   "cell_type": "markdown",
   "metadata": {},
   "source": [
    "Given a combination, `fun` and `arg` returns the function and argument of the combination:"
   ]
  },
  {
   "cell_type": "code",
   "execution_count": 24,
   "metadata": {},
   "outputs": [
    {
     "name": "stdout",
     "output_type": "stream",
     "text": [
      "f\n",
      "x\n"
     ]
    }
   ],
   "source": [
    "f = Var(\"f\", TFun(natT, natT))\n",
    "t = f(x)\n",
    "print(t.fun)\n",
    "print(t.arg)"
   ]
  },
  {
   "cell_type": "markdown",
   "metadata": {},
   "source": [
    "Let's try this on the evaluation of a binary operator:"
   ]
  },
  {
   "cell_type": "code",
   "execution_count": 25,
   "metadata": {},
   "outputs": [
    {
     "name": "stdout",
     "output_type": "stream",
     "text": [
      "plus x\n",
      "y\n"
     ]
    }
   ],
   "source": [
    "y = Var(\"y\", natT)\n",
    "t = plus(x, y)\n",
    "print(t.fun)\n",
    "print(t.arg)"
   ]
  },
  {
   "cell_type": "markdown",
   "metadata": {},
   "source": [
    "What's going on here? Recall that a binary operator like `plus` is represented by a function of type $nat \\To nat \\To nat$. The term $x + y$ is really `plus x y` or, with parenthesis put in, `(plus x) y`. Hence, at the outermost level, the term is a function application with function `plus x` and argument `y`. The term `plus x` is a *partial application* of the function `plus`. It is, on its own, a function of type $nat \\To nat$ that adds $x$ to its argument.\n",
    "\n",
    "Given the application of a binary operator, most often we want to access the operator itself, as well as the two arguments. We have already seen that the second argument can be accessed by `arg`. The first argument can be accessed by `arg1`, and the operator can be accessed by `head`:"
   ]
  },
  {
   "cell_type": "code",
   "execution_count": 26,
   "metadata": {},
   "outputs": [
    {
     "name": "stdout",
     "output_type": "stream",
     "text": [
      "plus\n",
      "x\n"
     ]
    }
   ],
   "source": [
    "print(t.head)\n",
    "print(t.arg1)"
   ]
  },
  {
   "cell_type": "markdown",
   "metadata": {},
   "source": [
    "More generally, given a term of the form $f\\ t_1\\ t_2\\cdots t_n$, the method `strip_comb` returns the pair $f, [t_1, \\dots, t_n]$. The properties `head` and `args` correspond to $f$ and $[t_1, \\dots, t_n]$, respectively. We demonstrate these functions below. Note the use of multiple assignment syntax in Python to simplify the code."
   ]
  },
  {
   "cell_type": "code",
   "execution_count": 27,
   "metadata": {},
   "outputs": [
    {
     "name": "stdout",
     "output_type": "stream",
     "text": [
      "(Var(g,nat => nat => nat), [Var(x,nat), Var(y,nat), Var(z,nat)])\n",
      "Var(g,nat => nat => nat)\n",
      "[Var(x,nat), Var(y,nat), Var(z,nat)]\n",
      "g x y z\n"
     ]
    }
   ],
   "source": [
    "g = Var(\"g\", TFun(natT, natT, natT))\n",
    "z = Var(\"z\", natT)\n",
    "t = g(x, y, z)\n",
    "print(t.strip_comb())\n",
    "print(repr(t.head))\n",
    "print(t.args)\n",
    "\n",
    "f, (a1, a2, a3) = t.strip_comb()\n",
    "print(f, a1, a2, a3)"
   ]
  },
  {
   "cell_type": "markdown",
   "metadata": {},
   "source": [
    "Given an equality term, its left and right side can be accessed using `arg1` and `arg`. However, writing the code in this way is unintuitive. We further provide properties `lhs` and `rhs` to access the left and right sides of an equality:"
   ]
  },
  {
   "cell_type": "code",
   "execution_count": 28,
   "metadata": {},
   "outputs": [
    {
     "name": "stdout",
     "output_type": "stream",
     "text": [
      "x\n",
      "y\n"
     ]
    }
   ],
   "source": [
    "t = Term.mk_equals(x, y)\n",
    "print(t.lhs)\n",
    "print(t.rhs)"
   ]
  }
 ],
 "metadata": {
  "kernelspec": {
   "display_name": "Python 3",
   "language": "python",
   "name": "python3"
  },
  "language_info": {
   "codemirror_mode": {
    "name": "ipython",
    "version": 3
   },
   "file_extension": ".py",
   "mimetype": "text/x-python",
   "name": "python",
   "nbconvert_exporter": "python",
   "pygments_lexer": "ipython3",
   "version": "3.5.2"
  }
 },
 "nbformat": 4,
 "nbformat_minor": 2
}
