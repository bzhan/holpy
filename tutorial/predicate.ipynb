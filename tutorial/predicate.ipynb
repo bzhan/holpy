{
 "cells": [
  {
   "cell_type": "markdown",
   "metadata": {},
   "source": [
    "$\\newcommand{\\To}{\\Rightarrow}$\n",
    "$\\newcommand{\\false}{\\mathrm{false}}$"
   ]
  },
  {
   "cell_type": "code",
   "execution_count": 1,
   "metadata": {},
   "outputs": [],
   "source": [
    "import os\n",
    "os.chdir('..')"
   ]
  },
  {
   "cell_type": "code",
   "execution_count": 2,
   "metadata": {},
   "outputs": [],
   "source": [
    "from kernel.type import TFun, BoolType, NatType\n",
    "from kernel.term import Var, Forall, Exists, Nat, And, Inst, Lambda, Eq\n",
    "from kernel.thm import Thm\n",
    "from kernel.proofterm import ProofTerm\n",
    "from kernel import theory\n",
    "from logic import basic\n",
    "from logic.logic import apply_theorem\n",
    "from syntax.settings import settings\n",
    "\n",
    "basic.load_theory('nat')\n",
    "settings.unicode = True"
   ]
  },
  {
   "cell_type": "markdown",
   "metadata": {},
   "source": [
    "## Predicate logic"
   ]
  },
  {
   "cell_type": "markdown",
   "metadata": {},
   "source": [
    "In this section, we introduce rules for reasoning and major theorems in predicate logic. We have already encountered forall and exists quantifiers. Recall that they can be constructed as follows:"
   ]
  },
  {
   "cell_type": "code",
   "execution_count": 3,
   "metadata": {},
   "outputs": [
    {
     "name": "stdout",
     "output_type": "stream",
     "text": [
      "∀x. P x\n",
      "∃x. Q x\n"
     ]
    }
   ],
   "source": [
    "x = Var('x', NatType)\n",
    "P = Var('P', TFun(NatType, BoolType))\n",
    "Q = Var('Q', TFun(NatType, BoolType))\n",
    "print(Forall(x, P(x)))\n",
    "print(Exists(x, Q(x)))"
   ]
  },
  {
   "cell_type": "markdown",
   "metadata": {},
   "source": [
    "Higher-order logic defines forall quantification as a primitive operation, and introduction and elimination rules as primitive deduction rules. They are as follows:\n",
    "\n",
    "$$ \\frac{A \\vdash t}{A \\vdash \\forall x.\\,t} \\hbox{ forall_intr ($x$ does not appear in $A$)}$$"
   ]
  },
  {
   "cell_type": "markdown",
   "metadata": {},
   "source": [
    "This rule stipulates that if a proposition $t$, possibly depending on $x$, can be proved from assumptions not containing $x$, then the proposition $\\forall x.\\,t$ holds. This formalizes the general approach for proving a statement of the form $\\forall x.\\, P(x)$: we assume a new variable $x$ and show that $P(x)$ holds.\n",
    "\n",
    "This rule can be invoked as follows:"
   ]
  },
  {
   "cell_type": "code",
   "execution_count": 4,
   "metadata": {},
   "outputs": [
    {
     "name": "stdout",
     "output_type": "stream",
     "text": [
      "th:  ⊢ P x\n",
      "th2: ⊢ ∀x. P x\n"
     ]
    }
   ],
   "source": [
    "th = Thm([], P(x))\n",
    "print('th: ', th)\n",
    "th2 = Thm.forall_intr(x, th)\n",
    "print('th2:', th2)"
   ]
  },
  {
   "cell_type": "markdown",
   "metadata": {},
   "source": [
    "The elimination rule stipulates that if $\\forall x.\\,P(x)$ holds, then $P(s)$ holds for any term $s$ of the same type as $x$:\n",
    "\n",
    "$$ \\frac{\\vdash \\forall x.\\, t}{\\vdash t[s/x]} \\hbox{ forall_elim} $$\n",
    "\n",
    "This rule can be invoked as follows:"
   ]
  },
  {
   "cell_type": "code",
   "execution_count": 5,
   "metadata": {},
   "outputs": [
    {
     "name": "stdout",
     "output_type": "stream",
     "text": [
      "th3; ⊢ P 2\n"
     ]
    }
   ],
   "source": [
    "th3 = Thm.forall_elim(Nat(2), th2)\n",
    "print('th3;', th3)"
   ]
  },
  {
   "cell_type": "markdown",
   "metadata": {},
   "source": [
    "The interface for proof terms is similar, except we can call `forall_intr` and `forall_elim` directly from proof term objects:"
   ]
  },
  {
   "cell_type": "code",
   "execution_count": 6,
   "metadata": {},
   "outputs": [
    {
     "name": "stdout",
     "output_type": "stream",
     "text": [
      "pt:  ProofTerm(∀x. P x ⊢ ∀x. P x)\n",
      "pt2: ProofTerm(∀x. P x ⊢ P 2)\n",
      "pt3: ProofTerm(⊢ x + 2 = 2 + x)\n",
      "pt4: ProofTerm(⊢ ∀x::nat. x + 2 = 2 + x)\n"
     ]
    }
   ],
   "source": [
    "pt = ProofTerm.assume(Forall(x, P(x)))\n",
    "print('pt: ', pt)\n",
    "pt2 = pt.forall_elim(Nat(2))\n",
    "print('pt2:', pt2)\n",
    "pt3 = apply_theorem('add_comm', inst=Inst(x=x, y=Nat(2)))\n",
    "print('pt3:', pt3)\n",
    "pt4 = pt3.forall_intr(x)\n",
    "print('pt4:', pt4)"
   ]
  },
  {
   "cell_type": "markdown",
   "metadata": {},
   "source": [
    "We now do a full example.\n",
    "\n",
    "#### Example:\n",
    "\n",
    "Prove $ (\\forall x.\\, P(x) \\wedge Q(x)) \\to (\\forall x.\\, P(x)) \\wedge (\\forall x.\\, Q(x)) $.\n",
    "\n",
    "#### Solution:\n",
    "\n",
    "0. $\\forall x.\\, P(x)\\wedge Q(x) \\vdash \\forall x.\\, P(x)\\wedge Q(x)$ by assume $\\forall x.\\, P(x)\\wedge Q(x))$.\n",
    "1. $\\forall x.\\, P(x)\\wedge Q(x) \\vdash P(x)\\wedge Q(x)$ by forall\\_elim $x$ from 0.\n",
    "2. $\\forall x.\\, P(x)\\wedge Q(x) \\vdash P(x)$ by apply\\_theorem conjD1 from 1.\n",
    "3. $\\forall x.\\, P(x)\\wedge Q(x) \\vdash Q(x)$ by apply\\_theorem conjD2 from 1.\n",
    "4. $\\forall x.\\, P(x)\\wedge Q(x) \\vdash \\forall x.\\, P(x)$ by forall\\_intr $x$ from 2.\n",
    "5. $\\forall x.\\, P(x)\\wedge Q(x) \\vdash \\forall x.\\, Q(x)$ by forall\\_intr $x$ from 3.\n",
    "6. $\\forall x.\\, P(x)\\wedge Q(x) \\vdash (\\forall x.\\, P(x)) \\wedge (\\forall x.\\, Q(x))$ by apply\\_theorem conjI from 4, 5.\n",
    "7. $\\vdash (\\forall x.\\, P(x)\\wedge Q(x)) \\to (\\forall x.\\, P(x)) \\wedge (\\forall x.\\, Q(x))$ by implies_\\intr $\\forall x.\\, P(x)\\wedge Q(x)$ from 6.\n",
    "\n",
    "The Python code is as follows:"
   ]
  },
  {
   "cell_type": "code",
   "execution_count": 7,
   "metadata": {},
   "outputs": [
    {
     "name": "stdout",
     "output_type": "stream",
     "text": [
      "ProofTerm(⊢ (∀x. P x ∧ Q x) ⟶ (∀x. P x) ∧ (∀x. Q x))\n"
     ]
    }
   ],
   "source": [
    "pt0 = ProofTerm.assume(Forall(x, And(P(x), Q(x))))\n",
    "pt1 = pt0.forall_elim(x)\n",
    "pt2 = apply_theorem('conjD1', pt1)\n",
    "pt3 = apply_theorem('conjD2', pt1)\n",
    "pt4 = pt2.forall_intr(x)\n",
    "pt5 = pt3.forall_intr(x)\n",
    "pt6 = apply_theorem('conjI', pt4, pt5)\n",
    "pt7 = pt6.implies_intr(Forall(x, And(P(x), Q(x))))\n",
    "print(pt7)"
   ]
  },
  {
   "cell_type": "markdown",
   "metadata": {},
   "source": [
    "One advantage of using proof terms is that we can let Python print out a human-readable proof"
   ]
  },
  {
   "cell_type": "code",
   "execution_count": 8,
   "metadata": {},
   "outputs": [
    {
     "name": "stdout",
     "output_type": "stream",
     "text": [
      "0: ∀x. P x ∧ Q x ⊢ ∀x. P x ∧ Q x by assume ∀x. P x ∧ Q x\n",
      "1: ∀x. P x ∧ Q x ⊢ P x ∧ Q x by forall_elim x from 0\n",
      "2: ∀x. P x ∧ Q x ⊢ P x by apply_theorem conjD1 from 1\n",
      "3: ∀x. P x ∧ Q x ⊢ ∀x. P x by forall_intr x from 2\n",
      "4: ∀x. P x ∧ Q x ⊢ Q x by apply_theorem conjD2 from 1\n",
      "5: ∀x. P x ∧ Q x ⊢ ∀x. Q x by forall_intr x from 4\n",
      "6: ∀x. P x ∧ Q x ⊢ (∀x. P x) ∧ (∀x. Q x) by apply_theorem conjI from 3, 5\n",
      "7: ⊢ (∀x. P x ∧ Q x) ⟶ (∀x. P x) ∧ (∀x. Q x) by implies_intr ∀x. P x ∧ Q x from 6\n"
     ]
    }
   ],
   "source": [
    "print(pt7.export())"
   ]
  },
  {
   "cell_type": "code",
   "execution_count": null,
   "metadata": {},
   "outputs": [],
   "source": []
  },
  {
   "cell_type": "markdown",
   "metadata": {},
   "source": [
    "Note the order of the steps are slightly adjusted, as it depends on the details of the procedure for exporting proof terms."
   ]
  },
  {
   "cell_type": "markdown",
   "metadata": {},
   "source": [
    "## Exists quantification"
   ]
  },
  {
   "cell_type": "markdown",
   "metadata": {},
   "source": [
    "The other quantifier in predicate logic is exists. In higher-order logic, this is not a primitive operation, and the introduction and elimination rules are given as theorems (just as for conjunction and disjunction). The theorems are:"
   ]
  },
  {
   "cell_type": "code",
   "execution_count": 9,
   "metadata": {},
   "outputs": [
    {
     "name": "stdout",
     "output_type": "stream",
     "text": [
      "⊢ ?P ?a ⟶ (∃a1. ?P a1)\n",
      "⊢ (∃a. ?P a) ⟶ (∀a. ?P a ⟶ ?C) ⟶ ?C\n"
     ]
    }
   ],
   "source": [
    "print(theory.get_theorem('exI'))\n",
    "print(theory.get_theorem('exE'))"
   ]
  },
  {
   "cell_type": "markdown",
   "metadata": {},
   "source": [
    "The theorem `exI` is not difficult to understand: if $P(a)$ holds for some predicate $P$ and term $a$, then $\\exists x.\\,P(x)$ holds. The theorem `exE` is trickier and takes some time to get used to. Its use corresponds to the idea that if $\\exists x\\,P(x)$ holds, then we can take a fresh variable $a$ and assume $P(a)$. When applying `exE`, the variable $C$ is instantiated to the current goal, so the goal is changed from $C$ to $\\forall a. P(a)\\to C$. We then immediately apply `forall_elim` and `implies_elim` to get a new variable $a$ and assumption $P(a)$, and the conclusion is still $C$.\n",
    "\n",
    "Let's demonstrate the use of `exI` and `exE` on an example."
   ]
  },
  {
   "cell_type": "markdown",
   "metadata": {},
   "source": [
    "#### Example:\n",
    "\n",
    "Prove $(\\exists x.\\,P(x) \\wedge Q(x)) \\to (\\exists x.\\,P(x)) \\wedge (\\exists x.\\,Q(x))$.\n",
    "\n",
    "#### Solution:\n",
    "\n",
    "0. $\\exists x.\\,P(x) \\wedge Q(x) \\vdash \\exists x.\\,P(x) \\wedge Q(x)$ by assume $\\exists x.\\,P(x) \\wedge Q(x)$.\n",
    "1. $P(x) \\wedge Q(x) \\vdash P(x) \\wedge Q(x)$ by assume $P(x) \\wedge Q(x)$.\n",
    "2. $P(x) \\wedge Q(x) \\vdash P(x)$ by apply_theorem conjD1 from 1.\n",
    "3. $P(x) \\wedge Q(x) \\vdash \\exists x.\\,P(x)$ by apply_theorem exI from 2.\n",
    "4. $P(x) \\wedge Q(x) \\vdash Q(x)$ by apply_theorem conjD2 from 1.\n",
    "5. $P(x) \\wedge Q(x) \\vdash \\exists x.\\,Q(x)$ by apply_theorem exI from 4.\n",
    "6. $P(x) \\wedge Q(x) \\vdash (\\exists x.\\,P(x)) \\wedge (\\exists x.\\,Q(x))$ by apply_theorem conjI from 3, 5.\n",
    "7. $\\vdash P(x) \\wedge Q(x) \\to (\\exists x.\\,P(x)) \\wedge (\\exists x.\\,Q(x))$ by implies_intr $P(x) \\wedge Q(x)$ from 6.\n",
    "8. $\\vdash \\forall x. P(x) \\wedge Q(x) \\to (\\exists x.\\,P(x)) \\wedge (\\exists x.\\,Q(x))$ by forall_intr $x$ from 7.\n",
    "9. $\\exists x.\\,P(x) \\wedge Q(x) \\vdash (\\exists x.\\,P(x)) \\wedge (\\exists x.\\,Q(x))$ by apply_theorem exE from 0, 8.\n",
    "10. $\\vdash (\\exists x. P(x) \\wedge Q(x)) \\to (\\exists x.\\,P(x)) \\wedge (\\exists x.\\,Q(x))$ by implies_intr $\\exists x.\\,P(x) \\wedge Q(x)$ from 9.\n",
    "\n",
    "In this proof, steps 1 through 8 proves $(\\exists x.\\,P(x) \\wedge (\\exists x.\\,Q(x))$ given a fresh variable $x$ and assumption $P(x)\\wedge Q(x)$. The result of step 8 is then used in step 9 when applying `exE`.\n",
    "\n",
    "The Python code is as follows:"
   ]
  },
  {
   "cell_type": "markdown",
   "metadata": {},
   "source": []
  },
  {
   "cell_type": "code",
   "execution_count": 10,
   "metadata": {},
   "outputs": [
    {
     "name": "stdout",
     "output_type": "stream",
     "text": [
      "ProofTerm(⊢ (∃x. P x ∧ Q x) ⟶ (∃a1. P a1) ∧ (∃a1. Q a1))\n"
     ]
    }
   ],
   "source": [
    "pt0 = ProofTerm.assume(Exists(x, And(P(x), Q(x))))\n",
    "pt1 = ProofTerm.assume(And(P(x), Q(x)))\n",
    "pt2 = apply_theorem('conjD1', pt1)\n",
    "pt3 = apply_theorem('conjD2', pt1)\n",
    "pt4 = apply_theorem('exI', pt2, inst=Inst(P=P, a=x))\n",
    "pt5 = apply_theorem('exI', pt3, inst=Inst(P=Q, a=x))\n",
    "pt6 = apply_theorem('conjI', pt4, pt5)\n",
    "pt7 = pt6.implies_intr(And(P(x), Q(x)))\n",
    "pt8 = pt7.forall_intr(x)\n",
    "pt9 = apply_theorem('exE', pt0, pt8)\n",
    "pt10 = pt9.implies_intr(Exists(x, And(P(x), Q(x))))\n",
    "print(pt10)"
   ]
  },
  {
   "cell_type": "markdown",
   "metadata": {},
   "source": [
    "Again, we can automatically print a human-readable proof:"
   ]
  },
  {
   "cell_type": "code",
   "execution_count": 11,
   "metadata": {},
   "outputs": [
    {
     "name": "stdout",
     "output_type": "stream",
     "text": [
      "0: ∃x. P x ∧ Q x ⊢ ∃x. P x ∧ Q x by assume ∃x. P x ∧ Q x\n",
      "1: P x ∧ Q x ⊢ P x ∧ Q x by assume P x ∧ Q x\n",
      "2: P x ∧ Q x ⊢ P x by apply_theorem conjD1 from 1\n",
      "3: P x ∧ Q x ⊢ ∃a1. P a1 by apply_theorem_for exI, {P: P, a: x} from 2\n",
      "4: P x ∧ Q x ⊢ Q x by apply_theorem conjD2 from 1\n",
      "5: P x ∧ Q x ⊢ ∃a1. Q a1 by apply_theorem_for exI, {P: Q, a: x} from 4\n",
      "6: P x ∧ Q x ⊢ (∃a1. P a1) ∧ (∃a1. Q a1) by apply_theorem conjI from 3, 5\n",
      "7: ⊢ P x ∧ Q x ⟶ (∃a1. P a1) ∧ (∃a1. Q a1) by implies_intr P x ∧ Q x from 6\n",
      "8: ⊢ ∀x. P x ∧ Q x ⟶ (∃a1. P a1) ∧ (∃a1. Q a1) by forall_intr x from 7\n",
      "9: ∃x. P x ∧ Q x ⊢ (∃a1. P a1) ∧ (∃a1. Q a1) by apply_theorem exE from 0, 8\n",
      "10: ⊢ (∃x. P x ∧ Q x) ⟶ (∃a1. P a1) ∧ (∃a1. Q a1) by implies_intr ∃x. P x ∧ Q x from 9\n"
     ]
    }
   ],
   "source": [
    "print(pt10.export())"
   ]
  },
  {
   "cell_type": "markdown",
   "metadata": {},
   "source": [
    "As a third example, we prove a theorem with a mix of forall and exists quantifiers."
   ]
  },
  {
   "cell_type": "markdown",
   "metadata": {},
   "source": [
    "#### Example:\n",
    "\n",
    "Prove $(\\exists x. \\forall y. R(x,y)) \\to (\\forall y. \\exists x. R(x,y))$.\n",
    "\n",
    "#### Solution:\n",
    "\n",
    "0. $\\exists x.\\,\\forall y.\\,R(x,y) \\vdash \\exists x.\\,\\forall y.\\,R(x,y)$ by assume $\\exists x.\\,\\forall y.\\,R(x,y)$.\n",
    "1. $\\forall y.\\,R(x,y) \\vdash \\forall y.\\,R(x,y)$ by assume $\\forall y.\\,R(x,y)$.\n",
    "2. $\\forall y.\\,R(x,y) \\vdash R(x,y)$ by forall_elim $y$ from 1.\n",
    "3. $\\forall y.\\,R(x,y) \\vdash \\exists x.\\,R(x,y)$ by apply_theorem exI from 2.\n",
    "4. $\\forall y.\\,R(x,y) \\vdash \\forall y.\\,\\exists x.\\,R(x,y)$ by forall_intr $y$ from 3.\n",
    "5. $\\vdash (\\forall y. R(x,y)) \\to (\\forall y.\\,\\forall x.\\,R(x,y))$ by implies_intr $\\forall y.\\,R(x,y)$ from 4.\n",
    "6. $\\vdash \\forall x.\\,(\\forall y.\\,R(x,y)) \\to (\\forall y.\\,\\exists x.\\,R(x,y))$ by forall_intr $x$ from 5.\n",
    "7. $\\exists x.\\,\\forall y.\\,R(x,y) \\vdash \\forall y.\\,\\exists x.\\,R(x,y)$ by apply_theorem exE from 0, 6.\n",
    "8. $\\vdash (\\exists x.\\,\\forall y.\\,R(x,y)) \\to (\\forall y.\\,\\exists x.\\,R(x,y))$ by implies_intr $\\exists x.\\,\\forall y.\\,R(x,y)$ from 7.\n",
    "\n",
    "This is easily the trickiest proof to understand so far. Steps 1 through 6 establishes $\\forall y.\\,\\exists x.\\,R(x,y)$ for a fresh variable $x$ and assumption $\\forall y.\\,R(x,y)$. This is achieved by first assuming $\\forall y.\\,R(x,y)$ (step 1), then show $\\exists x.\\,R(x,y)$ for an arbitrary $y$ (step 2-3), from which it follows $\\forall y.\\,\\exists x.\\,R(x,y)$ (step 4). The result of step 6 is then used in step 7 when applying `exE`.\n",
    "\n",
    "The Python code is as follows:"
   ]
  },
  {
   "cell_type": "code",
   "execution_count": 12,
   "metadata": {},
   "outputs": [
    {
     "name": "stdout",
     "output_type": "stream",
     "text": [
      "ProofTerm(⊢ (∃x. ∀y. R x y) ⟶ (∀y. ∃a1. R a1 y))\n"
     ]
    }
   ],
   "source": [
    "R = Var('R', TFun(NatType, NatType, BoolType))\n",
    "x = Var('x', NatType)\n",
    "y = Var('y', NatType)\n",
    "\n",
    "pt0 = ProofTerm.assume(Exists(x, Forall(y, R(x,y))))\n",
    "pt1 = ProofTerm.assume(Forall(y, R(x,y)))\n",
    "pt2 = pt1.forall_elim(y)\n",
    "pt3 = apply_theorem('exI', pt2, inst=Inst(P=Lambda(x, R(x,y))))\n",
    "pt4 = pt3.forall_intr(y)\n",
    "pt5 = pt4.implies_intr(Forall(y, R(x,y)))\n",
    "pt6 = pt5.forall_intr(x)\n",
    "pt7 = apply_theorem('exE', pt0, pt6)\n",
    "pt8 = pt7.implies_intr(Exists(x, Forall(y, R(x,y))))\n",
    "print(pt8)"
   ]
  },
  {
   "cell_type": "code",
   "execution_count": 13,
   "metadata": {},
   "outputs": [
    {
     "name": "stdout",
     "output_type": "stream",
     "text": [
      "0: ∃x. ∀y. R x y ⊢ ∃x. ∀y. R x y by assume ∃x. ∀y. R x y\n",
      "1: ∀y. R x y ⊢ ∀y. R x y by assume ∀y. R x y\n",
      "2: ∀y. R x y ⊢ R x y by forall_elim y from 1\n",
      "3: ∀y. R x y ⊢ ∃a1. R a1 y by apply_theorem_for exI, {P: λx. R x y, a: x} from 2\n",
      "4: ∀y. R x y ⊢ ∀y. ∃a1. R a1 y by forall_intr y from 3\n",
      "5: ⊢ (∀y. R x y) ⟶ (∀y. ∃a1. R a1 y) by implies_intr ∀y. R x y from 4\n",
      "6: ⊢ ∀x. (∀y. R x y) ⟶ (∀y. ∃a1. R a1 y) by forall_intr x from 5\n",
      "7: ∃x. ∀y. R x y ⊢ ∀y. ∃a1. R a1 y by apply_theorem exE from 0, 6\n",
      "8: ⊢ (∃x. ∀y. R x y) ⟶ (∀y. ∃a1. R a1 y) by implies_intr ∃x. ∀y. R x y from 7\n"
     ]
    }
   ],
   "source": [
    "print(pt8.export())"
   ]
  },
  {
   "cell_type": "markdown",
   "metadata": {},
   "source": [
    "## Abstraction"
   ]
  },
  {
   "cell_type": "markdown",
   "metadata": {},
   "source": [
    "The abstraction rule is the last of the primitive rules in higher-order logic. It deals with how to show the equality between two $\\lambda$ terms.\n",
    "\n",
    "$$ \\frac{A \\vdash t_1 = t_2}{A \\vdash (\\lambda x.\\,t_1) = (\\lambda x.\\,t_2)} \\hbox{ abstraction ($x$ does not appear in $A$)} $$\n",
    "\n",
    "It is invoked as follows in Python. At the theorem level:"
   ]
  },
  {
   "cell_type": "code",
   "execution_count": 14,
   "metadata": {},
   "outputs": [
    {
     "name": "stdout",
     "output_type": "stream",
     "text": [
      "th:  ⊢ x + 2 = 2 + x\n",
      "th2: ⊢ (λx::nat. x + 2) = (λx. 2 + x)\n"
     ]
    }
   ],
   "source": [
    "x = Var('x', NatType)\n",
    "th = Thm([], Eq(x + Nat(2), Nat(2) + x))\n",
    "print('th: ', th)\n",
    "th2 = Thm.abstraction(x, th)\n",
    "print('th2:', th2)"
   ]
  },
  {
   "cell_type": "markdown",
   "metadata": {},
   "source": [
    "And at the proof term level:"
   ]
  },
  {
   "cell_type": "code",
   "execution_count": 15,
   "metadata": {},
   "outputs": [
    {
     "name": "stdout",
     "output_type": "stream",
     "text": [
      "pt:  ProofTerm(⊢ x + 2 = 2 + x)\n",
      "pt2: ProofTerm(⊢ (λx::nat. x + 2) = (λx. 2 + x))\n"
     ]
    }
   ],
   "source": [
    "pt = apply_theorem('add_comm', inst=Inst(x=x, y=Nat(2)))\n",
    "print('pt: ', pt)\n",
    "pt2 = pt.abstraction(x)\n",
    "print('pt2:', pt2)"
   ]
  },
  {
   "cell_type": "markdown",
   "metadata": {},
   "source": [
    "We will show how to perform rewriting of abstractions at the conversion level in the next section."
   ]
  }
 ],
 "metadata": {
  "kernelspec": {
   "display_name": "Python 3",
   "language": "python",
   "name": "python3"
  },
  "language_info": {
   "codemirror_mode": {
    "name": "ipython",
    "version": 3
   },
   "file_extension": ".py",
   "mimetype": "text/x-python",
   "name": "python",
   "nbconvert_exporter": "python",
   "pygments_lexer": "ipython3",
   "version": "3.6.6"
  }
 },
 "nbformat": 4,
 "nbformat_minor": 2
}
