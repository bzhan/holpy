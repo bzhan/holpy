{
 "cells": [
  {
   "cell_type": "markdown",
   "metadata": {},
   "source": [
    "$\\newcommand{\\To}{\\Rightarrow}$\n",
    "$\\newcommand{\\false}{\\mathrm{false}}$"
   ]
  },
  {
   "cell_type": "code",
   "execution_count": 1,
   "metadata": {},
   "outputs": [],
   "source": [
    "import os\n",
    "os.chdir('..')"
   ]
  },
  {
   "cell_type": "code",
   "execution_count": 2,
   "metadata": {},
   "outputs": [],
   "source": [
    "from kernel.type import BoolType, NatType\n",
    "from kernel.term import Var, And, Implies, Inst\n",
    "from kernel.proof import Proof\n",
    "from kernel.report import ProofReport\n",
    "from kernel import theory\n",
    "from logic import basic\n",
    "from logic import matcher\n",
    "from logic.proofterm import ProofTerm\n",
    "from data import nat\n",
    "from syntax.settings import settings\n",
    "\n",
    "basic.load_theory('nat')\n",
    "settings.unicode = True"
   ]
  },
  {
   "cell_type": "markdown",
   "metadata": {},
   "source": [
    "## Proofs and proof-checking"
   ]
  },
  {
   "cell_type": "markdown",
   "metadata": {},
   "source": [
    "In the previous two sections, we showed how to prove theorems about equality and propositional logic. Let us review what we have done so far.\n",
    "\n",
    "For each statement to be proved, we first wrote down the proof step-by-step in a semi-formal language, where each step consists of applying a primitive deduction rule, or some composite rule (such as apply_theorem). This proof is then checked by converting the semi-formal proof into Python code. In the Python code, we are careful to construct theorems using only a limited set of functions: `thy.get_theorem` or one of the primitive deduction rules (`Thm.assume`, `Thm.implies_intr`, etc). For the composite rule, we defined corresponding Python functions, which again construct theorems using only the limited set of functions.\n",
    "\n",
    "In this way, as long as we keep to calling only the limited set of functions, either directly or indirectly through custom procedures, and if the limited set of functions correctly implement the primitive deduction rules of higher-order logic, we can trust that our proof is correct.\n",
    "\n",
    "While this already substantially increases our confidence in the proofs, we can still do better. First, it is difficult to ensure that the theorem objects are constructed using only the limited set of functions. This gets more difficult as the size of the code increases, and when multiple teams are collaborating on a project. Second, we cannot completely trust our implementation of the primitive deduction rules. Ideally, we should allow programs written by others to check our proof. Both of these problems can be solved by storing a trace of the proof, so it can be checked later, either using the same program or using other programs.\n",
    "\n",
    "There are two kinds of traces that we will consider, which we call linear proof and proof term.\n",
    "\n",
    "A linear proof (class `Proof`) is a list of proof items (class `ProofItem`). Each proof item contains an identifier, deduction rule used, arguments to the deduction rule, and input sequents (referred to by the identifiers of corresponding proof items).\n",
    "\n",
    "Let us consider a simple example, the proof of $A \\to A$. Recall the proof is as follows:\n",
    "\n",
    "0. $A \\vdash A$ by assume A.\n",
    "1. $\\vdash A \\to A$ by implies_intr A from 0.\n",
    "\n",
    "The corresponding linear proof is:"
   ]
  },
  {
   "cell_type": "code",
   "execution_count": 3,
   "metadata": {},
   "outputs": [
    {
     "name": "stdout",
     "output_type": "stream",
     "text": [
      "0: assume A\n",
      "1: implies_intr A from 0\n"
     ]
    }
   ],
   "source": [
    "A = Var(\"A\", BoolType)\n",
    "prf = Proof()\n",
    "prf.add_item(0, \"assume\", args=A)\n",
    "prf.add_item(1, \"implies_intr\", args=A, prevs=[0])\n",
    "print(prf)"
   ]
  },
  {
   "cell_type": "markdown",
   "metadata": {},
   "source": [
    "This proof can be *checked* using the `check_proof` method. This method takes a proof as input, and checks the proof in the context of the current theory. If the check succeeds, it returns the theorem obtained by the proof."
   ]
  },
  {
   "cell_type": "code",
   "execution_count": 4,
   "metadata": {},
   "outputs": [
    {
     "name": "stdout",
     "output_type": "stream",
     "text": [
      "⊢ A ⟶ A\n"
     ]
    }
   ],
   "source": [
    "res = theory.check_proof(prf)\n",
    "print(res)"
   ]
  },
  {
   "cell_type": "markdown",
   "metadata": {},
   "source": [
    "Checking the proof also records the sequent obtained at each line of the proof. These will be displayed the next time the proof is printed:"
   ]
  },
  {
   "cell_type": "code",
   "execution_count": 5,
   "metadata": {},
   "outputs": [
    {
     "name": "stdout",
     "output_type": "stream",
     "text": [
      "0: A ⊢ A by assume A\n",
      "1: ⊢ A ⟶ A by implies_intr A from 0\n"
     ]
    }
   ],
   "source": [
    "print(prf)"
   ]
  },
  {
   "cell_type": "markdown",
   "metadata": {},
   "source": [
    "Proof-checking will uncover any mistakes in the proof, including application of proof rules on inputs that are invalid. For example:"
   ]
  },
  {
   "cell_type": "code",
   "execution_count": 6,
   "metadata": {
    "tags": [
     "raises-exception"
    ]
   },
   "outputs": [
    {
     "ename": "CheckProofException",
     "evalue": "invalid derivation",
     "output_type": "error",
     "traceback": [
      "\u001b[1;31m---------------------------------------------------------------------------\u001b[0m",
      "\u001b[1;31mInvalidDerivationException\u001b[0m                Traceback (most recent call last)",
      "\u001b[1;32m~\\Projects\\holpy\\kernel\\theory.py\u001b[0m in \u001b[0;36m_check_proof_item\u001b[1;34m(self, prf, seq, rpt, no_gaps, compute_only, check_level)\u001b[0m\n\u001b[0;32m    377\u001b[0m                 \u001b[1;32mtry\u001b[0m\u001b[1;33m:\u001b[0m\u001b[1;33m\u001b[0m\u001b[0m\n\u001b[1;32m--> 378\u001b[1;33m                     \u001b[0mres_th\u001b[0m \u001b[1;33m=\u001b[0m \u001b[0mrule_fun\u001b[0m\u001b[1;33m(\u001b[0m\u001b[1;33m*\u001b[0m\u001b[0mprev_ths\u001b[0m\u001b[1;33m)\u001b[0m \u001b[1;32mif\u001b[0m \u001b[0mseq\u001b[0m\u001b[1;33m.\u001b[0m\u001b[0margs\u001b[0m \u001b[1;32mis\u001b[0m \u001b[1;32mNone\u001b[0m \u001b[1;32melse\u001b[0m \u001b[0mrule_fun\u001b[0m\u001b[1;33m(\u001b[0m\u001b[0mseq\u001b[0m\u001b[1;33m.\u001b[0m\u001b[0margs\u001b[0m\u001b[1;33m,\u001b[0m \u001b[1;33m*\u001b[0m\u001b[0mprev_ths\u001b[0m\u001b[1;33m)\u001b[0m\u001b[1;33m\u001b[0m\u001b[0m\n\u001b[0m\u001b[0;32m    379\u001b[0m                     \u001b[1;32mif\u001b[0m \u001b[0mrpt\u001b[0m \u001b[1;32mis\u001b[0m \u001b[1;32mnot\u001b[0m \u001b[1;32mNone\u001b[0m\u001b[1;33m:\u001b[0m\u001b[1;33m\u001b[0m\u001b[0m\n",
      "\u001b[1;32m~\\Projects\\holpy\\kernel\\thm.py\u001b[0m in \u001b[0;36mimplies_elim\u001b[1;34m(th1, th2)\u001b[0m\n\u001b[0;32m    140\u001b[0m             \u001b[1;32melse\u001b[0m\u001b[1;33m:\u001b[0m\u001b[1;33m\u001b[0m\u001b[0m\n\u001b[1;32m--> 141\u001b[1;33m                 \u001b[1;32mraise\u001b[0m \u001b[0mInvalidDerivationException\u001b[0m\u001b[1;33m(\u001b[0m\u001b[1;34m\"implies_elim: \"\u001b[0m \u001b[1;33m+\u001b[0m \u001b[0mstr\u001b[0m\u001b[1;33m(\u001b[0m\u001b[0mA\u001b[0m\u001b[1;33m)\u001b[0m \u001b[1;33m+\u001b[0m \u001b[1;34m\" != \"\u001b[0m \u001b[1;33m+\u001b[0m \u001b[0mstr\u001b[0m\u001b[1;33m(\u001b[0m\u001b[0mth2\u001b[0m\u001b[1;33m.\u001b[0m\u001b[0mprop\u001b[0m\u001b[1;33m)\u001b[0m\u001b[1;33m)\u001b[0m\u001b[1;33m\u001b[0m\u001b[0m\n\u001b[0m\u001b[0;32m    142\u001b[0m         \u001b[1;32melse\u001b[0m\u001b[1;33m:\u001b[0m\u001b[1;33m\u001b[0m\u001b[0m\n",
      "\u001b[1;31mInvalidDerivationException\u001b[0m: implies_elim: A != C",
      "\nDuring handling of the above exception, another exception occurred:\n",
      "\u001b[1;31mCheckProofException\u001b[0m                       Traceback (most recent call last)",
      "\u001b[1;32m<ipython-input-6-fc4f25f6902e>\u001b[0m in \u001b[0;36m<module>\u001b[1;34m\u001b[0m\n\u001b[0;32m      5\u001b[0m \u001b[0mprf2\u001b[0m\u001b[1;33m.\u001b[0m\u001b[0madd_item\u001b[0m\u001b[1;33m(\u001b[0m\u001b[1;36m1\u001b[0m\u001b[1;33m,\u001b[0m \u001b[1;34m\"assume\"\u001b[0m\u001b[1;33m,\u001b[0m \u001b[0margs\u001b[0m\u001b[1;33m=\u001b[0m\u001b[0mC\u001b[0m\u001b[1;33m)\u001b[0m\u001b[1;33m\u001b[0m\u001b[0m\n\u001b[0;32m      6\u001b[0m \u001b[0mprf2\u001b[0m\u001b[1;33m.\u001b[0m\u001b[0madd_item\u001b[0m\u001b[1;33m(\u001b[0m\u001b[1;36m2\u001b[0m\u001b[1;33m,\u001b[0m \u001b[1;34m\"implies_elim\"\u001b[0m\u001b[1;33m,\u001b[0m \u001b[0mprevs\u001b[0m\u001b[1;33m=\u001b[0m\u001b[1;33m[\u001b[0m\u001b[1;36m0\u001b[0m\u001b[1;33m,\u001b[0m\u001b[1;36m1\u001b[0m\u001b[1;33m]\u001b[0m\u001b[1;33m)\u001b[0m\u001b[1;33m\u001b[0m\u001b[0m\n\u001b[1;32m----> 7\u001b[1;33m \u001b[0mtheory\u001b[0m\u001b[1;33m.\u001b[0m\u001b[0mcheck_proof\u001b[0m\u001b[1;33m(\u001b[0m\u001b[0mprf2\u001b[0m\u001b[1;33m)\u001b[0m  \u001b[1;31m# raises CheckProofException\u001b[0m\u001b[1;33m\u001b[0m\u001b[0m\n\u001b[0m",
      "\u001b[1;32m~\\Projects\\holpy\\kernel\\theory.py\u001b[0m in \u001b[0;36mcheck_proof\u001b[1;34m(prf, rpt, no_gaps, compute_only, check_level)\u001b[0m\n\u001b[0;32m    557\u001b[0m \u001b[1;33m\u001b[0m\u001b[0m\n\u001b[0;32m    558\u001b[0m \u001b[1;32mdef\u001b[0m \u001b[0mcheck_proof\u001b[0m\u001b[1;33m(\u001b[0m\u001b[0mprf\u001b[0m\u001b[1;33m,\u001b[0m \u001b[0mrpt\u001b[0m\u001b[1;33m=\u001b[0m\u001b[1;32mNone\u001b[0m\u001b[1;33m,\u001b[0m \u001b[1;33m*\u001b[0m\u001b[1;33m,\u001b[0m \u001b[0mno_gaps\u001b[0m\u001b[1;33m=\u001b[0m\u001b[1;32mFalse\u001b[0m\u001b[1;33m,\u001b[0m \u001b[0mcompute_only\u001b[0m\u001b[1;33m=\u001b[0m\u001b[1;32mFalse\u001b[0m\u001b[1;33m,\u001b[0m \u001b[0mcheck_level\u001b[0m\u001b[1;33m=\u001b[0m\u001b[1;36m0\u001b[0m\u001b[1;33m)\u001b[0m\u001b[1;33m:\u001b[0m\u001b[1;33m\u001b[0m\u001b[0m\n\u001b[1;32m--> 559\u001b[1;33m     \u001b[1;32mreturn\u001b[0m \u001b[0mthy\u001b[0m\u001b[1;33m.\u001b[0m\u001b[0mcheck_proof\u001b[0m\u001b[1;33m(\u001b[0m\u001b[0mprf\u001b[0m\u001b[1;33m,\u001b[0m \u001b[0mrpt\u001b[0m\u001b[1;33m,\u001b[0m \u001b[0mno_gaps\u001b[0m\u001b[1;33m=\u001b[0m\u001b[0mno_gaps\u001b[0m\u001b[1;33m,\u001b[0m \u001b[0mcompute_only\u001b[0m\u001b[1;33m=\u001b[0m\u001b[0mcompute_only\u001b[0m\u001b[1;33m,\u001b[0m \u001b[0mcheck_level\u001b[0m\u001b[1;33m=\u001b[0m\u001b[0mcheck_level\u001b[0m\u001b[1;33m)\u001b[0m\u001b[1;33m\u001b[0m\u001b[0m\n\u001b[0m\u001b[0;32m    560\u001b[0m \u001b[1;33m\u001b[0m\u001b[0m\n\u001b[0;32m    561\u001b[0m \u001b[0mglobal_methods\u001b[0m \u001b[1;33m=\u001b[0m \u001b[0mdict\u001b[0m\u001b[1;33m(\u001b[0m\u001b[1;33m)\u001b[0m\u001b[1;33m\u001b[0m\u001b[0m\n",
      "\u001b[1;32m~\\Projects\\holpy\\kernel\\theory.py\u001b[0m in \u001b[0;36mcheck_proof\u001b[1;34m(self, prf, rpt, no_gaps, compute_only, check_level)\u001b[0m\n\u001b[0;32m    433\u001b[0m         \u001b[1;32massert\u001b[0m \u001b[0misinstance\u001b[0m\u001b[1;33m(\u001b[0m\u001b[0mprf\u001b[0m\u001b[1;33m,\u001b[0m \u001b[0mProof\u001b[0m\u001b[1;33m)\u001b[0m\u001b[1;33m,\u001b[0m \u001b[1;34m\"check_proof\"\u001b[0m\u001b[1;33m\u001b[0m\u001b[0m\n\u001b[0;32m    434\u001b[0m         \u001b[1;32mfor\u001b[0m \u001b[0mseq\u001b[0m \u001b[1;32min\u001b[0m \u001b[0mprf\u001b[0m\u001b[1;33m.\u001b[0m\u001b[0mitems\u001b[0m\u001b[1;33m:\u001b[0m\u001b[1;33m\u001b[0m\u001b[0m\n\u001b[1;32m--> 435\u001b[1;33m             \u001b[0mself\u001b[0m\u001b[1;33m.\u001b[0m\u001b[0m_check_proof_item\u001b[0m\u001b[1;33m(\u001b[0m\u001b[0mprf\u001b[0m\u001b[1;33m,\u001b[0m \u001b[0mseq\u001b[0m\u001b[1;33m,\u001b[0m \u001b[0mrpt\u001b[0m\u001b[1;33m,\u001b[0m \u001b[0mno_gaps\u001b[0m\u001b[1;33m,\u001b[0m \u001b[0mcompute_only\u001b[0m\u001b[1;33m,\u001b[0m \u001b[0mcheck_level\u001b[0m\u001b[1;33m)\u001b[0m\u001b[1;33m\u001b[0m\u001b[0m\n\u001b[0m\u001b[0;32m    436\u001b[0m \u001b[1;33m\u001b[0m\u001b[0m\n\u001b[0;32m    437\u001b[0m         \u001b[1;32mreturn\u001b[0m \u001b[0mprf\u001b[0m\u001b[1;33m.\u001b[0m\u001b[0mitems\u001b[0m\u001b[1;33m[\u001b[0m\u001b[1;33m-\u001b[0m\u001b[1;36m1\u001b[0m\u001b[1;33m]\u001b[0m\u001b[1;33m.\u001b[0m\u001b[0mth\u001b[0m\u001b[1;33m\u001b[0m\u001b[0m\n",
      "\u001b[1;32m~\\Projects\\holpy\\kernel\\theory.py\u001b[0m in \u001b[0;36m_check_proof_item\u001b[1;34m(self, prf, seq, rpt, no_gaps, compute_only, check_level)\u001b[0m\n\u001b[0;32m    380\u001b[0m                         \u001b[0mrpt\u001b[0m\u001b[1;33m.\u001b[0m\u001b[0mapply_primitive_deriv\u001b[0m\u001b[1;33m(\u001b[0m\u001b[1;33m)\u001b[0m\u001b[1;33m\u001b[0m\u001b[0m\n\u001b[0;32m    381\u001b[0m                 \u001b[1;32mexcept\u001b[0m \u001b[0mInvalidDerivationException\u001b[0m\u001b[1;33m:\u001b[0m\u001b[1;33m\u001b[0m\u001b[0m\n\u001b[1;32m--> 382\u001b[1;33m                     \u001b[1;32mraise\u001b[0m \u001b[0mCheckProofException\u001b[0m\u001b[1;33m(\u001b[0m\u001b[1;34m\"invalid derivation\"\u001b[0m\u001b[1;33m)\u001b[0m\u001b[1;33m\u001b[0m\u001b[0m\n\u001b[0m\u001b[0;32m    383\u001b[0m                 \u001b[1;32mexcept\u001b[0m \u001b[0mTypeError\u001b[0m\u001b[1;33m:\u001b[0m\u001b[1;33m\u001b[0m\u001b[0m\n\u001b[0;32m    384\u001b[0m                     \u001b[1;32mraise\u001b[0m \u001b[0mCheckProofException\u001b[0m\u001b[1;33m(\u001b[0m\u001b[1;34m\"invalid input to derivation \"\u001b[0m \u001b[1;33m+\u001b[0m \u001b[0mseq\u001b[0m\u001b[1;33m.\u001b[0m\u001b[0mrule\u001b[0m\u001b[1;33m)\u001b[0m\u001b[1;33m\u001b[0m\u001b[0m\n",
      "\u001b[1;31mCheckProofException\u001b[0m: invalid derivation"
     ]
    }
   ],
   "source": [
    "B = Var(\"B\", BoolType)\n",
    "C = Var(\"C\", BoolType)\n",
    "prf2 = Proof()\n",
    "prf2.add_item(0, \"assume\", args=Implies(A,B))\n",
    "prf2.add_item(1, \"assume\", args=C)\n",
    "prf2.add_item(2, \"implies_elim\", prevs=[0,1])\n",
    "theory.check_proof(prf2)  # raises CheckProofException"
   ]
  },
  {
   "cell_type": "markdown",
   "metadata": {},
   "source": [
    "Proof checking takes an optional *proof report*, which records statistics from the proof. Continuing from the first example for which proof-checking is successful, we have:"
   ]
  },
  {
   "cell_type": "code",
   "execution_count": 7,
   "metadata": {},
   "outputs": [
    {
     "name": "stdout",
     "output_type": "stream",
     "text": [
      "Steps: 2\n",
      "  Theorems:  0\n",
      "  Primitive: 2\n",
      "  Macro:     0\n",
      "Theorems applied: \n",
      "Macros evaluated: \n",
      "Macros expanded: \n",
      "Gaps: []\n"
     ]
    }
   ],
   "source": [
    "rpt = ProofReport()\n",
    "theory.check_proof(prf, rpt=rpt)\n",
    "print(rpt)"
   ]
  },
  {
   "cell_type": "markdown",
   "metadata": {},
   "source": [
    "The report says the proof consists of 2 primitive steps. Otherwise it is not very interesting. We will see more features of the proof report later using more complicated examples."
   ]
  },
  {
   "cell_type": "markdown",
   "metadata": {},
   "source": [
    "## Proof terms"
   ]
  },
  {
   "cell_type": "markdown",
   "metadata": {},
   "source": [
    "While linear proofs are intuitive and can be printed in an easily readable form, they are difficult to generate automatically. When generating proofs, we prefer a pattern where each proved result is considered an object, and new results are produced by combining existing proved results in any order. In this way, the produced proof resembles a tree: at the root is the final result of the proof. At each node is an intermediate statement, and the edges characterize dependency between intermediate statements. Such trees correspond to `ProofTerm` objects in Python.\n",
    "\n",
    "The proof term for the theorem $A \\to A$ is constructed as follows:"
   ]
  },
  {
   "cell_type": "code",
   "execution_count": 8,
   "metadata": {},
   "outputs": [
    {
     "name": "stdout",
     "output_type": "stream",
     "text": [
      "ProofTerm(⊢ A ⟶ A)\n"
     ]
    }
   ],
   "source": [
    "pt0 = ProofTerm.assume(A)\n",
    "pt1 = pt0.implies_intr(A)\n",
    "print(pt1)"
   ]
  },
  {
   "cell_type": "markdown",
   "metadata": {},
   "source": [
    "Note the similarity with constructing theorems in previous sections. In general, a proof term can be considered as a theorem with extra information: the full history of how the theorem is derived. Any proof term has a field `th`, which is the theorem obtained by the proof.\n",
    "\n",
    "Any proof term can be converted to a linear proof using the `export` method, which can be used for proof checking or display."
   ]
  },
  {
   "cell_type": "code",
   "execution_count": 9,
   "metadata": {},
   "outputs": [
    {
     "name": "stdout",
     "output_type": "stream",
     "text": [
      "0: A ⊢ A by assume A\n",
      "1: ⊢ A ⟶ A by implies_intr A from 0\n"
     ]
    }
   ],
   "source": [
    "prf = pt1.export()\n",
    "theory.check_proof(prf)\n",
    "print(prf)"
   ]
  },
  {
   "cell_type": "markdown",
   "metadata": {},
   "source": [
    "Existing theorems can be invoked using the `ProofTerm.theorem` function. We give an example on substitution of identities:"
   ]
  },
  {
   "cell_type": "code",
   "execution_count": 10,
   "metadata": {},
   "outputs": [
    {
     "name": "stdout",
     "output_type": "stream",
     "text": [
      "ProofTerm(⊢ a + b + 1 = a + (b + 1))\n"
     ]
    }
   ],
   "source": [
    "a = Var(\"a\", NatType)\n",
    "b = Var(\"b\", NatType)\n",
    "pt0 = ProofTerm.theorem('add_assoc')\n",
    "pt1 = pt0.substitution(x=a, y=b, z=nat.one)\n",
    "print(pt1)"
   ]
  },
  {
   "cell_type": "markdown",
   "metadata": {},
   "source": [
    "Again, the proof can be checked and printed as follows:"
   ]
  },
  {
   "cell_type": "code",
   "execution_count": 11,
   "metadata": {},
   "outputs": [
    {
     "name": "stdout",
     "output_type": "stream",
     "text": [
      "0: ⊢ ?x + ?y + ?z = ?x + (?y + ?z) by theorem add_assoc\n",
      "1: ⊢ a + b + 1 = a + (b + 1) by substitution {x: a, y: b, z: (1::nat)} from 0\n"
     ]
    }
   ],
   "source": [
    "prf = pt1.export()\n",
    "theory.check_proof(prf)\n",
    "print(prf)"
   ]
  },
  {
   "cell_type": "markdown",
   "metadata": {},
   "source": [
    "We can also see the report from proof checking:"
   ]
  },
  {
   "cell_type": "code",
   "execution_count": 12,
   "metadata": {},
   "outputs": [
    {
     "name": "stdout",
     "output_type": "stream",
     "text": [
      "Steps: 2\n",
      "  Theorems:  1\n",
      "  Primitive: 1\n",
      "  Macro:     0\n",
      "Theorems applied: add_assoc\n",
      "Macros evaluated: \n",
      "Macros expanded: \n",
      "Gaps: []\n"
     ]
    }
   ],
   "source": [
    "rpt = ProofReport()\n",
    "theory.check_proof(prf, rpt)\n",
    "print(rpt)"
   ]
  },
  {
   "cell_type": "markdown",
   "metadata": {},
   "source": [
    "This report is slightly more interesting. It states that the proof consists of one invocation of existing theorem, and one primitive step (`substitution`). The only theorem applied in the proof is `add_assoc`."
   ]
  },
  {
   "cell_type": "markdown",
   "metadata": {},
   "source": [
    "## Function producing proof terms"
   ]
  },
  {
   "cell_type": "markdown",
   "metadata": {},
   "source": [
    "Just as for theorems, we can write our own functions for producing proof terms. For example, we can write a new `apply_theorem` function, this time operating on proof terms:"
   ]
  },
  {
   "cell_type": "code",
   "execution_count": 13,
   "metadata": {},
   "outputs": [],
   "source": [
    "def apply_theorem(th_name, *args, inst=None):\n",
    "    pt = ProofTerm.theorem(th_name)\n",
    "    As, _ = pt.prop.strip_implies()  # list of assumptions of th\n",
    "    if inst is None:\n",
    "        inst = Inst()                # initial (empty) instantiation\n",
    "    for A, arg in zip(As, args):     # match each assumption with corresponding arg\n",
    "        matcher.first_order_match_incr(A, arg.prop, inst)\n",
    "    pt = pt.substitution(inst)\n",
    "    for arg in args:                 # perform implies_elim on th\n",
    "        pt = pt.implies_elim(arg)\n",
    "    return pt"
   ]
  },
  {
   "cell_type": "markdown",
   "metadata": {},
   "source": [
    "We first test this function on a simple example:"
   ]
  },
  {
   "cell_type": "code",
   "execution_count": 14,
   "metadata": {},
   "outputs": [
    {
     "name": "stdout",
     "output_type": "stream",
     "text": [
      "0: ⊢ ?A ⟶ ?B ⟶ ?A ∧ ?B by theorem conjI\n",
      "1: ⊢ A ⟶ B ⟶ A ∧ B by substitution {A: A, B: B} from 0\n",
      "2: A ⊢ A by assume A\n",
      "3: A ⊢ B ⟶ A ∧ B by implies_elim from 1, 2\n",
      "4: B ⊢ B by assume B\n",
      "5: A, B ⊢ A ∧ B by implies_elim from 3, 4\n"
     ]
    }
   ],
   "source": [
    "ptA = ProofTerm.assume(A)\n",
    "ptB = ProofTerm.assume(B)\n",
    "ptAB = apply_theorem('conjI', ptA, ptB)\n",
    "prf = ptAB.export()\n",
    "theory.check_proof(prf)\n",
    "print(prf)"
   ]
  },
  {
   "cell_type": "markdown",
   "metadata": {},
   "source": [
    "The final theorem is as expected. We can now reproduce the full proof of $A \\wedge B \\to B \\wedge A$:"
   ]
  },
  {
   "cell_type": "code",
   "execution_count": 15,
   "metadata": {},
   "outputs": [
    {
     "name": "stdout",
     "output_type": "stream",
     "text": [
      "0: ⊢ ?A ⟶ ?B ⟶ ?A ∧ ?B by theorem conjI\n",
      "1: ⊢ B ⟶ A ⟶ B ∧ A by substitution {A: B, B: A} from 0\n",
      "2: ⊢ ?A ∧ ?B ⟶ ?B by theorem conjD2\n",
      "3: ⊢ A ∧ B ⟶ B by substitution {A: A, B: B} from 2\n",
      "4: A ∧ B ⊢ A ∧ B by assume A ∧ B\n",
      "5: A ∧ B ⊢ B by implies_elim from 3, 4\n",
      "6: A ∧ B ⊢ A ⟶ B ∧ A by implies_elim from 1, 5\n",
      "7: ⊢ ?A ∧ ?B ⟶ ?A by theorem conjD1\n",
      "8: ⊢ A ∧ B ⟶ A by substitution {A: A, B: B} from 7\n",
      "9: A ∧ B ⊢ A by implies_elim from 8, 4\n",
      "10: A ∧ B ⊢ B ∧ A by implies_elim from 6, 9\n",
      "11: ⊢ A ∧ B ⟶ B ∧ A by implies_intr A ∧ B from 10\n"
     ]
    }
   ],
   "source": [
    "pt0 = ProofTerm.assume(And(A, B))\n",
    "pt1 = apply_theorem('conjD1', pt0)\n",
    "pt2 = apply_theorem('conjD2', pt0)\n",
    "pt3 = apply_theorem('conjI', pt2, pt1)\n",
    "pt4 = pt3.implies_intr(And(A, B))\n",
    "prf = pt4.export()\n",
    "theory.check_proof(prf)\n",
    "print(prf)"
   ]
  },
  {
   "cell_type": "markdown",
   "metadata": {},
   "source": [
    "We can also view the report from checking the proof:"
   ]
  },
  {
   "cell_type": "code",
   "execution_count": 16,
   "metadata": {},
   "outputs": [
    {
     "name": "stdout",
     "output_type": "stream",
     "text": [
      "Steps: 12\n",
      "  Theorems:  3\n",
      "  Primitive: 9\n",
      "  Macro:     0\n",
      "Theorems applied: conjD1, conjI, conjD2\n",
      "Macros evaluated: \n",
      "Macros expanded: \n",
      "Gaps: []\n"
     ]
    }
   ],
   "source": [
    "rpt = ProofReport()\n",
    "theory.check_proof(prf, rpt)\n",
    "print(rpt)"
   ]
  },
  {
   "cell_type": "markdown",
   "metadata": {},
   "source": [
    "This tells us that there are 3 invocations of theorems. The set of theorems invoked are `conjD1`, `conjD2` and `conjI`. In addition, there are 9 applications of primitive deduction rules.\n",
    "\n",
    "In this section, we studied how to construct both linear proofs and proof terms. These allow us to produce traces of proofs that can be checked independently, including by third-party tools. There is, however, one major problem remaining with this approach: all proofs constructed so far consists only of primitive deduction rules. As we move to more complicated examples, these proofs can get very long, especially as we rely more and more on automatic procedures for producing proofs. It would be nice if it is possible to condense proofs produced by automatic procedures, for example reducing the multiple steps of proof produced by an invocation of `apply_theorem` to just one step. This leads to the important concept of *macros*, which we will begin to study in the next section."
   ]
  }
 ],
 "metadata": {
  "kernelspec": {
   "display_name": "Python 3",
   "language": "python",
   "name": "python3"
  },
  "language_info": {
   "codemirror_mode": {
    "name": "ipython",
    "version": 3
   },
   "file_extension": ".py",
   "mimetype": "text/x-python",
   "name": "python",
   "nbconvert_exporter": "python",
   "pygments_lexer": "ipython3",
   "version": "3.6.6"
  }
 },
 "nbformat": 4,
 "nbformat_minor": 2
}
