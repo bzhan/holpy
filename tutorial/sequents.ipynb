{
 "cells": [
  {
   "cell_type": "markdown",
   "metadata": {},
   "source": [
    "$\\newcommand{\\To}{\\Rightarrow}$"
   ]
  },
  {
   "cell_type": "code",
   "execution_count": 1,
   "metadata": {},
   "outputs": [],
   "source": [
    "import os, sys\n",
    "sys.path.append(os.path.split(os.getcwd())[0])"
   ]
  },
  {
   "cell_type": "code",
   "execution_count": 2,
   "metadata": {},
   "outputs": [],
   "source": [
    "from kernel.type import boolT\n",
    "from kernel.term import Term, Var\n",
    "from kernel.thm import Thm\n",
    "from logic import basic\n",
    "from logic.nat import natT\n",
    "from logic.logic import conj, disj\n",
    "from syntax import printer\n",
    "\n",
    "thy = basic.loadTheory('nat')"
   ]
  },
  {
   "cell_type": "markdown",
   "metadata": {},
   "source": [
    "## Sequents"
   ]
  },
  {
   "cell_type": "markdown",
   "metadata": {},
   "source": [
    "In this section, we start the discussion of theorems and proofs. We follow a method of describing proofs known as *natural deduction*. In natural deduction, each step of proof results in a *sequent*, consisting of a set of assumptions (called *antecedents*) and a conclusion (called *consequent*). Each antecedent and the consequent must be a term of type boolean. A sequent with antecedent $A_1, \\dots, A_n$ and consequent $C$ is written as:\n",
    "\n",
    "$$ A_1, \\dots, A_n \\vdash C $$\n",
    "\n",
    "Note even though the antecedents are considered as a set, we will often write them as an ordered tuple for convenience. It is implicitly understood that antecedents are sets when taking unions and when subtracting an element.\n",
    "\n",
    "In Python, a theorem is constructed from antecedents and consequent as follows:"
   ]
  },
  {
   "cell_type": "code",
   "execution_count": 3,
   "metadata": {},
   "outputs": [
    {
     "name": "stdout",
     "output_type": "stream",
     "text": [
      "A, B ⊢ C\n"
     ]
    }
   ],
   "source": [
    "A = Var(\"A\", boolT)\n",
    "B = Var(\"B\", boolT)\n",
    "C = Var(\"C\", boolT)\n",
    "th = Thm([A, B], C)\n",
    "print(printer.print_thm(thy, th, unicode=True))"
   ]
  },
  {
   "cell_type": "markdown",
   "metadata": {},
   "source": [
    "When theorems are constructed, it is not immediately checked that the antecedents and the consequent have the right type (boolean). We can check it using the `check_thm_type` method:"
   ]
  },
  {
   "cell_type": "code",
   "execution_count": 4,
   "metadata": {
    "tags": [
     "raises-exception"
    ]
   },
   "outputs": [
    {
     "ename": "TypeCheckException",
     "evalue": "",
     "output_type": "error",
     "traceback": [
      "\u001b[0;31m---------------------------------------------------------------------------\u001b[0m",
      "\u001b[0;31mTypeCheckException\u001b[0m                        Traceback (most recent call last)",
      "\u001b[0;32m<ipython-input-4-597a85682766>\u001b[0m in \u001b[0;36m<module>\u001b[0;34m()\u001b[0m\n\u001b[1;32m      3\u001b[0m \u001b[0mx\u001b[0m \u001b[0;34m=\u001b[0m \u001b[0mVar\u001b[0m\u001b[0;34m(\u001b[0m\u001b[0;34m\"x\"\u001b[0m\u001b[0;34m,\u001b[0m \u001b[0mnatT\u001b[0m\u001b[0;34m)\u001b[0m\u001b[0;34m\u001b[0m\u001b[0m\n\u001b[1;32m      4\u001b[0m \u001b[0mth2\u001b[0m \u001b[0;34m=\u001b[0m \u001b[0mThm\u001b[0m\u001b[0;34m(\u001b[0m\u001b[0;34m[\u001b[0m\u001b[0mA\u001b[0m\u001b[0;34m,\u001b[0m \u001b[0mx\u001b[0m\u001b[0;34m]\u001b[0m\u001b[0;34m,\u001b[0m \u001b[0mC\u001b[0m\u001b[0;34m)\u001b[0m\u001b[0;34m\u001b[0m\u001b[0m\n\u001b[0;32m----> 5\u001b[0;31m \u001b[0mth2\u001b[0m\u001b[0;34m.\u001b[0m\u001b[0mcheck_thm_type\u001b[0m\u001b[0;34m(\u001b[0m\u001b[0;34m)\u001b[0m  \u001b[0;31m# raises TypeCheckException\u001b[0m\u001b[0;34m\u001b[0m\u001b[0m\n\u001b[0m",
      "\u001b[0;32m~/Private/holpy/kernel/thm.py\u001b[0m in \u001b[0;36mcheck_thm_type\u001b[0;34m(self)\u001b[0m\n\u001b[1;32m     79\u001b[0m         \u001b[0;32mfor\u001b[0m \u001b[0mt\u001b[0m \u001b[0;32min\u001b[0m \u001b[0mlist\u001b[0m\u001b[0;34m(\u001b[0m\u001b[0mself\u001b[0m\u001b[0;34m.\u001b[0m\u001b[0mhyps\u001b[0m\u001b[0;34m)\u001b[0m \u001b[0;34m+\u001b[0m \u001b[0;34m[\u001b[0m\u001b[0mself\u001b[0m\u001b[0;34m.\u001b[0m\u001b[0mprop\u001b[0m\u001b[0;34m]\u001b[0m\u001b[0;34m:\u001b[0m\u001b[0;34m\u001b[0m\u001b[0m\n\u001b[1;32m     80\u001b[0m             \u001b[0;32mif\u001b[0m \u001b[0mt\u001b[0m\u001b[0;34m.\u001b[0m\u001b[0mchecked_get_type\u001b[0m\u001b[0;34m(\u001b[0m\u001b[0;34m)\u001b[0m \u001b[0;34m!=\u001b[0m \u001b[0mboolT\u001b[0m\u001b[0;34m:\u001b[0m\u001b[0;34m\u001b[0m\u001b[0m\n\u001b[0;32m---> 81\u001b[0;31m                 \u001b[0;32mraise\u001b[0m \u001b[0mTypeCheckException\u001b[0m\u001b[0;34m(\u001b[0m\u001b[0;34m)\u001b[0m\u001b[0;34m\u001b[0m\u001b[0m\n\u001b[0m\u001b[1;32m     82\u001b[0m \u001b[0;34m\u001b[0m\u001b[0m\n\u001b[1;32m     83\u001b[0m     \u001b[0;34m@\u001b[0m\u001b[0mstaticmethod\u001b[0m\u001b[0;34m\u001b[0m\u001b[0m\n",
      "\u001b[0;31mTypeCheckException\u001b[0m: "
     ]
    }
   ],
   "source": [
    "th.check_thm_type()  # Passes\n",
    "\n",
    "x = Var(\"x\", natT)\n",
    "th2 = Thm([A, x], C)\n",
    "th2.check_thm_type()  # raises TypeCheckException"
   ]
  },
  {
   "cell_type": "markdown",
   "metadata": {},
   "source": [
    "The antecedents and consequent of a theorem is accessed using `hyps` (for hypothesis) and `prop` (for proposition)."
   ]
  },
  {
   "cell_type": "code",
   "execution_count": 5,
   "metadata": {},
   "outputs": [
    {
     "name": "stdout",
     "output_type": "stream",
     "text": [
      "(Var(A,bool), Var(B,bool))\n",
      "Var(C,bool)\n"
     ]
    }
   ],
   "source": [
    "print(th.hyps)\n",
    "print(repr(th.prop))"
   ]
  },
  {
   "cell_type": "markdown",
   "metadata": {},
   "source": [
    "## Primitive deduction rules"
   ]
  },
  {
   "cell_type": "markdown",
   "metadata": {},
   "source": [
    "A *deduction system* is defined by a set of rules that are assumed to always yield valid sequents. We call these the *primitive deduction rules*. They form the core of the logical theorem. For higher-order logic, the set of primitive deduction rules is mostly standardized, although there are some variations among the implementations. We introduce our set of rules starting in this section."
   ]
  },
  {
   "cell_type": "markdown",
   "metadata": {},
   "source": [
    "### Assumption"
   ]
  },
  {
   "cell_type": "markdown",
   "metadata": {},
   "source": [
    "The first rule is the *assume* rule. It states that given any (boolean) term $A$, the sequent $A \\vdash A$ holds. It can be written graphically as follows:\n",
    "\n",
    "$$ \\frac{}{A \\vdash A} \\hbox{ assume} $$\n",
    "\n",
    "In this way of displaying rules, the output of the rule written below the horizontal line, and the inputs are written above the line. Since the assume rule does not have any inputs, the area above the line is empty. All variables appearing in the rule are arbitrary: they can be substituted for any term of the right type.\n",
    "\n",
    "The assume rule can be invoked as follows:"
   ]
  },
  {
   "cell_type": "code",
   "execution_count": 6,
   "metadata": {},
   "outputs": [
    {
     "name": "stdout",
     "output_type": "stream",
     "text": [
      "A ⊢ A\n"
     ]
    }
   ],
   "source": [
    "th = Thm.assume(A)\n",
    "print(printer.print_thm(thy, th, unicode=True))"
   ]
  },
  {
   "cell_type": "markdown",
   "metadata": {},
   "source": [
    "Of course, the input does not have to be $A$, or a variable, but any term of boolean type. For example:"
   ]
  },
  {
   "cell_type": "code",
   "execution_count": 7,
   "metadata": {},
   "outputs": [
    {
     "name": "stdout",
     "output_type": "stream",
     "text": [
      "A ∧ B ∨ x = y ⊢ A ∧ B ∨ x = y\n"
     ]
    }
   ],
   "source": [
    "x = Var(\"x\", natT)\n",
    "y = Var(\"y\", natT)\n",
    "t = disj(conj(A, B), Term.mk_equals(x, y))\n",
    "th2 = Thm.assume(t)\n",
    "print(printer.print_thm(thy, th2, unicode=True))"
   ]
  },
  {
   "cell_type": "markdown",
   "metadata": {},
   "source": [
    "### Implication"
   ]
  },
  {
   "cell_type": "markdown",
   "metadata": {},
   "source": [
    "Next, we discuss two rules for implication. Implication terms are formed using `Term.mk_implies`:"
   ]
  },
  {
   "cell_type": "code",
   "execution_count": 8,
   "metadata": {},
   "outputs": [
    {
     "name": "stdout",
     "output_type": "stream",
     "text": [
      "A ⟶ B\n"
     ]
    }
   ],
   "source": [
    "t = Term.mk_implies(A, B)\n",
    "print(printer.print_term(thy, t, unicode=True))"
   ]
  },
  {
   "cell_type": "markdown",
   "metadata": {},
   "source": [
    "The introduction rule for implication states how to obtain a theorem whose consequent is an implication. It is written graphically as follows:\n",
    "\n",
    "$$ \\frac{A \\vdash B}{\\vdash A \\to B} \\hbox{ implies_intr} $$\n",
    "\n",
    "The corresponding Python function is `implies_intr`, which takes two arguments: the assumption of the implication $A$, and the input theorem $th$. It removes $A$ from the antecedents of $th$, and changes the consequent of $th$ to $A \\to C$, where $C$ is the original consequent."
   ]
  },
  {
   "cell_type": "code",
   "execution_count": 9,
   "metadata": {},
   "outputs": [
    {
     "name": "stdout",
     "output_type": "stream",
     "text": [
      "th: A ⊢ B\n",
      "th2: ⊢ A ⟶ B\n"
     ]
    }
   ],
   "source": [
    "th = Thm([A], B)\n",
    "print(\"th:\", printer.print_thm(thy, th, unicode=True))\n",
    "\n",
    "th2 = Thm.implies_intr(A, th)\n",
    "print(\"th2:\", printer.print_thm(thy, th2, unicode=True))"
   ]
  },
  {
   "cell_type": "markdown",
   "metadata": {},
   "source": [
    "The input theorem may contain antecedents other than $A$:"
   ]
  },
  {
   "cell_type": "code",
   "execution_count": 10,
   "metadata": {},
   "outputs": [
    {
     "name": "stdout",
     "output_type": "stream",
     "text": [
      "th: A, B ⊢ C\n",
      "th2: B ⊢ A ⟶ C\n",
      "th3: A ⊢ B ⟶ C\n"
     ]
    }
   ],
   "source": [
    "th = Thm([A, B], C)\n",
    "print(\"th:\", printer.print_thm(thy, th, unicode=True))\n",
    "\n",
    "th2 = Thm.implies_intr(A, th)\n",
    "print(\"th2:\", printer.print_thm(thy, th2, unicode=True))\n",
    "\n",
    "th3 = Thm.implies_intr(B, th)\n",
    "print(\"th3:\", printer.print_thm(thy, th3, unicode=True))"
   ]
  },
  {
   "cell_type": "markdown",
   "metadata": {},
   "source": [
    "The input theorem may also have antecedents that do not contain $A$. In this case, the set of antecedents is unchanged:"
   ]
  },
  {
   "cell_type": "code",
   "execution_count": 11,
   "metadata": {},
   "outputs": [
    {
     "name": "stdout",
     "output_type": "stream",
     "text": [
      "th: B ⊢ C\n",
      "th2: B ⊢ A ⟶ C\n"
     ]
    }
   ],
   "source": [
    "th = Thm([B], C)\n",
    "print(\"th:\", printer.print_thm(thy, th, unicode=True))\n",
    "\n",
    "th2 = Thm.implies_intr(A, th)\n",
    "print(\"th2:\", printer.print_thm(thy, th2, unicode=True))"
   ]
  },
  {
   "cell_type": "markdown",
   "metadata": {},
   "source": [
    "The elimination rule for implication can be considered as the dual of the introduction rule. It states how to make use of a theorem whose consequent is an implication:\n",
    "\n",
    "$$ \\frac{\\vdash A \\to B \\quad \\vdash A}{\\vdash B} \\hbox{ implies_elim} $$\n",
    "\n",
    "It is implemented as the function `implies_elim`:"
   ]
  },
  {
   "cell_type": "code",
   "execution_count": 12,
   "metadata": {},
   "outputs": [
    {
     "name": "stdout",
     "output_type": "stream",
     "text": [
      "⊢ B\n"
     ]
    }
   ],
   "source": [
    "th1 = Thm([], Term.mk_implies(A, B))\n",
    "th2 = Thm([], A)\n",
    "th3 = Thm.implies_elim(th1, th2)\n",
    "print(printer.print_thm(thy, th3, unicode=True))"
   ]
  },
  {
   "cell_type": "markdown",
   "metadata": {},
   "source": [
    "Each of the two arguments of `implies_elim` can have additional antecedents. They are combined in the results:"
   ]
  },
  {
   "cell_type": "code",
   "execution_count": 13,
   "metadata": {},
   "outputs": [
    {
     "name": "stdout",
     "output_type": "stream",
     "text": [
      "th1: C ⊢ A ⟶ B\n",
      "th2: D ⊢ A\n",
      "th3: C, D ⊢ B\n"
     ]
    }
   ],
   "source": [
    "D = Var(\"D\", boolT)\n",
    "th1 = Thm([C], Term.mk_implies(A, B))\n",
    "th2 = Thm([D], A)\n",
    "th3 = Thm.implies_elim(th1, th2)\n",
    "print(\"th1:\", printer.print_thm(thy, th1, unicode=True))\n",
    "print(\"th2:\", printer.print_thm(thy, th2, unicode=True))\n",
    "print(\"th3:\", printer.print_thm(thy, th3, unicode=True))"
   ]
  },
  {
   "cell_type": "markdown",
   "metadata": {},
   "source": [
    "The function `implies_elim` checks that its inputs are valid. That is, the first argument is an implication, and the assumption of the implication agrees with the second argument. If the arguments are invalid for any reason, it raises an `InvalidDerivationException`:"
   ]
  },
  {
   "cell_type": "code",
   "execution_count": 14,
   "metadata": {
    "tags": [
     "raises-exception"
    ]
   },
   "outputs": [
    {
     "ename": "InvalidDerivationException",
     "evalue": "implies_elim: A ~= C",
     "output_type": "error",
     "traceback": [
      "\u001b[0;31m---------------------------------------------------------------------------\u001b[0m",
      "\u001b[0;31mInvalidDerivationException\u001b[0m                Traceback (most recent call last)",
      "\u001b[0;32m<ipython-input-14-3d8278498576>\u001b[0m in \u001b[0;36m<module>\u001b[0;34m()\u001b[0m\n\u001b[1;32m      1\u001b[0m \u001b[0mth1\u001b[0m \u001b[0;34m=\u001b[0m \u001b[0mThm\u001b[0m\u001b[0;34m(\u001b[0m\u001b[0;34m[\u001b[0m\u001b[0;34m]\u001b[0m\u001b[0;34m,\u001b[0m \u001b[0mTerm\u001b[0m\u001b[0;34m.\u001b[0m\u001b[0mmk_implies\u001b[0m\u001b[0;34m(\u001b[0m\u001b[0mA\u001b[0m\u001b[0;34m,\u001b[0m \u001b[0mB\u001b[0m\u001b[0;34m)\u001b[0m\u001b[0;34m)\u001b[0m\u001b[0;34m\u001b[0m\u001b[0m\n\u001b[1;32m      2\u001b[0m \u001b[0mth2\u001b[0m \u001b[0;34m=\u001b[0m \u001b[0mThm\u001b[0m\u001b[0;34m(\u001b[0m\u001b[0;34m[\u001b[0m\u001b[0;34m]\u001b[0m\u001b[0;34m,\u001b[0m \u001b[0mC\u001b[0m\u001b[0;34m)\u001b[0m\u001b[0;34m\u001b[0m\u001b[0m\n\u001b[0;32m----> 3\u001b[0;31m \u001b[0mth3\u001b[0m \u001b[0;34m=\u001b[0m \u001b[0mThm\u001b[0m\u001b[0;34m.\u001b[0m\u001b[0mimplies_elim\u001b[0m\u001b[0;34m(\u001b[0m\u001b[0mth1\u001b[0m\u001b[0;34m,\u001b[0m \u001b[0mth2\u001b[0m\u001b[0;34m)\u001b[0m  \u001b[0;31m# raises InvalidDerivationException\u001b[0m\u001b[0;34m\u001b[0m\u001b[0m\n\u001b[0m",
      "\u001b[0;32m~/Private/holpy/kernel/thm.py\u001b[0m in \u001b[0;36mimplies_elim\u001b[0;34m(th1, th2)\u001b[0m\n\u001b[1;32m    132\u001b[0m                 \u001b[0;32mreturn\u001b[0m \u001b[0mThm\u001b[0m\u001b[0;34m(\u001b[0m\u001b[0mlist\u001b[0m\u001b[0;34m(\u001b[0m\u001b[0mOrderedDict\u001b[0m\u001b[0;34m.\u001b[0m\u001b[0mfromkeys\u001b[0m\u001b[0;34m(\u001b[0m\u001b[0mth1\u001b[0m\u001b[0;34m.\u001b[0m\u001b[0mhyps\u001b[0m \u001b[0;34m+\u001b[0m \u001b[0mth2\u001b[0m\u001b[0;34m.\u001b[0m\u001b[0mhyps\u001b[0m\u001b[0;34m)\u001b[0m\u001b[0;34m)\u001b[0m\u001b[0;34m,\u001b[0m \u001b[0mB\u001b[0m\u001b[0;34m)\u001b[0m\u001b[0;34m\u001b[0m\u001b[0m\n\u001b[1;32m    133\u001b[0m             \u001b[0;32melse\u001b[0m\u001b[0;34m:\u001b[0m\u001b[0;34m\u001b[0m\u001b[0m\n\u001b[0;32m--> 134\u001b[0;31m                 \u001b[0;32mraise\u001b[0m \u001b[0mInvalidDerivationException\u001b[0m\u001b[0;34m(\u001b[0m\u001b[0;34m\"implies_elim: \"\u001b[0m \u001b[0;34m+\u001b[0m \u001b[0mstr\u001b[0m\u001b[0;34m(\u001b[0m\u001b[0mA\u001b[0m\u001b[0;34m)\u001b[0m \u001b[0;34m+\u001b[0m \u001b[0;34m\" ~= \"\u001b[0m \u001b[0;34m+\u001b[0m \u001b[0mstr\u001b[0m\u001b[0;34m(\u001b[0m\u001b[0mth2\u001b[0m\u001b[0;34m.\u001b[0m\u001b[0mprop\u001b[0m\u001b[0;34m)\u001b[0m\u001b[0;34m)\u001b[0m\u001b[0;34m\u001b[0m\u001b[0m\n\u001b[0m\u001b[1;32m    135\u001b[0m         \u001b[0;32melse\u001b[0m\u001b[0;34m:\u001b[0m\u001b[0;34m\u001b[0m\u001b[0m\n\u001b[1;32m    136\u001b[0m             \u001b[0;32mraise\u001b[0m \u001b[0mInvalidDerivationException\u001b[0m\u001b[0;34m(\u001b[0m\u001b[0;34m\"implies_elim\"\u001b[0m\u001b[0;34m)\u001b[0m\u001b[0;34m\u001b[0m\u001b[0m\n",
      "\u001b[0;31mInvalidDerivationException\u001b[0m: implies_elim: A ~= C"
     ]
    }
   ],
   "source": [
    "th1 = Thm([], Term.mk_implies(A, B))\n",
    "th2 = Thm([], C)\n",
    "th3 = Thm.implies_elim(th1, th2)  # raises InvalidDerivationException"
   ]
  },
  {
   "cell_type": "markdown",
   "metadata": {},
   "source": [
    "### Proofs with implication"
   ]
  },
  {
   "cell_type": "markdown",
   "metadata": {},
   "source": [
    "A *proof* in higher-order logic is a sequence of steps, where each step consists of applying a primitive deduction rule. At each step, the inputs to the deduction rule (if any) must come from sequents obtained in earlier steps. The result of the proof is the sequent obtained by the last step.\n",
    "\n",
    "We now show some examples of proofs concerning implications, making use of the three primitive deduction rules shown above.\n",
    "\n",
    "#### Example:\n",
    "\n",
    "Prove $\\vdash A \\to A$.\n",
    "\n",
    "#### Solution:\n",
    "\n",
    "First use assume to obtain $A \\vdash A$, then use introduction of implication to get $\\vdash A \\to A$. This can be written formally as follows:\n",
    "\n",
    "0. $A \\vdash A$ by assume A.\n",
    "1. $\\vdash A \\to A$ by implies_intr A from 0.\n",
    "\n",
    "In the above format for proofs, each line is a step of deduction. The lines are numbered starting from zero. Each line begins by the sequent obtained by that line, followed by the deduction rule used, arguments of the rule, and input sequents of the rule (referred to by line numbers). This format will be used for describing proofs both in text as well as in Python code.\n",
    "\n",
    "We can check the above deduction using the following code:"
   ]
  },
  {
   "cell_type": "code",
   "execution_count": 15,
   "metadata": {},
   "outputs": [
    {
     "name": "stdout",
     "output_type": "stream",
     "text": [
      "⊢ A ⟶ A\n"
     ]
    }
   ],
   "source": [
    "th0 = Thm.assume(A)\n",
    "th1 = Thm.implies_intr(A, th0)\n",
    "print(printer.print_thm(thy, th1, unicode=True))"
   ]
  },
  {
   "cell_type": "markdown",
   "metadata": {},
   "source": [
    "#### Example:\n",
    "\n",
    "Prove $\\vdash A \\to (A \\to B) \\to B$.\n",
    "\n",
    "#### Solution:\n",
    "\n",
    "0. $A \\to B \\vdash A \\to B$ by assume $A \\to B$.\n",
    "1. $A \\vdash A$ by assume $A$.\n",
    "2. $A \\to B, A \\vdash B$ by implies_elim from 0, 1.\n",
    "3. $A \\vdash (A \\to B) \\to B$ by implies_intr $A \\to B$ from 2.\n",
    "4. $\\vdash A \\to (A \\to B) \\to B$ by implies_intr $A$ from 3.\n",
    "\n",
    "The Python code is as follows:"
   ]
  },
  {
   "cell_type": "code",
   "execution_count": 16,
   "metadata": {},
   "outputs": [
    {
     "name": "stdout",
     "output_type": "stream",
     "text": [
      "⊢ A ⟶ (A ⟶ B) ⟶ B\n"
     ]
    }
   ],
   "source": [
    "th0 = Thm.assume(Term.mk_implies(A, B))\n",
    "th1 = Thm.assume(A)\n",
    "th2 = Thm.implies_elim(th0, th1)\n",
    "th3 = Thm.implies_intr(Term.mk_implies(A, B), th2)\n",
    "th4 = Thm.implies_intr(A, th3)\n",
    "print(printer.print_thm(thy, th4, unicode=True))"
   ]
  },
  {
   "cell_type": "markdown",
   "metadata": {},
   "source": [
    "#### Example:\n",
    "\n",
    "Prove $\\vdash (A \\to B) \\to (B \\to C) \\to A \\to C$ (syllogism).\n",
    "\n",
    "#### Solution:\n",
    "\n",
    "0. $A \\to B \\vdash A \\to B$ by assume $A \\to B$.\n",
    "1. $B \\to C \\vdash B \\to C$ by assume $B \\to C$.\n",
    "2. $A \\vdash A$ by assume $A$.\n",
    "3. $A \\to B, A \\vdash B$ by implies_elim from 0, 2.\n",
    "4. $A \\to B, B \\to C, A \\vdash C$ by implies_elim from 1, 3.\n",
    "5. $A \\to B, B \\to C \\vdash A \\to C$ by implies_intr $A$ from 4.\n",
    "6. $A \\to B \\vdash (B \\to C) \\to A \\to C$ by implies_intr $B \\to C$ from 5.\n",
    "7. $\\vdash (A \\to B) \\to (B \\to C) \\to A \\to C$ by implies_intr $A \\to B$ from 6.\n",
    "\n",
    "In Python code:"
   ]
  },
  {
   "cell_type": "code",
   "execution_count": 17,
   "metadata": {},
   "outputs": [
    {
     "name": "stdout",
     "output_type": "stream",
     "text": [
      "⊢ (A ⟶ B) ⟶ (B ⟶ C) ⟶ A ⟶ C\n"
     ]
    }
   ],
   "source": [
    "th0 = Thm.assume(Term.mk_implies(A, B))\n",
    "th1 = Thm.assume(Term.mk_implies(B, C))\n",
    "th2 = Thm.assume(A)\n",
    "th3 = Thm.implies_elim(th0, th2)\n",
    "th4 = Thm.implies_elim(th1, th3)\n",
    "th5 = Thm.implies_intr(A, th4)\n",
    "th6 = Thm.implies_intr(Term.mk_implies(B, C), th5)\n",
    "th7 = Thm.implies_intr(Term.mk_implies(A, B), th6)\n",
    "print(printer.print_thm(thy, th7, unicode=True))"
   ]
  },
  {
   "cell_type": "markdown",
   "metadata": {},
   "source": [
    "With these examples, we gained some experience working with the first three primitive deduction rules. In the next section, we introduce rules for working with equality."
   ]
  }
 ],
 "metadata": {
  "kernelspec": {
   "display_name": "Python 3",
   "language": "python",
   "name": "python3"
  },
  "language_info": {
   "codemirror_mode": {
    "name": "ipython",
    "version": 3
   },
   "file_extension": ".py",
   "mimetype": "text/x-python",
   "name": "python",
   "nbconvert_exporter": "python",
   "pygments_lexer": "ipython3",
   "version": "3.6.6"
  }
 },
 "nbformat": 4,
 "nbformat_minor": 2
}
