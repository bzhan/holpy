{
 "cells": [
  {
   "cell_type": "markdown",
   "metadata": {},
   "source": [
    "$\\newcommand{\\To}{\\Rightarrow}$"
   ]
  },
  {
   "cell_type": "code",
   "execution_count": 1,
   "metadata": {},
   "outputs": [],
   "source": [
    "import os, sys\n",
    "os.chdir('..')"
   ]
  },
  {
   "cell_type": "code",
   "execution_count": 2,
   "metadata": {},
   "outputs": [],
   "source": [
    "from kernel.type import TFun, BoolType, NatType\n",
    "from kernel.term import Term, Var, Eq, Implies, Inst\n",
    "from kernel.thm import Thm\n",
    "from data import nat\n",
    "from logic import basic\n",
    "from logic import matcher\n",
    "from kernel import theory\n",
    "from syntax.settings import settings\n",
    "\n",
    "basic.load_theory('nat')\n",
    "settings.unicode = True"
   ]
  },
  {
   "cell_type": "markdown",
   "metadata": {},
   "source": [
    "## Equality"
   ]
  },
  {
   "cell_type": "markdown",
   "metadata": {},
   "source": [
    "In this section, we introduce rules for working with equality. Equality is characterized by four essential properties: reflexivity, symmetry, transitivity, and congruence. They are stated as follows:\n",
    "\n",
    "$$ \\frac{}{\\vdash x = x} \\hbox{ reflexive} $$\n",
    "\n",
    "$$ \\frac{\\vdash x = y}{\\vdash y = x} \\hbox{ symmetric} $$\n",
    "\n",
    "$$ \\frac{\\vdash x = y \\quad \\vdash y = z}{\\vdash x = z} \\hbox{ transitive} $$\n",
    "\n",
    "$$ \\frac{\\vdash f = g \\quad \\vdash x = y}{\\vdash f\\ x = g\\ y} \\hbox{ combination} $$\n",
    "\n",
    "These rules can be invoked as follows:"
   ]
  },
  {
   "cell_type": "code",
   "execution_count": 3,
   "metadata": {},
   "outputs": [
    {
     "name": "stdout",
     "output_type": "stream",
     "text": [
      "refl x: ⊢ x = x\n",
      "th1:  ⊢ x = y\n",
      "sym(th1): ⊢ y = x\n",
      "th2:  ⊢ y = z\n",
      "trans(th1,th2): ⊢ x = z\n",
      "th5: ⊢ f = g\n",
      "comb(th5, th1): ⊢ f x = g y\n"
     ]
    }
   ],
   "source": [
    "x = Var(\"x\", NatType)\n",
    "y = Var(\"y\", NatType)\n",
    "z = Var(\"z\", NatType)\n",
    "\n",
    "print('refl x:', Thm.reflexive(x))\n",
    "\n",
    "th1 = Thm([], Eq(x, y))\n",
    "print('th1: ', th1)\n",
    "print('sym(th1):', Thm.symmetric(th1))\n",
    "\n",
    "th2 = Thm([], Eq(y, z))\n",
    "print('th2: ', th2)\n",
    "\n",
    "print('trans(th1,th2):', Thm.transitive(th1, th2))\n",
    "\n",
    "f = Var(\"f\", TFun(NatType, NatType))\n",
    "g = Var(\"g\", TFun(NatType, NatType))\n",
    "\n",
    "th5 = Thm([], Eq(f, g))\n",
    "print('th5:', th5)\n",
    "print('comb(th5, th1):', Thm.combination(th5, th1))"
   ]
  },
  {
   "cell_type": "markdown",
   "metadata": {},
   "source": [
    "These rules can be used with `implies_intr` to prove corresponding implication theorems. The following example show a variant of the combination rule, where the function stays the same.\n",
    "\n",
    "#### Example:\n",
    "\n",
    "Prove $x = y \\to f\\ x = f\\ y$.\n",
    "\n",
    "#### Solution:\n",
    "\n",
    "0. $\\vdash f = f$ by reflexive $f$.\n",
    "1. $x = y \\vdash x = y$ by assume $x = y$.\n",
    "2. $x = y \\vdash f\\ x = f\\ y$ by combination from 0, 1.\n",
    "3. $\\vdash x = y \\to f\\ x = f\\ y$ by implies_intr $x = y$.\n",
    "\n",
    "In Python, this is as follows:"
   ]
  },
  {
   "cell_type": "code",
   "execution_count": 4,
   "metadata": {},
   "outputs": [
    {
     "name": "stdout",
     "output_type": "stream",
     "text": [
      "⊢ x = y ⟶ f x = f y\n"
     ]
    }
   ],
   "source": [
    "th0 = Thm.reflexive(f)\n",
    "th1 = Thm.assume(Eq(x, y))\n",
    "th2 = Thm.combination(th0, th1)\n",
    "th3 = Thm.implies_intr(Eq(x, y), th2)\n",
    "print(th3)"
   ]
  },
  {
   "cell_type": "markdown",
   "metadata": {},
   "source": [
    "We now show a more complex example, on the congruence property of functions on two variables:\n",
    "\n",
    "#### Example:\n",
    "\n",
    "Prove $x_1 = x_2 \\to y_1 = y_2 \\to h\\ x_1\\ y_1 = h\\ x_2\\ y_2$.\n",
    "\n",
    "#### Solution:\n",
    "\n",
    "0. $\\vdash h = h$ by reflexive $h$.\n",
    "1. $x_1 = x_2 \\vdash x_1 = x_2$ by assume $x_1 = x_2$.\n",
    "2. $y_1 = y_2 \\vdash y_1 = y_2$ by assume $y_1 = y_2$.\n",
    "3. $x_1 = x_2 \\vdash h\\ x_1 = h\\ x_2$ by combination from 0, 1.\n",
    "4. $x_1 = x_2, y_1 = y_2 \\vdash h\\ x_1\\ y_1 = h\\ x_2\\ y_2$ by combination from 3, 2.\n",
    "5. $x_1 = x_2 \\vdash y_1 = y_2 \\to h\\ x_1\\ y_1 = h\\ x_2\\ y_2$ by implies_intr $y_1 = y_2$ from 4.\n",
    "6. $\\vdash x_1 = x_2 \\to y_1 = y_2 \\to h\\ x_1\\ y_1 = h\\ x_2\\ y_2$ by implies_intr $x_1 = x_2$ from 5."
   ]
  },
  {
   "cell_type": "code",
   "execution_count": 5,
   "metadata": {},
   "outputs": [
    {
     "name": "stdout",
     "output_type": "stream",
     "text": [
      "⊢ x1 = x2 ⟶ y1 = y2 ⟶ h x1 y1 = h x2 y2\n"
     ]
    }
   ],
   "source": [
    "h = Var(\"h\", TFun(NatType, NatType, NatType))\n",
    "x1 = Var(\"x1\", NatType)\n",
    "x2 = Var(\"x2\", NatType)\n",
    "y1 = Var(\"y1\", NatType)\n",
    "y2 = Var(\"y2\", NatType)\n",
    "th0 = Thm.reflexive(h)\n",
    "th1 = Thm.assume(Eq(x1, x2))\n",
    "th2 = Thm.assume(Eq(y1, y2))\n",
    "th3 = Thm.combination(th0, th1)\n",
    "th4 = Thm.combination(th3, th2)\n",
    "th5 = Thm.implies_intr(Eq(y1, y2), th4)\n",
    "th6 = Thm.implies_intr(Eq(x1, x2), th5)\n",
    "print(th6)"
   ]
  },
  {
   "cell_type": "markdown",
   "metadata": {},
   "source": [
    "## Equality on booleans"
   ]
  },
  {
   "cell_type": "markdown",
   "metadata": {},
   "source": [
    "Two primitive deduction rules concern equality between boolean terms. `equal_intr` states that an equality between boolean terms can be proved by showing two implications. This corresponds to showing an if-and-only-if statement by showing the two directions.\n",
    "\n",
    "$$ \\frac{\\vdash A \\to B \\quad \\vdash B \\to A}{\\vdash A = B} \\hbox{ equal_intr} $$\n",
    "\n",
    "An example:"
   ]
  },
  {
   "cell_type": "code",
   "execution_count": 6,
   "metadata": {},
   "outputs": [
    {
     "name": "stdout",
     "output_type": "stream",
     "text": [
      "⊢ A ⟷ B\n"
     ]
    }
   ],
   "source": [
    "A = Var(\"A\", BoolType)\n",
    "B = Var(\"B\", BoolType)\n",
    "th0 = Thm([], Implies(A, B))\n",
    "th1 = Thm([], Implies(B, A))\n",
    "print(Thm.equal_intr(th0, th1))"
   ]
  },
  {
   "cell_type": "markdown",
   "metadata": {},
   "source": [
    "The `equal_elim` rule states that given $A = B$ and $A$, we can obtain $B$. It shows how to make use of an equality between booleans.\n",
    "\n",
    "$$ \\frac{\\vdash A = B \\quad \\vdash A}{\\vdash B} \\hbox{ equal_elim} $$\n",
    "\n",
    "#### Example:\n",
    "\n",
    "Prove $\\vdash a = b \\to P\\ a \\to P\\ b$.\n",
    "\n",
    "#### Solution:\n",
    "\n",
    "0. $a = b \\vdash a = b$ by assume $a = b$.\n",
    "1. $P\\ a \\vdash P\\ a$ by assume $P\\ a$.\n",
    "2. $\\vdash P = P$ by reflexive $P$.\n",
    "3. $a = b \\vdash P\\ a = P\\ b$ by combination from 2, 0.\n",
    "4. $a = b, P\\ a \\vdash P\\ b$ by equal_elim from 3, 1.\n",
    "5. $a = b \\vdash P\\ a \\to P\\ b$ by implies_intr $P\\ a$.\n",
    "6. $\\vdash a = b \\to P\\ a \\to P\\ b$ by implies_intr $a = b$."
   ]
  },
  {
   "cell_type": "code",
   "execution_count": 7,
   "metadata": {},
   "outputs": [
    {
     "name": "stdout",
     "output_type": "stream",
     "text": [
      "⊢ a = b ⟶ P a ⟶ P b\n"
     ]
    }
   ],
   "source": [
    "a = Var(\"a\", NatType)\n",
    "b = Var(\"b\", NatType)\n",
    "P = Var(\"P\", TFun(NatType, BoolType))\n",
    "th0 = Thm.assume(Eq(a, b))\n",
    "th1 = Thm.assume(P(a))\n",
    "th2 = Thm.reflexive(P)\n",
    "th3 = Thm.combination(th2, th0)\n",
    "th4 = Thm.equal_elim(th3, th1)\n",
    "th5 = Thm.implies_intr(P(a), th4)\n",
    "th6 = Thm.implies_intr(Eq(a, b), th5)\n",
    "print(th6)"
   ]
  },
  {
   "cell_type": "markdown",
   "metadata": {},
   "source": [
    "## Theorems and substitution"
   ]
  },
  {
   "cell_type": "markdown",
   "metadata": {},
   "source": [
    "Once a theorem is proved, it is stored in the current theory and can be used directly in later proofs. This functionality is essential to making the length of proofs manageable. We will describe the detailed mechanism for recording theorems later. Now we will be concerned just with how to make use of existing theorems.\n",
    "\n",
    "The theorem itself is accessed using the `get_theorem` method for theories. For example, to obtain the associativity rule for natural numbers, we use:"
   ]
  },
  {
   "cell_type": "code",
   "execution_count": 8,
   "metadata": {},
   "outputs": [
    {
     "name": "stdout",
     "output_type": "stream",
     "text": [
      "⊢ ?x + ?y + ?z = ?x + (?y + ?z)\n"
     ]
    }
   ],
   "source": [
    "assoc_th = theory.get_theorem('add_assoc')\n",
    "print(assoc_th)"
   ]
  },
  {
   "cell_type": "markdown",
   "metadata": {},
   "source": [
    "This theorem states that $(x + y) + z = x + (y + z)$ for any natural number $x,y,z$. In particular, $x,y,z$ can be replaced by arbitrary terms (of type $nat$), and the theorem still holds. To formally express this, we need another primitive deduction step for substitution. In fact, we need two primitive deduction steps: one for substitution on types, and one for substitution on terms.\n",
    "\n",
    "The substitution rule on types is:\n",
    "\n",
    "$$ \\frac{A \\vdash B}{A[\\sigma] \\vdash B[\\sigma]} \\hbox{ subst_type} $$\n",
    "\n",
    "where $\\sigma$ is an assignment of type variables. Likewise, the substitution rule on terms is:\n",
    "\n",
    "$$ \\frac{A \\vdash B}{A[\\sigma] \\vdash B[\\sigma]} \\hbox{ substitution} $$\n",
    "\n",
    "where $\\sigma$ is an assignment of term variables.\n",
    "\n",
    "We demonstrate the use of substitution rule for terms. The substitution rule for types (`subst_type`) is similar. Suppose we want to use theorem `add_assoc` to rewrite $a + b + 1$ to $a + (b + 1)$, we write:"
   ]
  },
  {
   "cell_type": "code",
   "execution_count": 9,
   "metadata": {},
   "outputs": [
    {
     "name": "stdout",
     "output_type": "stream",
     "text": [
      "⊢ a + b + 1 = a + (b + 1)\n"
     ]
    }
   ],
   "source": [
    "eq_th = Thm.substitution(Inst(x=a, y=b, z=nat.one), assoc_th)\n",
    "print(eq_th)"
   ]
  },
  {
   "cell_type": "markdown",
   "metadata": {},
   "source": [
    "Here `Inst` constructs an instantiation from a list of keyword arguments. In this example, we provided the substitution by hand. We can also use the matching procedure to get the substitutions automatically. The function below is the analog to the `rewrite` function in Section `matching`, but with theorems."
   ]
  },
  {
   "cell_type": "code",
   "execution_count": 10,
   "metadata": {},
   "outputs": [],
   "source": [
    "def rewrite_thm(th, t):\n",
    "    \"\"\"Rewrite t using th. Output the resulting equality.\"\"\"\n",
    "    inst = matcher.first_order_match(th.prop.lhs, t)\n",
    "    return Thm.substitution(inst, th)"
   ]
  },
  {
   "cell_type": "code",
   "execution_count": 11,
   "metadata": {},
   "outputs": [
    {
     "name": "stdout",
     "output_type": "stream",
     "text": [
      "⊢ a + b + 1 = a + (b + 1)\n"
     ]
    }
   ],
   "source": [
    "t = a + b + 1\n",
    "print(rewrite_thm(assoc_th, t))"
   ]
  },
  {
   "cell_type": "markdown",
   "metadata": {},
   "source": [
    "We also reproduce the example from the previous section:"
   ]
  },
  {
   "cell_type": "code",
   "execution_count": 12,
   "metadata": {},
   "outputs": [
    {
     "name": "stdout",
     "output_type": "stream",
     "text": [
      "⊢ ?x * (?y + ?z) = ?x * ?y + ?x * ?z\n",
      "⊢ a * (2 * a + (b + 1)) = a * (2 * a) + a * (b + 1)\n"
     ]
    }
   ],
   "source": [
    "distrib_th = theory.get_theorem('distrib_l')\n",
    "print(distrib_th)\n",
    "\n",
    "t2 = a * (2 * a + (b + 1))\n",
    "print(rewrite_thm(distrib_th, t2))"
   ]
  }
 ],
 "metadata": {
  "kernelspec": {
   "display_name": "Python 3",
   "language": "python",
   "name": "python3"
  },
  "language_info": {
   "codemirror_mode": {
    "name": "ipython",
    "version": 3
   },
   "file_extension": ".py",
   "mimetype": "text/x-python",
   "name": "python",
   "nbconvert_exporter": "python",
   "pygments_lexer": "ipython3",
   "version": "3.6.6"
  }
 },
 "nbformat": 4,
 "nbformat_minor": 2
}
