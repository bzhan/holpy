{
 "cells": [
  {
   "cell_type": "markdown",
   "metadata": {},
   "source": [
    "$\\newcommand{\\To}{\\Rightarrow}$"
   ]
  },
  {
   "cell_type": "code",
   "execution_count": 1,
   "metadata": {},
   "outputs": [],
   "source": [
    "import os\n",
    "os.chdir('..')"
   ]
  },
  {
   "cell_type": "code",
   "execution_count": 2,
   "metadata": {},
   "outputs": [],
   "source": [
    "from kernel.type import TFun, NatType, BoolType\n",
    "from kernel.term import Var, Nat, Lambda, Abs, Bound, plus, Eq\n",
    "from kernel.proofterm import ProofTerm, refl\n",
    "from logic.conv import Conv, fun_conv, arg_conv, arg1_conv, rewr_conv, try_conv, binop_conv, beta_conv\n",
    "from logic import basic\n",
    "from syntax.settings import settings\n",
    "from util import name\n",
    "\n",
    "basic.load_theory('nat')\n",
    "settings.unicode = True"
   ]
  },
  {
   "cell_type": "markdown",
   "metadata": {},
   "source": [
    "## Rewriting on abstraction"
   ]
  },
  {
   "cell_type": "markdown",
   "metadata": {},
   "source": [
    "In this section, we cover some further material on conversions. We begin where we left off in the last section: rewriting inside a $\\lambda$-term. The conversion `abs_conv` takes a conversion as input, and applies the conversion to the body of a $\\lambda$-term. It can be implemented as follows:"
   ]
  },
  {
   "cell_type": "code",
   "execution_count": 3,
   "metadata": {},
   "outputs": [],
   "source": [
    "class abs_conv(Conv):\n",
    "    def __init__(self, cv):\n",
    "        self.cv = cv\n",
    "        \n",
    "    def get_proof_term(self, t):\n",
    "        var_names = [v.name for v in t.body.get_vars()]\n",
    "        nm = name.get_variant_name(t.var_name, var_names)\n",
    "        v = Var(nm, t.var_T)\n",
    "        body = t.subst_bound(v)\n",
    "        \n",
    "        return self.cv.get_proof_term(body).abstraction(v)"
   ]
  },
  {
   "cell_type": "markdown",
   "metadata": {},
   "source": [
    "In line 1 of `get_proof_term`, we find the list of names of variables already in `t.body` using the `get_vars()` function. Note this only finds names of free variables, not the bound variable. On line 2, we use `name.get_variant_name` to find a fresh name for replacing the bound variable. Here `t.var_name` is the \"suggested\" name of the bound variable. The new variable $v$ is constructed in line 3, where `t.var_T` is the type of the bound variable. Finally, the body with bound variable replaced by $v$ is constructed on line 4.\n",
    "\n",
    "Let's test the conversion on some examples."
   ]
  },
  {
   "cell_type": "code",
   "execution_count": 4,
   "metadata": {},
   "outputs": [
    {
     "name": "stdout",
     "output_type": "stream",
     "text": [
      "t:  λx::nat. x + 2\n",
      "pt: ProofTerm(⊢ (λx::nat. x + 2) = (λx. 2 + x))\n"
     ]
    }
   ],
   "source": [
    "x = Var('x', NatType)\n",
    "t = Lambda(x, x + 2)\n",
    "print('t: ', t)\n",
    "pt = abs_conv(rewr_conv('add_comm')).get_proof_term(t)\n",
    "print('pt:', pt)"
   ]
  },
  {
   "cell_type": "markdown",
   "metadata": {},
   "source": [
    "The pattern in lines 1-4 of `abs_conv` occurs commonly, so it is implemented in the `dest_abs` function. We show some examples here:"
   ]
  },
  {
   "cell_type": "code",
   "execution_count": 5,
   "metadata": {},
   "outputs": [
    {
     "name": "stdout",
     "output_type": "stream",
     "text": [
      "t: λx::nat. x + 2\n",
      "v: x\n",
      "body: x + 2\n"
     ]
    }
   ],
   "source": [
    "t = Lambda(x, x + 2)\n",
    "v, body = t.dest_abs()\n",
    "print('t:', t)\n",
    "print('v:', v)\n",
    "print('body:', body)"
   ]
  },
  {
   "cell_type": "markdown",
   "metadata": {},
   "source": [
    "We show another example with a name conflict:"
   ]
  },
  {
   "cell_type": "code",
   "execution_count": 6,
   "metadata": {},
   "outputs": [
    {
     "name": "stdout",
     "output_type": "stream",
     "text": [
      "t: λx1. x + x1\n",
      "v: x1\n",
      "body: x + x1\n"
     ]
    }
   ],
   "source": [
    "t = Abs('x', NatType, plus(NatType)(x, Bound(0)))\n",
    "v, body = t.dest_abs()\n",
    "print('t:', t)\n",
    "print('v:', v)\n",
    "print('body:', body)"
   ]
  },
  {
   "cell_type": "markdown",
   "metadata": {},
   "source": [
    "Note how a fresh name `x1` is used both for printing and for the variable constructed by `dest_abs`. We now use `dest_abs` to simplify the implementation of `abs_conv`:"
   ]
  },
  {
   "cell_type": "code",
   "execution_count": 7,
   "metadata": {},
   "outputs": [],
   "source": [
    "class abs_conv(Conv):\n",
    "    def __init__(self, cv):\n",
    "        self.cv = cv\n",
    "        \n",
    "    def get_proof_term(self, t):\n",
    "        v, body = t.dest_abs()\n",
    "        return self.cv.get_proof_term(body).abstraction(v)"
   ]
  },
  {
   "cell_type": "code",
   "execution_count": 8,
   "metadata": {},
   "outputs": [
    {
     "name": "stdout",
     "output_type": "stream",
     "text": [
      "ProofTerm(⊢ (λx::nat. x + 2) = (λx. 2 + x))\n"
     ]
    }
   ],
   "source": [
    "t = Lambda(x, x + 2)\n",
    "print(abs_conv(rewr_conv('add_comm')).get_proof_term(t))"
   ]
  },
  {
   "cell_type": "markdown",
   "metadata": {},
   "source": [
    "## Applying conversions to proof term"
   ]
  },
  {
   "cell_type": "markdown",
   "metadata": {},
   "source": [
    "So far, we describe the usual API for implementing and using conversions in functional programming. In holpy, a different API is available, based on modifying proof terms using `on_prop` and `on_rhs` methods of class `ProofTerm`. We demonstrate this API below.\n",
    "\n",
    "The `on_prop` method takes a conversion as input, and rewrites the proposition of the proof term using that conversion. For example:"
   ]
  },
  {
   "cell_type": "code",
   "execution_count": 9,
   "metadata": {},
   "outputs": [
    {
     "name": "stdout",
     "output_type": "stream",
     "text": [
      "pt:  ProofTerm(P (n + 2) ⊢ P (n + 2))\n",
      "pt2: ProofTerm(P (n + 2) ⊢ P (2 + n))\n"
     ]
    }
   ],
   "source": [
    "P = Var('P', TFun(NatType, BoolType))\n",
    "n = Var('n', NatType)\n",
    "\n",
    "pt = ProofTerm.assume(P(n + 2))\n",
    "pt2 = pt.on_prop(arg_conv(rewr_conv('add_comm')))\n",
    "print('pt: ', pt)\n",
    "print('pt2:', pt2)"
   ]
  },
  {
   "cell_type": "markdown",
   "metadata": {},
   "source": [
    "It is important to note that calling `on_prop` on a proof term `pt` does *not* modify `pt`. Proof terms are immutable objects. Instead, the function returns a new proof term which is the result.\n",
    "\n",
    "The `on_rhs` method applies the conversion to the right side of an equality. This is especially useful for composing conversions."
   ]
  },
  {
   "cell_type": "code",
   "execution_count": 10,
   "metadata": {},
   "outputs": [
    {
     "name": "stdout",
     "output_type": "stream",
     "text": [
      "pt:  ProofTerm(⊢ x * (y + z) = x * (y + z))\n",
      "pt2: ProofTerm(⊢ x * (y + z) = x * y + x * z)\n",
      "pt3: ProofTerm(⊢ x * (y + z) = y * x + x * z)\n",
      "pt4: ProofTerm(⊢ x * (y + z) = y * x + z * x)\n"
     ]
    }
   ],
   "source": [
    "x = Var('x', NatType)\n",
    "y = Var('y', NatType)\n",
    "z = Var('z', NatType)\n",
    "\n",
    "pt = refl(x * (y + z))\n",
    "pt2 = pt.on_rhs(rewr_conv('distrib_l'))\n",
    "pt3 = pt2.on_rhs(arg1_conv(rewr_conv('mult_comm')))\n",
    "pt4 = pt3.on_rhs(arg_conv(rewr_conv('mult_comm')))\n",
    "print('pt: ', pt)\n",
    "print('pt2:', pt2)\n",
    "print('pt3:', pt3)\n",
    "print('pt4:', pt4)"
   ]
  },
  {
   "cell_type": "markdown",
   "metadata": {},
   "source": [
    "Multiple rewrites on the right side appears commonly, so we allow it to be done more conveniently by providing the conversions in sequence to the `on_rhs` function. This can replace most of the uses of `then_conv` and `every_conv`."
   ]
  },
  {
   "cell_type": "code",
   "execution_count": 11,
   "metadata": {},
   "outputs": [
    {
     "name": "stdout",
     "output_type": "stream",
     "text": [
      "pt:  ProofTerm(⊢ x * (y + z) = x * (y + z))\n",
      "pt2: ProofTerm(⊢ x * (y + z) = y * x + z * x)\n"
     ]
    }
   ],
   "source": [
    "pt = refl(x * (y + z))\n",
    "pt2 = pt.on_rhs(rewr_conv('distrib_l'), arg1_conv(rewr_conv('mult_comm')), arg_conv(rewr_conv('mult_comm')))\n",
    "print('pt: ', pt)\n",
    "print('pt2:', pt2)"
   ]
  },
  {
   "cell_type": "markdown",
   "metadata": {},
   "source": [
    "Incidentally, the function `binop_conv` can be used when we want to apply the same conversion to the two sides of a binary operator:"
   ]
  },
  {
   "cell_type": "code",
   "execution_count": 12,
   "metadata": {},
   "outputs": [
    {
     "name": "stdout",
     "output_type": "stream",
     "text": [
      "ProofTerm(⊢ x * (y + z) = y * x + z * x)\n"
     ]
    }
   ],
   "source": [
    "print(pt.on_rhs(rewr_conv('distrib_l'), binop_conv(rewr_conv('mult_comm'))))"
   ]
  },
  {
   "cell_type": "markdown",
   "metadata": {},
   "source": [
    "We now apply these ideas to re-implement the `swap_cv` function. Recall the purpose of this conversion is to rewrite an expression of the form $(a + b) + c$ to $(a + c) + b$."
   ]
  },
  {
   "cell_type": "code",
   "execution_count": 13,
   "metadata": {},
   "outputs": [],
   "source": [
    "class swap_cv(Conv):\n",
    "    def get_proof_term(self, t):\n",
    "        return refl(t).on_rhs(\n",
    "            rewr_conv('add_assoc'),\n",
    "            arg_conv(rewr_conv('add_comm')),\n",
    "            rewr_conv('add_assoc', sym=True))"
   ]
  },
  {
   "cell_type": "code",
   "execution_count": 14,
   "metadata": {},
   "outputs": [
    {
     "name": "stdout",
     "output_type": "stream",
     "text": [
      "t:  x + y + 2\n",
      "pt: ProofTerm(⊢ x + y + 2 = x + 2 + y)\n"
     ]
    }
   ],
   "source": [
    "t = (x + y) + 2\n",
    "print('t: ', t)\n",
    "print('pt:', refl(t).on_rhs(swap_cv()))"
   ]
  },
  {
   "cell_type": "markdown",
   "metadata": {},
   "source": [
    "This style of invoking conversions results in a more procedural code, better suited to the Python language."
   ]
  },
  {
   "cell_type": "markdown",
   "metadata": {},
   "source": [
    "## `top_conv` revisited"
   ]
  },
  {
   "cell_type": "markdown",
   "metadata": {},
   "source": [
    "In the previous section on conversions, we implemented `top_conv` in the functional style. In this part, we re-implement the conversion in a more procedural style, also including rewriting on abstractions."
   ]
  },
  {
   "cell_type": "code",
   "execution_count": 15,
   "metadata": {},
   "outputs": [],
   "source": [
    "class top_conv(Conv):\n",
    "    def __init__(self, cv):\n",
    "        self.cv = cv\n",
    "        \n",
    "    def get_proof_term(self, t):\n",
    "        pt = refl(t).on_rhs(try_conv(self.cv))\n",
    "        if pt.rhs.is_comb():\n",
    "            return pt.on_rhs(fun_conv(self), arg_conv(self))\n",
    "        elif pt.rhs.is_abs():\n",
    "            return pt.on_rhs(abs_conv(self))\n",
    "        else:\n",
    "            return pt"
   ]
  },
  {
   "cell_type": "markdown",
   "metadata": {},
   "source": [
    "The function first tries to call `cv` on the current term. Next, if the result is not atomic (is either a combination or an abstraction), it calls `cv` on the subterms. Let's test the function on some examples."
   ]
  },
  {
   "cell_type": "code",
   "execution_count": 16,
   "metadata": {},
   "outputs": [
    {
     "name": "stdout",
     "output_type": "stream",
     "text": [
      "t:  λx. λy. x * (3 * y + z + 1)\n",
      "pt: ProofTerm(⊢ (λx. λy. x * (3 * y + z + 1)) = (λx. λy. x * (3 * y) + x * z + x * 1))\n"
     ]
    }
   ],
   "source": [
    "x = Var('x', NatType)\n",
    "y = Var('y', NatType)\n",
    "z = Var('z', NatType)\n",
    "\n",
    "t = Lambda(x, y, x * (3 * y + z + 1))\n",
    "pt = refl(t).on_rhs(top_conv(rewr_conv('distrib_l')))\n",
    "print('t: ', t)\n",
    "print('pt:', pt)"
   ]
  },
  {
   "cell_type": "markdown",
   "metadata": {},
   "source": [
    "Likewise the class `bottom_conv` can be implemented as follows:"
   ]
  },
  {
   "cell_type": "code",
   "execution_count": 17,
   "metadata": {},
   "outputs": [],
   "source": [
    "class bottom_conv(Conv):\n",
    "    def __init__(self, cv):\n",
    "        self.cv = cv\n",
    "        \n",
    "    def get_proof_term(self, t):\n",
    "        pt = refl(t)\n",
    "        if t.is_comb():\n",
    "            return pt.on_rhs(fun_conv(self), arg_conv(self), try_conv(self.cv))\n",
    "        elif t.is_abs():\n",
    "            return pt.on_rhs(abs_conv(self), try_conv(self.cv))\n",
    "        else:\n",
    "            return pt.on_rhs(try_conv(self.cv))"
   ]
  },
  {
   "cell_type": "markdown",
   "metadata": {},
   "source": [
    "Let's test it on the $\\beta$-reduction example from before:"
   ]
  },
  {
   "cell_type": "code",
   "execution_count": 18,
   "metadata": {},
   "outputs": [
    {
     "name": "stdout",
     "output_type": "stream",
     "text": [
      "ProofTerm(⊢ (λx::nat. λy. x + y) 2 3 = 2 + 3)\n"
     ]
    }
   ],
   "source": [
    "x = Var('x', NatType)\n",
    "y = Var('y', NatType)\n",
    "t = Lambda(x, y, x + y)(Nat(2), Nat(3))\n",
    "print(refl(t).on_rhs(bottom_conv(beta_conv())))"
   ]
  },
  {
   "cell_type": "markdown",
   "metadata": {},
   "source": [
    "Classes like `top_conv` and `bottom_conv` are all implemented in the `Conv` module, and can be used directly."
   ]
  }
 ],
 "metadata": {
  "kernelspec": {
   "display_name": "Python 3",
   "language": "python",
   "name": "python3"
  },
  "language_info": {
   "codemirror_mode": {
    "name": "ipython",
    "version": 3
   },
   "file_extension": ".py",
   "mimetype": "text/x-python",
   "name": "python",
   "nbconvert_exporter": "python",
   "pygments_lexer": "ipython3",
   "version": "3.6.6"
  }
 },
 "nbformat": 4,
 "nbformat_minor": 2
}
