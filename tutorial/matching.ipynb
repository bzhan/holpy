{
 "cells": [
  {
   "cell_type": "markdown",
   "metadata": {},
   "source": [
    "$\\newcommand{\\To}{\\Rightarrow}$"
   ]
  },
  {
   "cell_type": "code",
   "execution_count": 1,
   "metadata": {},
   "outputs": [],
   "source": [
    "import os, sys\n",
    "sys.path.append(os.path.split(os.getcwd())[0])"
   ]
  },
  {
   "cell_type": "code",
   "execution_count": 2,
   "metadata": {},
   "outputs": [],
   "source": [
    "from kernel.type import TVar, TFun, boolT\n",
    "from kernel.term import Term, Var, Const\n",
    "from data import nat\n",
    "from data.nat import natT, zero, one, plus, times\n",
    "from logic import basic\n",
    "from logic import logic\n",
    "from logic import matcher\n",
    "from syntax import printer\n",
    "\n",
    "thy = basic.load_theory('nat')"
   ]
  },
  {
   "cell_type": "markdown",
   "metadata": {},
   "source": [
    "## Substitution"
   ]
  },
  {
   "cell_type": "markdown",
   "metadata": {},
   "source": [
    "Substitution on terms is analogous to substitution on types, but more complicated due to the presence of abstractions (lambda terms), and the need to substitute for both type and term variables. Consider the following term:"
   ]
  },
  {
   "cell_type": "code",
   "execution_count": 3,
   "metadata": {},
   "outputs": [
    {
     "name": "stdout",
     "output_type": "stream",
     "text": [
      "Comb(Comb(Const(equals,'a => 'a => bool),Var(a,'a)),Var(b,'a))\n"
     ]
    }
   ],
   "source": [
    "Ta = TVar(\"a\")\n",
    "a = Var(\"a\", Ta)\n",
    "b = Var(\"b\", Ta)\n",
    "t = Term.mk_equals(a, b)\n",
    "print(repr(t))"
   ]
  },
  {
   "cell_type": "markdown",
   "metadata": {},
   "source": [
    "Observe that there are both type and term variables in $t$. The method `subst_type` takes a dictionary of assignments for type variables, and substitutes using this dictionary."
   ]
  },
  {
   "cell_type": "code",
   "execution_count": 4,
   "metadata": {},
   "outputs": [
    {
     "name": "stdout",
     "output_type": "stream",
     "text": [
      "Comb(Comb(Const(equals,nat => nat => bool),Var(a,nat)),Var(b,nat))\n"
     ]
    }
   ],
   "source": [
    "t2 = t.subst_type({\"a\": natT})\n",
    "print(repr(t2))"
   ]
  },
  {
   "cell_type": "markdown",
   "metadata": {},
   "source": [
    "Next, we can apply the method `subst`, which takes a dictionary of assignments for (term) variables, and substitutes using this dictionary."
   ]
  },
  {
   "cell_type": "code",
   "execution_count": 5,
   "metadata": {},
   "outputs": [
    {
     "name": "stdout",
     "output_type": "stream",
     "text": [
      "0 = 1\n"
     ]
    }
   ],
   "source": [
    "t3 = t2.subst({\"a\": zero, \"b\": one})\n",
    "print(printer.print_term(thy, t3))"
   ]
  },
  {
   "cell_type": "markdown",
   "metadata": {},
   "source": [
    "We now look at some examples demonstrating how substitution interacts with abstractions. Consider the following term $t$:"
   ]
  },
  {
   "cell_type": "code",
   "execution_count": 6,
   "metadata": {},
   "outputs": [
    {
     "name": "stdout",
     "output_type": "stream",
     "text": [
      "(λx. x + y) 1 + x\n"
     ]
    }
   ],
   "source": [
    "x = Var(\"x\", natT)\n",
    "y = Var(\"y\", natT)\n",
    "t = plus(Term.mk_abs(x, plus(x, y))(one), x)\n",
    "print(printer.print_term(thy, t, unicode=True))"
   ]
  },
  {
   "cell_type": "markdown",
   "metadata": {},
   "source": [
    "This term contains variables $x$ and $y$. Let's substitute 3 for $x$ and 5 for $y$:"
   ]
  },
  {
   "cell_type": "code",
   "execution_count": 7,
   "metadata": {},
   "outputs": [
    {
     "name": "stdout",
     "output_type": "stream",
     "text": [
      "(λx. x + 5) 1 + 3\n"
     ]
    }
   ],
   "source": [
    "t2 = t.subst({\"x\": nat.to_binary(3), \"y\": nat.to_binary(5)})\n",
    "print(printer.print_term(thy, t2, unicode=True))"
   ]
  },
  {
   "cell_type": "markdown",
   "metadata": {},
   "source": [
    "Observe that both the $x$ at the end and the $y$ inside the lambda term is substituted. However, the $x$ inside the lambda term is not. This is because the latter $x$ is a bound variable, and quite different from the former $x$. In fact, since the name of the bound variable does not matter, the term $t$ is equivalent to $(\\lambda z. z + y) 1 + x$. The fact that the name of the bound variable is the same as a variable outside the lambda term is simply a coincidence."
   ]
  },
  {
   "cell_type": "markdown",
   "metadata": {},
   "source": [
    "By default, substitution does not perform $\\beta$-conversion (evaluation of functions). For example:"
   ]
  },
  {
   "cell_type": "code",
   "execution_count": 8,
   "metadata": {},
   "outputs": [
    {
     "name": "stdout",
     "output_type": "stream",
     "text": [
      "f a\n",
      "(λx. x + 2) 2\n"
     ]
    }
   ],
   "source": [
    "two = nat.to_binary(2)\n",
    "f = Var(\"f\", TFun(natT, natT))\n",
    "a = Var(\"a\", natT)\n",
    "t = f(a)\n",
    "print(printer.print_term(thy, t))\n",
    "\n",
    "t2 = t.subst({\"f\": Term.mk_abs(x, plus(x,two)), \"a\": two})\n",
    "print(printer.print_term(thy, t2, unicode=True))"
   ]
  },
  {
   "cell_type": "markdown",
   "metadata": {},
   "source": [
    "To evaluate $f$ after a substitution, one can use `logic.beta_norm` function introduced previously. The function `logic.subst_norm` combines the three operations above: type substitution, term substitution, and $\\beta$-normalization. This function takes the pattern to be substituted, and a pair of dictionaries of assignments for type and term variables."
   ]
  },
  {
   "cell_type": "code",
   "execution_count": 9,
   "metadata": {},
   "outputs": [
    {
     "name": "stdout",
     "output_type": "stream",
     "text": [
      "2 + 2\n"
     ]
    }
   ],
   "source": [
    "t3 = logic.subst_norm(t, (dict(), {\"f\": Term.mk_abs(x, plus(x,two)), \"a\": two}))\n",
    "print(printer.print_term(thy, t3))"
   ]
  },
  {
   "cell_type": "markdown",
   "metadata": {},
   "source": [
    "We can also use `logic.subst_norm` to do the example at the beginning of the section:"
   ]
  },
  {
   "cell_type": "code",
   "execution_count": 10,
   "metadata": {},
   "outputs": [
    {
     "name": "stdout",
     "output_type": "stream",
     "text": [
      "0 = 1\n"
     ]
    }
   ],
   "source": [
    "Ta = TVar(\"a\")\n",
    "a = Var(\"a\", Ta)\n",
    "b = Var(\"b\", Ta)\n",
    "t = Term.mk_equals(a, b)\n",
    "t2 = logic.subst_norm(t, ({\"a\": natT}, {\"a\": zero, \"b\": one}))\n",
    "print(printer.print_term(thy, t2))"
   ]
  },
  {
   "cell_type": "markdown",
   "metadata": {},
   "source": [
    "## Matching"
   ]
  },
  {
   "cell_type": "markdown",
   "metadata": {},
   "source": [
    "As with types, we can match a pattern (a term containing type and term variables) with a term. Matching a pattern $p$ with a term $t$ determines whether it is possible to instantiate $p$ to $t$, and if it is possible, produces the assignment of type and term variables. Matching of terms is complicated by the presence of two kinds of variables, as well as presence of abstractions (including the possibility of $\\beta$-conversion). We start with the discussion with some simple cases, then gradually move to more complex situations.\n",
    "\n",
    "The basic function for matching is `matcher.first_order_match`. It takes two arguments: the pattern and the term to be matched. It returns a pair (tyinst, inst), where tyinst is the dictionary of type instantiations, and inst is the dictionary of term instantiations. For example:"
   ]
  },
  {
   "cell_type": "code",
   "execution_count": 11,
   "metadata": {},
   "outputs": [
    {
     "name": "stdout",
     "output_type": "stream",
     "text": [
      "A ∨ B\n",
      "x = 0 ∨ x = 1\n",
      "{}, {A: x = 0, B: x = 1}\n"
     ]
    }
   ],
   "source": [
    "A = Var(\"A\", boolT)\n",
    "B = Var(\"B\", boolT)\n",
    "p = logic.disj(A, B)\n",
    "print(printer.print_term(thy, p, unicode=True))\n",
    "\n",
    "x = Var(\"x\", natT)\n",
    "t = logic.disj(Term.mk_equals(x,zero), Term.mk_equals(x,one))\n",
    "print(printer.print_term(thy, t, unicode=True))\n",
    "\n",
    "instsp = matcher.first_order_match(p, t)\n",
    "print(printer.print_instsp(thy, instsp))"
   ]
  },
  {
   "cell_type": "markdown",
   "metadata": {},
   "source": [
    "Note the use of the printing function `print_instsp` for printing the pair of type and term assignments. If type or term assignments need to be printed separately, we use `print_tyinst` and `print_inst` functions:"
   ]
  },
  {
   "cell_type": "code",
   "execution_count": 12,
   "metadata": {},
   "outputs": [
    {
     "name": "stdout",
     "output_type": "stream",
     "text": [
      "{}\n",
      "{A: x = 0, B: x = 1}\n"
     ]
    }
   ],
   "source": [
    "tyinst, inst = instsp\n",
    "print(printer.print_tyinst(thy, tyinst))\n",
    "print(printer.print_inst(thy, inst))"
   ]
  },
  {
   "cell_type": "markdown",
   "metadata": {},
   "source": [
    "The output says the term $x = 0 \\vee x = 1$ matches the pattern $A \\vee B$, where $A$ is assigned to $x = 0$ and $B$ is assigned to $x = 1$. If there is no match, the function `first_order_match` raises an exception. For example:"
   ]
  },
  {
   "cell_type": "code",
   "execution_count": 13,
   "metadata": {
    "scrolled": false,
    "tags": [
     "raises-exception"
    ]
   },
   "outputs": [
    {
     "name": "stdout",
     "output_type": "stream",
     "text": [
      "x = 0 ∧ x = 1\n"
     ]
    },
    {
     "ename": "MatchException",
     "evalue": "",
     "output_type": "error",
     "traceback": [
      "\u001b[0;31m---------------------------------------------------------------------------\u001b[0m",
      "\u001b[0;31mMatchException\u001b[0m                            Traceback (most recent call last)",
      "\u001b[0;32m<ipython-input-13-b74b1f6de50d>\u001b[0m in \u001b[0;36m<module>\u001b[0;34m()\u001b[0m\n\u001b[1;32m      2\u001b[0m \u001b[0mprint\u001b[0m\u001b[0;34m(\u001b[0m\u001b[0mprinter\u001b[0m\u001b[0;34m.\u001b[0m\u001b[0mprint_term\u001b[0m\u001b[0;34m(\u001b[0m\u001b[0mthy\u001b[0m\u001b[0;34m,\u001b[0m \u001b[0mt2\u001b[0m\u001b[0;34m,\u001b[0m \u001b[0municode\u001b[0m\u001b[0;34m=\u001b[0m\u001b[0;32mTrue\u001b[0m\u001b[0;34m)\u001b[0m\u001b[0;34m)\u001b[0m\u001b[0;34m\u001b[0m\u001b[0m\n\u001b[1;32m      3\u001b[0m \u001b[0;34m\u001b[0m\u001b[0m\n\u001b[0;32m----> 4\u001b[0;31m \u001b[0mmatcher\u001b[0m\u001b[0;34m.\u001b[0m\u001b[0mfirst_order_match\u001b[0m\u001b[0;34m(\u001b[0m\u001b[0mp\u001b[0m\u001b[0;34m,\u001b[0m \u001b[0mt2\u001b[0m\u001b[0;34m)\u001b[0m   \u001b[0;31m# raises MatchException\u001b[0m\u001b[0;34m\u001b[0m\u001b[0m\n\u001b[0m",
      "\u001b[0;32m~/Private/holpy/logic/matcher.py\u001b[0m in \u001b[0;36mfirst_order_match\u001b[0;34m(pat, t)\u001b[0m\n\u001b[1;32m    185\u001b[0m     \"\"\"\n\u001b[1;32m    186\u001b[0m     \u001b[0mtyinst\u001b[0m\u001b[0;34m,\u001b[0m \u001b[0minst\u001b[0m \u001b[0;34m=\u001b[0m \u001b[0mdict\u001b[0m\u001b[0;34m(\u001b[0m\u001b[0;34m)\u001b[0m\u001b[0;34m,\u001b[0m \u001b[0mdict\u001b[0m\u001b[0;34m(\u001b[0m\u001b[0;34m)\u001b[0m\u001b[0;34m\u001b[0m\u001b[0m\n\u001b[0;32m--> 187\u001b[0;31m     \u001b[0mfirst_order_match_incr\u001b[0m\u001b[0;34m(\u001b[0m\u001b[0mpat\u001b[0m\u001b[0;34m,\u001b[0m \u001b[0mt\u001b[0m\u001b[0;34m,\u001b[0m \u001b[0;34m(\u001b[0m\u001b[0mtyinst\u001b[0m\u001b[0;34m,\u001b[0m \u001b[0minst\u001b[0m\u001b[0;34m)\u001b[0m\u001b[0;34m)\u001b[0m\u001b[0;34m\u001b[0m\u001b[0m\n\u001b[0m\u001b[1;32m    188\u001b[0m     \u001b[0;32mreturn\u001b[0m \u001b[0mtyinst\u001b[0m\u001b[0;34m,\u001b[0m \u001b[0minst\u001b[0m\u001b[0;34m\u001b[0m\u001b[0m\n",
      "\u001b[0;32m~/Private/holpy/logic/matcher.py\u001b[0m in \u001b[0;36mfirst_order_match_incr\u001b[0;34m(pat, t, instsp)\u001b[0m\n\u001b[1;32m    175\u001b[0m \u001b[0;34m\u001b[0m\u001b[0m\n\u001b[1;32m    176\u001b[0m     \u001b[0minstsp2\u001b[0m \u001b[0;34m=\u001b[0m \u001b[0mto_internal_instsp\u001b[0m\u001b[0;34m(\u001b[0m\u001b[0minstsp\u001b[0m\u001b[0;34m)\u001b[0m\u001b[0;34m\u001b[0m\u001b[0m\n\u001b[0;32m--> 177\u001b[0;31m     \u001b[0mmatch\u001b[0m\u001b[0;34m(\u001b[0m\u001b[0mto_internal_vars\u001b[0m\u001b[0;34m(\u001b[0m\u001b[0mpat\u001b[0m\u001b[0;34m)\u001b[0m\u001b[0;34m,\u001b[0m \u001b[0mt\u001b[0m\u001b[0;34m,\u001b[0m \u001b[0minstsp2\u001b[0m\u001b[0;34m,\u001b[0m \u001b[0;34m[\u001b[0m\u001b[0;34m]\u001b[0m\u001b[0;34m)\u001b[0m\u001b[0;34m\u001b[0m\u001b[0m\n\u001b[0m\u001b[1;32m    178\u001b[0m     \u001b[0minstsp\u001b[0m\u001b[0;34m[\u001b[0m\u001b[0;36m0\u001b[0m\u001b[0;34m]\u001b[0m\u001b[0;34m.\u001b[0m\u001b[0mupdate\u001b[0m\u001b[0;34m(\u001b[0m\u001b[0mfrom_internal_instsp\u001b[0m\u001b[0;34m(\u001b[0m\u001b[0minstsp2\u001b[0m\u001b[0;34m)\u001b[0m\u001b[0;34m[\u001b[0m\u001b[0;36m0\u001b[0m\u001b[0;34m]\u001b[0m\u001b[0;34m)\u001b[0m\u001b[0;34m\u001b[0m\u001b[0m\n\u001b[1;32m    179\u001b[0m     \u001b[0minstsp\u001b[0m\u001b[0;34m[\u001b[0m\u001b[0;36m1\u001b[0m\u001b[0;34m]\u001b[0m\u001b[0;34m.\u001b[0m\u001b[0mupdate\u001b[0m\u001b[0;34m(\u001b[0m\u001b[0mfrom_internal_instsp\u001b[0m\u001b[0;34m(\u001b[0m\u001b[0minstsp2\u001b[0m\u001b[0;34m)\u001b[0m\u001b[0;34m[\u001b[0m\u001b[0;36m1\u001b[0m\u001b[0;34m]\u001b[0m\u001b[0;34m)\u001b[0m\u001b[0;34m\u001b[0m\u001b[0m\n",
      "\u001b[0;32m~/Private/holpy/logic/matcher.py\u001b[0m in \u001b[0;36mmatch\u001b[0;34m(pat, t, instsp, bd_vars)\u001b[0m\n\u001b[1;32m    152\u001b[0m             \u001b[0;31m# match fun and arg.\u001b[0m\u001b[0;34m\u001b[0m\u001b[0;34m\u001b[0m\u001b[0m\n\u001b[1;32m    153\u001b[0m             \u001b[0;32mif\u001b[0m \u001b[0mis_pattern\u001b[0m\u001b[0;34m(\u001b[0m\u001b[0mpat\u001b[0m\u001b[0;34m.\u001b[0m\u001b[0mfun\u001b[0m\u001b[0;34m,\u001b[0m \u001b[0mlist\u001b[0m\u001b[0;34m(\u001b[0m\u001b[0minstsp\u001b[0m\u001b[0;34m[\u001b[0m\u001b[0;36m1\u001b[0m\u001b[0;34m]\u001b[0m\u001b[0;34m.\u001b[0m\u001b[0mkeys\u001b[0m\u001b[0;34m(\u001b[0m\u001b[0;34m)\u001b[0m\u001b[0;34m)\u001b[0m\u001b[0;34m)\u001b[0m\u001b[0;34m:\u001b[0m\u001b[0;34m\u001b[0m\u001b[0m\n\u001b[0;32m--> 154\u001b[0;31m                 \u001b[0mmatch\u001b[0m\u001b[0;34m(\u001b[0m\u001b[0mpat\u001b[0m\u001b[0;34m.\u001b[0m\u001b[0mfun\u001b[0m\u001b[0;34m,\u001b[0m \u001b[0mt\u001b[0m\u001b[0;34m.\u001b[0m\u001b[0mfun\u001b[0m\u001b[0;34m,\u001b[0m \u001b[0minstsp\u001b[0m\u001b[0;34m,\u001b[0m \u001b[0mbd_vars\u001b[0m\u001b[0;34m)\u001b[0m\u001b[0;34m\u001b[0m\u001b[0m\n\u001b[0m\u001b[1;32m    155\u001b[0m                 \u001b[0mmatch\u001b[0m\u001b[0;34m(\u001b[0m\u001b[0mpat\u001b[0m\u001b[0;34m.\u001b[0m\u001b[0marg\u001b[0m\u001b[0;34m,\u001b[0m \u001b[0mt\u001b[0m\u001b[0;34m.\u001b[0m\u001b[0marg\u001b[0m\u001b[0;34m,\u001b[0m \u001b[0minstsp\u001b[0m\u001b[0;34m,\u001b[0m \u001b[0mbd_vars\u001b[0m\u001b[0;34m)\u001b[0m\u001b[0;34m\u001b[0m\u001b[0m\n\u001b[1;32m    156\u001b[0m             \u001b[0;32melse\u001b[0m\u001b[0;34m:\u001b[0m\u001b[0;34m\u001b[0m\u001b[0m\n",
      "\u001b[0;32m~/Private/holpy/logic/matcher.py\u001b[0m in \u001b[0;36mmatch\u001b[0;34m(pat, t, instsp, bd_vars)\u001b[0m\n\u001b[1;32m    152\u001b[0m             \u001b[0;31m# match fun and arg.\u001b[0m\u001b[0;34m\u001b[0m\u001b[0;34m\u001b[0m\u001b[0m\n\u001b[1;32m    153\u001b[0m             \u001b[0;32mif\u001b[0m \u001b[0mis_pattern\u001b[0m\u001b[0;34m(\u001b[0m\u001b[0mpat\u001b[0m\u001b[0;34m.\u001b[0m\u001b[0mfun\u001b[0m\u001b[0;34m,\u001b[0m \u001b[0mlist\u001b[0m\u001b[0;34m(\u001b[0m\u001b[0minstsp\u001b[0m\u001b[0;34m[\u001b[0m\u001b[0;36m1\u001b[0m\u001b[0;34m]\u001b[0m\u001b[0;34m.\u001b[0m\u001b[0mkeys\u001b[0m\u001b[0;34m(\u001b[0m\u001b[0;34m)\u001b[0m\u001b[0;34m)\u001b[0m\u001b[0;34m)\u001b[0m\u001b[0;34m:\u001b[0m\u001b[0;34m\u001b[0m\u001b[0m\n\u001b[0;32m--> 154\u001b[0;31m                 \u001b[0mmatch\u001b[0m\u001b[0;34m(\u001b[0m\u001b[0mpat\u001b[0m\u001b[0;34m.\u001b[0m\u001b[0mfun\u001b[0m\u001b[0;34m,\u001b[0m \u001b[0mt\u001b[0m\u001b[0;34m.\u001b[0m\u001b[0mfun\u001b[0m\u001b[0;34m,\u001b[0m \u001b[0minstsp\u001b[0m\u001b[0;34m,\u001b[0m \u001b[0mbd_vars\u001b[0m\u001b[0;34m)\u001b[0m\u001b[0;34m\u001b[0m\u001b[0m\n\u001b[0m\u001b[1;32m    155\u001b[0m                 \u001b[0mmatch\u001b[0m\u001b[0;34m(\u001b[0m\u001b[0mpat\u001b[0m\u001b[0;34m.\u001b[0m\u001b[0marg\u001b[0m\u001b[0;34m,\u001b[0m \u001b[0mt\u001b[0m\u001b[0;34m.\u001b[0m\u001b[0marg\u001b[0m\u001b[0;34m,\u001b[0m \u001b[0minstsp\u001b[0m\u001b[0;34m,\u001b[0m \u001b[0mbd_vars\u001b[0m\u001b[0;34m)\u001b[0m\u001b[0;34m\u001b[0m\u001b[0m\n\u001b[1;32m    156\u001b[0m             \u001b[0;32melse\u001b[0m\u001b[0;34m:\u001b[0m\u001b[0;34m\u001b[0m\u001b[0m\n",
      "\u001b[0;32m~/Private/holpy/logic/matcher.py\u001b[0m in \u001b[0;36mmatch\u001b[0;34m(pat, t, instsp, bd_vars)\u001b[0m\n\u001b[1;32m    142\u001b[0m             \u001b[0;31m# the same name and matching type.\u001b[0m\u001b[0;34m\u001b[0m\u001b[0;34m\u001b[0m\u001b[0m\n\u001b[1;32m    143\u001b[0m             \u001b[0;32mif\u001b[0m \u001b[0mpat\u001b[0m\u001b[0;34m.\u001b[0m\u001b[0mname\u001b[0m \u001b[0;34m!=\u001b[0m \u001b[0mt\u001b[0m\u001b[0;34m.\u001b[0m\u001b[0mname\u001b[0m\u001b[0;34m:\u001b[0m\u001b[0;34m\u001b[0m\u001b[0m\n\u001b[0;32m--> 144\u001b[0;31m                 \u001b[0;32mraise\u001b[0m \u001b[0mMatchException\u001b[0m\u001b[0;34m\u001b[0m\u001b[0m\n\u001b[0m\u001b[1;32m    145\u001b[0m             \u001b[0;32melse\u001b[0m\u001b[0;34m:\u001b[0m\u001b[0;34m\u001b[0m\u001b[0m\n\u001b[1;32m    146\u001b[0m                 \u001b[0;32mtry\u001b[0m\u001b[0;34m:\u001b[0m\u001b[0;34m\u001b[0m\u001b[0m\n",
      "\u001b[0;31mMatchException\u001b[0m: "
     ]
    }
   ],
   "source": [
    "t2 = logic.conj(Term.mk_equals(x,zero), Term.mk_equals(x,one))\n",
    "print(printer.print_term(thy, t2, unicode=True))\n",
    "\n",
    "matcher.first_order_match(p, t2)   # raises MatchException"
   ]
  },
  {
   "cell_type": "markdown",
   "metadata": {},
   "source": [
    "We now show an example with type variables."
   ]
  },
  {
   "cell_type": "code",
   "execution_count": 14,
   "metadata": {},
   "outputs": [
    {
     "name": "stdout",
     "output_type": "stream",
     "text": [
      "{a: nat}, {a: 0, b: 1}\n"
     ]
    }
   ],
   "source": [
    "Ta = TVar(\"a\")\n",
    "a = Var(\"a\", Ta)\n",
    "b = Var(\"b\", Ta)\n",
    "p = Term.mk_equals(a, b)\n",
    "\n",
    "t = Term.mk_equals(zero, one)\n",
    "print(printer.print_instsp(thy, matcher.first_order_match(p, t)))"
   ]
  },
  {
   "cell_type": "markdown",
   "metadata": {},
   "source": [
    "Matching can certainly go inside abstractions:"
   ]
  },
  {
   "cell_type": "code",
   "execution_count": 15,
   "metadata": {},
   "outputs": [
    {
     "name": "stdout",
     "output_type": "stream",
     "text": [
      "∀x. P x\n",
      "∀n. A n\n",
      "{a: nat}, {P: A}\n"
     ]
    }
   ],
   "source": [
    "x = Var(\"x\", Ta)\n",
    "P = Var(\"P\", TFun(Ta, boolT))\n",
    "p = Term.mk_all(x, P(x))\n",
    "print(printer.print_term(thy, p, unicode=True))\n",
    "\n",
    "n = Var(\"n\", natT)\n",
    "A = Var(\"A\", TFun(natT, boolT))\n",
    "t = Term.mk_all(n, A(n))\n",
    "print(printer.print_term(thy, t, unicode=True))\n",
    "\n",
    "print(printer.print_instsp(thy, matcher.first_order_match(p, t), unicode=True))"
   ]
  },
  {
   "cell_type": "markdown",
   "metadata": {},
   "source": [
    "The previous matching worked because the body of the $\\forall$ quantifier is precisely a function applied to the bound variable. However, matching still works if the body is a more general predicate of the bound variable:"
   ]
  },
  {
   "cell_type": "code",
   "execution_count": 16,
   "metadata": {},
   "outputs": [
    {
     "name": "stdout",
     "output_type": "stream",
     "text": [
      "∀n. n = 0\n",
      "{a: nat}, {P: λx. x = 0}\n"
     ]
    }
   ],
   "source": [
    "t2 = Term.mk_all(n, Term.mk_equals(n, zero))\n",
    "print(printer.print_term(thy, t2, unicode=True))\n",
    "\n",
    "print(printer.print_instsp(thy, matcher.first_order_match(p, t2), unicode=True))"
   ]
  },
  {
   "cell_type": "markdown",
   "metadata": {},
   "source": [
    "In this case, $p$ can be transformed to $t$ only after instantiation as well as $\\beta$-normalization. In general, `first_order_match` determines whether there exists `instsp` such that `logic.subst_norm(p, instsp)` is equal to $t$."
   ]
  },
  {
   "cell_type": "markdown",
   "metadata": {},
   "source": [
    "## Preview: applying a theorem"
   ]
  },
  {
   "cell_type": "markdown",
   "metadata": {},
   "source": [
    "Matching and substitution play crucial roles in proofs in higher-order logic, in particular when applying a theorem. We will start the discussion of theorems and proofs in the next section. Here, we give a brief preview of these ideas, using what we have learned so far.\n",
    "\n",
    "One important class of theorems is identities. For example, the distributivity of multiplication over addition is stated as follows:"
   ]
  },
  {
   "cell_type": "code",
   "execution_count": 17,
   "metadata": {},
   "outputs": [
    {
     "name": "stdout",
     "output_type": "stream",
     "text": [
      "x * (y + z) = x * y + x * z\n"
     ]
    }
   ],
   "source": [
    "x = Var(\"x\", natT)\n",
    "y = Var(\"y\", natT)\n",
    "z = Var(\"z\", natT)\n",
    "\n",
    "distrib_l = Term.mk_equals(times(x,plus(y,z)), plus(times(x,y),times(x,z)))\n",
    "print(printer.print_term(thy, distrib_l))"
   ]
  },
  {
   "cell_type": "markdown",
   "metadata": {},
   "source": [
    "Here $x,y,z$ are variables that can represent arbitrary natural numbers. We would like to apply this identity to rewrite any expression of the form $x\\cdot (y+z)$, for example $a\\cdot (2a+(b+1))$, which should be rewritten to $a\\cdot 2a+a(b+1)$.\n",
    "\n",
    "The idea for implementing this functionality is as follows. Suppose the term to be rewritten is $t$. First match the left side of the equality with $t$. If the matching succeeds, use the resulting assignments of variables to instantiate the right side of the equality."
   ]
  },
  {
   "cell_type": "code",
   "execution_count": 18,
   "metadata": {},
   "outputs": [],
   "source": [
    "def rewrite(prop, t):\n",
    "    \"\"\"Rewrite term t using the identity (equality term) prop.\"\"\"\n",
    "    instsp = matcher.first_order_match(prop.lhs, t)\n",
    "    return logic.subst_norm(prop.rhs, instsp)"
   ]
  },
  {
   "cell_type": "markdown",
   "metadata": {},
   "source": [
    "We now test this function on an example:"
   ]
  },
  {
   "cell_type": "code",
   "execution_count": 19,
   "metadata": {},
   "outputs": [
    {
     "name": "stdout",
     "output_type": "stream",
     "text": [
      "Before:  a * (2 * a + (b + 1))\n",
      "After:   a * (2 * a) + a * (b + 1)\n"
     ]
    }
   ],
   "source": [
    "a = Var(\"a\", natT)\n",
    "b = Var(\"b\", natT)\n",
    "two = nat.to_binary(2)\n",
    "t = times(a,plus(times(two,a),plus(b,one)))\n",
    "print(\"Before: \", printer.print_term(thy, t))\n",
    "\n",
    "t2 = rewrite(distrib_l, t)\n",
    "print(\"After:  \", printer.print_term(thy, t2))"
   ]
  },
  {
   "cell_type": "markdown",
   "metadata": {},
   "source": [
    "We have written our first program for proof automation! But before we get too excited - so far all we are doing is manipulating terms. In the next section, we will start the discussion of theorems, which allows us to describe proofs in a more precise language. In particular, we will see how to make sure that the proofs we construct are correct, without trusting the proof automation we wrote ourselves."
   ]
  }
 ],
 "metadata": {
  "kernelspec": {
   "display_name": "Python 3",
   "language": "python",
   "name": "python3"
  },
  "language_info": {
   "codemirror_mode": {
    "name": "ipython",
    "version": 3
   },
   "file_extension": ".py",
   "mimetype": "text/x-python",
   "name": "python",
   "nbconvert_exporter": "python",
   "pygments_lexer": "ipython3",
   "version": "3.5.2"
  }
 },
 "nbformat": 4,
 "nbformat_minor": 2
}
