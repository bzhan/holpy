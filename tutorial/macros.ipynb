{
 "cells": [
  {
   "cell_type": "markdown",
   "metadata": {},
   "source": [
    "$\\newcommand{\\To}{\\Rightarrow}$\n",
    "$\\newcommand{\\false}{\\mathrm{false}}$"
   ]
  },
  {
   "cell_type": "code",
   "execution_count": 1,
   "metadata": {},
   "outputs": [],
   "source": [
    "import os, sys\n",
    "sys.path.append(os.path.split(os.getcwd())[0])"
   ]
  },
  {
   "cell_type": "code",
   "execution_count": 2,
   "metadata": {},
   "outputs": [],
   "source": [
    "from kernel.type import boolT\n",
    "from kernel.term import Var\n",
    "from kernel.thm import Thm\n",
    "from kernel.report import ProofReport\n",
    "from logic import basic\n",
    "from logic import matcher\n",
    "from logic.logic import conj, disj\n",
    "from logic.logic_macro import apply_theorem\n",
    "from logic.proofterm import ProofTerm, ProofTermDeriv, ProofTermMacro\n",
    "from syntax import printer\n",
    "\n",
    "thy = basic.loadTheory('logic_base')"
   ]
  },
  {
   "cell_type": "markdown",
   "metadata": {},
   "source": [
    "## Macros"
   ]
  },
  {
   "cell_type": "markdown",
   "metadata": {},
   "source": [
    "In this section, we introduce the central concept of macros. Macros are deduction rules that serve as abbreviations for more elementary proof steps. In both linear proof and proof terms, one can use an invocation of a macro to substitute for multiple steps of proof. The macro invocations can be expanded on demand during proof checking. Hence, they shorten the length of proofs that need to be stored, and make the whole system scalable to large proofs.\n",
    "\n",
    "The standard way to create a macro is to inherit from class `ProofTermMacro` (so called because it constructs a macro from functions working with proof terms). The new macro class needs to implement the `get_proof_term` method, which takes as arguments the current theory, arguments to the macro, and a list of input proof terms. If the inputs are valid, the function should return the resulting proof term.\n",
    "\n",
    "Again, we use applying a theorem as an example, this time implementing it as a macro. We choose the name `apply_theorem_test` to avoid name conflicts with the existing `apply_theorem` macro."
   ]
  },
  {
   "cell_type": "code",
   "execution_count": 3,
   "metadata": {},
   "outputs": [],
   "source": [
    "class apply_theorem_test(ProofTermMacro):\n",
    "    def get_proof_term(self, thy, th_name, prevs):\n",
    "        pt = ProofTerm.theorem(thy, th_name)\n",
    "        As, _ = pt.prop.strip_implies()  # list of assumptions of pt\n",
    "        instsp = dict(), dict()      # initial (empty) instantiation\n",
    "        for A, prev in zip(As, prevs):   # match each assumption with corresponding prev\n",
    "            matcher.first_order_match_incr(A, prev.prop, instsp)\n",
    "        tyinst, inst = instsp\n",
    "        pt2 = ProofTerm.subst_type(tyinst, pt) if tyinst else pt   # perform substitution on pt\n",
    "        pt3 = ProofTerm.substitution(inst, pt2) if inst else pt2\n",
    "        for prev in prevs:                   # perform implies_elim on ptm\n",
    "            pt3 = ProofTerm.implies_elim(pt3, prev)\n",
    "        return pt3"
   ]
  },
  {
   "cell_type": "markdown",
   "metadata": {},
   "source": [
    "The implementation of `get_proof_term` in `apply_theorem_test` is exactly the same as `apply_theorem` function in the previous section. We can test this macro independently:"
   ]
  },
  {
   "cell_type": "code",
   "execution_count": 4,
   "metadata": {},
   "outputs": [
    {
     "name": "stdout",
     "output_type": "stream",
     "text": [
      "0: ⊢ A ⟶ B ⟶ A ∧ B by theorem conjI\n",
      "1: ⊢ A ⟶ B ⟶ A ∧ B by substitution {A: A, B: B} from 0\n",
      "2: A ⊢ A by assume A\n",
      "3: A ⊢ B ⟶ A ∧ B by implies_elim from 1, 2\n",
      "4: B ⊢ B by assume B\n",
      "5: A, B ⊢ A ∧ B by implies_elim from 3, 4\n"
     ]
    }
   ],
   "source": [
    "A = Var(\"A\", boolT)\n",
    "B = Var(\"B\", boolT)\n",
    "ptA = ProofTerm.assume(A)\n",
    "ptB = ProofTerm.assume(B)\n",
    "ptAB = apply_theorem_test().get_proof_term(thy, 'conjI', [ptA, ptB])\n",
    "prf = ptAB.export()\n",
    "thy.check_proof(prf)\n",
    "print(printer.print_proof(thy, prf, unicode=True))"
   ]
  },
  {
   "cell_type": "markdown",
   "metadata": {},
   "source": [
    "To use this macro in proofs, we need to first register it to the theory object. For this, we use the `add_proof_macro` method. It takes two arguments: the name of the macro, and the macro object."
   ]
  },
  {
   "cell_type": "code",
   "execution_count": 5,
   "metadata": {},
   "outputs": [],
   "source": [
    "thy.add_proof_macro('apply_theorem_test', apply_theorem_test())"
   ]
  },
  {
   "cell_type": "markdown",
   "metadata": {},
   "source": [
    "Even though the name of the macro agrees with the class name in this case, this is not required. Nor is it necessary that the macro object be built from a constructor taking no arguments. It can be built in any other way, as long as the `get_proof_term` method is present. This also marks the first time that we modified the theory object directly. As it is now clear, it is the job of the theory object to keep track of the set of macros that can be used in proofs, in addition to the list of types, constants, theorems, and so on."
   ]
  },
  {
   "cell_type": "code",
   "execution_count": 6,
   "metadata": {},
   "outputs": [
    {
     "name": "stdout",
     "output_type": "stream",
     "text": [
      "A, B ⊢ A ∧ B\n"
     ]
    }
   ],
   "source": [
    "ptA = ProofTerm.assume(A)\n",
    "ptB = ProofTerm.assume(B)\n",
    "ptAB = ProofTermDeriv('apply_theorem_test', thy, 'conjI', prevs=[ptA, ptB])\n",
    "print(printer.print_thm(thy, ptAB, unicode=True))"
   ]
  },
  {
   "cell_type": "markdown",
   "metadata": {},
   "source": [
    "As we can see, the sequent obtained by `ptAB` is computed immediately, using the `get_proof_term` function. However, the full proofs is not stored:"
   ]
  },
  {
   "cell_type": "code",
   "execution_count": 7,
   "metadata": {},
   "outputs": [
    {
     "name": "stdout",
     "output_type": "stream",
     "text": [
      "0: assume A\n",
      "1: assume B\n",
      "2: apply_theorem_test conjI from 0, 1\n"
     ]
    }
   ],
   "source": [
    "prf = ptAB.export()\n",
    "print(printer.print_proof(thy, prf, unicode=True))"
   ]
  },
  {
   "cell_type": "markdown",
   "metadata": {},
   "source": [
    "In the exported proof, the proof rule `apply_theorem_test` appears directly. Let us now check the proof while keeping the report:"
   ]
  },
  {
   "cell_type": "code",
   "execution_count": 8,
   "metadata": {},
   "outputs": [
    {
     "name": "stdout",
     "output_type": "stream",
     "text": [
      "0: A ⊢ A by assume A\n",
      "1: B ⊢ B by assume B\n",
      "2: A, B ⊢ A ∧ B by apply_theorem_test conjI from 0, 1 \n",
      "\n",
      "Steps: 6\n",
      "  Theorems:  1\n",
      "  Primitive: 5\n",
      "  Macro:     0\n",
      "Theorems applied: conjI\n",
      "Macros evaluated: \n",
      "Macros expanded: apply_theorem_test\n",
      "Gaps: []\n"
     ]
    }
   ],
   "source": [
    "rpt = ProofReport()\n",
    "thy.check_proof(prf, rpt)\n",
    "print(printer.print_proof(thy, prf, unicode=True), \"\\n\")\n",
    "print(rpt)"
   ]
  },
  {
   "cell_type": "markdown",
   "metadata": {},
   "source": [
    "This time the report is quite informative. While the original proof is only 3 steps, the report says 6 steps were taken, of which there is one application of a theorem (conjI) and 5 primitive steps. In addition, the macro `apply_theorem_test` is expanded. This means during proof checking, the full proof behind `apply_theorem_test` is expanded, first using its `get_proof_term` function to obtain a proof term, then converting that proof term into a linear proof."
   ]
  },
  {
   "cell_type": "markdown",
   "metadata": {},
   "source": [
    "## Trusted macros"
   ]
  },
  {
   "cell_type": "markdown",
   "metadata": {},
   "source": [
    "So far during proof checking, we always expanded invocations of macros into full proofs. In this way, we do not have to trust that the implementations of macros are correct: if there is any bug in the implementation, an exception will be raised when generating the full proof, or the generated proof will be incorrect and cannot pass proof-checking. Hence, always expanding macros give a very high level of confidence in the proofs. However, this level of confidence has a cost: often the sequent obtained by the macro can be computed much more efficiently than generating the full proof. Hence, it is often helpful to directly evaluate the sequent obtained by the macro, without generating full proofs. This lowers the level of confidence we have in the proof (if there is any bug in the evaluation function, it can go undetected and result in an incorrect proof), but the increase in efficiency can be substantial.\n",
    "\n",
    "For a macro to be evaluated directly, it has to provide two additional pieces of information: its trust level (given by field `level`) and its evaluation function (given by method `eval`). As an example, we fill in these two functions for the macro `apply_theorem_test`:"
   ]
  },
  {
   "cell_type": "code",
   "execution_count": 9,
   "metadata": {},
   "outputs": [],
   "source": [
    "class apply_theorem_test(ProofTermMacro):\n",
    "    def __init__(self):\n",
    "        self.level = 1\n",
    "        \n",
    "    def eval(self, thy, th_name, prevs):\n",
    "        print(\"Calling eval...\")\n",
    "        th = thy.get_theorem(th_name)\n",
    "        As, C = th.prop.strip_implies()\n",
    "        instsp = dict(), dict()\n",
    "        for A, prev in zip(As, prevs):\n",
    "            matcher.first_order_match_incr(A, prev.prop, instsp)\n",
    "        tyinst, inst = instsp\n",
    "        prev_hyps = sum([prev.hyps for prev in prevs], ())\n",
    "        C2 = C.subst_type(tyinst).subst(inst)\n",
    "        return Thm(th.hyps + prev_hyps, C2)\n",
    "\n",
    "    def get_proof_term(self, thy, th_name, prevs):\n",
    "        print(\"Calling get_proof_term...\")\n",
    "        pt = ProofTerm.theorem(thy, th_name)\n",
    "        As, _ = pt.prop.strip_implies()  # list of assumptions of pt\n",
    "        instsp = dict(), dict()      # initial (empty) instantiation\n",
    "        for A, prev in zip(As, prevs):   # match each assumption with corresponding prev\n",
    "            matcher.first_order_match_incr(A, prev.prop, instsp)\n",
    "        tyinst, inst = instsp\n",
    "        pt2 = ProofTerm.subst_type(tyinst, pt) if tyinst else pt   # perform substitution on pt\n",
    "        pt3 = ProofTerm.substitution(inst, pt2) if inst else pt2\n",
    "        for prev in prevs:                   # perform implies_elim on ptm\n",
    "            pt3 = ProofTerm.implies_elim(pt3, prev)\n",
    "        return pt3"
   ]
  },
  {
   "cell_type": "markdown",
   "metadata": {},
   "source": [
    "We added two calls to print so we can see which methods are invoked at what time. First, we add the new macro to the theory (which overwrites the existing macro)."
   ]
  },
  {
   "cell_type": "code",
   "execution_count": 10,
   "metadata": {},
   "outputs": [],
   "source": [
    "thy.add_proof_macro('apply_theorem_test', apply_theorem_test())"
   ]
  },
  {
   "cell_type": "markdown",
   "metadata": {},
   "source": [
    "Next, we test with a simple example:"
   ]
  },
  {
   "cell_type": "code",
   "execution_count": 11,
   "metadata": {},
   "outputs": [
    {
     "name": "stdout",
     "output_type": "stream",
     "text": [
      "Calling eval...\n",
      "A, B ⊢ A ∧ B\n"
     ]
    }
   ],
   "source": [
    "ptA = ProofTerm.assume(A)\n",
    "ptB = ProofTerm.assume(B)\n",
    "ptAB = ProofTermDeriv('apply_theorem_test', thy, 'conjI', prevs=[ptA, ptB])\n",
    "print(printer.print_thm(thy, ptAB, unicode=True))"
   ]
  },
  {
   "cell_type": "markdown",
   "metadata": {},
   "source": [
    "Note that the evaluation function is called in `ProofTermDeriv` to generate the sequent obtained by the macro. This is always the case when `eval` is provided, since we do not need to trust anything at this point, because the proof still needs to be checked later. In proof checking, we can specify an additional argument `check_level`. During proof checking, all macros with level less or equal to the check level do not need to be expanded (if a macro does not have level specified, it is always expanded). For example:"
   ]
  },
  {
   "cell_type": "code",
   "execution_count": 12,
   "metadata": {},
   "outputs": [
    {
     "name": "stdout",
     "output_type": "stream",
     "text": [
      "Calling eval...\n",
      "0: A ⊢ A by assume A\n",
      "1: B ⊢ B by assume B\n",
      "2: A, B ⊢ A ∧ B by apply_theorem_test conjI from 0, 1 \n",
      "\n",
      "Steps: 3\n",
      "  Theorems:  0\n",
      "  Primitive: 2\n",
      "  Macro:     1\n",
      "Theorems applied: \n",
      "Macros evaluated: apply_theorem_test\n",
      "Macros expanded: \n",
      "Gaps: []\n"
     ]
    }
   ],
   "source": [
    "rpt = ProofReport()\n",
    "thy.check_proof(prf, rpt, check_level=1)\n",
    "print(printer.print_proof(thy, prf, unicode=True), \"\\n\")\n",
    "print(rpt)"
   ]
  },
  {
   "cell_type": "markdown",
   "metadata": {},
   "source": [
    "Note the evaluation function is called, and the report indicates there are only three steps in the proof. The report also shows `apply_theorem_test` is among the set of macros that are evaluated. Also note that proof checking did not detect the use of theorem `conjI`. This is because the invocation of the theorem lies within the macro expansion.\n",
    "\n",
    "We now consider a more complete example, showing commutativity of conjunction:"
   ]
  },
  {
   "cell_type": "code",
   "execution_count": 13,
   "metadata": {},
   "outputs": [
    {
     "name": "stdout",
     "output_type": "stream",
     "text": [
      "Calling eval...\n",
      "Calling eval...\n",
      "Calling eval...\n",
      "⊢ A ∧ B ⟶ B ∧ A\n"
     ]
    }
   ],
   "source": [
    "pt0 = ProofTerm.assume(conj(A, B))\n",
    "pt1 = ProofTermDeriv('apply_theorem_test', thy, 'conjD1', [pt0])\n",
    "pt2 = ProofTermDeriv('apply_theorem_test', thy, 'conjD2', [pt0])\n",
    "pt3 = ProofTermDeriv('apply_theorem_test', thy, 'conjI', [pt2, pt1])\n",
    "pt4 = ProofTerm.implies_intr(conj(A, B), pt3)\n",
    "print(printer.print_thm(thy, pt4.th, unicode=True))"
   ]
  },
  {
   "cell_type": "markdown",
   "metadata": {},
   "source": [
    "Note the evaluation function is called at every call of `ProofTermDeriv`. Now, we check the proof, first with macro expansion:"
   ]
  },
  {
   "cell_type": "code",
   "execution_count": 14,
   "metadata": {},
   "outputs": [
    {
     "name": "stdout",
     "output_type": "stream",
     "text": [
      "Calling get_proof_term...\n",
      "Calling get_proof_term...\n",
      "Calling get_proof_term...\n",
      "Steps: 12\n",
      "  Theorems:  3\n",
      "  Primitive: 9\n",
      "  Macro:     0\n",
      "Theorems applied: conjD1, conjI, conjD2\n",
      "Macros evaluated: \n",
      "Macros expanded: apply_theorem_test\n",
      "Gaps: []\n"
     ]
    }
   ],
   "source": [
    "prf = pt4.export()\n",
    "rpt = ProofReport()\n",
    "thy.check_proof(prf, rpt)\n",
    "print(rpt)"
   ]
  },
  {
   "cell_type": "markdown",
   "metadata": {},
   "source": [
    "We see all three calls to `apply_theorem_test` are expanded. The resulting proof has 12 steps in total. Next, we check the proof with macro expansion:"
   ]
  },
  {
   "cell_type": "code",
   "execution_count": 15,
   "metadata": {},
   "outputs": [
    {
     "name": "stdout",
     "output_type": "stream",
     "text": [
      "Calling eval...\n",
      "Calling eval...\n",
      "Calling eval...\n",
      "Steps: 5\n",
      "  Theorems:  0\n",
      "  Primitive: 2\n",
      "  Macro:     3\n",
      "Theorems applied: \n",
      "Macros evaluated: apply_theorem_test\n",
      "Macros expanded: \n",
      "Gaps: []\n"
     ]
    }
   ],
   "source": [
    "rpt2 = ProofReport()\n",
    "thy.check_proof(prf, rpt2, check_level=1)\n",
    "print(rpt2)"
   ]
  },
  {
   "cell_type": "markdown",
   "metadata": {},
   "source": [
    "We see that all three calls to `apply_theorem_test` are simply evaluated, and the report is quite different, showing only 5 steps of proof. Printing the proof itself also shows only 5 steps:"
   ]
  },
  {
   "cell_type": "code",
   "execution_count": 16,
   "metadata": {},
   "outputs": [
    {
     "name": "stdout",
     "output_type": "stream",
     "text": [
      "0: A ∧ B ⊢ A ∧ B by assume A ∧ B\n",
      "1: A ∧ B ⊢ B by apply_theorem_test conjD2 from 0\n",
      "2: A ∧ B ⊢ A by apply_theorem_test conjD1 from 0\n",
      "3: A ∧ B ⊢ B ∧ A by apply_theorem_test conjI from 1, 2\n",
      "4: ⊢ A ∧ B ⟶ B ∧ A by implies_intr A ∧ B from 3\n"
     ]
    }
   ],
   "source": [
    "print(printer.print_proof(thy, prf, unicode=True))"
   ]
  },
  {
   "cell_type": "markdown",
   "metadata": {},
   "source": [
    "## Applying theorems in practice"
   ]
  },
  {
   "cell_type": "markdown",
   "metadata": {},
   "source": [
    "The actual `apply_theorem` macro has more features: it allows two versions - with and without specifying an instantiation. The version taking an instantiation is used when first-order matching is unable to produce assignments for all variables. This may be because there are variables in the conclusion but not in the assumptions of the theorem, or because applying the theorem requires higher-order matching. The macro not taking instantiations is called `apply_theorem` and the macro taking instantiations is called `apply_theorem_for`.\n",
    "\n",
    "Invocations to both macros are wrapped in a function `apply_theorem`. We now demonstrate the use of this function."
   ]
  },
  {
   "cell_type": "code",
   "execution_count": 17,
   "metadata": {},
   "outputs": [
    {
     "name": "stdout",
     "output_type": "stream",
     "text": [
      "0: A ∧ B ⊢ A ∧ B by assume A ∧ B\n",
      "1: A ∧ B ⊢ B by apply_theorem conjD2 from 0\n",
      "2: A ∧ B ⊢ A by apply_theorem conjD1 from 0\n",
      "3: A ∧ B ⊢ B ∧ A by apply_theorem conjI from 1, 2\n",
      "4: ⊢ A ∧ B ⟶ B ∧ A by implies_intr A ∧ B from 3\n"
     ]
    }
   ],
   "source": [
    "pt0 = ProofTerm.assume(conj(A, B))\n",
    "pt1 = apply_theorem(thy, 'conjD1', pt0)\n",
    "pt2 = apply_theorem(thy, 'conjD2', pt0)\n",
    "pt3 = apply_theorem(thy, 'conjI', pt2, pt1)\n",
    "pt4 = ProofTerm.implies_intr(conj(A, B), pt3)\n",
    "prf = pt4.export()\n",
    "thy.check_proof(prf)\n",
    "print(printer.print_proof(thy, prf, unicode=True))"
   ]
  },
  {
   "cell_type": "markdown",
   "metadata": {},
   "source": [
    "Next, we consider the proof of commutativity of disjunction, which requires specifying the conclusion (or a partial instantiation) in some calls to `apply_theorem`."
   ]
  },
  {
   "cell_type": "code",
   "execution_count": 18,
   "metadata": {},
   "outputs": [
    {
     "name": "stdout",
     "output_type": "stream",
     "text": [
      "0: A ∨ B ⊢ A ∨ B by assume A ∨ B\n",
      "1: A ⊢ A by assume A\n",
      "2: A ⊢ B ∨ A by apply_theorem_for disjI2, {}, {A: B, B: A} from 1\n",
      "3: ⊢ A ⟶ B ∨ A by implies_intr A from 2\n",
      "4: B ⊢ B by assume B\n",
      "5: B ⊢ B ∨ A by apply_theorem_for disjI1, {}, {A: B, B: A} from 4\n",
      "6: ⊢ B ⟶ B ∨ A by implies_intr B from 5\n",
      "7: A ∨ B ⊢ B ∨ A by apply_theorem disjE from 0, 3, 6\n",
      "8: ⊢ A ∨ B ⟶ B ∨ A by implies_intr A ∨ B from 7\n"
     ]
    }
   ],
   "source": [
    "pt0 = ProofTerm.assume(disj(A, B))\n",
    "pt1 = ProofTerm.assume(A)\n",
    "pt2 = apply_theorem(thy, 'disjI2', pt1, concl=disj(B, A))\n",
    "pt3 = ProofTerm.implies_intr(A, pt2)\n",
    "pt4 = ProofTerm.assume(B)\n",
    "pt5 = apply_theorem(thy, 'disjI1', pt4, concl=disj(B, A))\n",
    "pt6 = ProofTerm.implies_intr(B, pt5)\n",
    "pt7 = apply_theorem(thy, 'disjE', pt0, pt3, pt6)\n",
    "pt8 = ProofTerm.implies_intr(disj(A, B), pt7)\n",
    "prf = pt8.export()\n",
    "thy.check_proof(prf)\n",
    "print(printer.print_proof(thy, prf, unicode=True))"
   ]
  },
  {
   "cell_type": "markdown",
   "metadata": {},
   "source": [
    "Checking the proof by expanding the macros yields the following report:"
   ]
  },
  {
   "cell_type": "code",
   "execution_count": 19,
   "metadata": {},
   "outputs": [
    {
     "name": "stdout",
     "output_type": "stream",
     "text": [
      "Steps: 20\n",
      "  Theorems:  3\n",
      "  Primitive: 17\n",
      "  Macro:     0\n",
      "Theorems applied: disjE, disjI2, disjI1\n",
      "Macros evaluated: \n",
      "Macros expanded: apply_theorem, apply_theorem_for\n",
      "Gaps: []\n"
     ]
    }
   ],
   "source": [
    "rpt = ProofReport()\n",
    "thy.check_proof(prf, rpt)\n",
    "print(rpt)"
   ]
  }
 ],
 "metadata": {
  "kernelspec": {
   "display_name": "Python 3",
   "language": "python",
   "name": "python3"
  },
  "language_info": {
   "codemirror_mode": {
    "name": "ipython",
    "version": 3
   },
   "file_extension": ".py",
   "mimetype": "text/x-python",
   "name": "python",
   "nbconvert_exporter": "python",
   "pygments_lexer": "ipython3",
   "version": "3.6.6"
  }
 },
 "nbformat": 4,
 "nbformat_minor": 2
}
