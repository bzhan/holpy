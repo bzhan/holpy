{
 "cells": [
  {
   "cell_type": "markdown",
   "metadata": {},
   "source": [
    "## Satisfiability"
   ]
  },
  {
   "cell_type": "markdown",
   "metadata": {},
   "source": [
    "In this section, we study the DPLL algorithm (for Davis-Putnam-Logemann-Loveland) for solving satisfiability problems. In particular, we present the version with deriving conflict clauses and non-chronological backtracking. If the formula is unsatisfiable, the algorithms returns a certificate of unsatisfiability as a series of resolution steps.\n",
    "\n",
    "The material in this section is based on Chapter 3 and 4 from Handbook of Satisfiability.\n",
    "\n",
    "The DPLL algorithm works with a formula in CNF form, for example:\n",
    "\n",
    "$$ (\\neg x_1 \\vee x_2) \\wedge (\\neg x_2 \\vee \\neg x_3 \\vee x_4) \\wedge (\\neg x_1 \\vee \\neg x_3 \\vee \\neg x_4) $$\n",
    "\n",
    "This formula can be presented as a list of lists of literals, where each literal is either $P$ (represented as the pair $(P, \\mathit{True})$) or $\\neg P$ (represented as the pair $(P, \\mathit{False})$). For example, the above formula is represented as:"
   ]
  },
  {
   "cell_type": "code",
   "execution_count": 1,
   "metadata": {},
   "outputs": [],
   "source": [
    "cnf = [\n",
    "    [('x1', False), ('x2', True)],\n",
    "    [('x2', False), ('x3', False), ('x4', True)],\n",
    "    [('x1', False), ('x3', False), ('x4', False)]\n",
    "]"
   ]
  },
  {
   "cell_type": "markdown",
   "metadata": {},
   "source": [
    "The printing function for CNF's can be written as follows:"
   ]
  },
  {
   "cell_type": "code",
   "execution_count": 2,
   "metadata": {},
   "outputs": [],
   "source": [
    "def str_of_literal(lit):\n",
    "    return lit[0] if lit[1] else '¬' + lit[0]\n",
    "\n",
    "def str_of_clause(clause):\n",
    "    if len(clause) == 0:\n",
    "        return 'False'\n",
    "    else:\n",
    "        return ' ∨ '.join(str_of_literal(lit) for lit in clause)\n",
    "\n",
    "def str_of_cnf(cnf):\n",
    "    if len(cnf) == 0:\n",
    "        return 'True'\n",
    "    else:\n",
    "        return ' ∧ '.join('(' + str_of_clause(clause) + ')' for clause in cnf)"
   ]
  },
  {
   "cell_type": "code",
   "execution_count": 3,
   "metadata": {},
   "outputs": [
    {
     "name": "stdout",
     "output_type": "stream",
     "text": [
      "(¬x1 ∨ x2) ∧ (¬x2 ∨ ¬x3 ∨ x4) ∧ (¬x1 ∨ ¬x3 ∨ ¬x4)\n"
     ]
    }
   ],
   "source": [
    "print(str_of_cnf(cnf))"
   ]
  },
  {
   "cell_type": "markdown",
   "metadata": {},
   "source": [
    "The basic DPLL algorithm is quite simple to describe: if the current CNF allows us to immediately derive the value of any literals, do so. Otherwise, pick a literal that has not been assigned a value, assign either $\\mathit{True}$ or $\\mathit{False}$ to the literal, then try to derive the values of other literals as far as possible.\n",
    "\n",
    "We maintain a dictionary of assignment of variables. To each variable, we associate a tuple $(\\mathit{val}, \\mathit{is\\_decide}, \\mathit{level}, \\mathit{clause})$. The meaning of each component is as follows:\n",
    "\n",
    "* $\\mathit{val}$ is the assigned value of the variable.\n",
    "* $\\mathit{is\\_decide} = \\mathit{True}$ if the assignment is a decision. Otherwise the assignment is derived by unit propagation.\n",
    "* $\\mathit{level}$ gives the number of decided assignments at or before this assignment. The level is 0 for the initial assigments due to unit propagation, 1 for the first decision and unit propagation resulting from it, etc.\n",
    "* $\\mathit{clause}$ gives, for each derived assignment, the index of the clause used to derived it. This is useful for reconstructing the proof later. For decision assignments this is $\\mathit{None}$."
   ]
  },
  {
   "cell_type": "code",
   "execution_count": 4,
   "metadata": {},
   "outputs": [],
   "source": [
    "# Mapping from assigned variables to its information.\n",
    "assigns = dict()\n",
    "\n",
    "# Current level\n",
    "level = 0"
   ]
  },
  {
   "cell_type": "markdown",
   "metadata": {},
   "source": [
    "We first define the unit propagation function. This function goes over the clauses. For each clause that is not satisfied by the assignment, and that has only one literal remaining, it assigns the appropriate value to the literal so the clause can be satisfied. The function stops either when there is no propagation remaining (in which case it returns `None`), or if it discovered a conflict clause (in which case it returns (`conflict`, $id$), where $id$ is the conflict clause, or if a satisfying assignment is discovered (in which case it returns `satisfiable`)."
   ]
  },
  {
   "cell_type": "code",
   "execution_count": 5,
   "metadata": {},
   "outputs": [],
   "source": [
    "def unit_propagate():\n",
    "    global assigns, level\n",
    "    while True:\n",
    "        has_unsatisfied = False  # whether there is still clause to be satisfied\n",
    "        has_propagate = False  # whether a propagation has occurred\n",
    "        for clause_id, clause in enumerate(cnf):\n",
    "            satisfied = False  # whether the current clause is satisfied\n",
    "            unassigned = []  # list of unassigned literals\n",
    "            \n",
    "            # Iterate over the literals, check if the existing assignment satisfies\n",
    "            # the clause, and if not, what are the unassigned literals.\n",
    "            for lit in clause:\n",
    "                name, val = lit\n",
    "                if name in assigns:\n",
    "                    if val == assigns[name][0]:\n",
    "                        satisfied = True\n",
    "                        break\n",
    "                else:\n",
    "                    unassigned.append(lit)\n",
    "                    \n",
    "            # If the clause is not already satisfied, no unassigned literals implies\n",
    "            # conflict. One unassigned literals implies possibility for unit propagation.\n",
    "            if not satisfied:\n",
    "                if len(unassigned) == 0:\n",
    "                    return 'conflict', clause_id\n",
    "                elif len(unassigned) == 1:\n",
    "                    name, val = unassigned[0]\n",
    "                    print('Unit propagate %s = %s using clause %s' % (name, val, clause_id))\n",
    "                    assigns[name] = (val, False, level, clause_id)\n",
    "                    has_propagate = True\n",
    "                    break\n",
    "                else:\n",
    "                    has_unsatisfied = True\n",
    "                    \n",
    "        if not has_propagate:\n",
    "            if not has_unsatisfied:\n",
    "                return 'satisfiable'\n",
    "            else:\n",
    "                return None"
   ]
  },
  {
   "cell_type": "markdown",
   "metadata": {},
   "source": [
    "We test this function on the initial state:"
   ]
  },
  {
   "cell_type": "code",
   "execution_count": 6,
   "metadata": {},
   "outputs": [
    {
     "name": "stdout",
     "output_type": "stream",
     "text": [
      "None\n"
     ]
    }
   ],
   "source": [
    "level = 1\n",
    "assigns = {}\n",
    "print(unit_propagate())"
   ]
  },
  {
   "cell_type": "markdown",
   "metadata": {},
   "source": [
    "As expected, nothing is done because no unit propagation is available at this step. Next, let's guess $x_1 = \\mathit{True}$, and start unit propagation from there:"
   ]
  },
  {
   "cell_type": "code",
   "execution_count": 7,
   "metadata": {},
   "outputs": [
    {
     "name": "stdout",
     "output_type": "stream",
     "text": [
      "Unit propagate x2 = True using clause 0\n",
      "None\n",
      "{'x1': (True, True, 1, None), 'x2': (True, False, 1, 0)}\n"
     ]
    }
   ],
   "source": [
    "level = 1\n",
    "assigns = {'x1': (True, True, 1, None)}\n",
    "print(unit_propagate())\n",
    "print(assigns)"
   ]
  },
  {
   "cell_type": "markdown",
   "metadata": {},
   "source": [
    "We see that the algorithm is able to propagate $x_2 = \\mathit{True}$, but no more. If we further guess $x_3 = \\mathit{True}$, it will propagate the value of $x_4$, and then derive a contradiction (from clause with $id = 2$)."
   ]
  },
  {
   "cell_type": "code",
   "execution_count": 8,
   "metadata": {},
   "outputs": [
    {
     "name": "stdout",
     "output_type": "stream",
     "text": [
      "Unit propagate x4 = True using clause 1\n",
      "('conflict', 2)\n"
     ]
    }
   ],
   "source": [
    "level = 2\n",
    "assigns = {'x1': (True, True, 1, None), 'x2': (True, False, 1, 0), 'x3': (True, True, 2, None)}\n",
    "print(unit_propagate())"
   ]
  },
  {
   "cell_type": "markdown",
   "metadata": {},
   "source": [
    "If a conflict occurred, we can analyze the conflict to see which decision variables it depends on. First, we define a function computing the resolution of two clauses on a literal. This function assumes (does not check) that the inputs are valid."
   ]
  },
  {
   "cell_type": "code",
   "execution_count": 9,
   "metadata": {},
   "outputs": [],
   "source": [
    "def resolution(clause1, clause2, name):\n",
    "    lit1 = [lit for lit in clause1 if lit[0] != name]\n",
    "    lit2 = [lit for lit in clause2 if lit[0] != name]\n",
    "    return list(set(lit1 + lit2))"
   ]
  },
  {
   "cell_type": "markdown",
   "metadata": {},
   "source": [
    "We can briefly test this function:"
   ]
  },
  {
   "cell_type": "code",
   "execution_count": 10,
   "metadata": {},
   "outputs": [
    {
     "name": "stdout",
     "output_type": "stream",
     "text": [
      "[('x2', False), ('x3', True)]\n",
      "[('x2', False)]\n"
     ]
    }
   ],
   "source": [
    "print(resolution([('x1', True), ('x2', False)], [('x1', False), ('x3', True)], 'x1'))\n",
    "print(resolution([('x1', False), ('x2', False)], [('x1', True), ('x2', False)], 'x1'))"
   ]
  },
  {
   "cell_type": "code",
   "execution_count": 11,
   "metadata": {},
   "outputs": [],
   "source": [
    "def analyze_conflict(clause_id):\n",
    "    clause = cnf[clause_id]\n",
    "    proof = [clause_id]\n",
    "    print('Analyze conflict on clause %s: %s' % (clause_id, str_of_clause(clause)))\n",
    "    while True:\n",
    "        has_resolution = False\n",
    "        for lit in clause:\n",
    "            name, val = lit\n",
    "            assert name in assigns and val != assigns[name][0]\n",
    "            _, is_decide, level, propagate_id = assigns[name]\n",
    "            if not is_decide:\n",
    "                has_resolution = True\n",
    "                proof.append(propagate_id)\n",
    "                clause = resolution(clause, cnf[propagate_id], name)\n",
    "                print('Resolution with clause %s on atom %s, obtaining %s' % (propagate_id, name, str_of_clause(clause)))\n",
    "                break\n",
    "\n",
    "        if not has_resolution:\n",
    "            break\n",
    "\n",
    "    return proof, clause"
   ]
  },
  {
   "cell_type": "markdown",
   "metadata": {},
   "source": [
    "The function returns a list of resolution steps and the resulting clause."
   ]
  },
  {
   "cell_type": "code",
   "execution_count": 12,
   "metadata": {},
   "outputs": [
    {
     "name": "stdout",
     "output_type": "stream",
     "text": [
      "Analyze conflict on clause 2: ¬x1 ∨ ¬x3 ∨ ¬x4\n",
      "Resolution with clause 1 on atom x4, obtaining ¬x3 ∨ ¬x1 ∨ ¬x2\n",
      "Resolution with clause 0 on atom x2, obtaining ¬x3 ∨ ¬x1\n",
      "([2, 1, 0], [('x3', False), ('x1', False)])\n"
     ]
    }
   ],
   "source": [
    "print(analyze_conflict(2))"
   ]
  },
  {
   "cell_type": "markdown",
   "metadata": {},
   "source": [
    "We now implement the backtracking function. When a conflict occurs, it is analyzed and the list of assignments is backtracked according the analysis. The analysis returns the list of decision assignments the conflict is based on. Sort the decision assignments by level, and suppose the last two levels are $l_2$ and $l_1$. We backtrack to the level $l_2$, that is removing all decisions at and after level $l_2+1$. If there is only one decision assignment in the conflict, we backtrack to level $0$, that is removing all decisions at and after level $1$. We also append the conflict clause (the *learned* clause) to the list of clauses, and remember its resolution proof. The conflict clause allows at least one unit propagation, assigning the variable originally decided at level $l_1$. If there is no decision assignments in the conflict, it means we have proved the empty clause, and the overall formula is unsatisfiable."
   ]
  },
  {
   "cell_type": "code",
   "execution_count": 13,
   "metadata": {},
   "outputs": [],
   "source": [
    "# Records proofs of learned clauses\n",
    "proofs = dict()\n",
    "\n",
    "def backtrack(clause_id):\n",
    "    # Analyze conflict, record the new clause and its proof\n",
    "    proof, clause = analyze_conflict(clause_id)\n",
    "    new_id = len(cnf)\n",
    "    cnf.append(clause)\n",
    "    proofs[new_id] = proof\n",
    "\n",
    "    # Sort the clause by level, find the second to last level\n",
    "    if len(clause) == 0:\n",
    "        return 'unsatisfiable'\n",
    "    elif len(clause) == 1:\n",
    "        backtrack_level = 0\n",
    "    else:\n",
    "        clause = sorted(clause, key=lambda lit: assigns[lit[0]][2])\n",
    "        name, _ = clause[-2]\n",
    "        backtrack_level = assigns[name][2]\n",
    "        \n",
    "    # Backtrack to that level\n",
    "    assigned_names = list(assigns.keys())\n",
    "    for name in assigned_names:\n",
    "        if assigns[name][2] > backtrack_level:\n",
    "            del assigns[name]\n",
    "            \n",
    "    return backtrack_level"
   ]
  },
  {
   "cell_type": "markdown",
   "metadata": {},
   "source": [
    "We test the backtrack function from the current state of assignments:"
   ]
  },
  {
   "cell_type": "code",
   "execution_count": 14,
   "metadata": {},
   "outputs": [
    {
     "name": "stdout",
     "output_type": "stream",
     "text": [
      "Analyze conflict on clause 2: ¬x1 ∨ ¬x3 ∨ ¬x4\n",
      "Resolution with clause 1 on atom x4, obtaining ¬x3 ∨ ¬x1 ∨ ¬x2\n",
      "Resolution with clause 0 on atom x2, obtaining ¬x3 ∨ ¬x1\n",
      "new level: 1\n",
      "{'x1': (True, True, 1, None), 'x2': (True, False, 1, 0)}\n",
      "(¬x1 ∨ x2) ∧ (¬x2 ∨ ¬x3 ∨ x4) ∧ (¬x1 ∨ ¬x3 ∨ ¬x4) ∧ (¬x3 ∨ ¬x1)\n",
      "{3: [2, 1, 0]}\n"
     ]
    }
   ],
   "source": [
    "assigns = {'x1': (True, True, 1, None), 'x2': (True, False, 1, 0), 'x3': (True, True, 2, None), 'x4': (True, False, 2, 1)}\n",
    "cnf = [\n",
    "    [('x1', False), ('x2', True)],\n",
    "    [('x2', False), ('x3', False), ('x4', True)],\n",
    "    [('x1', False), ('x3', False), ('x4', False)]\n",
    "]\n",
    "proofs = dict()\n",
    "\n",
    "print('new level:', backtrack(2))\n",
    "print(assigns)\n",
    "print(str_of_cnf(cnf))\n",
    "print(proofs)"
   ]
  },
  {
   "cell_type": "markdown",
   "metadata": {},
   "source": [
    "Now, we put all these together in a full algorithm. First, unit propagation is performed to find derived assignments at level 0. Then the main loop begins. At each iteration of the loop, we first decide on a variable that is not yet assigned. Then perform unit propagation. If unit propagation results in satisfiable, we return the result. If it stops without finding a conflict, we start another iteration. If it finds a conflict, we perform backtracking."
   ]
  },
  {
   "cell_type": "code",
   "execution_count": 15,
   "metadata": {},
   "outputs": [],
   "source": [
    "def dpll():\n",
    "    global level, assigns, proofs\n",
    "    level = 0\n",
    "    assigns = dict()\n",
    "    proofs = dict()\n",
    "    \n",
    "    # Find set of all variables\n",
    "    variables = set()\n",
    "    for clause in cnf:\n",
    "        for name, _ in clause:\n",
    "            variables.add(name)\n",
    "\n",
    "    propagate_res = unit_propagate()\n",
    "    while True:\n",
    "        if propagate_res == 'satisfiable':\n",
    "            # Formula is satisfiable, return only assigned values\n",
    "            assignment = dict((name, val) for name, (val, _, _, _) in assigns.items())\n",
    "            return 'satisfiable', assignment\n",
    "        elif propagate_res is None:\n",
    "            # Unit propagation stops, choose a new variable\n",
    "            level += 1\n",
    "            for var in variables:\n",
    "                if var not in assigns:\n",
    "                    assigns[var] = (True, True, level, None)\n",
    "                    break\n",
    "        else:\n",
    "            # Conflict occurs, backtrack\n",
    "            _, clause_id = propagate_res\n",
    "            backtrack_res = backtrack(clause_id)\n",
    "            if backtrack_res == 'unsatisfiable':\n",
    "                # Formula is unsatisfiable, return the proof\n",
    "                return 'unsatisfiable', proofs\n",
    "            else:\n",
    "                level = backtrack_res\n",
    "            \n",
    "        propagate_res = unit_propagate()"
   ]
  },
  {
   "cell_type": "code",
   "execution_count": 16,
   "metadata": {},
   "outputs": [
    {
     "name": "stdout",
     "output_type": "stream",
     "text": [
      "(¬x1 ∨ x2) ∧ (¬x2 ∨ ¬x3 ∨ x4) ∧ (¬x1 ∨ ¬x3 ∨ ¬x4)\n",
      "Unit propagate x2 = True using clause 0\n",
      "Unit propagate x3 = False using clause 2\n",
      "('satisfiable', {'x1': True, 'x2': True, 'x4': True, 'x3': False})\n"
     ]
    }
   ],
   "source": [
    "cnf = [\n",
    "    [('x1', False), ('x2', True)],\n",
    "    [('x2', False), ('x3', False), ('x4', True)],\n",
    "    [('x1', False), ('x3', False), ('x4', False)]\n",
    "]\n",
    "print(str_of_cnf(cnf))\n",
    "print(dpll())"
   ]
  },
  {
   "cell_type": "markdown",
   "metadata": {},
   "source": [
    "The result indicates that the formula is satisfiable by assignment $x_1$ and $x_2$ to true, and $x_3$ to false. Let's test on an unsatisfiable formula:"
   ]
  },
  {
   "cell_type": "code",
   "execution_count": 17,
   "metadata": {},
   "outputs": [
    {
     "name": "stdout",
     "output_type": "stream",
     "text": [
      "(x1 ∨ x2) ∧ (x1 ∨ ¬x2) ∧ (¬x1 ∨ x2) ∧ (¬x1 ∨ ¬x2)\n",
      "Unit propagate x2 = True using clause 2\n",
      "Analyze conflict on clause 3: ¬x1 ∨ ¬x2\n",
      "Resolution with clause 2 on atom x2, obtaining ¬x1\n",
      "Unit propagate x1 = False using clause 4\n",
      "Unit propagate x2 = True using clause 0\n",
      "Analyze conflict on clause 1: x1 ∨ ¬x2\n",
      "Resolution with clause 4 on atom x1, obtaining ¬x2\n",
      "Resolution with clause 0 on atom x2, obtaining x1\n",
      "Resolution with clause 4 on atom x1, obtaining False\n",
      "('unsatisfiable', {4: [3, 2], 5: [1, 4, 0, 4]})\n"
     ]
    }
   ],
   "source": [
    "cnf = [\n",
    "    [('x1', True), ('x2', True)],\n",
    "    [('x1', True), ('x2', False)],\n",
    "    [('x1', False), ('x2', True)],\n",
    "    [('x1', False), ('x2', False)]\n",
    "]\n",
    "print(str_of_cnf(cnf))\n",
    "print(dpll())"
   ]
  },
  {
   "cell_type": "markdown",
   "metadata": {},
   "source": [
    "The result indicates that the formula is unsatisfiable, returning a proof based on resolution. For good measure, let's also test the code on some corner cases:"
   ]
  },
  {
   "cell_type": "code",
   "execution_count": 18,
   "metadata": {},
   "outputs": [
    {
     "name": "stdout",
     "output_type": "stream",
     "text": [
      "True\n",
      "('satisfiable', {})\n"
     ]
    }
   ],
   "source": [
    "cnf = []  # trivially true\n",
    "print(str_of_cnf(cnf))\n",
    "print(dpll())"
   ]
  },
  {
   "cell_type": "code",
   "execution_count": 19,
   "metadata": {},
   "outputs": [
    {
     "name": "stdout",
     "output_type": "stream",
     "text": [
      "(False)\n",
      "Analyze conflict on clause 0: False\n",
      "('unsatisfiable', {1: [0]})\n"
     ]
    }
   ],
   "source": [
    "cnf = [[]]  # trivially false\n",
    "print(str_of_cnf(cnf))\n",
    "print(dpll())"
   ]
  },
  {
   "cell_type": "markdown",
   "metadata": {},
   "source": [
    "The full code for DPLL can be wrapped up in a function:"
   ]
  },
  {
   "cell_type": "code",
   "execution_count": 20,
   "metadata": {},
   "outputs": [],
   "source": [
    "from copy import copy\n",
    "\n",
    "def dpll(cnf, *, debug=False):\n",
    "    cnf = copy(cnf)  # avoid modifying the input\n",
    "    assigns = dict()\n",
    "    level = 0\n",
    "    proofs = dict()\n",
    "    \n",
    "    def print_debug(s):\n",
    "        if debug:\n",
    "            print(s)\n",
    "\n",
    "    def unit_propagate():\n",
    "        while True:\n",
    "            has_unsatisfied = False  # whether there is still clause to be satisfied\n",
    "            has_propagate = False  # whether a propagation has occurred\n",
    "            for clause_id, clause in enumerate(cnf):\n",
    "                satisfied = False  # whether the current clause is satisfied\n",
    "                unassigned = []  # list of unassigned literals\n",
    "\n",
    "                # Iterate over the literals, check if the existing assignment satisfies\n",
    "                # the clause, and if not, what are the unassigned literals.\n",
    "                for lit in clause:\n",
    "                    name, val = lit\n",
    "                    if name in assigns:\n",
    "                        if val == assigns[name][0]:\n",
    "                            satisfied = True\n",
    "                            break\n",
    "                    else:\n",
    "                        unassigned.append(lit)\n",
    "\n",
    "                # If the clause is not already satisfied, no unassigned literals implies\n",
    "                # conflict. One unassigned literals implies possibility for unit propagation.\n",
    "                if not satisfied:\n",
    "                    if len(unassigned) == 0:\n",
    "                        return 'conflict', clause_id\n",
    "                    elif len(unassigned) == 1:\n",
    "                        name, val = unassigned[0]\n",
    "                        print_debug('Unit propagate %s = %s using clause %s' % (name, val, clause_id))\n",
    "                        assigns[name] = (val, False, level, clause_id)\n",
    "                        has_propagate = True\n",
    "                        break\n",
    "                    else:\n",
    "                        has_unsatisfied = True\n",
    "\n",
    "            if not has_propagate:\n",
    "                if not has_unsatisfied:\n",
    "                    return 'satisfiable'\n",
    "                else:\n",
    "                    return None\n",
    "\n",
    "    def analyze_conflict(clause_id):\n",
    "        clause = cnf[clause_id]\n",
    "        proof = [clause_id]\n",
    "        print_debug('Analyze conflict on clause %s: %s' % (clause_id, str_of_clause(clause)))\n",
    "        while True:\n",
    "            has_resolution = False\n",
    "            for lit in clause:\n",
    "                name, val = lit\n",
    "                assert name in assigns and val != assigns[name][0]\n",
    "                _, is_decide, level, propagate_id = assigns[name]\n",
    "                if not is_decide:\n",
    "                    has_resolution = True\n",
    "                    proof.append(propagate_id)\n",
    "                    clause = resolution(clause, cnf[propagate_id], name)\n",
    "                    print_debug('Resolution with clause %s on atom %s, obtaining %s' % (propagate_id, name, str_of_clause(clause)))\n",
    "                    break\n",
    "\n",
    "            if not has_resolution:\n",
    "                break\n",
    "\n",
    "        return proof, clause\n",
    "    \n",
    "    \n",
    "    def backtrack(clause_id):\n",
    "        # Analyze conflict, record the new clause and its proof\n",
    "        proof, clause = analyze_conflict(clause_id)\n",
    "        new_id = len(cnf)\n",
    "        cnf.append(clause)\n",
    "        proofs[new_id] = proof\n",
    "\n",
    "        # Sort the clause by level, find the second to last level\n",
    "        if len(clause) == 0:\n",
    "            return 'unsatisfiable'\n",
    "        elif len(clause) == 1:\n",
    "            backtrack_level = 0\n",
    "        else:\n",
    "            clause = sorted(clause, key=lambda lit: assigns[lit[0]][2])\n",
    "            name, _ = clause[-2]\n",
    "            backtrack_level = assigns[name][2]\n",
    "\n",
    "        # Backtrack to that level\n",
    "        assigned_names = list(assigns.keys())\n",
    "        for name in assigned_names:\n",
    "            if assigns[name][2] > backtrack_level:\n",
    "                del assigns[name]\n",
    "\n",
    "        return backtrack_level\n",
    "    \n",
    "    # Find set of all variables\n",
    "    variables = set()\n",
    "    for clause in cnf:\n",
    "        for name, _ in clause:\n",
    "            variables.add(name)\n",
    "\n",
    "    propagate_res = unit_propagate()\n",
    "    while True:\n",
    "        if propagate_res == 'satisfiable':\n",
    "            # Formula is satisfiable, return only assigned values\n",
    "            assignment = dict((name, val) for name, (val, _, _, _) in assigns.items())\n",
    "            return 'satisfiable', assignment\n",
    "        elif propagate_res is None:\n",
    "            # Unit propagation stops, choose a new variable\n",
    "            level += 1\n",
    "            for var in variables:\n",
    "                if var not in assigns:\n",
    "                    assigns[var] = (True, True, level, None)\n",
    "                    break\n",
    "        else:\n",
    "            # Conflict occurs, backtrack\n",
    "            _, clause_id = propagate_res\n",
    "            backtrack_res = backtrack(clause_id)\n",
    "            if backtrack_res == 'unsatisfiable':\n",
    "                # Formula is unsatisfiable, return the proof\n",
    "                return 'unsatisfiable', proofs\n",
    "            else:\n",
    "                level = backtrack_res\n",
    "            \n",
    "        propagate_res = unit_propagate()"
   ]
  },
  {
   "cell_type": "code",
   "execution_count": 21,
   "metadata": {},
   "outputs": [
    {
     "name": "stdout",
     "output_type": "stream",
     "text": [
      "('satisfiable', {'x1': True, 'x2': True, 'x4': True, 'x3': False})\n",
      "('unsatisfiable', {4: [3, 2], 5: [1, 4, 0, 4]})\n",
      "('satisfiable', {})\n",
      "('unsatisfiable', {1: [0]})\n"
     ]
    }
   ],
   "source": [
    "print(dpll([\n",
    "    [('x1', False), ('x2', True)],\n",
    "    [('x2', False), ('x3', False), ('x4', True)],\n",
    "    [('x1', False), ('x3', False), ('x4', False)]\n",
    "]))\n",
    "\n",
    "print(dpll([\n",
    "    [('x1', True), ('x2', True)],\n",
    "    [('x1', True), ('x2', False)],\n",
    "    [('x1', False), ('x2', True)],\n",
    "    [('x1', False), ('x2', False)]\n",
    "]))\n",
    "\n",
    "print(dpll([]))\n",
    "\n",
    "print(dpll([[]]))"
   ]
  }
 ],
 "metadata": {
  "kernelspec": {
   "display_name": "Python 3",
   "language": "python",
   "name": "python3"
  },
  "language_info": {
   "codemirror_mode": {
    "name": "ipython",
    "version": 3
   },
   "file_extension": ".py",
   "mimetype": "text/x-python",
   "name": "python",
   "nbconvert_exporter": "python",
   "pygments_lexer": "ipython3",
   "version": "3.6.6"
  }
 },
 "nbformat": 4,
 "nbformat_minor": 2
}
