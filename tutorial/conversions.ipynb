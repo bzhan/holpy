{
 "cells": [
  {
   "cell_type": "markdown",
   "metadata": {},
   "source": [
    "$\\newcommand{\\To}{\\Rightarrow}$\n",
    "$\\newcommand{\\false}{\\mathrm{false}}$"
   ]
  },
  {
   "cell_type": "code",
   "execution_count": 1,
   "metadata": {},
   "outputs": [],
   "source": [
    "import os, sys\n",
    "sys.path.append(os.path.split(os.getcwd())[0])"
   ]
  },
  {
   "cell_type": "code",
   "execution_count": 2,
   "metadata": {},
   "outputs": [],
   "source": [
    "from kernel.type import TFun\n",
    "from kernel.term import Term, Var\n",
    "from logic import basic\n",
    "from logic import matcher\n",
    "from logic.proofterm import ProofTerm\n",
    "from logic.conv import Conv, ConvException\n",
    "from logic.nat import natT, plus, times, to_binary, add_conv\n",
    "from syntax import printer\n",
    "\n",
    "thy = basic.load_theory('nat')"
   ]
  },
  {
   "cell_type": "markdown",
   "metadata": {},
   "source": [
    "## Conversions"
   ]
  },
  {
   "cell_type": "markdown",
   "metadata": {},
   "source": [
    "With the macro system in place, we begin in earnest the study of proof automation. We start with rewriting: using equalities to transform a term to an equivalent term. The central concept in automation of rewriting is *conversions*. A conversion is a function taking a term $t$ as input, and returns a theorem of the form $t = t'$. In some sense, conversions can be viewed as macros, where the argument is a single term and there are no input sequents. However, we single out the concept of conversions because it has nice composition properties.\n",
    "\n",
    "In Python, a conversion is created by inheriting from the class `Conv`. A conversion class needs to implement a `get_proof_term` function, which takes as inputs the current theory and a term, and (if the inputs are valid) returns a proof term rewriting the input term.\n",
    "\n",
    "We consider the most basic example: rewriting using a theorem. We implement this as a class `rewr_conv_test`. Again, this is named to avoid conflicts with the actual `rewr_conv` class. The constructor for `rewr_conv_test` takes the name of the theorem, and an optional argument `sym` specifying whether the rewriting is performed left-to-right (`sym = False`) or right-to-left (`sym = True`)."
   ]
  },
  {
   "cell_type": "code",
   "execution_count": 3,
   "metadata": {},
   "outputs": [],
   "source": [
    "class rewr_conv_test(Conv):\n",
    "    def __init__(self, th_name, sym=False):\n",
    "        self.th_name = th_name\n",
    "        self.sym = sym\n",
    "        \n",
    "    def get_proof_term(self, thy, t):\n",
    "        pt = ProofTerm.theorem(thy, self.th_name)\n",
    "        if self.sym:\n",
    "            pt = ProofTerm.symmetric(pt)\n",
    "        try:\n",
    "            tyinst, inst = matcher.first_order_match(pt.prop.lhs, t)\n",
    "        except matcher.MatchException:\n",
    "            raise ConvException\n",
    "        if tyinst:\n",
    "            pt = ProofTerm.subst_type(tyinst, pt)\n",
    "        if inst:\n",
    "            pt = ProofTerm.substitution(inst, pt)\n",
    "        return pt"
   ]
  },
  {
   "cell_type": "markdown",
   "metadata": {},
   "source": [
    "If the matching fails, the conversion raises `ConvException`. This is a standard exception that signals that the conversion is unable to act on the input. We test this conversion on a simple example. First, we create a conversion using theorem `nat_assoc`:"
   ]
  },
  {
   "cell_type": "code",
   "execution_count": 4,
   "metadata": {},
   "outputs": [
    {
     "name": "stdout",
     "output_type": "stream",
     "text": [
      "|- x + y + z = x + (y + z)\n"
     ]
    }
   ],
   "source": [
    "print(printer.print_thm(thy, thy.get_theorem('add_assoc')))\n",
    "assoc_cv = rewr_conv_test('add_assoc')"
   ]
  },
  {
   "cell_type": "markdown",
   "metadata": {},
   "source": [
    "We apply this conversion to a new term:"
   ]
  },
  {
   "cell_type": "code",
   "execution_count": 5,
   "metadata": {},
   "outputs": [
    {
     "name": "stdout",
     "output_type": "stream",
     "text": [
      "t: a + 2 + 3\n",
      "th: ⊢ a + 2 + 3 = a + (2 + 3)\n"
     ]
    }
   ],
   "source": [
    "a = Var(\"a\", natT)\n",
    "t = plus(plus(a, to_binary(2)), to_binary(3))\n",
    "print(\"t:\", printer.print_term(thy, t))\n",
    "pt = assoc_cv.get_proof_term(thy, t)\n",
    "print(\"th:\", printer.print_thm(thy, pt.th, unicode=True))"
   ]
  },
  {
   "cell_type": "markdown",
   "metadata": {},
   "source": [
    "The resulting proof term can be verified as before."
   ]
  },
  {
   "cell_type": "code",
   "execution_count": 6,
   "metadata": {},
   "outputs": [
    {
     "name": "stdout",
     "output_type": "stream",
     "text": [
      "0: ⊢ x + y + z = x + (y + z) by theorem add_assoc\n",
      "1: ⊢ a + 2 + 3 = a + (2 + 3) by substitution {x: a, y: 2, z: 3} from 0\n"
     ]
    }
   ],
   "source": [
    "prf = pt.export()\n",
    "thy.check_proof(prf)\n",
    "print(printer.print_proof(thy, prf, unicode=True))"
   ]
  },
  {
   "cell_type": "markdown",
   "metadata": {},
   "source": [
    "## Composition of conversions"
   ]
  },
  {
   "cell_type": "markdown",
   "metadata": {},
   "source": [
    "An important feature of conversions is that they can be composed and modified by functions (in fact constructors of classes) that take one or more conversions as input, and return a new conversion. As a first example, we define functions for creating conversions that act on parts of a term:"
   ]
  },
  {
   "cell_type": "code",
   "execution_count": 7,
   "metadata": {},
   "outputs": [],
   "source": [
    "class arg_conv_test(Conv):\n",
    "    def __init__(self, cv):\n",
    "        self.cv = cv\n",
    "        \n",
    "    def get_proof_term(self, thy, t):\n",
    "        pt = self.cv.get_proof_term(thy, t.arg)\n",
    "        return ProofTerm.combination(ProofTerm.reflexive(t.fun), pt)"
   ]
  },
  {
   "cell_type": "markdown",
   "metadata": {},
   "source": [
    "Calling `arg_conv_test(cv)` creates a new conversion that applies `cv` to the argument of a term. Let's test this on a simple example (recall that the argument of a binary operation is the argument on the right)."
   ]
  },
  {
   "cell_type": "code",
   "execution_count": 8,
   "metadata": {},
   "outputs": [
    {
     "name": "stdout",
     "output_type": "stream",
     "text": [
      "t: a + (b + 2)\n",
      "th: ⊢ a + (b + 2) = a + (2 + b)\n"
     ]
    }
   ],
   "source": [
    "cv = arg_conv_test(rewr_conv_test('add_comm'))\n",
    "\n",
    "b = Var(\"b\", natT)\n",
    "t = plus(a, plus(b, to_binary(2)))\n",
    "print(\"t:\", printer.print_term(thy, t))\n",
    "pt = cv.get_proof_term(thy, t)\n",
    "print(\"th:\", printer.print_thm(thy, pt.th, unicode=True))"
   ]
  },
  {
   "cell_type": "markdown",
   "metadata": {},
   "source": [
    "Likewise, we can define a conversion combinator that applies the input conversion to the function part of a term:"
   ]
  },
  {
   "cell_type": "code",
   "execution_count": 9,
   "metadata": {},
   "outputs": [],
   "source": [
    "class fun_conv_test(Conv):\n",
    "    def __init__(self, cv):\n",
    "        self.cv = cv\n",
    "        \n",
    "    def get_proof_term(self, thy, t):\n",
    "        pt = self.cv.get_proof_term(thy, t.fun)\n",
    "        return ProofTerm.combination(pt, ProofTerm.reflexive(t.arg))"
   ]
  },
  {
   "cell_type": "markdown",
   "metadata": {},
   "source": [
    "With these, we can directly define the conversion combinator for applying a conversion to the left side of a binary operator:"
   ]
  },
  {
   "cell_type": "code",
   "execution_count": 10,
   "metadata": {},
   "outputs": [],
   "source": [
    "def arg1_conv_test(cv):\n",
    "    return fun_conv_test(arg_conv_test(cv))"
   ]
  },
  {
   "cell_type": "markdown",
   "metadata": {},
   "source": [
    "Note carefully the order of application, which can be tricky on a first sight. We can test this function as follows:"
   ]
  },
  {
   "cell_type": "code",
   "execution_count": 11,
   "metadata": {},
   "outputs": [
    {
     "name": "stdout",
     "output_type": "stream",
     "text": [
      "t: a + b + 2\n",
      "th: ⊢ a + b + 2 = b + a + 2\n"
     ]
    }
   ],
   "source": [
    "cv = arg1_conv_test(rewr_conv_test('add_comm'))\n",
    "\n",
    "t = plus(plus(a, b), to_binary(2))\n",
    "print(\"t:\", printer.print_term(thy, t))\n",
    "pt = cv.get_proof_term(thy, t)\n",
    "print(\"th:\", printer.print_thm(thy, pt.th, unicode=True))"
   ]
  },
  {
   "cell_type": "markdown",
   "metadata": {},
   "source": [
    "Another way to combine conversions is to apply them in sequence. This is defined by the following function, which takes a list of conversions, and return a conversion that applies elements in the list in sequence. In the code below, the method `is_reflexive` checks whether a theorem is of the form $t = t$. This is used to simplify the resulting proof term as much as possible."
   ]
  },
  {
   "cell_type": "code",
   "execution_count": 12,
   "metadata": {},
   "outputs": [],
   "source": [
    "class every_conv_test(Conv):\n",
    "    def __init__(self, *cvs):\n",
    "        self.cvs = cvs\n",
    "        \n",
    "    def get_proof_term(self, thy, t):\n",
    "        pt = ProofTerm.reflexive(t)\n",
    "        for cv in self.cvs:\n",
    "            pt2 = cv.get_proof_term(thy, pt.prop.rhs)\n",
    "            if not pt2.th.is_reflexive():\n",
    "                if pt.th.is_reflexive():\n",
    "                    pt = pt2\n",
    "                else:\n",
    "                    pt = ProofTerm.transitive(pt, pt2)\n",
    "        return pt"
   ]
  },
  {
   "cell_type": "markdown",
   "metadata": {},
   "source": [
    "We now test this on the following example: given a term of the form $(a + b) + c$, rewrite it to $(a + c) + b$. This operation, called swap, is useful in many normalization procedures. This can be done by a chain of equalities:\n",
    "\n",
    "$$(a + b) + c = a + (b + c) = a + (c + b) = (a + c) + b.$$\n",
    "\n",
    "In words, we first rewrite using `add_assoc`, then rewrite on the argument using `add_comm`, and finally rewrite using `add_assoc` in the right-to-left direction. This can be implemented as follows:"
   ]
  },
  {
   "cell_type": "code",
   "execution_count": 13,
   "metadata": {},
   "outputs": [
    {
     "name": "stdout",
     "output_type": "stream",
     "text": [
      "t: a + b + 2\n",
      "th: ⊢ a + b + 2 = a + 2 + b\n"
     ]
    }
   ],
   "source": [
    "swap_cv = every_conv_test(\n",
    "    rewr_conv_test('add_assoc'),\n",
    "    arg_conv_test(rewr_conv_test('add_comm')),\n",
    "    rewr_conv_test('add_assoc', sym=True))\n",
    "\n",
    "t = plus(plus(a, b), to_binary(2))\n",
    "print(\"t:\", printer.print_term(thy, t))\n",
    "pt = swap_cv.get_proof_term(thy, t)\n",
    "print(\"th:\", printer.print_thm(thy, pt.th, unicode=True))"
   ]
  },
  {
   "cell_type": "markdown",
   "metadata": {},
   "source": [
    "Let's check and print the proof:"
   ]
  },
  {
   "cell_type": "code",
   "execution_count": 14,
   "metadata": {},
   "outputs": [
    {
     "name": "stdout",
     "output_type": "stream",
     "text": [
      "0: ⊢ x + y + z = x + (y + z) by theorem add_assoc\n",
      "1: ⊢ a + b + 2 = a + (b + 2) by substitution {x: a, y: b, z: 2} from 0\n",
      "2: ⊢ plus a = plus a by reflexive plus a\n",
      "3: ⊢ x + y = y + x by theorem add_comm\n",
      "4: ⊢ b + 2 = 2 + b by substitution {x: b, y: 2} from 3\n",
      "5: ⊢ a + (b + 2) = a + (2 + b) by combination from 2, 4\n",
      "6: ⊢ a + b + 2 = a + (2 + b) by transitive from 1, 5\n",
      "7: ⊢ x + (y + z) = x + y + z by symmetric from 0\n",
      "8: ⊢ a + (2 + b) = a + 2 + b by substitution {x: a, y: 2, z: b} from 7\n",
      "9: ⊢ a + b + 2 = a + 2 + b by transitive from 6, 8\n"
     ]
    }
   ],
   "source": [
    "prf = pt.export()\n",
    "thy.check_proof(prf)\n",
    "print(printer.print_proof(thy, prf, unicode=True))"
   ]
  },
  {
   "cell_type": "markdown",
   "metadata": {},
   "source": [
    "## Rewriting on subterms"
   ]
  },
  {
   "cell_type": "markdown",
   "metadata": {},
   "source": [
    "One task that we frequently encounter is using some equality to rewrite all subterms of a term. For example, suppose we obtained $f(a)=b$ in a proof, we wish to use it to rewrite $g(f(a))+f(a)$ to $g(b)+b$. This requires a recursive search on the structure of the term, performing the rewrite whenever possible.\n",
    "\n",
    "First, we define a new conversion that simply replaces the left side of an equality by the right side, without performing matching. If the input term does not agree with the left side, it raises `ConvException`."
   ]
  },
  {
   "cell_type": "code",
   "execution_count": 15,
   "metadata": {},
   "outputs": [],
   "source": [
    "class replace_conv(Conv):\n",
    "    def __init__(self, pt):\n",
    "        self.pt = pt\n",
    "        \n",
    "    def get_proof_term(self, thy, t):\n",
    "        if t == self.pt.prop.lhs:\n",
    "            return self.pt\n",
    "        else:\n",
    "            raise ConvException"
   ]
  },
  {
   "cell_type": "markdown",
   "metadata": {},
   "source": [
    "The conversion combinator `try_conv_test` attempts to apply a conversion. On failure, it returns the trivial equality:"
   ]
  },
  {
   "cell_type": "code",
   "execution_count": 16,
   "metadata": {},
   "outputs": [],
   "source": [
    "class try_conv_test(Conv):\n",
    "    def __init__(self, cv):\n",
    "        self.cv = cv\n",
    "        \n",
    "    def get_proof_term(self, thy, t):\n",
    "        try:\n",
    "            return self.cv.get_proof_term(thy, t)\n",
    "        except ConvException:\n",
    "            return ProofTerm.reflexive(t)"
   ]
  },
  {
   "cell_type": "markdown",
   "metadata": {},
   "source": [
    "We test this conversion on a simple example:"
   ]
  },
  {
   "cell_type": "code",
   "execution_count": 17,
   "metadata": {},
   "outputs": [
    {
     "name": "stdout",
     "output_type": "stream",
     "text": [
      "f a = b ⊢ f a = b\n",
      "⊢ f b = f b\n"
     ]
    }
   ],
   "source": [
    "f = Var(\"f\", TFun(natT, natT))\n",
    "eq_pt = ProofTerm.assume(Term.mk_equals(f(a), b))\n",
    "cv = replace_conv(eq_pt)\n",
    "\n",
    "pt1 = cv.get_proof_term(thy, f(a))\n",
    "print(printer.print_thm(thy, pt1.th, unicode=True))\n",
    "pt2 = try_conv_test(cv).get_proof_term(thy, f(b))\n",
    "print(printer.print_thm(thy, pt2.th, unicode=True))"
   ]
  },
  {
   "cell_type": "markdown",
   "metadata": {},
   "source": [
    "The conversion combinator `sub_conv_test` applies a conversion on all subterms of the term. Currently we only consider the combination case."
   ]
  },
  {
   "cell_type": "code",
   "execution_count": 18,
   "metadata": {},
   "outputs": [],
   "source": [
    "class sub_conv_test(Conv):\n",
    "    def __init__(self, cv):\n",
    "        self.cv = cv\n",
    "        \n",
    "    def get_proof_term(self, thy, t):\n",
    "        if t.is_comb():\n",
    "            return every_conv_test(\n",
    "                fun_conv_test(self.cv),\n",
    "                arg_conv_test(self.cv)).get_proof_term(thy, t)\n",
    "        else:\n",
    "            return ProofTerm.reflexive(t)"
   ]
  },
  {
   "cell_type": "markdown",
   "metadata": {},
   "source": [
    "Now, we implement the conversion combinator `top_conv_test` that tries to apply a conversion on all subterms of a term. This corresponds to the `top_conv` combinator in the actual library. The name `top_conv` will be explained later."
   ]
  },
  {
   "cell_type": "code",
   "execution_count": 19,
   "metadata": {},
   "outputs": [],
   "source": [
    "class top_conv_test(Conv):\n",
    "    def __init__(self, cv):\n",
    "        self.cv = cv\n",
    "        \n",
    "    def get_proof_term(self, thy, t):\n",
    "        return every_conv_test(\n",
    "            try_conv_test(self.cv),\n",
    "            sub_conv_test(self)).get_proof_term(thy, t)"
   ]
  },
  {
   "cell_type": "markdown",
   "metadata": {},
   "source": [
    "The code can be explained as follows: to apply `cv` to all subterms of a term, we first try to apply it to the term itself. If the term is a combination, then we recursively apply the conversion to all subterms of the function and argument of the combination.\n",
    "\n",
    "We now test this function:"
   ]
  },
  {
   "cell_type": "code",
   "execution_count": 20,
   "metadata": {},
   "outputs": [
    {
     "name": "stdout",
     "output_type": "stream",
     "text": [
      "t: g (f a) + f a\n",
      "th: f a = b ⊢ g (f a) + f a = g b + b\n"
     ]
    }
   ],
   "source": [
    "cv = top_conv_test(replace_conv(eq_pt))\n",
    "\n",
    "g = Var(\"g\", TFun(natT, natT))\n",
    "t = plus(g(f(a)), f(a))\n",
    "print(\"t:\", printer.print_term(thy, t))\n",
    "pt = cv.get_proof_term(thy, t)\n",
    "print(\"th:\", printer.print_thm(thy, pt.th, unicode=True))"
   ]
  },
  {
   "cell_type": "markdown",
   "metadata": {},
   "source": [
    "There is one subtlety in the implementation of `top_conv_test`: applying the conversion on subterms of $t$ comes *after* applying the conversion on $t$ itself. This means if applying the conversion on $t$ results in a new term where the conversion can still act on some of its subterms, these actions will be performed. We will take advantage of this feature frequently in later sections. For now, we give a simple example illustrating this in action.\n",
    "\n",
    "Consider rewriting using the distributivity theorem:"
   ]
  },
  {
   "cell_type": "code",
   "execution_count": 21,
   "metadata": {},
   "outputs": [
    {
     "name": "stdout",
     "output_type": "stream",
     "text": [
      "⊢ x * (y + z) = x * y + x * z\n"
     ]
    }
   ],
   "source": [
    "distrib_th = thy.get_theorem('distrib_l')\n",
    "print(printer.print_thm(thy, distrib_th, unicode=True))\n",
    "distrib_cv = rewr_conv_test(\"distrib_l\")"
   ]
  },
  {
   "cell_type": "markdown",
   "metadata": {},
   "source": [
    "Suppose we want to use this identity to rewrite $a\\cdot ((b + c) + d)$ (we inserted parentheses that is usually omitted for clarity). After applying `distrib_cv` to the whole term, we get $a\\cdot (b + c) + a\\cdot d$. Note the first argument of this term can still be rewritten using the identity, resulting in $(a\\cdot b + a\\cdot c) + a\\cdot d$. This means `top_conv_test` can apply this rewrite in one step:"
   ]
  },
  {
   "cell_type": "code",
   "execution_count": 22,
   "metadata": {},
   "outputs": [
    {
     "name": "stdout",
     "output_type": "stream",
     "text": [
      "t: a * (b + c + d)\n",
      "th: |- a * (b + c + d) = a * b + a * c + a * d\n"
     ]
    }
   ],
   "source": [
    "c = Var(\"c\", natT)\n",
    "d = Var(\"d\", natT)\n",
    "t = times(a, plus(plus(b,c),d))\n",
    "print(\"t:\", printer.print_term(thy, t))\n",
    "pt = top_conv_test(try_conv_test(distrib_cv)).get_proof_term(thy, t)\n",
    "print(\"th:\", printer.print_thm(thy, pt.th))"
   ]
  },
  {
   "cell_type": "markdown",
   "metadata": {},
   "source": [
    "However, there are also times when it is better to rewrite on subterms first, then on the whole term. We give an example using `add_conv`. This conversion takes a term of the form $a + b$, where $a$ and $b$ are both constant natural numbers, and evaluates the arithmetic operation."
   ]
  },
  {
   "cell_type": "code",
   "execution_count": 23,
   "metadata": {},
   "outputs": [
    {
     "name": "stdout",
     "output_type": "stream",
     "text": [
      "|- 5 + 7 = 12\n"
     ]
    }
   ],
   "source": [
    "pt = add_conv().get_proof_term(thy, plus(to_binary(5), to_binary(7)))\n",
    "print(printer.print_thm(thy, pt.th))"
   ]
  },
  {
   "cell_type": "markdown",
   "metadata": {},
   "source": [
    "The conversion is unable to do anything when either side is not a constant:"
   ]
  },
  {
   "cell_type": "code",
   "execution_count": 24,
   "metadata": {
    "tags": [
     "raises-exception"
    ]
   },
   "outputs": [
    {
     "ename": "ConvException",
     "evalue": "",
     "output_type": "error",
     "traceback": [
      "\u001b[0;31m---------------------------------------------------------------------------\u001b[0m",
      "\u001b[0;31mConvException\u001b[0m                             Traceback (most recent call last)",
      "\u001b[0;32m<ipython-input-24-2516751ba4f0>\u001b[0m in \u001b[0;36m<module>\u001b[0;34m()\u001b[0m\n\u001b[0;32m----> 1\u001b[0;31m \u001b[0madd_conv\u001b[0m\u001b[0;34m(\u001b[0m\u001b[0;34m)\u001b[0m\u001b[0;34m.\u001b[0m\u001b[0mget_proof_term\u001b[0m\u001b[0;34m(\u001b[0m\u001b[0mthy\u001b[0m\u001b[0;34m,\u001b[0m \u001b[0mplus\u001b[0m\u001b[0;34m(\u001b[0m\u001b[0mto_binary\u001b[0m\u001b[0;34m(\u001b[0m\u001b[0;36m5\u001b[0m\u001b[0;34m)\u001b[0m\u001b[0;34m,\u001b[0m \u001b[0mplus\u001b[0m\u001b[0;34m(\u001b[0m\u001b[0mto_binary\u001b[0m\u001b[0;34m(\u001b[0m\u001b[0;36m7\u001b[0m\u001b[0;34m)\u001b[0m\u001b[0;34m,\u001b[0m \u001b[0mto_binary\u001b[0m\u001b[0;34m(\u001b[0m\u001b[0;36m3\u001b[0m\u001b[0;34m)\u001b[0m\u001b[0;34m)\u001b[0m\u001b[0;34m)\u001b[0m\u001b[0;34m)\u001b[0m\u001b[0;34m\u001b[0m\u001b[0m\n\u001b[0m",
      "\u001b[0;32m~/Private/holpy/logic/nat.py\u001b[0m in \u001b[0;36mget_proof_term\u001b[0;34m(self, thy, t)\u001b[0m\n\u001b[1;32m    105\u001b[0m     \u001b[0;32mdef\u001b[0m \u001b[0mget_proof_term\u001b[0m\u001b[0;34m(\u001b[0m\u001b[0mself\u001b[0m\u001b[0;34m,\u001b[0m \u001b[0mthy\u001b[0m\u001b[0;34m,\u001b[0m \u001b[0mt\u001b[0m\u001b[0;34m)\u001b[0m\u001b[0;34m:\u001b[0m\u001b[0;34m\u001b[0m\u001b[0m\n\u001b[1;32m    106\u001b[0m         \u001b[0;32mif\u001b[0m \u001b[0;32mnot\u001b[0m \u001b[0;34m(\u001b[0m\u001b[0mis_plus\u001b[0m\u001b[0;34m(\u001b[0m\u001b[0mt\u001b[0m\u001b[0;34m)\u001b[0m \u001b[0;32mand\u001b[0m \u001b[0mis_binary\u001b[0m\u001b[0;34m(\u001b[0m\u001b[0mt\u001b[0m\u001b[0;34m.\u001b[0m\u001b[0marg1\u001b[0m\u001b[0;34m)\u001b[0m \u001b[0;32mand\u001b[0m \u001b[0mis_binary\u001b[0m\u001b[0;34m(\u001b[0m\u001b[0mt\u001b[0m\u001b[0;34m.\u001b[0m\u001b[0marg\u001b[0m\u001b[0;34m)\u001b[0m\u001b[0;34m)\u001b[0m\u001b[0;34m:\u001b[0m\u001b[0;34m\u001b[0m\u001b[0m\n\u001b[0;32m--> 107\u001b[0;31m             \u001b[0;32mraise\u001b[0m \u001b[0mConvException\u001b[0m\u001b[0;34m\u001b[0m\u001b[0m\n\u001b[0m\u001b[1;32m    108\u001b[0m         \u001b[0mn1\u001b[0m\u001b[0;34m,\u001b[0m \u001b[0mn2\u001b[0m \u001b[0;34m=\u001b[0m \u001b[0mt\u001b[0m\u001b[0;34m.\u001b[0m\u001b[0marg1\u001b[0m\u001b[0;34m,\u001b[0m \u001b[0mt\u001b[0m\u001b[0;34m.\u001b[0m\u001b[0marg\u001b[0m  \u001b[0;31m# two summands\u001b[0m\u001b[0;34m\u001b[0m\u001b[0m\n\u001b[1;32m    109\u001b[0m         \u001b[0;32mif\u001b[0m \u001b[0mn1\u001b[0m \u001b[0;34m==\u001b[0m \u001b[0mzero\u001b[0m\u001b[0;34m:\u001b[0m\u001b[0;34m\u001b[0m\u001b[0m\n",
      "\u001b[0;31mConvException\u001b[0m: "
     ]
    }
   ],
   "source": [
    "add_conv().get_proof_term(thy, plus(to_binary(5), plus(to_binary(7), to_binary(3))))"
   ]
  },
  {
   "cell_type": "markdown",
   "metadata": {},
   "source": [
    "Now, suppose we wish to evaluate an expression like $5 + (7 + 3)$, we need to first evaluate the subterms, then the term itself. This is opposite to the order performed by `top_conv_test`. We can implement this order as follows:"
   ]
  },
  {
   "cell_type": "code",
   "execution_count": 25,
   "metadata": {},
   "outputs": [],
   "source": [
    "class bottom_conv_test(Conv):\n",
    "    def __init__(self, cv):\n",
    "        self.cv = cv\n",
    "        \n",
    "    def get_proof_term(self, thy, t):\n",
    "        return every_conv_test(\n",
    "            sub_conv_test(self),\n",
    "            try_conv_test(self.cv)).get_proof_term(thy, t)"
   ]
  },
  {
   "cell_type": "code",
   "execution_count": 26,
   "metadata": {},
   "outputs": [
    {
     "name": "stdout",
     "output_type": "stream",
     "text": [
      "⊢ 5 + (7 + 3) = 15\n"
     ]
    }
   ],
   "source": [
    "t = plus(to_binary(5), plus(to_binary(7), to_binary(3)))\n",
    "pt = bottom_conv_test(try_conv_test(add_conv())).get_proof_term(thy, t)\n",
    "print(printer.print_thm(thy, pt.th, unicode=True))"
   ]
  },
  {
   "cell_type": "markdown",
   "metadata": {},
   "source": [
    "The conversions `top_conv_test` and `bottom_conv_test` perform similar functionality but in different ways. Both are useful in different situations. Their names are explained by the fact that `top_conv_test` performs rewriting \"top-down\", while `bottom_conv_test` performs rewriting \"bottom-up\".\n",
    "\n",
    "We have now studied implementations of basic conversions. In practice, all of these conversions are already in the library. In the next section, we show how to use the existing API for programming with conversions."
   ]
  }
 ],
 "metadata": {
  "kernelspec": {
   "display_name": "Python 3",
   "language": "python",
   "name": "python3"
  },
  "language_info": {
   "codemirror_mode": {
    "name": "ipython",
    "version": 3
   },
   "file_extension": ".py",
   "mimetype": "text/x-python",
   "name": "python",
   "nbconvert_exporter": "python",
   "pygments_lexer": "ipython3",
   "version": "3.5.2"
  }
 },
 "nbformat": 4,
 "nbformat_minor": 2
}
