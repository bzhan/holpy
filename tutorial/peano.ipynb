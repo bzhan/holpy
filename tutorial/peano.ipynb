{
 "cells": [
  {
   "cell_type": "markdown",
   "metadata": {},
   "source": [
    "$\\newcommand{\\To}{\\Rightarrow}$\n",
    "$\\newcommand{\\Suc}{\\operatorname{Suc}}$\n",
    "$\\newcommand{\\zero}{\\mathrm{zero}}$"
   ]
  },
  {
   "cell_type": "code",
   "execution_count": 1,
   "metadata": {},
   "outputs": [],
   "source": [
    "import os\n",
    "os.chdir('..')"
   ]
  },
  {
   "cell_type": "code",
   "execution_count": 2,
   "metadata": {},
   "outputs": [],
   "source": [
    "from kernel.type import NatType\n",
    "from kernel.term import Var, Nat, Inst, Eq, Lambda\n",
    "from kernel import theory\n",
    "from kernel.proofterm import refl, ProofTerm\n",
    "from logic import basic\n",
    "from logic.conv import top_conv, rewr_conv, every_conv, try_conv, arg_conv\n",
    "from logic.logic import apply_theorem\n",
    "from data.nat import Suc, zero\n",
    "from syntax.settings import settings\n",
    "\n",
    "basic.load_theory('nat')\n",
    "settings.unicode = True"
   ]
  },
  {
   "cell_type": "markdown",
   "metadata": {},
   "source": [
    "## Peano arithmetic"
   ]
  },
  {
   "cell_type": "markdown",
   "metadata": {},
   "source": [
    "In higher-order logic, types like natural numbers are defined as an inductive datatype, following the construction of natural numbers using Peano arithmetic. This construction specifies that the natural numbers can be built through two constructors: $\\zero :: nat$ and $\\Suc :: nat \\To nat$ (here $\\hbox{Suc}$ is short for successor). This is usually written as:\n",
    "\n",
    "$$\\begin{align*}\n",
    "\\hbox{datatype }nat = \\zero\\ |\\ \\Suc nat\n",
    "\\end{align*}$$"
   ]
  },
  {
   "cell_type": "markdown",
   "metadata": {},
   "source": [
    "This means terms like $\\zero, \\Suc\\zero, \\Suc(\\Suc \\zero)$, etc are natural numbers. Moreover, these are the *only* natural numbers. It is clear that the numbers above correspond to $0, 1, 2$, etc.\n",
    "\n",
    "The fact that these are the only natural numbers is reflected in the following theorem, called *principle of mathematical induction*:"
   ]
  },
  {
   "cell_type": "code",
   "execution_count": 3,
   "metadata": {},
   "outputs": [
    {
     "name": "stdout",
     "output_type": "stream",
     "text": [
      "nat_induct: ⊢ P 0 ⟶ (∀n. P n ⟶ P (Suc n)) ⟶ P x\n"
     ]
    }
   ],
   "source": [
    "theory.print_theorem('nat_induct')"
   ]
  },
  {
   "cell_type": "markdown",
   "metadata": {},
   "source": [
    "The theorem says that, in order to prove any property $P$ holds for all natural numbers, it suffices to show that $P$ holds for $0$, and that if $P$ holds for $n$ then it holds for $\\Suc n$ (that is, $n+1$). The reason we insist on using $\\Suc n$ instead of $n+1$ is that so far, we are assuming that we have just defined natural numbers, and have not defined addition or proved any of its properties. This is what we will do next."
   ]
  },
  {
   "cell_type": "markdown",
   "metadata": {},
   "source": [
    "Addition on natural numbers is also defined by induction, more precisely, we define $m+n$ by induction on the first argument $m$. The definition consists of two equations, displayed as follows:\n",
    "\n",
    "$$\n",
    "\\begin{align*}\n",
    "& \\mathbf{fun} \\hbox{ plus} :: nat \\To nat \\To nat\\ \\mathbf{where} \\\\\n",
    "& \\quad 0 + n = n \\\\\n",
    "& \\quad \\hbox{Suc } m + n = \\hbox{Suc } (m + n)\n",
    "\\end{align*}\n",
    "$$"
   ]
  },
  {
   "cell_type": "markdown",
   "metadata": {},
   "source": [
    "The two equalities are given names `nat_plus_def_1` and `nat_plus_def_2` in holpy:"
   ]
  },
  {
   "cell_type": "code",
   "execution_count": 4,
   "metadata": {},
   "outputs": [
    {
     "name": "stdout",
     "output_type": "stream",
     "text": [
      "nat_plus_def_1: ⊢ 0 + n = n\n",
      "nat_plus_def_2: ⊢ Suc m + n = Suc (m + n)\n"
     ]
    }
   ],
   "source": [
    "theory.print_theorem('nat_plus_def_1', 'nat_plus_def_2')"
   ]
  },
  {
   "cell_type": "markdown",
   "metadata": {},
   "source": [
    "If we interpret $\\Suc n$ as $n+1$, it is clear that these equations are true. Morever, these two equations suffice to compute the sum of any two natural numbers expressed using $\\Suc$ and $\\zero$. For example, the following computes $2+1=3$:\n",
    "\n",
    "$$ \\Suc(\\Suc\\zero) + \\Suc\\zero = \\Suc(\\Suc\\zero + \\Suc\\zero) = \\Suc(\\Suc(\\zero + \\Suc\\zero)) = \\Suc(\\Suc(\\Suc\\zero)) $$\n",
    "\n",
    "Please check that the above calculation consists of two applications of `nat_plus_def_2`, followed by one application of `nat_plus_def_1`.\n",
    "\n",
    "We can realize this in Python as follows:"
   ]
  },
  {
   "cell_type": "code",
   "execution_count": 5,
   "metadata": {},
   "outputs": [
    {
     "name": "stdout",
     "output_type": "stream",
     "text": [
      "t: Suc (Suc 0) + Suc 0\n",
      "eq: ProofTerm(⊢ Suc (Suc 0) + Suc 0 = Suc (Suc (Suc 0)))\n"
     ]
    }
   ],
   "source": [
    "norm_plus_cv = top_conv(every_conv(try_conv(rewr_conv('nat_plus_def_1')), try_conv(rewr_conv('nat_plus_def_2'))))\n",
    "\n",
    "t = Suc(Suc(zero)) + Suc(zero)\n",
    "print('t:', t)\n",
    "print('eq:', refl(t).on_rhs(norm_plus_cv))"
   ]
  },
  {
   "cell_type": "markdown",
   "metadata": {},
   "source": [
    "Multiplication on natural numbers is defined in a similar way using induction:\n",
    "\n",
    "$$\n",
    "\\begin{align*}\n",
    "& \\mathbf{fun} \\hbox{ times} :: nat \\To nat \\To nat\\ \\mathbf{where} \\\\\n",
    "& \\quad 0 * n = 0 \\\\\n",
    "& \\quad \\hbox{Suc } m * n = n + m * n\n",
    "\\end{align*}\n",
    "$$"
   ]
  },
  {
   "cell_type": "markdown",
   "metadata": {},
   "source": [
    "This is recorded as the following theorems:"
   ]
  },
  {
   "cell_type": "code",
   "execution_count": 6,
   "metadata": {},
   "outputs": [
    {
     "name": "stdout",
     "output_type": "stream",
     "text": [
      "nat_times_def_1: ⊢ 0 * n = 0\n",
      "nat_times_def_2: ⊢ Suc m * n = n + m * n\n"
     ]
    }
   ],
   "source": [
    "theory.print_theorem('nat_times_def_1', 'nat_times_def_2')"
   ]
  },
  {
   "cell_type": "markdown",
   "metadata": {},
   "source": [
    "We can compute with multiplication as follows:"
   ]
  },
  {
   "cell_type": "code",
   "execution_count": 7,
   "metadata": {},
   "outputs": [
    {
     "name": "stdout",
     "output_type": "stream",
     "text": [
      "t: Suc (Suc 0) * Suc (Suc (Suc 0))\n",
      "ProofTerm(⊢ Suc (Suc 0) * Suc (Suc (Suc 0)) = Suc (Suc (Suc 0)) + (Suc (Suc (Suc 0)) + 0))\n",
      "ProofTerm(⊢ Suc (Suc 0) * Suc (Suc (Suc 0)) = Suc (Suc (Suc (Suc (Suc (Suc 0))))))\n"
     ]
    }
   ],
   "source": [
    "norm_times_cv = top_conv(every_conv(try_conv(rewr_conv('nat_times_def_1')), try_conv(rewr_conv('nat_times_def_2'))))\n",
    "\n",
    "t = Suc(Suc(zero)) * Suc(Suc(Suc(zero)))\n",
    "print('t:', t)\n",
    "print(refl(t).on_rhs(norm_times_cv))\n",
    "print(refl(t).on_rhs(norm_times_cv, norm_plus_cv))"
   ]
  },
  {
   "cell_type": "markdown",
   "metadata": {},
   "source": [
    "## Proofs using induction"
   ]
  },
  {
   "cell_type": "markdown",
   "metadata": {},
   "source": [
    "We now give some examples of proofs using induction. First, note that while we know $0 + n = n$ directly from definition, the fact that $n + 0 = n$ still need to be proved. The proof is by induction on $n$. By induction, we need to prove $0+0=0$ and $\\forall n.\\,n+0=n \\to \\Suc n+0=\\Suc n$.\n",
    "\n",
    "#### Example:\n",
    "\n",
    "Prove $n + 0 = n$.\n",
    "\n",
    "#### Solution:\n",
    "\n",
    "0. $\\vdash 0 + 0 = 0$ by rewriting with nat_plus_def_1.\n",
    "1. $n + 0 = n \\vdash n + 0 = n$ by assume $n + 0 = n$.\n",
    "2. $\\vdash \\Suc(n) + 0 = \\Suc(n + 0)$ by rewriting with nat_plus_def_2.\n",
    "3. $n + 0 = n \\vdash \\Suc(n) + 0 = \\Suc(n)$ by rewriting 2 with 1.\n",
    "4. $\\vdash n + 0 = n \\to \\Suc(n) + 0 = \\Suc(n)$ by implies_intr $n + 0 = n$ from 3.\n",
    "5. $\\vdash \\forall n.\\,n + 0 = n \\to \\Suc(n) + 0 = \\Suc(n)$ by forall_intr $n$ from 4.\n",
    "6. $n + 0 = n$ by apply_theorem nat_induct from 0, 5.\n",
    "\n",
    "The proof can be realized in Python as follows:"
   ]
  },
  {
   "cell_type": "code",
   "execution_count": 8,
   "metadata": {},
   "outputs": [
    {
     "name": "stdout",
     "output_type": "stream",
     "text": [
      "ProofTerm(⊢ n + 0 = n)\n"
     ]
    }
   ],
   "source": [
    "n = Var('n', NatType)\n",
    "\n",
    "pt0 = refl(Nat(0) + 0).on_rhs(rewr_conv('nat_plus_def_1'))\n",
    "pt1 = ProofTerm.assume(Eq(n + 0, n))\n",
    "pt2 = refl(Suc(n) + 0).on_rhs(rewr_conv('nat_plus_def_2'))\n",
    "pt3 = pt2.on_rhs(arg_conv(rewr_conv(pt1)))\n",
    "pt4 = pt3.implies_intr(Eq(n + 0, n))\n",
    "pt5 = pt4.forall_intr(n)\n",
    "pt6 = apply_theorem('nat_induct', pt0, pt5, inst=Inst(P=Lambda(n, Eq(n + 0, n)), x=n))\n",
    "print(pt6)"
   ]
  },
  {
   "cell_type": "markdown",
   "metadata": {},
   "source": [
    "The exported proof is as follows. It is a bit longer than the proof written above because of extra steps inserted by conversions."
   ]
  },
  {
   "cell_type": "code",
   "execution_count": 9,
   "metadata": {},
   "outputs": [
    {
     "name": "stdout",
     "output_type": "stream",
     "text": [
      "0: ⊢ 0 + ?n = ?n by theorem nat_plus_def_1\n",
      "1: ⊢ (0::nat) + 0 = 0 by substitution {n: (0::nat)} from 0\n",
      "2: ⊢ Suc ?m + ?n = Suc (?m + ?n) by theorem nat_plus_def_2\n",
      "3: ⊢ Suc n + 0 = Suc (n + 0) by substitution {m: n, n: (0::nat)} from 2\n",
      "4: ⊢ Suc = Suc by reflexive Suc\n",
      "5: n + 0 = n ⊢ n + 0 = n by assume n + 0 = n\n",
      "6: n + 0 = n ⊢ Suc (n + 0) = Suc n by combination from 4, 5\n",
      "7: n + 0 = n ⊢ Suc n + 0 = Suc n by transitive from 3, 6\n",
      "8: ⊢ n + 0 = n ⟶ Suc n + 0 = Suc n by implies_intr n + 0 = n from 7\n",
      "9: ⊢ ∀n. n + 0 = n ⟶ Suc n + 0 = Suc n by forall_intr n from 8\n",
      "10: ⊢ n + 0 = n by apply_theorem_for nat_induct, {P: λn::nat. n + 0 = n, x: n} from 1, 9\n"
     ]
    }
   ],
   "source": [
    "print(pt6.export())"
   ]
  },
  {
   "cell_type": "markdown",
   "metadata": {},
   "source": [
    "We do a second example, this time concerning multiplication.\n",
    "\n",
    "#### Example:\n",
    "\n",
    "Prove $n * 0 = 0$.\n",
    "\n",
    "#### Solution:\n",
    "\n",
    "0. $\\vdash 0 * 0 = 0$ by rewriting with nat_times_def_1.\n",
    "1. $n * 0 = 0 \\vdash n * 0 = 0$ by assume $n * 0 = 0$.\n",
    "2. $\\vdash \\Suc(n) * 0 = 0 + n * 0$ by rewriting with nat_times_def_2.\n",
    "3. $\\vdash \\Suc(n) * 0 = n * 0$ by rewriting 2 with nat_plus_def_1.\n",
    "4. $n * 0 = 0 \\vdash \\Suc(n) * 0 = 0$ by rewriting 3 with 1.\n",
    "5. $\\vdash n * 0 = 0 \\to \\Suc(n) * 0 = 0$ implies_intr $n * 0 = 0$ from 4.\n",
    "6. $\\vdash \\forall n.\\,n * 0 = 0 \\to \\Suc(n) * 0 = 0$ by forall_intr $n$ from 5.\n",
    "7. $n * 0 = 0$ by apply_theorem nat_induct from 0, 6.\n",
    "\n",
    "This is realized in Python as follows:"
   ]
  },
  {
   "cell_type": "code",
   "execution_count": 10,
   "metadata": {},
   "outputs": [
    {
     "name": "stdout",
     "output_type": "stream",
     "text": [
      "ProofTerm(⊢ Suc n * 0 = 0 + n * 0)\n"
     ]
    }
   ],
   "source": [
    "n = Var('n', NatType)\n",
    "\n",
    "pt0 = refl(Nat(0) * 0).on_rhs(rewr_conv('nat_times_def_1'))\n",
    "pt1 = ProofTerm.assume(Eq(n * 0, 0))\n",
    "pt2 = refl(Suc(n) * 0).on_rhs(rewr_conv('nat_times_def_2'))\n",
    "pt3 = pt2.on_rhs(rewr_conv('nat_plus_def_1'))\n",
    "pt4 = pt3.on_rhs(rewr_conv(pt1))\n",
    "pt5 = pt4.implies_intr(Eq(n * 0, 0))\n",
    "pt6 = pt5.forall_intr(n)\n",
    "pt7 = apply_theorem('nat_induct', pt0, pt6, inst=Inst(P=Lambda(n, Eq(n * 0, 0)), x=n))\n",
    "print(pt2)"
   ]
  },
  {
   "cell_type": "markdown",
   "metadata": {},
   "source": [
    "The same approach can be used to prove other properties of addition and multiplication, such as associativity, commutativity, and distributivity. We leave the proofs to later, when the use of tactics make them more convenient."
   ]
  }
 ],
 "metadata": {
  "kernelspec": {
   "display_name": "Python 3",
   "language": "python",
   "name": "python3"
  },
  "language_info": {
   "codemirror_mode": {
    "name": "ipython",
    "version": 3
   },
   "file_extension": ".py",
   "mimetype": "text/x-python",
   "name": "python",
   "nbconvert_exporter": "python",
   "pygments_lexer": "ipython3",
   "version": "3.6.6"
  }
 },
 "nbformat": 4,
 "nbformat_minor": 2
}
